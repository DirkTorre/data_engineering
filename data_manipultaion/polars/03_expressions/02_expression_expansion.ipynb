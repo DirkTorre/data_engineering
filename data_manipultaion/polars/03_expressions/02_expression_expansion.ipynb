{
 "cells": [
  {
   "cell_type": "markdown",
   "id": "91f9cde3",
   "metadata": {},
   "source": [
    "# [Expressions: Expression expansion](https://docs.pola.rs/user-guide/expressions/expression-expansion/)"
   ]
  },
  {
   "cell_type": "markdown",
   "id": "dc4ea3c6",
   "metadata": {},
   "source": [
    "## col function"
   ]
  },
  {
   "cell_type": "code",
   "execution_count": 2,
   "id": "e4220b6a",
   "metadata": {},
   "outputs": [
    {
     "data": {
      "text/html": [
       "<div><style>\n",
       ".dataframe > thead > tr,\n",
       ".dataframe > tbody > tr {\n",
       "  text-align: right;\n",
       "  white-space: pre-wrap;\n",
       "}\n",
       "</style>\n",
       "<small>shape: (5, 7)</small><table border=\"1\" class=\"dataframe\"><thead><tr><th>ticker</th><th>company_name</th><th>price</th><th>day_high</th><th>day_low</th><th>year_high</th><th>year_low</th></tr><tr><td>str</td><td>str</td><td>f64</td><td>f64</td><td>f64</td><td>f64</td><td>f64</td></tr></thead><tbody><tr><td>&quot;AAPL&quot;</td><td>&quot;Apple&quot;</td><td>229.9</td><td>231.31</td><td>228.6</td><td>237.23</td><td>164.08</td></tr><tr><td>&quot;NVDA&quot;</td><td>&quot;NVIDIA&quot;</td><td>138.93</td><td>139.6</td><td>136.3</td><td>140.76</td><td>39.23</td></tr><tr><td>&quot;MSFT&quot;</td><td>&quot;Microsoft&quot;</td><td>420.56</td><td>424.04</td><td>417.52</td><td>468.35</td><td>324.39</td></tr><tr><td>&quot;GOOG&quot;</td><td>&quot;Alphabet (Google)&quot;</td><td>166.41</td><td>167.62</td><td>164.78</td><td>193.31</td><td>121.46</td></tr><tr><td>&quot;AMZN&quot;</td><td>&quot;Amazon&quot;</td><td>188.4</td><td>189.83</td><td>188.44</td><td>201.2</td><td>118.35</td></tr></tbody></table></div>"
      ],
      "text/plain": [
       "shape: (5, 7)\n",
       "┌────────┬───────────────────┬────────┬──────────┬─────────┬───────────┬──────────┐\n",
       "│ ticker ┆ company_name      ┆ price  ┆ day_high ┆ day_low ┆ year_high ┆ year_low │\n",
       "│ ---    ┆ ---               ┆ ---    ┆ ---      ┆ ---     ┆ ---       ┆ ---      │\n",
       "│ str    ┆ str               ┆ f64    ┆ f64      ┆ f64     ┆ f64       ┆ f64      │\n",
       "╞════════╪═══════════════════╪════════╪══════════╪═════════╪═══════════╪══════════╡\n",
       "│ AAPL   ┆ Apple             ┆ 229.9  ┆ 231.31   ┆ 228.6   ┆ 237.23    ┆ 164.08   │\n",
       "│ NVDA   ┆ NVIDIA            ┆ 138.93 ┆ 139.6    ┆ 136.3   ┆ 140.76    ┆ 39.23    │\n",
       "│ MSFT   ┆ Microsoft         ┆ 420.56 ┆ 424.04   ┆ 417.52  ┆ 468.35    ┆ 324.39   │\n",
       "│ GOOG   ┆ Alphabet (Google) ┆ 166.41 ┆ 167.62   ┆ 164.78  ┆ 193.31    ┆ 121.46   │\n",
       "│ AMZN   ┆ Amazon            ┆ 188.4  ┆ 189.83   ┆ 188.44  ┆ 201.2     ┆ 118.35   │\n",
       "└────────┴───────────────────┴────────┴──────────┴─────────┴───────────┴──────────┘"
      ]
     },
     "execution_count": 2,
     "metadata": {},
     "output_type": "execute_result"
    }
   ],
   "source": [
    "import polars as pl\n",
    "\n",
    "df = pl.DataFrame(\n",
    "    {  # As of 14th October 2024, ~3pm UTC\n",
    "        \"ticker\": [\"AAPL\", \"NVDA\", \"MSFT\", \"GOOG\", \"AMZN\"],\n",
    "        \"company_name\": [\"Apple\", \"NVIDIA\", \"Microsoft\", \"Alphabet (Google)\", \"Amazon\"],\n",
    "        \"price\": [229.9, 138.93, 420.56, 166.41, 188.4],\n",
    "        \"day_high\": [231.31, 139.6, 424.04, 167.62, 189.83],\n",
    "        \"day_low\": [228.6, 136.3, 417.52, 164.78, 188.44],\n",
    "        \"year_high\": [237.23, 140.76, 468.35, 193.31, 201.2],\n",
    "        \"year_low\": [164.08, 39.23, 324.39, 121.46, 118.35],\n",
    "    }\n",
    ")\n",
    "df"
   ]
  },
  {
   "cell_type": "markdown",
   "id": "9acbe4f7",
   "metadata": {},
   "source": [
    "### Explicit expansion by column name"
   ]
  },
  {
   "cell_type": "code",
   "execution_count": 2,
   "id": "3f88520e",
   "metadata": {},
   "outputs": [
    {
     "data": {
      "text/html": [
       "<div><style>\n",
       ".dataframe > thead > tr,\n",
       ".dataframe > tbody > tr {\n",
       "  text-align: right;\n",
       "  white-space: pre-wrap;\n",
       "}\n",
       "</style>\n",
       "<small>shape: (5, 7)</small><table border=\"1\" class=\"dataframe\"><thead><tr><th>ticker</th><th>company_name</th><th>price</th><th>day_high</th><th>day_low</th><th>year_high</th><th>year_low</th></tr><tr><td>str</td><td>str</td><td>f64</td><td>f64</td><td>f64</td><td>f64</td><td>f64</td></tr></thead><tbody><tr><td>&quot;AAPL&quot;</td><td>&quot;Apple&quot;</td><td>210.91743</td><td>212.21101</td><td>209.72477</td><td>237.23</td><td>164.08</td></tr><tr><td>&quot;NVDA&quot;</td><td>&quot;NVIDIA&quot;</td><td>127.45872</td><td>128.07339</td><td>125.04587</td><td>140.76</td><td>39.23</td></tr><tr><td>&quot;MSFT&quot;</td><td>&quot;Microsoft&quot;</td><td>385.83486</td><td>389.02752</td><td>383.04587</td><td>468.35</td><td>324.39</td></tr><tr><td>&quot;GOOG&quot;</td><td>&quot;Alphabet (Google)&quot;</td><td>152.66972</td><td>153.77982</td><td>151.17431</td><td>193.31</td><td>121.46</td></tr><tr><td>&quot;AMZN&quot;</td><td>&quot;Amazon&quot;</td><td>172.84404</td><td>174.15596</td><td>172.88073</td><td>201.2</td><td>118.35</td></tr></tbody></table></div>"
      ],
      "text/plain": [
       "shape: (5, 7)\n",
       "┌────────┬───────────────────┬───────────┬───────────┬───────────┬───────────┬──────────┐\n",
       "│ ticker ┆ company_name      ┆ price     ┆ day_high  ┆ day_low   ┆ year_high ┆ year_low │\n",
       "│ ---    ┆ ---               ┆ ---       ┆ ---       ┆ ---       ┆ ---       ┆ ---      │\n",
       "│ str    ┆ str               ┆ f64       ┆ f64       ┆ f64       ┆ f64       ┆ f64      │\n",
       "╞════════╪═══════════════════╪═══════════╪═══════════╪═══════════╪═══════════╪══════════╡\n",
       "│ AAPL   ┆ Apple             ┆ 210.91743 ┆ 212.21101 ┆ 209.72477 ┆ 237.23    ┆ 164.08   │\n",
       "│ NVDA   ┆ NVIDIA            ┆ 127.45872 ┆ 128.07339 ┆ 125.04587 ┆ 140.76    ┆ 39.23    │\n",
       "│ MSFT   ┆ Microsoft         ┆ 385.83486 ┆ 389.02752 ┆ 383.04587 ┆ 468.35    ┆ 324.39   │\n",
       "│ GOOG   ┆ Alphabet (Google) ┆ 152.66972 ┆ 153.77982 ┆ 151.17431 ┆ 193.31    ┆ 121.46   │\n",
       "│ AMZN   ┆ Amazon            ┆ 172.84404 ┆ 174.15596 ┆ 172.88073 ┆ 201.2     ┆ 118.35   │\n",
       "└────────┴───────────────────┴───────────┴───────────┴───────────┴───────────┴──────────┘"
      ]
     },
     "execution_count": 2,
     "metadata": {},
     "output_type": "execute_result"
    }
   ],
   "source": [
    "eur_usd_rate = 1.09\n",
    "result = df.with_columns(\n",
    "    (\n",
    "        pl.col(\n",
    "            \"price\",        # This is a very easy\n",
    "            \"day_high\",     # way to modify a bunch\n",
    "            \"day_low\"       # of columns simultaneously\n",
    "        ) / eur_usd_rate\n",
    "    ).round(5)\n",
    ")\n",
    "result"
   ]
  },
  {
   "cell_type": "markdown",
   "id": "f939e75a",
   "metadata": {},
   "source": [
    "### Expansion by data type"
   ]
  },
  {
   "cell_type": "code",
   "execution_count": 3,
   "id": "990e3cf0",
   "metadata": {},
   "outputs": [
    {
     "data": {
      "text/html": [
       "<div><style>\n",
       ".dataframe > thead > tr,\n",
       ".dataframe > tbody > tr {\n",
       "  text-align: right;\n",
       "  white-space: pre-wrap;\n",
       "}\n",
       "</style>\n",
       "<small>shape: (5, 7)</small><table border=\"1\" class=\"dataframe\"><thead><tr><th>ticker</th><th>company_name</th><th>price</th><th>day_high</th><th>day_low</th><th>year_high</th><th>year_low</th></tr><tr><td>str</td><td>str</td><td>f64</td><td>f64</td><td>f64</td><td>f64</td><td>f64</td></tr></thead><tbody><tr><td>&quot;AAPL&quot;</td><td>&quot;Apple&quot;</td><td>210.92</td><td>212.21</td><td>209.72</td><td>217.64</td><td>150.53</td></tr><tr><td>&quot;NVDA&quot;</td><td>&quot;NVIDIA&quot;</td><td>127.46</td><td>128.07</td><td>125.05</td><td>129.14</td><td>35.99</td></tr><tr><td>&quot;MSFT&quot;</td><td>&quot;Microsoft&quot;</td><td>385.83</td><td>389.03</td><td>383.05</td><td>429.68</td><td>297.61</td></tr><tr><td>&quot;GOOG&quot;</td><td>&quot;Alphabet (Google)&quot;</td><td>152.67</td><td>153.78</td><td>151.17</td><td>177.35</td><td>111.43</td></tr><tr><td>&quot;AMZN&quot;</td><td>&quot;Amazon&quot;</td><td>172.84</td><td>174.16</td><td>172.88</td><td>184.59</td><td>108.58</td></tr></tbody></table></div>"
      ],
      "text/plain": [
       "shape: (5, 7)\n",
       "┌────────┬───────────────────┬────────┬──────────┬─────────┬───────────┬──────────┐\n",
       "│ ticker ┆ company_name      ┆ price  ┆ day_high ┆ day_low ┆ year_high ┆ year_low │\n",
       "│ ---    ┆ ---               ┆ ---    ┆ ---      ┆ ---     ┆ ---       ┆ ---      │\n",
       "│ str    ┆ str               ┆ f64    ┆ f64      ┆ f64     ┆ f64       ┆ f64      │\n",
       "╞════════╪═══════════════════╪════════╪══════════╪═════════╪═══════════╪══════════╡\n",
       "│ AAPL   ┆ Apple             ┆ 210.92 ┆ 212.21   ┆ 209.72  ┆ 217.64    ┆ 150.53   │\n",
       "│ NVDA   ┆ NVIDIA            ┆ 127.46 ┆ 128.07   ┆ 125.05  ┆ 129.14    ┆ 35.99    │\n",
       "│ MSFT   ┆ Microsoft         ┆ 385.83 ┆ 389.03   ┆ 383.05  ┆ 429.68    ┆ 297.61   │\n",
       "│ GOOG   ┆ Alphabet (Google) ┆ 152.67 ┆ 153.78   ┆ 151.17  ┆ 177.35    ┆ 111.43   │\n",
       "│ AMZN   ┆ Amazon            ┆ 172.84 ┆ 174.16   ┆ 172.88  ┆ 184.59    ┆ 108.58   │\n",
       "└────────┴───────────────────┴────────┴──────────┴─────────┴───────────┴──────────┘"
      ]
     },
     "execution_count": 3,
     "metadata": {},
     "output_type": "execute_result"
    }
   ],
   "source": [
    "df.with_columns((pl.col(pl.Float64) / eur_usd_rate).round(2))"
   ]
  },
  {
   "cell_type": "markdown",
   "id": "f92a9671",
   "metadata": {},
   "source": [
    "if you'r not sure about the precise data type, you can use multiple"
   ]
  },
  {
   "cell_type": "code",
   "execution_count": 4,
   "id": "d12d7dbe",
   "metadata": {},
   "outputs": [
    {
     "data": {
      "text/html": [
       "<div><style>\n",
       ".dataframe > thead > tr,\n",
       ".dataframe > tbody > tr {\n",
       "  text-align: right;\n",
       "  white-space: pre-wrap;\n",
       "}\n",
       "</style>\n",
       "<small>shape: (5, 7)</small><table border=\"1\" class=\"dataframe\"><thead><tr><th>ticker</th><th>company_name</th><th>price</th><th>day_high</th><th>day_low</th><th>year_high</th><th>year_low</th></tr><tr><td>str</td><td>str</td><td>f64</td><td>f64</td><td>f64</td><td>f64</td><td>f64</td></tr></thead><tbody><tr><td>&quot;AAPL&quot;</td><td>&quot;Apple&quot;</td><td>210.92</td><td>212.21</td><td>209.72</td><td>217.64</td><td>150.53</td></tr><tr><td>&quot;NVDA&quot;</td><td>&quot;NVIDIA&quot;</td><td>127.46</td><td>128.07</td><td>125.05</td><td>129.14</td><td>35.99</td></tr><tr><td>&quot;MSFT&quot;</td><td>&quot;Microsoft&quot;</td><td>385.83</td><td>389.03</td><td>383.05</td><td>429.68</td><td>297.61</td></tr><tr><td>&quot;GOOG&quot;</td><td>&quot;Alphabet (Google)&quot;</td><td>152.67</td><td>153.78</td><td>151.17</td><td>177.35</td><td>111.43</td></tr><tr><td>&quot;AMZN&quot;</td><td>&quot;Amazon&quot;</td><td>172.84</td><td>174.16</td><td>172.88</td><td>184.59</td><td>108.58</td></tr></tbody></table></div>"
      ],
      "text/plain": [
       "shape: (5, 7)\n",
       "┌────────┬───────────────────┬────────┬──────────┬─────────┬───────────┬──────────┐\n",
       "│ ticker ┆ company_name      ┆ price  ┆ day_high ┆ day_low ┆ year_high ┆ year_low │\n",
       "│ ---    ┆ ---               ┆ ---    ┆ ---      ┆ ---     ┆ ---       ┆ ---      │\n",
       "│ str    ┆ str               ┆ f64    ┆ f64      ┆ f64     ┆ f64       ┆ f64      │\n",
       "╞════════╪═══════════════════╪════════╪══════════╪═════════╪═══════════╪══════════╡\n",
       "│ AAPL   ┆ Apple             ┆ 210.92 ┆ 212.21   ┆ 209.72  ┆ 217.64    ┆ 150.53   │\n",
       "│ NVDA   ┆ NVIDIA            ┆ 127.46 ┆ 128.07   ┆ 125.05  ┆ 129.14    ┆ 35.99    │\n",
       "│ MSFT   ┆ Microsoft         ┆ 385.83 ┆ 389.03   ┆ 383.05  ┆ 429.68    ┆ 297.61   │\n",
       "│ GOOG   ┆ Alphabet (Google) ┆ 152.67 ┆ 153.78   ┆ 151.17  ┆ 177.35    ┆ 111.43   │\n",
       "│ AMZN   ┆ Amazon            ┆ 172.84 ┆ 174.16   ┆ 172.88  ┆ 184.59    ┆ 108.58   │\n",
       "└────────┴───────────────────┴────────┴──────────┴─────────┴───────────┴──────────┘"
      ]
     },
     "execution_count": 4,
     "metadata": {},
     "output_type": "execute_result"
    }
   ],
   "source": [
    "df.with_columns(\n",
    "    (\n",
    "        pl.col(\n",
    "            pl.Float32,\n",
    "            pl.Float64,\n",
    "        ) / eur_usd_rate\n",
    "    ).round(2)\n",
    ")"
   ]
  },
  {
   "cell_type": "markdown",
   "id": "ac049b68",
   "metadata": {},
   "source": [
    "### expansion by pattern matching"
   ]
  },
  {
   "cell_type": "code",
   "execution_count": 5,
   "id": "38a2b3c6",
   "metadata": {},
   "outputs": [
    {
     "data": {
      "text/html": [
       "<div><style>\n",
       ".dataframe > thead > tr,\n",
       ".dataframe > tbody > tr {\n",
       "  text-align: right;\n",
       "  white-space: pre-wrap;\n",
       "}\n",
       "</style>\n",
       "<small>shape: (5, 5)</small><table border=\"1\" class=\"dataframe\"><thead><tr><th>ticker</th><th>day_high</th><th>year_high</th><th>day_low</th><th>year_low</th></tr><tr><td>str</td><td>f64</td><td>f64</td><td>f64</td><td>f64</td></tr></thead><tbody><tr><td>&quot;AAPL&quot;</td><td>231.31</td><td>237.23</td><td>228.6</td><td>164.08</td></tr><tr><td>&quot;NVDA&quot;</td><td>139.6</td><td>140.76</td><td>136.3</td><td>39.23</td></tr><tr><td>&quot;MSFT&quot;</td><td>424.04</td><td>468.35</td><td>417.52</td><td>324.39</td></tr><tr><td>&quot;GOOG&quot;</td><td>167.62</td><td>193.31</td><td>164.78</td><td>121.46</td></tr><tr><td>&quot;AMZN&quot;</td><td>189.83</td><td>201.2</td><td>188.44</td><td>118.35</td></tr></tbody></table></div>"
      ],
      "text/plain": [
       "shape: (5, 5)\n",
       "┌────────┬──────────┬───────────┬─────────┬──────────┐\n",
       "│ ticker ┆ day_high ┆ year_high ┆ day_low ┆ year_low │\n",
       "│ ---    ┆ ---      ┆ ---       ┆ ---     ┆ ---      │\n",
       "│ str    ┆ f64      ┆ f64       ┆ f64     ┆ f64      │\n",
       "╞════════╪══════════╪═══════════╪═════════╪══════════╡\n",
       "│ AAPL   ┆ 231.31   ┆ 237.23    ┆ 228.6   ┆ 164.08   │\n",
       "│ NVDA   ┆ 139.6    ┆ 140.76    ┆ 136.3   ┆ 39.23    │\n",
       "│ MSFT   ┆ 424.04   ┆ 468.35    ┆ 417.52  ┆ 324.39   │\n",
       "│ GOOG   ┆ 167.62   ┆ 193.31    ┆ 164.78  ┆ 121.46   │\n",
       "│ AMZN   ┆ 189.83   ┆ 201.2     ┆ 188.44  ┆ 118.35   │\n",
       "└────────┴──────────┴───────────┴─────────┴──────────┘"
      ]
     },
     "execution_count": 5,
     "metadata": {},
     "output_type": "execute_result"
    }
   ],
   "source": [
    "result = df.select(pl.col(\"ticker\", \"^.*_high$\", \"^.*low$\"))\n",
    "result"
   ]
  },
  {
   "cell_type": "markdown",
   "id": "2cc3acaa",
   "metadata": {},
   "source": [
    "it's not possible to mix column names and datatypes when making exptressions"
   ]
  },
  {
   "cell_type": "markdown",
   "id": "ef4c1fa4",
   "metadata": {},
   "source": [
    "## Selecting all columns"
   ]
  },
  {
   "cell_type": "code",
   "execution_count": 6,
   "id": "ede3bb74",
   "metadata": {},
   "outputs": [
    {
     "data": {
      "text/plain": [
       "True"
      ]
     },
     "execution_count": 6,
     "metadata": {},
     "output_type": "execute_result"
    }
   ],
   "source": [
    "df.select(pl.all()).equals(df)"
   ]
  },
  {
   "cell_type": "markdown",
   "id": "1778305e",
   "metadata": {},
   "source": [
    "## Excluding columns\n",
    "\n",
    "that's a lot easier"
   ]
  },
  {
   "cell_type": "code",
   "execution_count": 7,
   "id": "05b66f1d",
   "metadata": {},
   "outputs": [
    {
     "data": {
      "text/html": [
       "<div><style>\n",
       ".dataframe > thead > tr,\n",
       ".dataframe > tbody > tr {\n",
       "  text-align: right;\n",
       "  white-space: pre-wrap;\n",
       "}\n",
       "</style>\n",
       "<small>shape: (5, 5)</small><table border=\"1\" class=\"dataframe\"><thead><tr><th>ticker</th><th>company_name</th><th>price</th><th>year_high</th><th>year_low</th></tr><tr><td>str</td><td>str</td><td>f64</td><td>f64</td><td>f64</td></tr></thead><tbody><tr><td>&quot;AAPL&quot;</td><td>&quot;Apple&quot;</td><td>229.9</td><td>237.23</td><td>164.08</td></tr><tr><td>&quot;NVDA&quot;</td><td>&quot;NVIDIA&quot;</td><td>138.93</td><td>140.76</td><td>39.23</td></tr><tr><td>&quot;MSFT&quot;</td><td>&quot;Microsoft&quot;</td><td>420.56</td><td>468.35</td><td>324.39</td></tr><tr><td>&quot;GOOG&quot;</td><td>&quot;Alphabet (Google)&quot;</td><td>166.41</td><td>193.31</td><td>121.46</td></tr><tr><td>&quot;AMZN&quot;</td><td>&quot;Amazon&quot;</td><td>188.4</td><td>201.2</td><td>118.35</td></tr></tbody></table></div>"
      ],
      "text/plain": [
       "shape: (5, 5)\n",
       "┌────────┬───────────────────┬────────┬───────────┬──────────┐\n",
       "│ ticker ┆ company_name      ┆ price  ┆ year_high ┆ year_low │\n",
       "│ ---    ┆ ---               ┆ ---    ┆ ---       ┆ ---      │\n",
       "│ str    ┆ str               ┆ f64    ┆ f64       ┆ f64      │\n",
       "╞════════╪═══════════════════╪════════╪═══════════╪══════════╡\n",
       "│ AAPL   ┆ Apple             ┆ 229.9  ┆ 237.23    ┆ 164.08   │\n",
       "│ NVDA   ┆ NVIDIA            ┆ 138.93 ┆ 140.76    ┆ 39.23    │\n",
       "│ MSFT   ┆ Microsoft         ┆ 420.56 ┆ 468.35    ┆ 324.39   │\n",
       "│ GOOG   ┆ Alphabet (Google) ┆ 166.41 ┆ 193.31    ┆ 121.46   │\n",
       "│ AMZN   ┆ Amazon            ┆ 188.4  ┆ 201.2     ┆ 118.35   │\n",
       "└────────┴───────────────────┴────────┴───────────┴──────────┘"
      ]
     },
     "execution_count": 7,
     "metadata": {},
     "output_type": "execute_result"
    }
   ],
   "source": [
    "df.select(pl.all().exclude(\"^day_.*$\"))"
   ]
  },
  {
   "cell_type": "code",
   "execution_count": 8,
   "id": "b063ed5f",
   "metadata": {},
   "outputs": [
    {
     "data": {
      "text/html": [
       "<div><style>\n",
       ".dataframe > thead > tr,\n",
       ".dataframe > tbody > tr {\n",
       "  text-align: right;\n",
       "  white-space: pre-wrap;\n",
       "}\n",
       "</style>\n",
       "<small>shape: (5, 3)</small><table border=\"1\" class=\"dataframe\"><thead><tr><th>price</th><th>year_high</th><th>year_low</th></tr><tr><td>f64</td><td>f64</td><td>f64</td></tr></thead><tbody><tr><td>229.9</td><td>237.23</td><td>164.08</td></tr><tr><td>138.93</td><td>140.76</td><td>39.23</td></tr><tr><td>420.56</td><td>468.35</td><td>324.39</td></tr><tr><td>166.41</td><td>193.31</td><td>121.46</td></tr><tr><td>188.4</td><td>201.2</td><td>118.35</td></tr></tbody></table></div>"
      ],
      "text/plain": [
       "shape: (5, 3)\n",
       "┌────────┬───────────┬──────────┐\n",
       "│ price  ┆ year_high ┆ year_low │\n",
       "│ ---    ┆ ---       ┆ ---      │\n",
       "│ f64    ┆ f64       ┆ f64      │\n",
       "╞════════╪═══════════╪══════════╡\n",
       "│ 229.9  ┆ 237.23    ┆ 164.08   │\n",
       "│ 138.93 ┆ 140.76    ┆ 39.23    │\n",
       "│ 420.56 ┆ 468.35    ┆ 324.39   │\n",
       "│ 166.41 ┆ 193.31    ┆ 121.46   │\n",
       "│ 188.4  ┆ 201.2     ┆ 118.35   │\n",
       "└────────┴───────────┴──────────┘"
      ]
     },
     "execution_count": 8,
     "metadata": {},
     "output_type": "execute_result"
    }
   ],
   "source": [
    "df.select(pl.col(pl.Float64).exclude(\"^day_.*$\"))"
   ]
  },
  {
   "cell_type": "markdown",
   "id": "b0179b36",
   "metadata": {},
   "source": [
    "## Column renaming"
   ]
  },
  {
   "cell_type": "markdown",
   "id": "ebf3371f",
   "metadata": {},
   "source": [
    "### renaming a single column"
   ]
  },
  {
   "cell_type": "code",
   "execution_count": 11,
   "id": "34ad37e3",
   "metadata": {},
   "outputs": [
    {
     "data": {
      "text/html": [
       "<div><style>\n",
       ".dataframe > thead > tr,\n",
       ".dataframe > tbody > tr {\n",
       "  text-align: right;\n",
       "  white-space: pre-wrap;\n",
       "}\n",
       "</style>\n",
       "<small>shape: (5, 2)</small><table border=\"1\" class=\"dataframe\"><thead><tr><th>price (gbp)</th><th>price (eur)</th></tr><tr><td>f64</td><td>f64</td></tr></thead><tbody><tr><td>175.496183</td><td>210.917431</td></tr><tr><td>106.053435</td><td>127.458716</td></tr><tr><td>321.038168</td><td>385.834862</td></tr><tr><td>127.030534</td><td>152.669725</td></tr><tr><td>143.816794</td><td>172.844037</td></tr></tbody></table></div>"
      ],
      "text/plain": [
       "shape: (5, 2)\n",
       "┌─────────────┬─────────────┐\n",
       "│ price (gbp) ┆ price (eur) │\n",
       "│ ---         ┆ ---         │\n",
       "│ f64         ┆ f64         │\n",
       "╞═════════════╪═════════════╡\n",
       "│ 175.496183  ┆ 210.917431  │\n",
       "│ 106.053435  ┆ 127.458716  │\n",
       "│ 321.038168  ┆ 385.834862  │\n",
       "│ 127.030534  ┆ 152.669725  │\n",
       "│ 143.816794  ┆ 172.844037  │\n",
       "└─────────────┴─────────────┘"
      ]
     },
     "execution_count": 11,
     "metadata": {},
     "output_type": "execute_result"
    }
   ],
   "source": [
    "gbp_usd_rate = 1.31\n",
    "df.select(\n",
    "    (pl.col(\"price\") / gbp_usd_rate).alias(\"price (gbp)\"),\n",
    "    (pl.col(\"price\") / eur_usd_rate).alias(\"price (eur)\"),\n",
    ")"
   ]
  },
  {
   "cell_type": "markdown",
   "id": "7effbb18",
   "metadata": {},
   "source": [
    "### prefix and suffix"
   ]
  },
  {
   "cell_type": "code",
   "execution_count": 15,
   "id": "b33cb3bc",
   "metadata": {},
   "outputs": [
    {
     "data": {
      "text/html": [
       "<div><style>\n",
       ".dataframe > thead > tr,\n",
       ".dataframe > tbody > tr {\n",
       "  text-align: right;\n",
       "  white-space: pre-wrap;\n",
       "}\n",
       "</style>\n",
       "<small>shape: (5, 4)</small><table border=\"1\" class=\"dataframe\"><thead><tr><th>in_eur_year_high</th><th>in_eur_year_low</th><th>day_high_gbp</th><th>day_low_gbp</th></tr><tr><td>f64</td><td>f64</td><td>f64</td><td>f64</td></tr></thead><tbody><tr><td>181.091603</td><td>125.251908</td><td>212.211009</td><td>209.724771</td></tr><tr><td>107.450382</td><td>29.946565</td><td>128.073394</td><td>125.045872</td></tr><tr><td>357.519084</td><td>247.625954</td><td>389.027523</td><td>383.045872</td></tr><tr><td>147.564885</td><td>92.717557</td><td>153.779817</td><td>151.174312</td></tr><tr><td>153.587786</td><td>90.343511</td><td>174.155963</td><td>172.880734</td></tr></tbody></table></div>"
      ],
      "text/plain": [
       "shape: (5, 4)\n",
       "┌──────────────────┬─────────────────┬──────────────┬─────────────┐\n",
       "│ in_eur_year_high ┆ in_eur_year_low ┆ day_high_gbp ┆ day_low_gbp │\n",
       "│ ---              ┆ ---             ┆ ---          ┆ ---         │\n",
       "│ f64              ┆ f64             ┆ f64          ┆ f64         │\n",
       "╞══════════════════╪═════════════════╪══════════════╪═════════════╡\n",
       "│ 181.091603       ┆ 125.251908      ┆ 212.211009   ┆ 209.724771  │\n",
       "│ 107.450382       ┆ 29.946565       ┆ 128.073394   ┆ 125.045872  │\n",
       "│ 357.519084       ┆ 247.625954      ┆ 389.027523   ┆ 383.045872  │\n",
       "│ 147.564885       ┆ 92.717557       ┆ 153.779817   ┆ 151.174312  │\n",
       "│ 153.587786       ┆ 90.343511       ┆ 174.155963   ┆ 172.880734  │\n",
       "└──────────────────┴─────────────────┴──────────────┴─────────────┘"
      ]
     },
     "execution_count": 15,
     "metadata": {},
     "output_type": "execute_result"
    }
   ],
   "source": [
    "df.select(\n",
    "    (pl.col(\"^year_.*$\") / gbp_usd_rate).name.prefix(\"in_eur_\"),\n",
    "    (pl.col(\"day_high\",\"day_low\") / eur_usd_rate).name.suffix(\"_gbp\")\n",
    ")"
   ]
  },
  {
   "cell_type": "markdown",
   "id": "d95bd874",
   "metadata": {},
   "source": [
    "### dynamic name replacement"
   ]
  },
  {
   "cell_type": "code",
   "execution_count": 17,
   "id": "99c6dd56",
   "metadata": {},
   "outputs": [
    {
     "data": {
      "text/html": [
       "<div><style>\n",
       ".dataframe > thead > tr,\n",
       ".dataframe > tbody > tr {\n",
       "  text-align: right;\n",
       "  white-space: pre-wrap;\n",
       "}\n",
       "</style>\n",
       "<small>shape: (5, 7)</small><table border=\"1\" class=\"dataframe\"><thead><tr><th>TICKER</th><th>COMPANY_NAME</th><th>PRICE</th><th>DAY_HIGH</th><th>DAY_LOW</th><th>YEAR_HIGH</th><th>YEAR_LOW</th></tr><tr><td>str</td><td>str</td><td>f64</td><td>f64</td><td>f64</td><td>f64</td><td>f64</td></tr></thead><tbody><tr><td>&quot;AAPL&quot;</td><td>&quot;Apple&quot;</td><td>229.9</td><td>231.31</td><td>228.6</td><td>237.23</td><td>164.08</td></tr><tr><td>&quot;NVDA&quot;</td><td>&quot;NVIDIA&quot;</td><td>138.93</td><td>139.6</td><td>136.3</td><td>140.76</td><td>39.23</td></tr><tr><td>&quot;MSFT&quot;</td><td>&quot;Microsoft&quot;</td><td>420.56</td><td>424.04</td><td>417.52</td><td>468.35</td><td>324.39</td></tr><tr><td>&quot;GOOG&quot;</td><td>&quot;Alphabet (Google)&quot;</td><td>166.41</td><td>167.62</td><td>164.78</td><td>193.31</td><td>121.46</td></tr><tr><td>&quot;AMZN&quot;</td><td>&quot;Amazon&quot;</td><td>188.4</td><td>189.83</td><td>188.44</td><td>201.2</td><td>118.35</td></tr></tbody></table></div>"
      ],
      "text/plain": [
       "shape: (5, 7)\n",
       "┌────────┬───────────────────┬────────┬──────────┬─────────┬───────────┬──────────┐\n",
       "│ TICKER ┆ COMPANY_NAME      ┆ PRICE  ┆ DAY_HIGH ┆ DAY_LOW ┆ YEAR_HIGH ┆ YEAR_LOW │\n",
       "│ ---    ┆ ---               ┆ ---    ┆ ---      ┆ ---     ┆ ---       ┆ ---      │\n",
       "│ str    ┆ str               ┆ f64    ┆ f64      ┆ f64     ┆ f64       ┆ f64      │\n",
       "╞════════╪═══════════════════╪════════╪══════════╪═════════╪═══════════╪══════════╡\n",
       "│ AAPL   ┆ Apple             ┆ 229.9  ┆ 231.31   ┆ 228.6   ┆ 237.23    ┆ 164.08   │\n",
       "│ NVDA   ┆ NVIDIA            ┆ 138.93 ┆ 139.6    ┆ 136.3   ┆ 140.76    ┆ 39.23    │\n",
       "│ MSFT   ┆ Microsoft         ┆ 420.56 ┆ 424.04   ┆ 417.52  ┆ 468.35    ┆ 324.39   │\n",
       "│ GOOG   ┆ Alphabet (Google) ┆ 166.41 ┆ 167.62   ┆ 164.78  ┆ 193.31    ┆ 121.46   │\n",
       "│ AMZN   ┆ Amazon            ┆ 188.4  ┆ 189.83   ┆ 188.44  ┆ 201.2     ┆ 118.35   │\n",
       "└────────┴───────────────────┴────────┴──────────┴─────────┴───────────┴──────────┘"
      ]
     },
     "execution_count": 17,
     "metadata": {},
     "output_type": "execute_result"
    }
   ],
   "source": [
    "df.select(pl.all().name.map(str.upper))"
   ]
  },
  {
   "cell_type": "markdown",
   "id": "a0efd0b7",
   "metadata": {},
   "source": [
    "## Programmatically generating expressions\n",
    "\n",
    "Use yield. It allows polars parallelise the execution"
   ]
  },
  {
   "cell_type": "code",
   "execution_count": 19,
   "id": "793b0780",
   "metadata": {},
   "outputs": [
    {
     "data": {
      "text/html": [
       "<div><style>\n",
       ".dataframe > thead > tr,\n",
       ".dataframe > tbody > tr {\n",
       "  text-align: right;\n",
       "  white-space: pre-wrap;\n",
       "}\n",
       "</style>\n",
       "<small>shape: (5, 9)</small><table border=\"1\" class=\"dataframe\"><thead><tr><th>ticker</th><th>company_name</th><th>price</th><th>day_high</th><th>day_low</th><th>year_high</th><th>year_low</th><th>day_amplitude</th><th>year_amplitude</th></tr><tr><td>str</td><td>str</td><td>f64</td><td>f64</td><td>f64</td><td>f64</td><td>f64</td><td>f64</td><td>f64</td></tr></thead><tbody><tr><td>&quot;AAPL&quot;</td><td>&quot;Apple&quot;</td><td>229.9</td><td>231.31</td><td>228.6</td><td>237.23</td><td>164.08</td><td>2.71</td><td>73.15</td></tr><tr><td>&quot;NVDA&quot;</td><td>&quot;NVIDIA&quot;</td><td>138.93</td><td>139.6</td><td>136.3</td><td>140.76</td><td>39.23</td><td>3.3</td><td>101.53</td></tr><tr><td>&quot;MSFT&quot;</td><td>&quot;Microsoft&quot;</td><td>420.56</td><td>424.04</td><td>417.52</td><td>468.35</td><td>324.39</td><td>6.52</td><td>143.96</td></tr><tr><td>&quot;GOOG&quot;</td><td>&quot;Alphabet (Google)&quot;</td><td>166.41</td><td>167.62</td><td>164.78</td><td>193.31</td><td>121.46</td><td>2.84</td><td>71.85</td></tr><tr><td>&quot;AMZN&quot;</td><td>&quot;Amazon&quot;</td><td>188.4</td><td>189.83</td><td>188.44</td><td>201.2</td><td>118.35</td><td>1.39</td><td>82.85</td></tr></tbody></table></div>"
      ],
      "text/plain": [
       "shape: (5, 9)\n",
       "┌────────┬──────────────┬────────┬──────────┬───┬───────────┬──────────┬─────────────┬─────────────┐\n",
       "│ ticker ┆ company_name ┆ price  ┆ day_high ┆ … ┆ year_high ┆ year_low ┆ day_amplitu ┆ year_amplit │\n",
       "│ ---    ┆ ---          ┆ ---    ┆ ---      ┆   ┆ ---       ┆ ---      ┆ de          ┆ ude         │\n",
       "│ str    ┆ str          ┆ f64    ┆ f64      ┆   ┆ f64       ┆ f64      ┆ ---         ┆ ---         │\n",
       "│        ┆              ┆        ┆          ┆   ┆           ┆          ┆ f64         ┆ f64         │\n",
       "╞════════╪══════════════╪════════╪══════════╪═══╪═══════════╪══════════╪═════════════╪═════════════╡\n",
       "│ AAPL   ┆ Apple        ┆ 229.9  ┆ 231.31   ┆ … ┆ 237.23    ┆ 164.08   ┆ 2.71        ┆ 73.15       │\n",
       "│ NVDA   ┆ NVIDIA       ┆ 138.93 ┆ 139.6    ┆ … ┆ 140.76    ┆ 39.23    ┆ 3.3         ┆ 101.53      │\n",
       "│ MSFT   ┆ Microsoft    ┆ 420.56 ┆ 424.04   ┆ … ┆ 468.35    ┆ 324.39   ┆ 6.52        ┆ 143.96      │\n",
       "│ GOOG   ┆ Alphabet     ┆ 166.41 ┆ 167.62   ┆ … ┆ 193.31    ┆ 121.46   ┆ 2.84        ┆ 71.85       │\n",
       "│        ┆ (Google)     ┆        ┆          ┆   ┆           ┆          ┆             ┆             │\n",
       "│ AMZN   ┆ Amazon       ┆ 188.4  ┆ 189.83   ┆ … ┆ 201.2     ┆ 118.35   ┆ 1.39        ┆ 82.85       │\n",
       "└────────┴──────────────┴────────┴──────────┴───┴───────────┴──────────┴─────────────┴─────────────┘"
      ]
     },
     "execution_count": 19,
     "metadata": {},
     "output_type": "execute_result"
    }
   ],
   "source": [
    "def amplitude_expressions(time_periods):\n",
    "    for tp in time_periods:\n",
    "        yield (pl.col(f\"{tp}_high\") - pl.col(f\"{tp}_low\")).alias(f\"{tp}_amplitude\")\n",
    "\n",
    "result = df.with_columns(amplitude_expressions([\"day\", \"year\"]))\n",
    "result"
   ]
  },
  {
   "cell_type": "markdown",
   "id": "7ef9ddd8",
   "metadata": {},
   "source": [
    "## More flexible column selection"
   ]
  },
  {
   "cell_type": "code",
   "execution_count": null,
   "id": "25534c3d",
   "metadata": {},
   "outputs": [
    {
     "data": {
      "text/html": [
       "<div><style>\n",
       ".dataframe > thead > tr,\n",
       ".dataframe > tbody > tr {\n",
       "  text-align: right;\n",
       "  white-space: pre-wrap;\n",
       "}\n",
       "</style>\n",
       "<small>shape: (5, 4)</small><table border=\"1\" class=\"dataframe\"><thead><tr><th>ticker</th><th>company_name</th><th>day_high</th><th>year_high</th></tr><tr><td>str</td><td>str</td><td>f64</td><td>f64</td></tr></thead><tbody><tr><td>&quot;AAPL&quot;</td><td>&quot;Apple&quot;</td><td>231.31</td><td>237.23</td></tr><tr><td>&quot;NVDA&quot;</td><td>&quot;NVIDIA&quot;</td><td>139.6</td><td>140.76</td></tr><tr><td>&quot;MSFT&quot;</td><td>&quot;Microsoft&quot;</td><td>424.04</td><td>468.35</td></tr><tr><td>&quot;GOOG&quot;</td><td>&quot;Alphabet (Google)&quot;</td><td>167.62</td><td>193.31</td></tr><tr><td>&quot;AMZN&quot;</td><td>&quot;Amazon&quot;</td><td>189.83</td><td>201.2</td></tr></tbody></table></div>"
      ],
      "text/plain": [
       "shape: (5, 4)\n",
       "┌────────┬───────────────────┬──────────┬───────────┐\n",
       "│ ticker ┆ company_name      ┆ day_high ┆ year_high │\n",
       "│ ---    ┆ ---               ┆ ---      ┆ ---       │\n",
       "│ str    ┆ str               ┆ f64      ┆ f64       │\n",
       "╞════════╪═══════════════════╪══════════╪═══════════╡\n",
       "│ AAPL   ┆ Apple             ┆ 231.31   ┆ 237.23    │\n",
       "│ NVDA   ┆ NVIDIA            ┆ 139.6    ┆ 140.76    │\n",
       "│ MSFT   ┆ Microsoft         ┆ 424.04   ┆ 468.35    │\n",
       "│ GOOG   ┆ Alphabet (Google) ┆ 167.62   ┆ 193.31    │\n",
       "│ AMZN   ┆ Amazon            ┆ 189.83   ┆ 201.2     │\n",
       "└────────┴───────────────────┴──────────┴───────────┘"
      ]
     },
     "execution_count": 3,
     "metadata": {},
     "output_type": "execute_result"
    }
   ],
   "source": [
    "import polars.selectors as cs\n",
    "\n",
    "df.select(cs.string() | cs.ends_with(\"_high\"))"
   ]
  },
  {
   "cell_type": "markdown",
   "id": "ff16f3e7",
   "metadata": {},
   "source": [
    "There are a lot of types to choose from: numeric, boolean, date, string [and more ](https://docs.pola.rs/user-guide/expressions/expression-expansion/#selectors-for-data-types)"
   ]
  },
  {
   "cell_type": "code",
   "execution_count": 11,
   "id": "cd301612",
   "metadata": {},
   "outputs": [
    {
     "data": {
      "text/html": [
       "<div><style>\n",
       ".dataframe > thead > tr,\n",
       ".dataframe > tbody > tr {\n",
       "  text-align: right;\n",
       "  white-space: pre-wrap;\n",
       "}\n",
       "</style>\n",
       "<small>shape: (5, 5)</small><table border=\"1\" class=\"dataframe\"><thead><tr><th>price</th><th>day_high</th><th>day_low</th><th>year_high</th><th>year_low</th></tr><tr><td>f64</td><td>f64</td><td>f64</td><td>f64</td><td>f64</td></tr></thead><tbody><tr><td>229.9</td><td>231.31</td><td>228.6</td><td>237.23</td><td>164.08</td></tr><tr><td>138.93</td><td>139.6</td><td>136.3</td><td>140.76</td><td>39.23</td></tr><tr><td>420.56</td><td>424.04</td><td>417.52</td><td>468.35</td><td>324.39</td></tr><tr><td>166.41</td><td>167.62</td><td>164.78</td><td>193.31</td><td>121.46</td></tr><tr><td>188.4</td><td>189.83</td><td>188.44</td><td>201.2</td><td>118.35</td></tr></tbody></table></div>"
      ],
      "text/plain": [
       "shape: (5, 5)\n",
       "┌────────┬──────────┬─────────┬───────────┬──────────┐\n",
       "│ price  ┆ day_high ┆ day_low ┆ year_high ┆ year_low │\n",
       "│ ---    ┆ ---      ┆ ---     ┆ ---       ┆ ---      │\n",
       "│ f64    ┆ f64      ┆ f64     ┆ f64       ┆ f64      │\n",
       "╞════════╪══════════╪═════════╪═══════════╪══════════╡\n",
       "│ 229.9  ┆ 231.31   ┆ 228.6   ┆ 237.23    ┆ 164.08   │\n",
       "│ 138.93 ┆ 139.6    ┆ 136.3   ┆ 140.76    ┆ 39.23    │\n",
       "│ 420.56 ┆ 424.04   ┆ 417.52  ┆ 468.35    ┆ 324.39   │\n",
       "│ 166.41 ┆ 167.62   ┆ 164.78  ┆ 193.31    ┆ 121.46   │\n",
       "│ 188.4  ┆ 189.83   ┆ 188.44  ┆ 201.2     ┆ 118.35   │\n",
       "└────────┴──────────┴─────────┴───────────┴──────────┘"
      ]
     },
     "execution_count": 11,
     "metadata": {},
     "output_type": "execute_result"
    }
   ],
   "source": [
    "df.select(cs.numeric())"
   ]
  },
  {
   "cell_type": "code",
   "execution_count": 12,
   "id": "9fb76aee",
   "metadata": {},
   "outputs": [
    {
     "data": {
      "text/html": [
       "<div><style>\n",
       ".dataframe > thead > tr,\n",
       ".dataframe > tbody > tr {\n",
       "  text-align: right;\n",
       "  white-space: pre-wrap;\n",
       "}\n",
       "</style>\n",
       "<small>shape: (5, 5)</small><table border=\"1\" class=\"dataframe\"><thead><tr><th>company_name</th><th>day_high</th><th>day_low</th><th>year_high</th><th>year_low</th></tr><tr><td>str</td><td>f64</td><td>f64</td><td>f64</td><td>f64</td></tr></thead><tbody><tr><td>&quot;Apple&quot;</td><td>231.31</td><td>228.6</td><td>237.23</td><td>164.08</td></tr><tr><td>&quot;NVIDIA&quot;</td><td>139.6</td><td>136.3</td><td>140.76</td><td>39.23</td></tr><tr><td>&quot;Microsoft&quot;</td><td>424.04</td><td>417.52</td><td>468.35</td><td>324.39</td></tr><tr><td>&quot;Alphabet (Google)&quot;</td><td>167.62</td><td>164.78</td><td>193.31</td><td>121.46</td></tr><tr><td>&quot;Amazon&quot;</td><td>189.83</td><td>188.44</td><td>201.2</td><td>118.35</td></tr></tbody></table></div>"
      ],
      "text/plain": [
       "shape: (5, 5)\n",
       "┌───────────────────┬──────────┬─────────┬───────────┬──────────┐\n",
       "│ company_name      ┆ day_high ┆ day_low ┆ year_high ┆ year_low │\n",
       "│ ---               ┆ ---      ┆ ---     ┆ ---       ┆ ---      │\n",
       "│ str               ┆ f64      ┆ f64     ┆ f64       ┆ f64      │\n",
       "╞═══════════════════╪══════════╪═════════╪═══════════╪══════════╡\n",
       "│ Apple             ┆ 231.31   ┆ 228.6   ┆ 237.23    ┆ 164.08   │\n",
       "│ NVIDIA            ┆ 139.6    ┆ 136.3   ┆ 140.76    ┆ 39.23    │\n",
       "│ Microsoft         ┆ 424.04   ┆ 417.52  ┆ 468.35    ┆ 324.39   │\n",
       "│ Alphabet (Google) ┆ 167.62   ┆ 164.78  ┆ 193.31    ┆ 121.46   │\n",
       "│ Amazon            ┆ 189.83   ┆ 188.44  ┆ 201.2     ┆ 118.35   │\n",
       "└───────────────────┴──────────┴─────────┴───────────┴──────────┘"
      ]
     },
     "execution_count": 12,
     "metadata": {},
     "output_type": "execute_result"
    }
   ],
   "source": [
    "df.select(cs.contains(\"_\"))"
   ]
  },
  {
   "cell_type": "markdown",
   "id": "73312782",
   "metadata": {},
   "source": [
    "#### Set operators\n",
    "\n",
    "- `|` for the union of two sets\n",
    "- `&` for the intersection\n",
    "- `-` difference (removes results that meet the right-hand condition)\n",
    "- `^` symmetric difference (elements that are not shared)\n",
    "- `~` complement\n"
   ]
  },
  {
   "cell_type": "code",
   "execution_count": 15,
   "id": "a3708bcd",
   "metadata": {},
   "outputs": [
    {
     "data": {
      "text/html": [
       "<div><style>\n",
       ".dataframe > thead > tr,\n",
       ".dataframe > tbody > tr {\n",
       "  text-align: right;\n",
       "  white-space: pre-wrap;\n",
       "}\n",
       "</style>\n",
       "<small>shape: (5, 1)</small><table border=\"1\" class=\"dataframe\"><thead><tr><th>company_name</th></tr><tr><td>str</td></tr></thead><tbody><tr><td>&quot;Apple&quot;</td></tr><tr><td>&quot;NVIDIA&quot;</td></tr><tr><td>&quot;Microsoft&quot;</td></tr><tr><td>&quot;Alphabet (Google)&quot;</td></tr><tr><td>&quot;Amazon&quot;</td></tr></tbody></table></div>"
      ],
      "text/plain": [
       "shape: (5, 1)\n",
       "┌───────────────────┐\n",
       "│ company_name      │\n",
       "│ ---               │\n",
       "│ str               │\n",
       "╞═══════════════════╡\n",
       "│ Apple             │\n",
       "│ NVIDIA            │\n",
       "│ Microsoft         │\n",
       "│ Alphabet (Google) │\n",
       "│ Amazon            │\n",
       "└───────────────────┘"
      ]
     },
     "execution_count": 15,
     "metadata": {},
     "output_type": "execute_result"
    }
   ],
   "source": [
    "df.select(cs.contains(\"_\") - cs.numeric())"
   ]
  },
  {
   "cell_type": "markdown",
   "id": "739fc0ca",
   "metadata": {},
   "source": [
    "### Resolving operator ambiguity\n",
    "\n",
    "Let's say you want negative boolean values in all the columns that start with has.\n",
    "Below gives the wrong result, because now the `~` operator is executed on the `.starts_with()` method."
   ]
  },
  {
   "cell_type": "code",
   "execution_count": 17,
   "id": "4d193155",
   "metadata": {},
   "outputs": [
    {
     "data": {
      "text/html": [
       "<div><style>\n",
       ".dataframe > thead > tr,\n",
       ".dataframe > tbody > tr {\n",
       "  text-align: right;\n",
       "  white-space: pre-wrap;\n",
       "}\n",
       "</style>\n",
       "<small>shape: (2, 2)</small><table border=\"1\" class=\"dataframe\"><thead><tr><th>not_name</th><th>not_is_alive</th></tr><tr><td>str</td><td>bool</td></tr></thead><tbody><tr><td>&quot;Anna&quot;</td><td>true</td></tr><tr><td>&quot;Bob&quot;</td><td>true</td></tr></tbody></table></div>"
      ],
      "text/plain": [
       "shape: (2, 2)\n",
       "┌──────────┬──────────────┐\n",
       "│ not_name ┆ not_is_alive │\n",
       "│ ---      ┆ ---          │\n",
       "│ str      ┆ bool         │\n",
       "╞══════════╪══════════════╡\n",
       "│ Anna     ┆ true         │\n",
       "│ Bob      ┆ true         │\n",
       "└──────────┴──────────────┘"
      ]
     },
     "execution_count": 17,
     "metadata": {},
     "output_type": "execute_result"
    }
   ],
   "source": [
    "people = pl.DataFrame(\n",
    "    {\n",
    "        \"name\": [\"Anna\", \"Bob\"],\n",
    "        \"has_partner\": [True, False],\n",
    "        \"has_kids\": [False, False],\n",
    "        \"has_tattoos\": [True, False],\n",
    "        \"is_alive\": [True, True],\n",
    "    }\n",
    ")\n",
    "wrong_result = people.select((~cs.starts_with(\"has_\")).name.prefix(\"not_\"))\n",
    "wrong_result"
   ]
  },
  {
   "cell_type": "markdown",
   "id": "db736870",
   "metadata": {},
   "source": [
    "To fix this, you have too use the `.as_expression()`"
   ]
  },
  {
   "cell_type": "code",
   "execution_count": 21,
   "id": "cc4eb4c8",
   "metadata": {},
   "outputs": [
    {
     "data": {
      "text/html": [
       "<div><style>\n",
       ".dataframe > thead > tr,\n",
       ".dataframe > tbody > tr {\n",
       "  text-align: right;\n",
       "  white-space: pre-wrap;\n",
       "}\n",
       "</style>\n",
       "<small>shape: (2, 3)</small><table border=\"1\" class=\"dataframe\"><thead><tr><th>not_has_partner</th><th>not_has_kids</th><th>not_has_tattoos</th></tr><tr><td>bool</td><td>bool</td><td>bool</td></tr></thead><tbody><tr><td>false</td><td>true</td><td>false</td></tr><tr><td>true</td><td>true</td><td>true</td></tr></tbody></table></div>"
      ],
      "text/plain": [
       "shape: (2, 3)\n",
       "┌─────────────────┬──────────────┬─────────────────┐\n",
       "│ not_has_partner ┆ not_has_kids ┆ not_has_tattoos │\n",
       "│ ---             ┆ ---          ┆ ---             │\n",
       "│ bool            ┆ bool         ┆ bool            │\n",
       "╞═════════════════╪══════════════╪═════════════════╡\n",
       "│ false           ┆ true         ┆ false           │\n",
       "│ true            ┆ true         ┆ true            │\n",
       "└─────────────────┴──────────────┴─────────────────┘"
      ]
     },
     "execution_count": 21,
     "metadata": {},
     "output_type": "execute_result"
    }
   ],
   "source": [
    "people.select((~cs.starts_with(\"has_\").as_expr()).name.prefix(\"not_\"))"
   ]
  },
  {
   "cell_type": "markdown",
   "id": "9292cbcb",
   "metadata": {},
   "source": [
    "### Debugging selectors\n",
    "\n",
    "To figure out if you made an expression or an selector, you can use the `cs.is_selector()` method."
   ]
  },
  {
   "cell_type": "code",
   "execution_count": 22,
   "id": "0927173f",
   "metadata": {},
   "outputs": [
    {
     "data": {
      "text/plain": [
       "False"
      ]
     },
     "execution_count": 22,
     "metadata": {},
     "output_type": "execute_result"
    }
   ],
   "source": [
    "cs.is_selector(~cs.starts_with(\"has_\").as_expr())"
   ]
  },
  {
   "cell_type": "markdown",
   "id": "8f41cfb3",
   "metadata": {},
   "source": [
    "it's a;lso possible to see what columns an selector affects."
   ]
  },
  {
   "cell_type": "code",
   "execution_count": 24,
   "id": "940f0b9d",
   "metadata": {},
   "outputs": [
    {
     "data": {
      "text/plain": [
       "('has_partner', 'has_kids', 'has_tattoos')"
      ]
     },
     "execution_count": 24,
     "metadata": {},
     "output_type": "execute_result"
    }
   ],
   "source": [
    "cs.expand_selector(people, cs.starts_with(\"has_\"))"
   ]
  }
 ],
 "metadata": {
  "kernelspec": {
   "display_name": ".venv",
   "language": "python",
   "name": "python3"
  },
  "language_info": {
   "codemirror_mode": {
    "name": "ipython",
    "version": 3
   },
   "file_extension": ".py",
   "mimetype": "text/x-python",
   "name": "python",
   "nbconvert_exporter": "python",
   "pygments_lexer": "ipython3",
   "version": "3.12.3"
  }
 },
 "nbformat": 4,
 "nbformat_minor": 5
}
