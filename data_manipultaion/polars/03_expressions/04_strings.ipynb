{
 "cells": [
  {
   "cell_type": "markdown",
   "id": "d74d005b",
   "metadata": {},
   "source": [
    "# [Expressions: Strings](https://docs.pola.rs/user-guide/expressions/strings/)"
   ]
  }
 ],
 "metadata": {
  "language_info": {
   "name": "python"
  }
 },
 "nbformat": 4,
 "nbformat_minor": 5
}
