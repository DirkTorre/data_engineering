{
 "cells": [
  {
   "cell_type": "markdown",
   "id": "f1fb12c8",
   "metadata": {},
   "source": [
    "# [Expressions: Basic Operations](https://docs.pola.rs/user-guide/expressions/basic-operations/)"
   ]
  },
  {
   "cell_type": "code",
   "execution_count": 1,
   "id": "d41b27ff",
   "metadata": {},
   "outputs": [],
   "source": [
    "import polars as pl\n",
    "import numpy as np"
   ]
  },
  {
   "cell_type": "code",
   "execution_count": 2,
   "id": "aa0e6a4d",
   "metadata": {},
   "outputs": [
    {
     "data": {
      "text/html": [
       "<div><style>\n",
       ".dataframe > thead > tr,\n",
       ".dataframe > tbody > tr {\n",
       "  text-align: right;\n",
       "  white-space: pre-wrap;\n",
       "}\n",
       "</style>\n",
       "<small>shape: (5, 4)</small><table border=\"1\" class=\"dataframe\"><thead><tr><th>nrs</th><th>names</th><th>random</th><th>groups</th></tr><tr><td>i64</td><td>str</td><td>f64</td><td>str</td></tr></thead><tbody><tr><td>1</td><td>&quot;foo&quot;</td><td>0.37454</td><td>&quot;A&quot;</td></tr><tr><td>2</td><td>&quot;ham&quot;</td><td>0.950714</td><td>&quot;A&quot;</td></tr><tr><td>3</td><td>&quot;spam&quot;</td><td>0.731994</td><td>&quot;B&quot;</td></tr><tr><td>null</td><td>&quot;egg&quot;</td><td>0.598658</td><td>&quot;A&quot;</td></tr><tr><td>5</td><td>&quot;spam&quot;</td><td>0.156019</td><td>&quot;B&quot;</td></tr></tbody></table></div>"
      ],
      "text/plain": [
       "shape: (5, 4)\n",
       "┌──────┬───────┬──────────┬────────┐\n",
       "│ nrs  ┆ names ┆ random   ┆ groups │\n",
       "│ ---  ┆ ---   ┆ ---      ┆ ---    │\n",
       "│ i64  ┆ str   ┆ f64      ┆ str    │\n",
       "╞══════╪═══════╪══════════╪════════╡\n",
       "│ 1    ┆ foo   ┆ 0.37454  ┆ A      │\n",
       "│ 2    ┆ ham   ┆ 0.950714 ┆ A      │\n",
       "│ 3    ┆ spam  ┆ 0.731994 ┆ B      │\n",
       "│ null ┆ egg   ┆ 0.598658 ┆ A      │\n",
       "│ 5    ┆ spam  ┆ 0.156019 ┆ B      │\n",
       "└──────┴───────┴──────────┴────────┘"
      ]
     },
     "execution_count": 2,
     "metadata": {},
     "output_type": "execute_result"
    }
   ],
   "source": [
    "np.random.seed(42)\n",
    "\n",
    "df = pl.DataFrame(\n",
    "    {\n",
    "        \"nrs\": [1, 2, 3, None, 5],\n",
    "        \"names\": [\"foo\", \"ham\", \"spam\", \"egg\", \"spam\"],\n",
    "        \"random\": np.random.rand(5),\n",
    "        \"groups\": [\"A\", \"A\", \"B\", \"A\", \"B\"],\n",
    "    }\n",
    ")\n",
    "df"
   ]
  },
  {
   "cell_type": "markdown",
   "id": "ce524773",
   "metadata": {},
   "source": [
    "## Basic arithmetic\n",
    "\n",
    "you can also use `.add(x)`, `.truediv(x)`, `.pow(x)` etc. "
   ]
  },
  {
   "cell_type": "code",
   "execution_count": 3,
   "id": "0873a229",
   "metadata": {},
   "outputs": [
    {
     "data": {
      "text/html": [
       "<div><style>\n",
       ".dataframe > thead > tr,\n",
       ".dataframe > tbody > tr {\n",
       "  text-align: right;\n",
       "  white-space: pre-wrap;\n",
       "}\n",
       "</style>\n",
       "<small>shape: (5, 6)</small><table border=\"1\" class=\"dataframe\"><thead><tr><th>nrs + 5</th><th>nrs - 5</th><th>nrs * random</th><th>nrs / random</th><th>nrs ** 2</th><th>nrs ** 3</th></tr><tr><td>i64</td><td>i64</td><td>f64</td><td>f64</td><td>i64</td><td>i64</td></tr></thead><tbody><tr><td>6</td><td>-4</td><td>0.37454</td><td>2.669941</td><td>1</td><td>1</td></tr><tr><td>7</td><td>-3</td><td>1.901429</td><td>2.103681</td><td>4</td><td>2</td></tr><tr><td>8</td><td>-2</td><td>2.195982</td><td>4.098395</td><td>9</td><td>0</td></tr><tr><td>null</td><td>null</td><td>null</td><td>null</td><td>null</td><td>null</td></tr><tr><td>10</td><td>0</td><td>0.780093</td><td>32.047453</td><td>25</td><td>2</td></tr></tbody></table></div>"
      ],
      "text/plain": [
       "shape: (5, 6)\n",
       "┌─────────┬─────────┬──────────────┬──────────────┬──────────┬──────────┐\n",
       "│ nrs + 5 ┆ nrs - 5 ┆ nrs * random ┆ nrs / random ┆ nrs ** 2 ┆ nrs ** 3 │\n",
       "│ ---     ┆ ---     ┆ ---          ┆ ---          ┆ ---      ┆ ---      │\n",
       "│ i64     ┆ i64     ┆ f64          ┆ f64          ┆ i64      ┆ i64      │\n",
       "╞═════════╪═════════╪══════════════╪══════════════╪══════════╪══════════╡\n",
       "│ 6       ┆ -4      ┆ 0.37454      ┆ 2.669941     ┆ 1        ┆ 1        │\n",
       "│ 7       ┆ -3      ┆ 1.901429     ┆ 2.103681     ┆ 4        ┆ 2        │\n",
       "│ 8       ┆ -2      ┆ 2.195982     ┆ 4.098395     ┆ 9        ┆ 0        │\n",
       "│ null    ┆ null    ┆ null         ┆ null         ┆ null     ┆ null     │\n",
       "│ 10      ┆ 0       ┆ 0.780093     ┆ 32.047453    ┆ 25       ┆ 2        │\n",
       "└─────────┴─────────┴──────────────┴──────────────┴──────────┴──────────┘"
      ]
     },
     "execution_count": 3,
     "metadata": {},
     "output_type": "execute_result"
    }
   ],
   "source": [
    "result = df.select(\n",
    "    (pl.col(\"nrs\") + 5).alias(\"nrs + 5\"),\n",
    "    (pl.col(\"nrs\") - 5).alias(\"nrs - 5\"),\n",
    "    (pl.col(\"nrs\") * pl.col(\"random\")).alias(\"nrs * random\"),\n",
    "    (pl.col(\"nrs\") / pl.col(\"random\")).alias(\"nrs / random\"),\n",
    "    (pl.col(\"nrs\") ** 2).alias(\"nrs ** 2\"),\n",
    "    (pl.col(\"nrs\") % 3).alias(\"nrs ** 3\"),\n",
    ")\n",
    "result"
   ]
  },
  {
   "cell_type": "markdown",
   "id": "841c0665",
   "metadata": {},
   "source": [
    "## Comparisons"
   ]
  },
  {
   "cell_type": "code",
   "execution_count": 4,
   "id": "28590d23",
   "metadata": {},
   "outputs": [
    {
     "data": {
      "text/html": [
       "<div><style>\n",
       ".dataframe > thead > tr,\n",
       ".dataframe > tbody > tr {\n",
       "  text-align: right;\n",
       "  white-space: pre-wrap;\n",
       "}\n",
       "</style>\n",
       "<small>shape: (5, 6)</small><table border=\"1\" class=\"dataframe\"><thead><tr><th>nrs &gt; 1</th><th>nrs &gt;= 3</th><th>random &lt; .2</th><th>random &lt;= .5</th><th>nrs != 1</th><th>nrs == 1</th></tr><tr><td>bool</td><td>bool</td><td>bool</td><td>bool</td><td>bool</td><td>bool</td></tr></thead><tbody><tr><td>false</td><td>false</td><td>false</td><td>true</td><td>false</td><td>true</td></tr><tr><td>true</td><td>false</td><td>false</td><td>false</td><td>true</td><td>false</td></tr><tr><td>true</td><td>true</td><td>false</td><td>false</td><td>true</td><td>false</td></tr><tr><td>null</td><td>null</td><td>false</td><td>false</td><td>null</td><td>null</td></tr><tr><td>true</td><td>true</td><td>true</td><td>true</td><td>true</td><td>false</td></tr></tbody></table></div>"
      ],
      "text/plain": [
       "shape: (5, 6)\n",
       "┌─────────┬──────────┬─────────────┬──────────────┬──────────┬──────────┐\n",
       "│ nrs > 1 ┆ nrs >= 3 ┆ random < .2 ┆ random <= .5 ┆ nrs != 1 ┆ nrs == 1 │\n",
       "│ ---     ┆ ---      ┆ ---         ┆ ---          ┆ ---      ┆ ---      │\n",
       "│ bool    ┆ bool     ┆ bool        ┆ bool         ┆ bool     ┆ bool     │\n",
       "╞═════════╪══════════╪═════════════╪══════════════╪══════════╪══════════╡\n",
       "│ false   ┆ false    ┆ false       ┆ true         ┆ false    ┆ true     │\n",
       "│ true    ┆ false    ┆ false       ┆ false        ┆ true     ┆ false    │\n",
       "│ true    ┆ true     ┆ false       ┆ false        ┆ true     ┆ false    │\n",
       "│ null    ┆ null     ┆ false       ┆ false        ┆ null     ┆ null     │\n",
       "│ true    ┆ true     ┆ true        ┆ true         ┆ true     ┆ false    │\n",
       "└─────────┴──────────┴─────────────┴──────────────┴──────────┴──────────┘"
      ]
     },
     "execution_count": 4,
     "metadata": {},
     "output_type": "execute_result"
    }
   ],
   "source": [
    "result = df.select(\n",
    "    (pl.col(\"nrs\") > 1).alias(\"nrs > 1\"),\n",
    "    (pl.col(\"nrs\") >= 3).alias(\"nrs >= 3\"),\n",
    "    (pl.col(\"random\") < 0.2).alias(\"random < .2\"),\n",
    "    (pl.col(\"random\") <= 0.5).alias(\"random <= .5\"),\n",
    "    (pl.col(\"nrs\")  != 1).alias(\"nrs != 1\"),\n",
    "    (pl.col(\"nrs\")  == 1).alias(\"nrs == 1\"),\n",
    ")\n",
    "result"
   ]
  },
  {
   "cell_type": "markdown",
   "id": "f331496a",
   "metadata": {},
   "source": [
    "## Boolean and bitwise operations\n",
    "\n",
    "You can also use `.or_`, `.and_` and `.not_`"
   ]
  },
  {
   "cell_type": "code",
   "execution_count": 7,
   "id": "f669acbb",
   "metadata": {},
   "outputs": [
    {
     "data": {
      "text/html": [
       "<div><style>\n",
       ".dataframe > thead > tr,\n",
       ".dataframe > tbody > tr {\n",
       "  text-align: right;\n",
       "  white-space: pre-wrap;\n",
       "}\n",
       "</style>\n",
       "<small>shape: (5, 2)</small><table border=\"1\" class=\"dataframe\"><thead><tr><th>number not null and group A</th><th>random &lt; 0.5 or group B</th></tr><tr><td>bool</td><td>bool</td></tr></thead><tbody><tr><td>true</td><td>true</td></tr><tr><td>true</td><td>false</td></tr><tr><td>false</td><td>true</td></tr><tr><td>false</td><td>false</td></tr><tr><td>false</td><td>true</td></tr></tbody></table></div>"
      ],
      "text/plain": [
       "shape: (5, 2)\n",
       "┌─────────────────────────────┬─────────────────────────┐\n",
       "│ number not null and group A ┆ random < 0.5 or group B │\n",
       "│ ---                         ┆ ---                     │\n",
       "│ bool                        ┆ bool                    │\n",
       "╞═════════════════════════════╪═════════════════════════╡\n",
       "│ true                        ┆ true                    │\n",
       "│ true                        ┆ false                   │\n",
       "│ false                       ┆ true                    │\n",
       "│ false                       ┆ false                   │\n",
       "│ false                       ┆ true                    │\n",
       "└─────────────────────────────┴─────────────────────────┘"
      ]
     },
     "execution_count": 7,
     "metadata": {},
     "output_type": "execute_result"
    }
   ],
   "source": [
    "result = df.select(\n",
    "    ((~pl.col(\"nrs\").is_null()) & (pl.col(\"groups\") == \"A\")).alias(\"number not null and group A\"),\n",
    "    ((pl.col(\"random\") < 0.5) | (pl.col(\"groups\") == \"B\")).alias(\"random < 0.5 or group B\"),\n",
    ")\n",
    "result"
   ]
  },
  {
   "cell_type": "markdown",
   "id": "731ff1e8",
   "metadata": {},
   "source": [
    "It's possible to use this for bitwise operations by using the boolean operators on numbers. "
   ]
  },
  {
   "cell_type": "markdown",
   "id": "b57c10d6",
   "metadata": {},
   "source": [
    "## Counting unique values"
   ]
  },
  {
   "cell_type": "code",
   "execution_count": 12,
   "id": "a602679e",
   "metadata": {},
   "outputs": [
    {
     "data": {
      "text/html": [
       "<div><style>\n",
       ".dataframe > thead > tr,\n",
       ".dataframe > tbody > tr {\n",
       "  text-align: right;\n",
       "  white-space: pre-wrap;\n",
       "}\n",
       "</style>\n",
       "<small>shape: (1, 2)</small><table border=\"1\" class=\"dataframe\"><thead><tr><th>n_unique</th><th>approx_n_unique</th></tr><tr><td>u32</td><td>u32</td></tr></thead><tbody><tr><td>63152</td><td>63311</td></tr></tbody></table></div>"
      ],
      "text/plain": [
       "shape: (1, 2)\n",
       "┌──────────┬─────────────────┐\n",
       "│ n_unique ┆ approx_n_unique │\n",
       "│ ---      ┆ ---             │\n",
       "│ u32      ┆ u32             │\n",
       "╞══════════╪═════════════════╡\n",
       "│ 63152    ┆ 63311           │\n",
       "└──────────┴─────────────────┘"
      ]
     },
     "execution_count": 12,
     "metadata": {},
     "output_type": "execute_result"
    }
   ],
   "source": [
    "long_df = pl.DataFrame({\"numbers\": np.random.randint(0, 100_000, 100_000)})\n",
    "result = long_df.select(\n",
    "    pl.col(\"numbers\").n_unique().alias(\"n_unique\"),\n",
    "    pl.col(\"numbers\").approx_n_unique().alias(\"approx_n_unique\") # inaccurate, but faster on big datasets\n",
    ")\n",
    "result"
   ]
  },
  {
   "cell_type": "markdown",
   "id": "7e2bac8c",
   "metadata": {},
   "source": [
    "the code bellow gives the value count, as a struct."
   ]
  },
  {
   "cell_type": "code",
   "execution_count": 14,
   "id": "3f38fb79",
   "metadata": {},
   "outputs": [
    {
     "data": {
      "text/html": [
       "<div><style>\n",
       ".dataframe > thead > tr,\n",
       ".dataframe > tbody > tr {\n",
       "  text-align: right;\n",
       "  white-space: pre-wrap;\n",
       "}\n",
       "</style>\n",
       "<small>shape: (4, 1)</small><table border=\"1\" class=\"dataframe\"><thead><tr><th>value counts</th></tr><tr><td>struct[2]</td></tr></thead><tbody><tr><td>{&quot;spam&quot;,2}</td></tr><tr><td>{&quot;ham&quot;,1}</td></tr><tr><td>{&quot;egg&quot;,1}</td></tr><tr><td>{&quot;foo&quot;,1}</td></tr></tbody></table></div>"
      ],
      "text/plain": [
       "shape: (4, 1)\n",
       "┌──────────────┐\n",
       "│ value counts │\n",
       "│ ---          │\n",
       "│ struct[2]    │\n",
       "╞══════════════╡\n",
       "│ {\"spam\",2}   │\n",
       "│ {\"ham\",1}    │\n",
       "│ {\"egg\",1}    │\n",
       "│ {\"foo\",1}    │\n",
       "└──────────────┘"
      ]
     },
     "execution_count": 14,
     "metadata": {},
     "output_type": "execute_result"
    }
   ],
   "source": [
    "result = df.select(\n",
    "    pl.col(\"names\").value_counts().alias(\"value counts\")\n",
    ")\n",
    "result"
   ]
  },
  {
   "cell_type": "code",
   "execution_count": 17,
   "id": "34697f2a",
   "metadata": {},
   "outputs": [
    {
     "data": {
      "text/html": [
       "<div><style>\n",
       ".dataframe > thead > tr,\n",
       ".dataframe > tbody > tr {\n",
       "  text-align: right;\n",
       "  white-space: pre-wrap;\n",
       "}\n",
       "</style>\n",
       "<small>shape: (4, 2)</small><table border=\"1\" class=\"dataframe\"><thead><tr><th>names</th><th>unique counts</th></tr><tr><td>str</td><td>u32</td></tr></thead><tbody><tr><td>&quot;foo&quot;</td><td>1</td></tr><tr><td>&quot;ham&quot;</td><td>1</td></tr><tr><td>&quot;spam&quot;</td><td>2</td></tr><tr><td>&quot;egg&quot;</td><td>1</td></tr></tbody></table></div>"
      ],
      "text/plain": [
       "shape: (4, 2)\n",
       "┌───────┬───────────────┐\n",
       "│ names ┆ unique counts │\n",
       "│ ---   ┆ ---           │\n",
       "│ str   ┆ u32           │\n",
       "╞═══════╪═══════════════╡\n",
       "│ foo   ┆ 1             │\n",
       "│ ham   ┆ 1             │\n",
       "│ spam  ┆ 2             │\n",
       "│ egg   ┆ 1             │\n",
       "└───────┴───────────────┘"
      ]
     },
     "execution_count": 17,
     "metadata": {},
     "output_type": "execute_result"
    }
   ],
   "source": [
    "df.select(\n",
    "    pl.col(\"names\").unique(maintain_order=True),\n",
    "    pl.col(\"names\").unique_counts().alias(\"unique counts\")\n",
    ")"
   ]
  },
  {
   "cell_type": "markdown",
   "id": "4522a287",
   "metadata": {},
   "source": [
    "## conditionals\n",
    "\n",
    "this is very handy, you can make giant it-else statements."
   ]
  },
  {
   "cell_type": "code",
   "execution_count": 34,
   "id": "b62eaa5a",
   "metadata": {},
   "outputs": [
    {
     "data": {
      "text/html": [
       "<div><style>\n",
       ".dataframe > thead > tr,\n",
       ".dataframe > tbody > tr {\n",
       "  text-align: right;\n",
       "  white-space: pre-wrap;\n",
       "}\n",
       "</style>\n",
       "<small>shape: (5, 2)</small><table border=\"1\" class=\"dataframe\"><thead><tr><th>nrs</th><th>Collatz</th></tr><tr><td>i64</td><td>i64</td></tr></thead><tbody><tr><td>1</td><td>11</td></tr><tr><td>2</td><td>102</td></tr><tr><td>3</td><td>2</td></tr><tr><td>null</td><td>null</td></tr><tr><td>5</td><td>4</td></tr></tbody></table></div>"
      ],
      "text/plain": [
       "shape: (5, 2)\n",
       "┌──────┬─────────┐\n",
       "│ nrs  ┆ Collatz │\n",
       "│ ---  ┆ ---     │\n",
       "│ i64  ┆ i64     │\n",
       "╞══════╪═════════╡\n",
       "│ 1    ┆ 11      │\n",
       "│ 2    ┆ 102     │\n",
       "│ 3    ┆ 2       │\n",
       "│ null ┆ null    │\n",
       "│ 5    ┆ 4       │\n",
       "└──────┴─────────┘"
      ]
     },
     "execution_count": 34,
     "metadata": {},
     "output_type": "execute_result"
    }
   ],
   "source": [
    "df.select(\n",
    "    pl.col(\"nrs\"),\n",
    "    pl.when(pl.col(\"nrs\") == 1)\n",
    "        .then(pl.col(\"nrs\") + 10)\n",
    "        .when(pl.col(\"nrs\") == 2)\n",
    "        .then(pl.col(\"nrs\") + 100)\n",
    "        .otherwise(pl.col(\"nrs\") - 1)\n",
    "        .alias(\"Collatz\")\n",
    ")"
   ]
  }
 ],
 "metadata": {
  "kernelspec": {
   "display_name": ".venv",
   "language": "python",
   "name": "python3"
  },
  "language_info": {
   "codemirror_mode": {
    "name": "ipython",
    "version": 3
   },
   "file_extension": ".py",
   "mimetype": "text/x-python",
   "name": "python",
   "nbconvert_exporter": "python",
   "pygments_lexer": "ipython3",
   "version": "3.12.3"
  }
 },
 "nbformat": 4,
 "nbformat_minor": 5
}
