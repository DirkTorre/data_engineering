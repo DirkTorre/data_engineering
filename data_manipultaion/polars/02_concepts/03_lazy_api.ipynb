{
 "cells": [
  {
   "cell_type": "markdown",
   "metadata": {},
   "source": [
    "# [Lazy API](https://docs.pola.rs/user-guide/concepts/lazy-api/)\n",
    "\n",
    "polars supports two modes of operation:\n",
    "- lazy: only evaluated when collected. Can give a performance boost.\n",
    "- eager: immediate execution of commands\n",
    "\n",
    "## eager way"
   ]
  },
  {
   "cell_type": "code",
   "execution_count": 1,
   "metadata": {},
   "outputs": [
    {
     "data": {
      "text/html": [
       "<div><style>\n",
       ".dataframe > thead > tr,\n",
       ".dataframe > tbody > tr {\n",
       "  text-align: right;\n",
       "  white-space: pre-wrap;\n",
       "}\n",
       "</style>\n",
       "<small>shape: (151, 5)</small><table border=\"1\" class=\"dataframe\"><thead><tr><th>sepal_length</th><th>sepal_width</th><th>petal_length</th><th>petal_width</th><th>species</th></tr><tr><td>f64</td><td>f64</td><td>f64</td><td>f64</td><td>str</td></tr></thead><tbody><tr><td>5.1</td><td>3.5</td><td>1.4</td><td>0.2</td><td>&quot;setosa&quot;</td></tr><tr><td>4.9</td><td>3.0</td><td>1.4</td><td>0.2</td><td>&quot;setosa&quot;</td></tr><tr><td>4.7</td><td>3.2</td><td>1.3</td><td>0.2</td><td>&quot;setosa&quot;</td></tr><tr><td>4.6</td><td>3.1</td><td>1.5</td><td>0.2</td><td>&quot;setosa&quot;</td></tr><tr><td>5.0</td><td>3.6</td><td>1.4</td><td>0.2</td><td>&quot;setosa&quot;</td></tr><tr><td>&hellip;</td><td>&hellip;</td><td>&hellip;</td><td>&hellip;</td><td>&hellip;</td></tr><tr><td>6.3</td><td>2.5</td><td>5.0</td><td>1.9</td><td>&quot;virginica&quot;</td></tr><tr><td>6.5</td><td>3.0</td><td>5.2</td><td>2.0</td><td>&quot;virginica&quot;</td></tr><tr><td>6.2</td><td>3.4</td><td>5.4</td><td>2.3</td><td>&quot;virginica&quot;</td></tr><tr><td>5.9</td><td>3.0</td><td>5.1</td><td>1.8</td><td>&quot;virginica&quot;</td></tr><tr><td>null</td><td>null</td><td>null</td><td>null</td><td>null</td></tr></tbody></table></div>"
      ],
      "text/plain": [
       "shape: (151, 5)\n",
       "┌──────────────┬─────────────┬──────────────┬─────────────┬───────────┐\n",
       "│ sepal_length ┆ sepal_width ┆ petal_length ┆ petal_width ┆ species   │\n",
       "│ ---          ┆ ---         ┆ ---          ┆ ---         ┆ ---       │\n",
       "│ f64          ┆ f64         ┆ f64          ┆ f64         ┆ str       │\n",
       "╞══════════════╪═════════════╪══════════════╪═════════════╪═══════════╡\n",
       "│ 5.1          ┆ 3.5         ┆ 1.4          ┆ 0.2         ┆ setosa    │\n",
       "│ 4.9          ┆ 3.0         ┆ 1.4          ┆ 0.2         ┆ setosa    │\n",
       "│ 4.7          ┆ 3.2         ┆ 1.3          ┆ 0.2         ┆ setosa    │\n",
       "│ 4.6          ┆ 3.1         ┆ 1.5          ┆ 0.2         ┆ setosa    │\n",
       "│ 5.0          ┆ 3.6         ┆ 1.4          ┆ 0.2         ┆ setosa    │\n",
       "│ …            ┆ …           ┆ …            ┆ …           ┆ …         │\n",
       "│ 6.3          ┆ 2.5         ┆ 5.0          ┆ 1.9         ┆ virginica │\n",
       "│ 6.5          ┆ 3.0         ┆ 5.2          ┆ 2.0         ┆ virginica │\n",
       "│ 6.2          ┆ 3.4         ┆ 5.4          ┆ 2.3         ┆ virginica │\n",
       "│ 5.9          ┆ 3.0         ┆ 5.1          ┆ 1.8         ┆ virginica │\n",
       "│ null         ┆ null        ┆ null         ┆ null        ┆ null      │\n",
       "└──────────────┴─────────────┴──────────────┴─────────────┴───────────┘"
      ]
     },
     "execution_count": 1,
     "metadata": {},
     "output_type": "execute_result"
    }
   ],
   "source": [
    "import polars as pl\n",
    "\n",
    "df = pl.read_csv(\"data/iris/iris.data\")\n",
    "df = df.with_columns(\n",
    "    pl.col(\"class\").str.strip_prefix(\"Iris-\")\n",
    ").rename({\n",
    "    \"sepal length\": \"sepal_length\",\n",
    "    \"sepal width\": \"sepal_width\",\n",
    "    \"petal length\": \"petal_length\",\n",
    "    \"petal width\": \"petal_width\",\n",
    "    \"class\": \"species\"\n",
    "    })\n",
    "df"
   ]
  },
  {
   "cell_type": "code",
   "execution_count": 2,
   "metadata": {},
   "outputs": [
    {
     "data": {
      "text/html": [
       "<div><style>\n",
       ".dataframe > thead > tr,\n",
       ".dataframe > tbody > tr {\n",
       "  text-align: right;\n",
       "  white-space: pre-wrap;\n",
       "}\n",
       "</style>\n",
       "<small>shape: (3, 2)</small><table border=\"1\" class=\"dataframe\"><thead><tr><th>species</th><th>sepal_width</th></tr><tr><td>str</td><td>f64</td></tr></thead><tbody><tr><td>&quot;versicolor&quot;</td><td>2.804255</td></tr><tr><td>&quot;virginica&quot;</td><td>2.983673</td></tr><tr><td>&quot;setosa&quot;</td><td>3.713636</td></tr></tbody></table></div>"
      ],
      "text/plain": [
       "shape: (3, 2)\n",
       "┌────────────┬─────────────┐\n",
       "│ species    ┆ sepal_width │\n",
       "│ ---        ┆ ---         │\n",
       "│ str        ┆ f64         │\n",
       "╞════════════╪═════════════╡\n",
       "│ versicolor ┆ 2.804255    │\n",
       "│ virginica  ┆ 2.983673    │\n",
       "│ setosa     ┆ 3.713636    │\n",
       "└────────────┴─────────────┘"
      ]
     },
     "execution_count": 2,
     "metadata": {},
     "output_type": "execute_result"
    }
   ],
   "source": [
    "df_small = df.filter(pl.col(\"sepal_length\") > 5)\n",
    "df_agg = df_small.group_by(\"species\").agg(pl.col(\"sepal_width\").mean())\n",
    "df_agg"
   ]
  },
  {
   "cell_type": "markdown",
   "metadata": {},
   "source": [
    "## lazy way\n",
    "\n",
    "Uses less memory and CPU,(only loads data that is needed)."
   ]
  },
  {
   "cell_type": "code",
   "execution_count": 5,
   "metadata": {},
   "outputs": [
    {
     "data": {
      "text/html": [
       "<div><style>\n",
       ".dataframe > thead > tr,\n",
       ".dataframe > tbody > tr {\n",
       "  text-align: right;\n",
       "  white-space: pre-wrap;\n",
       "}\n",
       "</style>\n",
       "<small>shape: (3, 2)</small><table border=\"1\" class=\"dataframe\"><thead><tr><th>species</th><th>sepal_width</th></tr><tr><td>str</td><td>f64</td></tr></thead><tbody><tr><td>&quot;versicolor&quot;</td><td>2.804255</td></tr><tr><td>&quot;setosa&quot;</td><td>3.713636</td></tr><tr><td>&quot;virginica&quot;</td><td>2.983673</td></tr></tbody></table></div>"
      ],
      "text/plain": [
       "shape: (3, 2)\n",
       "┌────────────┬─────────────┐\n",
       "│ species    ┆ sepal_width │\n",
       "│ ---        ┆ ---         │\n",
       "│ str        ┆ f64         │\n",
       "╞════════════╪═════════════╡\n",
       "│ versicolor ┆ 2.804255    │\n",
       "│ setosa     ┆ 3.713636    │\n",
       "│ virginica  ┆ 2.983673    │\n",
       "└────────────┴─────────────┘"
      ]
     },
     "execution_count": 5,
     "metadata": {},
     "output_type": "execute_result"
    }
   ],
   "source": [
    "q = (\n",
    "    pl.scan_csv(\"data/iris/iris.data\")\n",
    "    .with_columns(\n",
    "        pl.col(\"class\").str.strip_prefix(\"Iris-\")\n",
    "    ).rename({\n",
    "        \"sepal length\": \"sepal_length\",\n",
    "        \"sepal width\": \"sepal_width\",\n",
    "        \"petal length\": \"petal_length\",\n",
    "        \"petal width\": \"petal_width\",\n",
    "        \"class\": \"species\"\n",
    "    }).filter(pl.col(\"sepal_length\") > 5)\n",
    "    .group_by(\"species\")\n",
    "    .agg(pl.col(\"sepal_width\").mean())\n",
    "    \n",
    ")\n",
    "df = q.collect()\n",
    "df"
   ]
  },
  {
   "cell_type": "markdown",
   "metadata": {},
   "source": [
    "Here you can see that unneeded operations (like renaming most columns) is not executed, because it is not used."
   ]
  },
  {
   "cell_type": "code",
   "execution_count": 7,
   "metadata": {},
   "outputs": [
    {
     "name": "stdout",
     "output_type": "stream",
     "text": [
      "AGGREGATE\n",
      "  [col(\"sepal_width\").mean()] BY [col(\"species\")]\n",
      "  FROM\n",
      "  RENAME\n",
      "     WITH_COLUMNS:\n",
      "     [col(\"class\").str.strip_prefix([\"Iris-\"])] \n",
      "      simple π 3/3 [\"sepal width\", \"class\", ... 1 other column]\n",
      "        Csv SCAN [data/iris/iris.data]\n",
      "        PROJECT 3/5 COLUMNS\n",
      "        SELECTION: [(col(\"sepal length\")) > (5.0)]\n"
     ]
    }
   ],
   "source": [
    "print(q.explain())"
   ]
  },
  {
   "cell_type": "code",
   "execution_count": 9,
   "metadata": {},
   "outputs": [
    {
     "name": "stdout",
     "output_type": "stream",
     "text": [
      "SELECT [[(col(\"float_1\")) * (1.1)].alias(\"float_1*1.1\"), [(col(\"float_2\")) * (1.1)].alias(\"float_2*1.1\"), [(col(\"float_3\")) * (1.1)].alias(\"float_3*1.1\")]\n",
      "FROM\n",
      "  DF [\"int_1\", \"int_2\", \"float_1\", \"float_2\", ...]; PROJECT[\"float_1\", \"float_2\", \"float_3\"] 3/5 COLUMNS\n"
     ]
    }
   ],
   "source": [
    "schema = pl.Schema(\n",
    "    {\n",
    "        \"int_1\": pl.Int16,\n",
    "        \"int_2\": pl.Int32,\n",
    "        \"float_1\": pl.Float64,\n",
    "        \"float_2\": pl.Float64,\n",
    "        \"float_3\": pl.Float64,\n",
    "    }\n",
    ")\n",
    "print(\n",
    "    pl.LazyFrame(schema=schema)\n",
    "    .select((pl.col(pl.Float64) * 1.1).name.suffix(\"*1.1\"))\n",
    "    .explain()\n",
    ")"
   ]
  }
 ],
 "metadata": {
  "kernelspec": {
   "display_name": ".venv",
   "language": "python",
   "name": "python3"
  },
  "language_info": {
   "codemirror_mode": {
    "name": "ipython",
    "version": 3
   },
   "file_extension": ".py",
   "mimetype": "text/x-python",
   "name": "python",
   "nbconvert_exporter": "python",
   "pygments_lexer": "ipython3",
   "version": "3.12.3"
  }
 },
 "nbformat": 4,
 "nbformat_minor": 2
}
