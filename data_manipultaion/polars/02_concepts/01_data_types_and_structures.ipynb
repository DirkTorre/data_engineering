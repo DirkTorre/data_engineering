{
 "cells": [
  {
   "cell_type": "markdown",
   "metadata": {},
   "source": [
    "# [Data types and structures](https://docs.pola.rs/user-guide/concepts/data-types-and-structures/)\n",
    "\n",
    "NaN for missing floating point values, null for other missing data."
   ]
  },
  {
   "cell_type": "code",
   "execution_count": 1,
   "metadata": {},
   "outputs": [],
   "source": [
    "import polars as pl\n",
    "from datetime import date\n",
    "import random"
   ]
  },
  {
   "cell_type": "markdown",
   "metadata": {},
   "source": [
    "## series"
   ]
  },
  {
   "cell_type": "code",
   "execution_count": 2,
   "metadata": {},
   "outputs": [
    {
     "name": "stdout",
     "output_type": "stream",
     "text": [
      "shape: (4,)\n",
      "Series: 'ints' [i64]\n",
      "[\n",
      "\t1\n",
      "\t2\n",
      "\t3\n",
      "\t4\n",
      "]\n"
     ]
    }
   ],
   "source": [
    "s = pl.Series(\"ints\", [1,2,3,4])\n",
    "# possible to be more specific by using \n",
    "# s = pl.Series(\"ints\", [1,2,3,4], dtype=pl.UInt64)\n",
    "print(s)"
   ]
  },
  {
   "cell_type": "code",
   "execution_count": 3,
   "metadata": {},
   "outputs": [
    {
     "name": "stdout",
     "output_type": "stream",
     "text": [
      "Int64 UInt64\n"
     ]
    }
   ],
   "source": [
    "s1 = pl.Series(\"ints\", [1,2,3,4])\n",
    "s2 = pl.Series(\"ints\", [1,2,3,4], dtype=pl.UInt64)\n",
    "print(s1.dtype, s2.dtype)"
   ]
  },
  {
   "cell_type": "markdown",
   "metadata": {},
   "source": [
    "## dataframe"
   ]
  },
  {
   "cell_type": "code",
   "execution_count": 4,
   "metadata": {},
   "outputs": [
    {
     "name": "stdout",
     "output_type": "stream",
     "text": [
      "shape: (4, 4)\n",
      "┌────────────────┬────────────┬────────┬────────┐\n",
      "│ name           ┆ birthdate  ┆ weight ┆ height │\n",
      "│ ---            ┆ ---        ┆ ---    ┆ ---    │\n",
      "│ str            ┆ date       ┆ f64    ┆ f64    │\n",
      "╞════════════════╪════════════╪════════╪════════╡\n",
      "│ Alice Archer   ┆ 1997-01-10 ┆ 57.9   ┆ 1.56   │\n",
      "│ Ben Brown      ┆ 1985-02-15 ┆ 72.5   ┆ 1.77   │\n",
      "│ Chloe Cooper   ┆ 1983-03-22 ┆ 53.6   ┆ 1.65   │\n",
      "│ Daniel Donovan ┆ 1981-04-30 ┆ 83.1   ┆ 1.75   │\n",
      "└────────────────┴────────────┴────────┴────────┘\n"
     ]
    }
   ],
   "source": [
    "\n",
    "df = pl.DataFrame(\n",
    "    {\n",
    "        \"name\": [\"Alice Archer\", \"Ben Brown\", \"Chloe Cooper\", \"Daniel Donovan\"],\n",
    "        \"birthdate\": [\n",
    "            date(1997, 1, 10),\n",
    "            date(1985, 2, 15),\n",
    "            date(1983, 3, 22),\n",
    "            date(1981, 4, 30),\n",
    "        ],\n",
    "        \"weight\": [57.9, 72.5, 53.6, 83.1],  # (kg)\n",
    "        \"height\": [1.56, 1.77, 1.65, 1.75],  # (m)\n",
    "    }\n",
    ")\n",
    "\n",
    "print(df)"
   ]
  },
  {
   "cell_type": "markdown",
   "metadata": {},
   "source": [
    "### inspecting a dataframe\n",
    "\n",
    "#### head"
   ]
  },
  {
   "cell_type": "code",
   "execution_count": 5,
   "metadata": {},
   "outputs": [
    {
     "data": {
      "text/html": [
       "<div><style>\n",
       ".dataframe > thead > tr,\n",
       ".dataframe > tbody > tr {\n",
       "  text-align: right;\n",
       "  white-space: pre-wrap;\n",
       "}\n",
       "</style>\n",
       "<small>shape: (3, 4)</small><table border=\"1\" class=\"dataframe\"><thead><tr><th>name</th><th>birthdate</th><th>weight</th><th>height</th></tr><tr><td>str</td><td>date</td><td>f64</td><td>f64</td></tr></thead><tbody><tr><td>&quot;Alice Archer&quot;</td><td>1997-01-10</td><td>57.9</td><td>1.56</td></tr><tr><td>&quot;Ben Brown&quot;</td><td>1985-02-15</td><td>72.5</td><td>1.77</td></tr><tr><td>&quot;Chloe Cooper&quot;</td><td>1983-03-22</td><td>53.6</td><td>1.65</td></tr></tbody></table></div>"
      ],
      "text/plain": [
       "shape: (3, 4)\n",
       "┌──────────────┬────────────┬────────┬────────┐\n",
       "│ name         ┆ birthdate  ┆ weight ┆ height │\n",
       "│ ---          ┆ ---        ┆ ---    ┆ ---    │\n",
       "│ str          ┆ date       ┆ f64    ┆ f64    │\n",
       "╞══════════════╪════════════╪════════╪════════╡\n",
       "│ Alice Archer ┆ 1997-01-10 ┆ 57.9   ┆ 1.56   │\n",
       "│ Ben Brown    ┆ 1985-02-15 ┆ 72.5   ┆ 1.77   │\n",
       "│ Chloe Cooper ┆ 1983-03-22 ┆ 53.6   ┆ 1.65   │\n",
       "└──────────────┴────────────┴────────┴────────┘"
      ]
     },
     "execution_count": 5,
     "metadata": {},
     "output_type": "execute_result"
    }
   ],
   "source": [
    "df.head(3)"
   ]
  },
  {
   "cell_type": "markdown",
   "metadata": {},
   "source": [
    "### glimpse\n",
    "\n",
    "a different way to do this"
   ]
  },
  {
   "cell_type": "code",
   "execution_count": 6,
   "metadata": {},
   "outputs": [
    {
     "name": "stdout",
     "output_type": "stream",
     "text": [
      "Rows: 4\n",
      "Columns: 4\n",
      "$ name       <str> 'Alice Archer', 'Ben Brown', 'Chloe Cooper', 'Daniel Donovan'\n",
      "$ birthdate <date> 1997-01-10, 1985-02-15, 1983-03-22, 1981-04-30\n",
      "$ weight     <f64> 57.9, 72.5, 53.6, 83.1\n",
      "$ height     <f64> 1.56, 1.77, 1.65, 1.75\n",
      "\n"
     ]
    }
   ],
   "source": [
    "df.glimpse()"
   ]
  },
  {
   "cell_type": "markdown",
   "metadata": {},
   "source": [
    "### tail"
   ]
  },
  {
   "cell_type": "code",
   "execution_count": 7,
   "metadata": {},
   "outputs": [
    {
     "data": {
      "text/html": [
       "<div><style>\n",
       ".dataframe > thead > tr,\n",
       ".dataframe > tbody > tr {\n",
       "  text-align: right;\n",
       "  white-space: pre-wrap;\n",
       "}\n",
       "</style>\n",
       "<small>shape: (2, 4)</small><table border=\"1\" class=\"dataframe\"><thead><tr><th>name</th><th>birthdate</th><th>weight</th><th>height</th></tr><tr><td>str</td><td>date</td><td>f64</td><td>f64</td></tr></thead><tbody><tr><td>&quot;Chloe Cooper&quot;</td><td>1983-03-22</td><td>53.6</td><td>1.65</td></tr><tr><td>&quot;Daniel Donovan&quot;</td><td>1981-04-30</td><td>83.1</td><td>1.75</td></tr></tbody></table></div>"
      ],
      "text/plain": [
       "shape: (2, 4)\n",
       "┌────────────────┬────────────┬────────┬────────┐\n",
       "│ name           ┆ birthdate  ┆ weight ┆ height │\n",
       "│ ---            ┆ ---        ┆ ---    ┆ ---    │\n",
       "│ str            ┆ date       ┆ f64    ┆ f64    │\n",
       "╞════════════════╪════════════╪════════╪════════╡\n",
       "│ Chloe Cooper   ┆ 1983-03-22 ┆ 53.6   ┆ 1.65   │\n",
       "│ Daniel Donovan ┆ 1981-04-30 ┆ 83.1   ┆ 1.75   │\n",
       "└────────────────┴────────────┴────────┴────────┘"
      ]
     },
     "execution_count": 7,
     "metadata": {},
     "output_type": "execute_result"
    }
   ],
   "source": [
    "df.tail(2)"
   ]
  },
  {
   "cell_type": "markdown",
   "metadata": {},
   "source": [
    "### sample"
   ]
  },
  {
   "cell_type": "markdown",
   "metadata": {},
   "source": [
    "get a sample or random rows"
   ]
  },
  {
   "cell_type": "code",
   "execution_count": 8,
   "metadata": {},
   "outputs": [
    {
     "data": {
      "text/html": [
       "<div><style>\n",
       ".dataframe > thead > tr,\n",
       ".dataframe > tbody > tr {\n",
       "  text-align: right;\n",
       "  white-space: pre-wrap;\n",
       "}\n",
       "</style>\n",
       "<small>shape: (2, 4)</small><table border=\"1\" class=\"dataframe\"><thead><tr><th>name</th><th>birthdate</th><th>weight</th><th>height</th></tr><tr><td>str</td><td>date</td><td>f64</td><td>f64</td></tr></thead><tbody><tr><td>&quot;Daniel Donovan&quot;</td><td>1981-04-30</td><td>83.1</td><td>1.75</td></tr><tr><td>&quot;Chloe Cooper&quot;</td><td>1983-03-22</td><td>53.6</td><td>1.65</td></tr></tbody></table></div>"
      ],
      "text/plain": [
       "shape: (2, 4)\n",
       "┌────────────────┬────────────┬────────┬────────┐\n",
       "│ name           ┆ birthdate  ┆ weight ┆ height │\n",
       "│ ---            ┆ ---        ┆ ---    ┆ ---    │\n",
       "│ str            ┆ date       ┆ f64    ┆ f64    │\n",
       "╞════════════════╪════════════╪════════╪════════╡\n",
       "│ Daniel Donovan ┆ 1981-04-30 ┆ 83.1   ┆ 1.75   │\n",
       "│ Chloe Cooper   ┆ 1983-03-22 ┆ 53.6   ┆ 1.65   │\n",
       "└────────────────┴────────────┴────────┴────────┘"
      ]
     },
     "execution_count": 8,
     "metadata": {},
     "output_type": "execute_result"
    }
   ],
   "source": [
    "random.seed(42)\n",
    "df.sample(2)"
   ]
  },
  {
   "cell_type": "markdown",
   "metadata": {},
   "source": [
    "### describe"
   ]
  },
  {
   "cell_type": "code",
   "execution_count": 16,
   "metadata": {},
   "outputs": [
    {
     "data": {
      "text/html": [
       "<div><style>\n",
       ".dataframe > thead > tr,\n",
       ".dataframe > tbody > tr {\n",
       "  text-align: right;\n",
       "  white-space: pre-wrap;\n",
       "}\n",
       "</style>\n",
       "<small>shape: (9, 5)</small><table border=\"1\" class=\"dataframe\"><thead><tr><th>statistic</th><th>name</th><th>birthdate</th><th>weight</th><th>height</th></tr><tr><td>str</td><td>str</td><td>str</td><td>f64</td><td>f64</td></tr></thead><tbody><tr><td>&quot;count&quot;</td><td>&quot;4&quot;</td><td>&quot;4&quot;</td><td>4.0</td><td>4.0</td></tr><tr><td>&quot;null_count&quot;</td><td>&quot;0&quot;</td><td>&quot;0&quot;</td><td>0.0</td><td>0.0</td></tr><tr><td>&quot;mean&quot;</td><td>null</td><td>&quot;1986-09-04 00:00:00&quot;</td><td>66.775</td><td>1.6825</td></tr><tr><td>&quot;std&quot;</td><td>null</td><td>null</td><td>13.560082</td><td>0.097082</td></tr><tr><td>&quot;min&quot;</td><td>&quot;Alice Archer&quot;</td><td>&quot;1981-04-30&quot;</td><td>53.6</td><td>1.56</td></tr><tr><td>&quot;25%&quot;</td><td>null</td><td>&quot;1983-03-22&quot;</td><td>57.9</td><td>1.65</td></tr><tr><td>&quot;50%&quot;</td><td>null</td><td>&quot;1985-02-15&quot;</td><td>72.5</td><td>1.75</td></tr><tr><td>&quot;75%&quot;</td><td>null</td><td>&quot;1985-02-15&quot;</td><td>72.5</td><td>1.75</td></tr><tr><td>&quot;max&quot;</td><td>&quot;Daniel Donovan&quot;</td><td>&quot;1997-01-10&quot;</td><td>83.1</td><td>1.77</td></tr></tbody></table></div>"
      ],
      "text/plain": [
       "shape: (9, 5)\n",
       "┌────────────┬────────────────┬─────────────────────┬───────────┬──────────┐\n",
       "│ statistic  ┆ name           ┆ birthdate           ┆ weight    ┆ height   │\n",
       "│ ---        ┆ ---            ┆ ---                 ┆ ---       ┆ ---      │\n",
       "│ str        ┆ str            ┆ str                 ┆ f64       ┆ f64      │\n",
       "╞════════════╪════════════════╪═════════════════════╪═══════════╪══════════╡\n",
       "│ count      ┆ 4              ┆ 4                   ┆ 4.0       ┆ 4.0      │\n",
       "│ null_count ┆ 0              ┆ 0                   ┆ 0.0       ┆ 0.0      │\n",
       "│ mean       ┆ null           ┆ 1986-09-04 00:00:00 ┆ 66.775    ┆ 1.6825   │\n",
       "│ std        ┆ null           ┆ null                ┆ 13.560082 ┆ 0.097082 │\n",
       "│ min        ┆ Alice Archer   ┆ 1981-04-30          ┆ 53.6      ┆ 1.56     │\n",
       "│ 25%        ┆ null           ┆ 1983-03-22          ┆ 57.9      ┆ 1.65     │\n",
       "│ 50%        ┆ null           ┆ 1985-02-15          ┆ 72.5      ┆ 1.75     │\n",
       "│ 75%        ┆ null           ┆ 1985-02-15          ┆ 72.5      ┆ 1.75     │\n",
       "│ max        ┆ Daniel Donovan ┆ 1997-01-10          ┆ 83.1      ┆ 1.77     │\n",
       "└────────────┴────────────────┴─────────────────────┴───────────┴──────────┘"
      ]
     },
     "execution_count": 16,
     "metadata": {},
     "output_type": "execute_result"
    }
   ],
   "source": [
    "df.describe()"
   ]
  },
  {
   "cell_type": "markdown",
   "metadata": {},
   "source": [
    "### schema\n",
    "\n",
    "Get the types of every column"
   ]
  },
  {
   "cell_type": "code",
   "execution_count": 17,
   "metadata": {},
   "outputs": [
    {
     "data": {
      "text/plain": [
       "Schema([('name', String),\n",
       "        ('birthdate', Date),\n",
       "        ('weight', Float64),\n",
       "        ('height', Float64)])"
      ]
     },
     "execution_count": 17,
     "metadata": {},
     "output_type": "execute_result"
    }
   ],
   "source": [
    "df.schema"
   ]
  },
  {
   "cell_type": "markdown",
   "metadata": {},
   "source": [
    "you can override it by using `schema`. If you only want to change some attribute types use: `schema_overrides`"
   ]
  },
  {
   "cell_type": "code",
   "execution_count": 18,
   "metadata": {},
   "outputs": [
    {
     "name": "stdout",
     "output_type": "stream",
     "text": [
      "shape: (4, 2)\n",
      "┌────────┬─────┐\n",
      "│ name   ┆ age │\n",
      "│ ---    ┆ --- │\n",
      "│ str    ┆ u8  │\n",
      "╞════════╪═════╡\n",
      "│ Alice  ┆ 27  │\n",
      "│ Ben    ┆ 39  │\n",
      "│ Chloe  ┆ 41  │\n",
      "│ Daniel ┆ 43  │\n",
      "└────────┴─────┘\n"
     ]
    }
   ],
   "source": [
    "df = pl.DataFrame(\n",
    "    {\n",
    "        \"name\": [\"Alice\", \"Ben\", \"Chloe\", \"Daniel\"],\n",
    "        \"age\": [27, 39, 41, 43],\n",
    "    },\n",
    "    schema={\"name\": None, \"age\": pl.UInt8}\n",
    ")\n",
    "\n",
    "print(df)"
   ]
  },
  {
   "cell_type": "markdown",
   "metadata": {},
   "source": [
    "### more data types"
   ]
  },
  {
   "cell_type": "code",
   "execution_count": 47,
   "metadata": {},
   "outputs": [
    {
     "data": {
      "text/html": [
       "<div><style>\n",
       ".dataframe > thead > tr,\n",
       ".dataframe > tbody > tr {\n",
       "  text-align: right;\n",
       "  white-space: pre-wrap;\n",
       "}\n",
       "</style>\n",
       "<small>shape: (2, 7)</small><table border=\"1\" class=\"dataframe\"><thead><tr><th>data</th><th>cups</th><th>food</th><th>chickens</th><th>categories</th><th>bit_flags</th><th>tic_tac_toe</th></tr><tr><td>struct[2]</td><td>enum</td><td>object</td><td>i64</td><td>cat</td><td>array[bool, 5]</td><td>array[str, (3, 3)]</td></tr></thead><tbody><tr><td>{13,3}</td><td>&quot;big&quot;</td><td>self.juicy=True; self.color=&#x27;green&#x27;</td><td>1</td><td>&quot;small&quot;</td><td>[true, true, … false]</td><td>[[&quot; &quot;, &quot;x&quot;, &quot;o&quot;], [&quot; &quot;, &quot;x&quot;, &quot; &quot;], [&quot;o&quot;, &quot;x&quot;, &quot; &quot;]]</td></tr><tr><td>{8,45}</td><td>&quot;small&quot;</td><td>self.juicy=False; self.color=&#x27;red&#x27;</td><td>4</td><td>&quot;big&quot;</td><td>[false, true, … true]</td><td>[[&quot;o&quot;, &quot;x&quot;, &quot;x&quot;], [&quot; &quot;, &quot;o&quot;, &quot;x&quot;], [&quot; &quot;, &quot; &quot;, &quot;o&quot;]]</td></tr></tbody></table></div>"
      ],
      "text/plain": [
       "shape: (2, 7)\n",
       "┌───────────┬───────┬──────────────────┬──────────┬────────────┬─────────────────┬─────────────────┐\n",
       "│ data      ┆ cups  ┆ food             ┆ chickens ┆ categories ┆ bit_flags       ┆ tic_tac_toe     │\n",
       "│ ---       ┆ ---   ┆ ---              ┆ ---      ┆ ---        ┆ ---             ┆ ---             │\n",
       "│ struct[2] ┆ enum  ┆ object           ┆ i64      ┆ cat        ┆ array[bool, 5]  ┆ array[str, (3,  │\n",
       "│           ┆       ┆                  ┆          ┆            ┆                 ┆ 3)]             │\n",
       "╞═══════════╪═══════╪══════════════════╪══════════╪════════════╪═════════════════╪═════════════════╡\n",
       "│ {13,3}    ┆ big   ┆ self.juicy=True; ┆ 1        ┆ small      ┆ [true, true, …  ┆ [[\" \", \"x\",     │\n",
       "│           ┆       ┆ self.color='g…   ┆          ┆            ┆ false]          ┆ \"o\"], [\" \",     │\n",
       "│           ┆       ┆                  ┆          ┆            ┆                 ┆ \"x\", \"…         │\n",
       "│ {8,45}    ┆ small ┆ self.juicy=False ┆ 4        ┆ big        ┆ [false, true, … ┆ [[\"o\", \"x\",     │\n",
       "│           ┆       ┆ ; self.color='…  ┆          ┆            ┆ true]           ┆ \"x\"], [\" \",     │\n",
       "│           ┆       ┆                  ┆          ┆            ┆                 ┆ \"o\", \"…         │\n",
       "└───────────┴───────┴──────────────────┴──────────┴────────────┴─────────────────┴─────────────────┘"
      ]
     },
     "execution_count": 47,
     "metadata": {},
     "output_type": "execute_result"
    }
   ],
   "source": [
    "# Array, List, Object, Categorical, Enum, Struct\n",
    "class Apple:\n",
    "    def __init__(self, juicy: bool, color: str):\n",
    "        self.juicy = juicy\n",
    "        self.color = color\n",
    "    def __str__(self):\n",
    "        return f\"{self.juicy=}; {self.color=}\"\n",
    "\n",
    "apple1 = Apple(True, \"green\")\n",
    "apple2 = Apple(False, \"red\")\n",
    "sizes = pl.Enum([\"big\", \"small\"])\n",
    "\n",
    "\n",
    "df = pl.DataFrame(\n",
    "    {\n",
    "        \n",
    "        \"data\": [{\"jumps\": 13, \"wins\":3}, {\"jumps\": 8, \"wins\":45}], # this is a Struct (basically a dictionary)\n",
    "        \"cups\" : pl.Series([\"big\", \"small\"], dtype=sizes), # Enum type (category with predefined values)\n",
    "        \"food\": [apple1, apple2],\n",
    "        \"chickens\": [1,4],\n",
    "        \"categories\": [\"small\", \"big\"], # Category type, will figure out the categories on the fly.\n",
    "        \"bit_flags\": [\n",
    "            [True, True, True, True, False],\n",
    "            [False, True, True, True, True],\n",
    "        ],\n",
    "        \"tic_tac_toe\": [\n",
    "            [\n",
    "                [\" \", \"x\", \"o\"],\n",
    "                [\" \", \"x\", \" \"],\n",
    "                [\"o\", \"x\", \" \"],\n",
    "            ],\n",
    "            [\n",
    "                [\"o\", \"x\", \"x\"],\n",
    "                [\" \", \"o\", \"x\"],\n",
    "                [\" \", \" \", \"o\"],\n",
    "            ],\n",
    "        ],\n",
    "    },\n",
    "    schema_overrides={\n",
    "        \"bit_flags\": pl.Array(pl.Boolean, 5),\n",
    "        \"tic_tac_toe\": pl.Array(pl.String, (3, 3)),\n",
    "        \"categories\": pl.Categorical()\n",
    "    },\n",
    ")\n",
    "df"
   ]
  }
 ],
 "metadata": {
  "kernelspec": {
   "display_name": ".venv",
   "language": "python",
   "name": "python3"
  },
  "language_info": {
   "codemirror_mode": {
    "name": "ipython",
    "version": 3
   },
   "file_extension": ".py",
   "mimetype": "text/x-python",
   "name": "python",
   "nbconvert_exporter": "python",
   "pygments_lexer": "ipython3",
   "version": "3.12.3"
  }
 },
 "nbformat": 4,
 "nbformat_minor": 2
}
