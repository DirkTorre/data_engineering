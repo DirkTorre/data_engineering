{
 "cells": [
  {
   "cell_type": "markdown",
   "metadata": {},
   "source": [
    "# [Expressions and contexts](https://docs.pola.rs/user-guide/concepts/expressions-and-contexts/)"
   ]
  },
  {
   "cell_type": "code",
   "execution_count": 3,
   "metadata": {},
   "outputs": [],
   "source": [
    "import polars as pl\n",
    "from datetime import date"
   ]
  },
  {
   "cell_type": "markdown",
   "metadata": {},
   "source": [
    "## Expressions\n",
    "\n",
    "An lazy representation of a data transformation."
   ]
  },
  {
   "cell_type": "code",
   "execution_count": 2,
   "metadata": {},
   "outputs": [
    {
     "data": {
      "text/html": [
       "[(col(\"weight\")) / (col(\"height\").pow([dyn int: 2]))]"
      ],
      "text/plain": [
       "<Expr ['[(col(\"weight\")) / (col(\"heigh…'] at 0x743982CC2930>"
      ]
     },
     "execution_count": 2,
     "metadata": {},
     "output_type": "execute_result"
    }
   ],
   "source": [
    "bmi_expr = pl.col(\"weight\") / (pl.col(\"height\") ** 2)\n",
    "bmi_expr"
   ]
  },
  {
   "cell_type": "markdown",
   "metadata": {},
   "source": [
    "## Context\n",
    "\n",
    "The four most common contexts that polars has (there are more)\n",
    "\n",
    "### `select`"
   ]
  },
  {
   "cell_type": "code",
   "execution_count": 4,
   "metadata": {},
   "outputs": [
    {
     "name": "stdout",
     "output_type": "stream",
     "text": [
      "shape: (4, 4)\n",
      "┌────────────────┬────────────┬────────┬────────┐\n",
      "│ name           ┆ birthdate  ┆ weight ┆ height │\n",
      "│ ---            ┆ ---        ┆ ---    ┆ ---    │\n",
      "│ str            ┆ date       ┆ f64    ┆ f64    │\n",
      "╞════════════════╪════════════╪════════╪════════╡\n",
      "│ Alice Archer   ┆ 1997-01-10 ┆ 57.9   ┆ 1.56   │\n",
      "│ Ben Brown      ┆ 1985-02-15 ┆ 72.5   ┆ 1.77   │\n",
      "│ Chloe Cooper   ┆ 1983-03-22 ┆ 53.6   ┆ 1.65   │\n",
      "│ Daniel Donovan ┆ 1981-04-30 ┆ 83.1   ┆ 1.75   │\n",
      "└────────────────┴────────────┴────────┴────────┘\n"
     ]
    }
   ],
   "source": [
    "df = pl.DataFrame(\n",
    "    {\n",
    "        \"name\": [\"Alice Archer\", \"Ben Brown\", \"Chloe Cooper\", \"Daniel Donovan\"],\n",
    "        \"birthdate\": [\n",
    "            date(1997, 1, 10),\n",
    "            date(1985, 2, 15),\n",
    "            date(1983, 3, 22),\n",
    "            date(1981, 4, 30),\n",
    "        ],\n",
    "        \"weight\": [57.9, 72.5, 53.6, 83.1],  # (kg)\n",
    "        \"height\": [1.56, 1.77, 1.65, 1.75],  # (m)\n",
    "    }\n",
    ")\n",
    "\n",
    "print(df)"
   ]
  },
  {
   "cell_type": "code",
   "execution_count": 8,
   "metadata": {},
   "outputs": [
    {
     "data": {
      "text/html": [
       "<div><style>\n",
       ".dataframe > thead > tr,\n",
       ".dataframe > tbody > tr {\n",
       "  text-align: right;\n",
       "  white-space: pre-wrap;\n",
       "}\n",
       "</style>\n",
       "<small>shape: (4, 3)</small><table border=\"1\" class=\"dataframe\"><thead><tr><th>bmi</th><th>avg_bmi</th><th>ideal_max_bmi</th></tr><tr><td>f64</td><td>f64</td><td>i32</td></tr></thead><tbody><tr><td>23.79</td><td>23.44</td><td>25</td></tr><tr><td>23.14</td><td>23.44</td><td>25</td></tr><tr><td>19.69</td><td>23.44</td><td>25</td></tr><tr><td>27.13</td><td>23.44</td><td>25</td></tr></tbody></table></div>"
      ],
      "text/plain": [
       "shape: (4, 3)\n",
       "┌───────┬─────────┬───────────────┐\n",
       "│ bmi   ┆ avg_bmi ┆ ideal_max_bmi │\n",
       "│ ---   ┆ ---     ┆ ---           │\n",
       "│ f64   ┆ f64     ┆ i32           │\n",
       "╞═══════╪═════════╪═══════════════╡\n",
       "│ 23.79 ┆ 23.44   ┆ 25            │\n",
       "│ 23.14 ┆ 23.44   ┆ 25            │\n",
       "│ 19.69 ┆ 23.44   ┆ 25            │\n",
       "│ 27.13 ┆ 23.44   ┆ 25            │\n",
       "└───────┴─────────┴───────────────┘"
      ]
     },
     "execution_count": 8,
     "metadata": {},
     "output_type": "execute_result"
    }
   ],
   "source": [
    "df.select(\n",
    "    bmi = bmi_expr.round(2),\n",
    "    avg_bmi = bmi_expr.mean().round(2),\n",
    "    ideal_max_bmi = 25,\n",
    ")"
   ]
  },
  {
   "cell_type": "code",
   "execution_count": 9,
   "metadata": {},
   "outputs": [
    {
     "data": {
      "text/html": [
       "<div><style>\n",
       ".dataframe > thead > tr,\n",
       ".dataframe > tbody > tr {\n",
       "  text-align: right;\n",
       "  white-space: pre-wrap;\n",
       "}\n",
       "</style>\n",
       "<small>shape: (4, 1)</small><table border=\"1\" class=\"dataframe\"><thead><tr><th>deviation</th></tr><tr><td>f64</td></tr></thead><tbody><tr><td>0.115645</td></tr><tr><td>-0.097471</td></tr><tr><td>-1.22912</td></tr><tr><td>1.210946</td></tr></tbody></table></div>"
      ],
      "text/plain": [
       "shape: (4, 1)\n",
       "┌───────────┐\n",
       "│ deviation │\n",
       "│ ---       │\n",
       "│ f64       │\n",
       "╞═══════════╡\n",
       "│ 0.115645  │\n",
       "│ -0.097471 │\n",
       "│ -1.22912  │\n",
       "│ 1.210946  │\n",
       "└───────────┘"
      ]
     },
     "execution_count": 9,
     "metadata": {},
     "output_type": "execute_result"
    }
   ],
   "source": [
    "df.select(deviation = (bmi_expr - bmi_expr.mean()) / bmi_expr.std())"
   ]
  },
  {
   "cell_type": "markdown",
   "metadata": {},
   "source": [
    "### `with_columns`\n",
    "\n",
    "adds new columns to the dataframe"
   ]
  },
  {
   "cell_type": "code",
   "execution_count": 10,
   "metadata": {},
   "outputs": [
    {
     "data": {
      "text/html": [
       "<div><style>\n",
       ".dataframe > thead > tr,\n",
       ".dataframe > tbody > tr {\n",
       "  text-align: right;\n",
       "  white-space: pre-wrap;\n",
       "}\n",
       "</style>\n",
       "<small>shape: (4, 7)</small><table border=\"1\" class=\"dataframe\"><thead><tr><th>name</th><th>birthdate</th><th>weight</th><th>height</th><th>bmi</th><th>avg_bmi</th><th>ideal_max_bmi</th></tr><tr><td>str</td><td>date</td><td>f64</td><td>f64</td><td>f64</td><td>f64</td><td>i32</td></tr></thead><tbody><tr><td>&quot;Alice Archer&quot;</td><td>1997-01-10</td><td>57.9</td><td>1.56</td><td>23.791913</td><td>23.438973</td><td>25</td></tr><tr><td>&quot;Ben Brown&quot;</td><td>1985-02-15</td><td>72.5</td><td>1.77</td><td>23.141498</td><td>23.438973</td><td>25</td></tr><tr><td>&quot;Chloe Cooper&quot;</td><td>1983-03-22</td><td>53.6</td><td>1.65</td><td>19.687787</td><td>23.438973</td><td>25</td></tr><tr><td>&quot;Daniel Donovan&quot;</td><td>1981-04-30</td><td>83.1</td><td>1.75</td><td>27.134694</td><td>23.438973</td><td>25</td></tr></tbody></table></div>"
      ],
      "text/plain": [
       "shape: (4, 7)\n",
       "┌────────────────┬────────────┬────────┬────────┬───────────┬───────────┬───────────────┐\n",
       "│ name           ┆ birthdate  ┆ weight ┆ height ┆ bmi       ┆ avg_bmi   ┆ ideal_max_bmi │\n",
       "│ ---            ┆ ---        ┆ ---    ┆ ---    ┆ ---       ┆ ---       ┆ ---           │\n",
       "│ str            ┆ date       ┆ f64    ┆ f64    ┆ f64       ┆ f64       ┆ i32           │\n",
       "╞════════════════╪════════════╪════════╪════════╪═══════════╪═══════════╪═══════════════╡\n",
       "│ Alice Archer   ┆ 1997-01-10 ┆ 57.9   ┆ 1.56   ┆ 23.791913 ┆ 23.438973 ┆ 25            │\n",
       "│ Ben Brown      ┆ 1985-02-15 ┆ 72.5   ┆ 1.77   ┆ 23.141498 ┆ 23.438973 ┆ 25            │\n",
       "│ Chloe Cooper   ┆ 1983-03-22 ┆ 53.6   ┆ 1.65   ┆ 19.687787 ┆ 23.438973 ┆ 25            │\n",
       "│ Daniel Donovan ┆ 1981-04-30 ┆ 83.1   ┆ 1.75   ┆ 27.134694 ┆ 23.438973 ┆ 25            │\n",
       "└────────────────┴────────────┴────────┴────────┴───────────┴───────────┴───────────────┘"
      ]
     },
     "execution_count": 10,
     "metadata": {},
     "output_type": "execute_result"
    }
   ],
   "source": [
    "df.with_columns(\n",
    "    bmi=bmi_expr,\n",
    "    avg_bmi=bmi_expr.mean(),\n",
    "    ideal_max_bmi=25,\n",
    ")"
   ]
  },
  {
   "cell_type": "markdown",
   "metadata": {},
   "source": [
    "### `filter`"
   ]
  },
  {
   "cell_type": "code",
   "execution_count": 11,
   "metadata": {},
   "outputs": [
    {
     "data": {
      "text/html": [
       "<div><style>\n",
       ".dataframe > thead > tr,\n",
       ".dataframe > tbody > tr {\n",
       "  text-align: right;\n",
       "  white-space: pre-wrap;\n",
       "}\n",
       "</style>\n",
       "<small>shape: (1, 4)</small><table border=\"1\" class=\"dataframe\"><thead><tr><th>name</th><th>birthdate</th><th>weight</th><th>height</th></tr><tr><td>str</td><td>date</td><td>f64</td><td>f64</td></tr></thead><tbody><tr><td>&quot;Ben Brown&quot;</td><td>1985-02-15</td><td>72.5</td><td>1.77</td></tr></tbody></table></div>"
      ],
      "text/plain": [
       "shape: (1, 4)\n",
       "┌───────────┬────────────┬────────┬────────┐\n",
       "│ name      ┆ birthdate  ┆ weight ┆ height │\n",
       "│ ---       ┆ ---        ┆ ---    ┆ ---    │\n",
       "│ str       ┆ date       ┆ f64    ┆ f64    │\n",
       "╞═══════════╪════════════╪════════╪════════╡\n",
       "│ Ben Brown ┆ 1985-02-15 ┆ 72.5   ┆ 1.77   │\n",
       "└───────────┴────────────┴────────┴────────┘"
      ]
     },
     "execution_count": 11,
     "metadata": {},
     "output_type": "execute_result"
    }
   ],
   "source": [
    "df.filter(\n",
    "    pl.col(\"birthdate\").is_between(date(1982, 12, 31), date(1996, 1, 1)),\n",
    "    pl.col(\"height\") > 1.7\n",
    ")"
   ]
  },
  {
   "cell_type": "markdown",
   "metadata": {},
   "source": [
    "### `group_by`"
   ]
  },
  {
   "cell_type": "code",
   "execution_count": 12,
   "metadata": {},
   "outputs": [
    {
     "data": {
      "text/html": [
       "<div><style>\n",
       ".dataframe > thead > tr,\n",
       ".dataframe > tbody > tr {\n",
       "  text-align: right;\n",
       "  white-space: pre-wrap;\n",
       "}\n",
       "</style>\n",
       "<small>shape: (2, 2)</small><table border=\"1\" class=\"dataframe\"><thead><tr><th>decade</th><th>name</th></tr><tr><td>i32</td><td>list[str]</td></tr></thead><tbody><tr><td>1990</td><td>[&quot;Alice Archer&quot;]</td></tr><tr><td>1980</td><td>[&quot;Ben Brown&quot;, &quot;Chloe Cooper&quot;, &quot;Daniel Donovan&quot;]</td></tr></tbody></table></div>"
      ],
      "text/plain": [
       "shape: (2, 2)\n",
       "┌────────┬─────────────────────────────────┐\n",
       "│ decade ┆ name                            │\n",
       "│ ---    ┆ ---                             │\n",
       "│ i32    ┆ list[str]                       │\n",
       "╞════════╪═════════════════════════════════╡\n",
       "│ 1990   ┆ [\"Alice Archer\"]                │\n",
       "│ 1980   ┆ [\"Ben Brown\", \"Chloe Cooper\", … │\n",
       "└────────┴─────────────────────────────────┘"
      ]
     },
     "execution_count": 12,
     "metadata": {},
     "output_type": "execute_result"
    }
   ],
   "source": [
    "df.group_by(\n",
    "    (pl.col(\"birthdate\").dt.year() // 10 * 10).alias(\"decade\")\n",
    ").agg(pl.col(\"name\"))"
   ]
  },
  {
   "cell_type": "markdown",
   "metadata": {},
   "source": [
    "It's to make sub-groups, by just adding lines in group_by."
   ]
  },
  {
   "cell_type": "code",
   "execution_count": 16,
   "metadata": {},
   "outputs": [
    {
     "data": {
      "text/html": [
       "<div><style>\n",
       ".dataframe > thead > tr,\n",
       ".dataframe > tbody > tr {\n",
       "  text-align: right;\n",
       "  white-space: pre-wrap;\n",
       "}\n",
       "</style>\n",
       "<small>shape: (3, 3)</small><table border=\"1\" class=\"dataframe\"><thead><tr><th>decade</th><th>short?</th><th>name</th></tr><tr><td>i32</td><td>bool</td><td>list[str]</td></tr></thead><tbody><tr><td>1990</td><td>true</td><td>[&quot;Alice Archer&quot;]</td></tr><tr><td>1980</td><td>true</td><td>[&quot;Chloe Cooper&quot;]</td></tr><tr><td>1980</td><td>false</td><td>[&quot;Ben Brown&quot;, &quot;Daniel Donovan&quot;]</td></tr></tbody></table></div>"
      ],
      "text/plain": [
       "shape: (3, 3)\n",
       "┌────────┬────────┬─────────────────────────────────┐\n",
       "│ decade ┆ short? ┆ name                            │\n",
       "│ ---    ┆ ---    ┆ ---                             │\n",
       "│ i32    ┆ bool   ┆ list[str]                       │\n",
       "╞════════╪════════╪═════════════════════════════════╡\n",
       "│ 1990   ┆ true   ┆ [\"Alice Archer\"]                │\n",
       "│ 1980   ┆ true   ┆ [\"Chloe Cooper\"]                │\n",
       "│ 1980   ┆ false  ┆ [\"Ben Brown\", \"Daniel Donovan\"… │\n",
       "└────────┴────────┴─────────────────────────────────┘"
      ]
     },
     "execution_count": 16,
     "metadata": {},
     "output_type": "execute_result"
    }
   ],
   "source": [
    "df.group_by(\n",
    "    (pl.col(\"birthdate\").dt.year() // 10*10).alias(\"decade\"),\n",
    "    (pl.col(\"height\") < 1.7).alias(\"short?\")\n",
    ").agg(pl.col(\"name\"))"
   ]
  },
  {
   "cell_type": "code",
   "execution_count": 19,
   "metadata": {},
   "outputs": [
    {
     "data": {
      "text/html": [
       "<div><style>\n",
       ".dataframe > thead > tr,\n",
       ".dataframe > tbody > tr {\n",
       "  text-align: right;\n",
       "  white-space: pre-wrap;\n",
       "}\n",
       "</style>\n",
       "<small>shape: (3, 6)</small><table border=\"1\" class=\"dataframe\"><thead><tr><th>decade</th><th>short?</th><th>len</th><th>tallest</th><th>avg_weight</th><th>avg_height</th></tr><tr><td>i32</td><td>bool</td><td>u32</td><td>f64</td><td>f64</td><td>f64</td></tr></thead><tbody><tr><td>1980</td><td>true</td><td>1</td><td>1.65</td><td>53.6</td><td>1.65</td></tr><tr><td>1990</td><td>true</td><td>1</td><td>1.56</td><td>57.9</td><td>1.56</td></tr><tr><td>1980</td><td>false</td><td>2</td><td>1.77</td><td>77.8</td><td>1.76</td></tr></tbody></table></div>"
      ],
      "text/plain": [
       "shape: (3, 6)\n",
       "┌────────┬────────┬─────┬─────────┬────────────┬────────────┐\n",
       "│ decade ┆ short? ┆ len ┆ tallest ┆ avg_weight ┆ avg_height │\n",
       "│ ---    ┆ ---    ┆ --- ┆ ---     ┆ ---        ┆ ---        │\n",
       "│ i32    ┆ bool   ┆ u32 ┆ f64     ┆ f64        ┆ f64        │\n",
       "╞════════╪════════╪═════╪═════════╪════════════╪════════════╡\n",
       "│ 1980   ┆ true   ┆ 1   ┆ 1.65    ┆ 53.6       ┆ 1.65       │\n",
       "│ 1990   ┆ true   ┆ 1   ┆ 1.56    ┆ 57.9       ┆ 1.56       │\n",
       "│ 1980   ┆ false  ┆ 2   ┆ 1.77    ┆ 77.8       ┆ 1.76       │\n",
       "└────────┴────────┴─────┴─────────┴────────────┴────────────┘"
      ]
     },
     "execution_count": 19,
     "metadata": {},
     "output_type": "execute_result"
    }
   ],
   "source": [
    "df.group_by(\n",
    "    (pl.col(\"birthdate\").dt.year() // 10 * 10).alias(\"decade\"),\n",
    "    (pl.col(\"height\") < 1.7).alias(\"short?\"),\n",
    ").agg(\n",
    "    pl.len(),\n",
    "    pl.col(\"height\").max().alias(\"tallest\"),\n",
    "    pl.col(\"weight\", \"height\").mean().name.prefix(\"avg_\"),\n",
    ")"
   ]
  },
  {
   "cell_type": "markdown",
   "metadata": {},
   "source": [
    "## Expression expansion\n",
    "\n",
    "An easy way to apply the same transformation to multiple columns."
   ]
  },
  {
   "cell_type": "code",
   "execution_count": 21,
   "metadata": {},
   "outputs": [
    {
     "data": {
      "text/html": [
       "<div><style>\n",
       ".dataframe > thead > tr,\n",
       ".dataframe > tbody > tr {\n",
       "  text-align: right;\n",
       "  white-space: pre-wrap;\n",
       "}\n",
       "</style>\n",
       "<small>shape: (4, 2)</small><table border=\"1\" class=\"dataframe\"><thead><tr><th>weight*1.1</th><th>height*1.1</th></tr><tr><td>f64</td><td>f64</td></tr></thead><tbody><tr><td>63.69</td><td>1.716</td></tr><tr><td>79.75</td><td>1.947</td></tr><tr><td>58.96</td><td>1.815</td></tr><tr><td>91.41</td><td>1.925</td></tr></tbody></table></div>"
      ],
      "text/plain": [
       "shape: (4, 2)\n",
       "┌────────────┬────────────┐\n",
       "│ weight*1.1 ┆ height*1.1 │\n",
       "│ ---        ┆ ---        │\n",
       "│ f64        ┆ f64        │\n",
       "╞════════════╪════════════╡\n",
       "│ 63.69      ┆ 1.716      │\n",
       "│ 79.75      ┆ 1.947      │\n",
       "│ 58.96      ┆ 1.815      │\n",
       "│ 91.41      ┆ 1.925      │\n",
       "└────────────┴────────────┘"
      ]
     },
     "execution_count": 21,
     "metadata": {},
     "output_type": "execute_result"
    }
   ],
   "source": [
    "expr = (pl.col(pl.Float64) * 1.1).name.suffix(\"*1.1\")\n",
    "df.select(expr)"
   ]
  },
  {
   "cell_type": "markdown",
   "metadata": {},
   "source": [
    "Demonstration that expr only works when there are floats"
   ]
  },
  {
   "cell_type": "code",
   "execution_count": 22,
   "metadata": {},
   "outputs": [
    {
     "data": {
      "text/html": [
       "<div><style>\n",
       ".dataframe > thead > tr,\n",
       ".dataframe > tbody > tr {\n",
       "  text-align: right;\n",
       "  white-space: pre-wrap;\n",
       "}\n",
       "</style>\n",
       "<small>shape: (0, 0)</small><table border=\"1\" class=\"dataframe\"><thead><tr></tr><tr></tr></thead><tbody></tbody></table></div>"
      ],
      "text/plain": [
       "shape: (0, 0)\n",
       "┌┐\n",
       "╞╡\n",
       "└┘"
      ]
     },
     "execution_count": 22,
     "metadata": {},
     "output_type": "execute_result"
    }
   ],
   "source": [
    "df2 = pl.DataFrame(\n",
    "    {\n",
    "        \"ints\": [1,2,3,4],\n",
    "        \"letters\": list(\"ABCD\")\n",
    "    }\n",
    ")\n",
    "df2.select(expr)"
   ]
  }
 ],
 "metadata": {
  "kernelspec": {
   "display_name": ".venv",
   "language": "python",
   "name": "python3"
  },
  "language_info": {
   "codemirror_mode": {
    "name": "ipython",
    "version": 3
   },
   "file_extension": ".py",
   "mimetype": "text/x-python",
   "name": "python",
   "nbconvert_exporter": "python",
   "pygments_lexer": "ipython3",
   "version": "3.12.3"
  }
 },
 "nbformat": 4,
 "nbformat_minor": 2
}
