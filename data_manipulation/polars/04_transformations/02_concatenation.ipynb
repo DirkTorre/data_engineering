{
 "cells": [
  {
   "cell_type": "markdown",
   "id": "a65379db",
   "metadata": {},
   "source": [
    "# [Transformations : Concatenation](https://docs.pola.rs/user-guide/transformations/concatenation/)\n",
    "\n",
    "## Vertical concatenation - getting longer"
   ]
  },
  {
   "cell_type": "code",
   "execution_count": 2,
   "id": "fc7915fe",
   "metadata": {},
   "outputs": [
    {
     "data": {
      "text/html": [
       "<div><style>\n",
       ".dataframe > thead > tr,\n",
       ".dataframe > tbody > tr {\n",
       "  text-align: right;\n",
       "  white-space: pre-wrap;\n",
       "}\n",
       "</style>\n",
       "<small>shape: (2, 2)</small><table border=\"1\" class=\"dataframe\"><thead><tr><th>a</th><th>b</th></tr><tr><td>i64</td><td>i64</td></tr></thead><tbody><tr><td>1</td><td>3</td></tr><tr><td>2</td><td>4</td></tr></tbody></table></div>"
      ],
      "text/plain": [
       "shape: (2, 2)\n",
       "┌─────┬─────┐\n",
       "│ a   ┆ b   │\n",
       "│ --- ┆ --- │\n",
       "│ i64 ┆ i64 │\n",
       "╞═════╪═════╡\n",
       "│ 1   ┆ 3   │\n",
       "│ 2   ┆ 4   │\n",
       "└─────┴─────┘"
      ]
     },
     "execution_count": 2,
     "metadata": {},
     "output_type": "execute_result"
    }
   ],
   "source": [
    "import polars as pl\n",
    "\n",
    "df_v1 = pl.DataFrame(\n",
    "    {\n",
    "        \"a\": [1],\n",
    "        \"b\": [3],\n",
    "    }\n",
    ")\n",
    "df_v2 = pl.DataFrame(\n",
    "    {\n",
    "        \"a\": [2],\n",
    "        \"b\": [4],\n",
    "    }\n",
    ")\n",
    "df_vertical_concat = pl.concat(\n",
    "    [\n",
    "        df_v1,\n",
    "        df_v2,\n",
    "    ],\n",
    "    how=\"vertical\"\n",
    "\n",
    ")\n",
    "df_vertical_concat"
   ]
  },
  {
   "cell_type": "markdown",
   "id": "8ecd6d90",
   "metadata": {},
   "source": [
    "### Horizontal concatenation - getting wider"
   ]
  },
  {
   "cell_type": "code",
   "execution_count": 3,
   "id": "e6e57484",
   "metadata": {},
   "outputs": [
    {
     "data": {
      "text/html": [
       "<div><style>\n",
       ".dataframe > thead > tr,\n",
       ".dataframe > tbody > tr {\n",
       "  text-align: right;\n",
       "  white-space: pre-wrap;\n",
       "}\n",
       "</style>\n",
       "<small>shape: (2, 5)</small><table border=\"1\" class=\"dataframe\"><thead><tr><th>l1</th><th>l2</th><th>r1</th><th>r2</th><th>r3</th></tr><tr><td>i64</td><td>i64</td><td>i64</td><td>i64</td><td>i64</td></tr></thead><tbody><tr><td>1</td><td>3</td><td>5</td><td>7</td><td>9</td></tr><tr><td>2</td><td>4</td><td>6</td><td>8</td><td>10</td></tr></tbody></table></div>"
      ],
      "text/plain": [
       "shape: (2, 5)\n",
       "┌─────┬─────┬─────┬─────┬─────┐\n",
       "│ l1  ┆ l2  ┆ r1  ┆ r2  ┆ r3  │\n",
       "│ --- ┆ --- ┆ --- ┆ --- ┆ --- │\n",
       "│ i64 ┆ i64 ┆ i64 ┆ i64 ┆ i64 │\n",
       "╞═════╪═════╪═════╪═════╪═════╡\n",
       "│ 1   ┆ 3   ┆ 5   ┆ 7   ┆ 9   │\n",
       "│ 2   ┆ 4   ┆ 6   ┆ 8   ┆ 10  │\n",
       "└─────┴─────┴─────┴─────┴─────┘"
      ]
     },
     "execution_count": 3,
     "metadata": {},
     "output_type": "execute_result"
    }
   ],
   "source": [
    "df_h1 = pl.DataFrame(\n",
    "    {\n",
    "        \"l1\": [1, 2],\n",
    "        \"l2\": [3, 4],\n",
    "    }\n",
    ")\n",
    "df_h2 = pl.DataFrame(\n",
    "    {\n",
    "        \"r1\": [5, 6],\n",
    "        \"r2\": [7, 8],\n",
    "        \"r3\": [9, 10],\n",
    "    }\n",
    ")\n",
    "df_horizontal_concat = pl.concat(\n",
    "    [\n",
    "        df_h1,\n",
    "        df_h2,\n",
    "    ],\n",
    "    how=\"horizontal\"\n",
    ")\n",
    "df_horizontal_concat"
   ]
  },
  {
   "cell_type": "code",
   "execution_count": 4,
   "id": "7f1d4299",
   "metadata": {},
   "outputs": [
    {
     "data": {
      "text/html": [
       "<div><style>\n",
       ".dataframe > thead > tr,\n",
       ".dataframe > tbody > tr {\n",
       "  text-align: right;\n",
       "  white-space: pre-wrap;\n",
       "}\n",
       "</style>\n",
       "<small>shape: (3, 4)</small><table border=\"1\" class=\"dataframe\"><thead><tr><th>l1</th><th>l2</th><th>r1</th><th>r2</th></tr><tr><td>i64</td><td>i64</td><td>i64</td><td>i64</td></tr></thead><tbody><tr><td>1</td><td>3</td><td>5</td><td>8</td></tr><tr><td>2</td><td>4</td><td>6</td><td>9</td></tr><tr><td>null</td><td>null</td><td>7</td><td>10</td></tr></tbody></table></div>"
      ],
      "text/plain": [
       "shape: (3, 4)\n",
       "┌──────┬──────┬─────┬─────┐\n",
       "│ l1   ┆ l2   ┆ r1  ┆ r2  │\n",
       "│ ---  ┆ ---  ┆ --- ┆ --- │\n",
       "│ i64  ┆ i64  ┆ i64 ┆ i64 │\n",
       "╞══════╪══════╪═════╪═════╡\n",
       "│ 1    ┆ 3    ┆ 5   ┆ 8   │\n",
       "│ 2    ┆ 4    ┆ 6   ┆ 9   │\n",
       "│ null ┆ null ┆ 7   ┆ 10  │\n",
       "└──────┴──────┴─────┴─────┘"
      ]
     },
     "execution_count": 4,
     "metadata": {},
     "output_type": "execute_result"
    }
   ],
   "source": [
    "df_h1 = pl.DataFrame(\n",
    "    {\n",
    "        \"l1\": [1, 2],\n",
    "        \"l2\": [3, 4],\n",
    "    }\n",
    ")\n",
    "df_h2 = pl.DataFrame(\n",
    "    {\n",
    "        \"r1\": [5, 6, 7],\n",
    "        \"r2\": [8, 9, 10],\n",
    "    }\n",
    ")\n",
    "df_horizontal_concat = pl.concat(\n",
    "    [\n",
    "        df_h1,\n",
    "        df_h2,\n",
    "    ],\n",
    "    how=\"horizontal\",\n",
    ")\n",
    "df_horizontal_concat"
   ]
  },
  {
   "cell_type": "markdown",
   "id": "9258f30a",
   "metadata": {},
   "source": [
    "## Diagonal concatenation - getting longer, wider and nullier"
   ]
  },
  {
   "cell_type": "code",
   "execution_count": 5,
   "id": "ecb9b420",
   "metadata": {},
   "outputs": [
    {
     "data": {
      "text/html": [
       "<div><style>\n",
       ".dataframe > thead > tr,\n",
       ".dataframe > tbody > tr {\n",
       "  text-align: right;\n",
       "  white-space: pre-wrap;\n",
       "}\n",
       "</style>\n",
       "<small>shape: (2, 3)</small><table border=\"1\" class=\"dataframe\"><thead><tr><th>a</th><th>b</th><th>d</th></tr><tr><td>i64</td><td>i64</td><td>i64</td></tr></thead><tbody><tr><td>1</td><td>3</td><td>null</td></tr><tr><td>2</td><td>null</td><td>4</td></tr></tbody></table></div>"
      ],
      "text/plain": [
       "shape: (2, 3)\n",
       "┌─────┬──────┬──────┐\n",
       "│ a   ┆ b    ┆ d    │\n",
       "│ --- ┆ ---  ┆ ---  │\n",
       "│ i64 ┆ i64  ┆ i64  │\n",
       "╞═════╪══════╪══════╡\n",
       "│ 1   ┆ 3    ┆ null │\n",
       "│ 2   ┆ null ┆ 4    │\n",
       "└─────┴──────┴──────┘"
      ]
     },
     "execution_count": 5,
     "metadata": {},
     "output_type": "execute_result"
    }
   ],
   "source": [
    "df_d1 = pl.DataFrame(\n",
    "    {\n",
    "        \"a\": [1],\n",
    "        \"b\": [3],\n",
    "    }\n",
    ")\n",
    "df_d2 = pl.DataFrame(\n",
    "    {\n",
    "        \"a\": [2],\n",
    "        \"d\": [4],\n",
    "    }\n",
    ")\n",
    "\n",
    "df_diagonal = pl.concat(\n",
    "    [\n",
    "        df_d1,\n",
    "        df_d2\n",
    "    ],\n",
    "    how=\"diagonal\"\n",
    ")\n",
    "df_diagonal"
   ]
  }
 ],
 "metadata": {
  "kernelspec": {
   "display_name": ".venv",
   "language": "python",
   "name": "python3"
  },
  "language_info": {
   "codemirror_mode": {
    "name": "ipython",
    "version": 3
   },
   "file_extension": ".py",
   "mimetype": "text/x-python",
   "name": "python",
   "nbconvert_exporter": "python",
   "pygments_lexer": "ipython3",
   "version": "3.12.3"
  }
 },
 "nbformat": 4,
 "nbformat_minor": 5
}
