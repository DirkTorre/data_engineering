{
 "cells": [
  {
   "cell_type": "markdown",
   "id": "649b6366",
   "metadata": {},
   "source": [
    "# [Transformations: Pivots](https://docs.pola.rs/user-guide/transformations/pivot/)\n",
    "\n",
    "aggregations which can be performed:\n",
    "\n",
    "    first\n",
    "    last\n",
    "    sum\n",
    "    min\n",
    "    max\n",
    "    mean\n",
    "    median\n",
    "    len\n",
    "\n",
    "## Dataset"
   ]
  },
  {
   "cell_type": "code",
   "execution_count": 2,
   "id": "702878c2",
   "metadata": {},
   "outputs": [
    {
     "name": "stdout",
     "output_type": "stream",
     "text": [
      "shape: (5, 3)\n",
      "┌─────┬─────┬─────┐\n",
      "│ foo ┆ N   ┆ bar │\n",
      "│ --- ┆ --- ┆ --- │\n",
      "│ str ┆ i64 ┆ str │\n",
      "╞═════╪═════╪═════╡\n",
      "│ A   ┆ 1   ┆ k   │\n",
      "│ A   ┆ 2   ┆ l   │\n",
      "│ B   ┆ 2   ┆ m   │\n",
      "│ B   ┆ 4   ┆ n   │\n",
      "│ C   ┆ 2   ┆ o   │\n",
      "└─────┴─────┴─────┘\n"
     ]
    }
   ],
   "source": [
    "import polars as pl\n",
    "df = pl.DataFrame(\n",
    "    {\n",
    "        \"foo\": [\"A\", \"A\", \"B\", \"B\", \"C\"],\n",
    "        \"N\": [1, 2, 2, 4, 2],\n",
    "        \"bar\": [\"k\", \"l\", \"m\", \"n\", \"o\"],\n",
    "    }\n",
    ")\n",
    "print(df)"
   ]
  },
  {
   "cell_type": "markdown",
   "id": "c72eceae",
   "metadata": {},
   "source": [
    "## Eager"
   ]
  },
  {
   "cell_type": "code",
   "execution_count": 8,
   "id": "2cfeb64f",
   "metadata": {},
   "outputs": [
    {
     "data": {
      "text/html": [
       "<div><style>\n",
       ".dataframe > thead > tr,\n",
       ".dataframe > tbody > tr {\n",
       "  text-align: right;\n",
       "  white-space: pre-wrap;\n",
       "}\n",
       "</style>\n",
       "<small>shape: (3, 6)</small><table border=\"1\" class=\"dataframe\"><thead><tr><th>foo</th><th>k</th><th>l</th><th>m</th><th>n</th><th>o</th></tr><tr><td>str</td><td>i64</td><td>i64</td><td>i64</td><td>i64</td><td>i64</td></tr></thead><tbody><tr><td>&quot;A&quot;</td><td>1</td><td>2</td><td>null</td><td>null</td><td>null</td></tr><tr><td>&quot;B&quot;</td><td>null</td><td>null</td><td>2</td><td>4</td><td>null</td></tr><tr><td>&quot;C&quot;</td><td>null</td><td>null</td><td>null</td><td>null</td><td>2</td></tr></tbody></table></div>"
      ],
      "text/plain": [
       "shape: (3, 6)\n",
       "┌─────┬──────┬──────┬──────┬──────┬──────┐\n",
       "│ foo ┆ k    ┆ l    ┆ m    ┆ n    ┆ o    │\n",
       "│ --- ┆ ---  ┆ ---  ┆ ---  ┆ ---  ┆ ---  │\n",
       "│ str ┆ i64  ┆ i64  ┆ i64  ┆ i64  ┆ i64  │\n",
       "╞═════╪══════╪══════╪══════╪══════╪══════╡\n",
       "│ A   ┆ 1    ┆ 2    ┆ null ┆ null ┆ null │\n",
       "│ B   ┆ null ┆ null ┆ 2    ┆ 4    ┆ null │\n",
       "│ C   ┆ null ┆ null ┆ null ┆ null ┆ 2    │\n",
       "└─────┴──────┴──────┴──────┴──────┴──────┘"
      ]
     },
     "execution_count": 8,
     "metadata": {},
     "output_type": "execute_result"
    }
   ],
   "source": [
    "out = df.pivot(\"bar\", index=\"foo\", values=\"N\", aggregate_function=\"first\")\n",
    "out"
   ]
  },
  {
   "cell_type": "markdown",
   "id": "21811621",
   "metadata": {},
   "source": [
    "## Lazy"
   ]
  },
  {
   "cell_type": "code",
   "execution_count": 10,
   "id": "200a6b68",
   "metadata": {},
   "outputs": [
    {
     "data": {
      "text/html": [
       "<div><style>\n",
       ".dataframe > thead > tr,\n",
       ".dataframe > tbody > tr {\n",
       "  text-align: right;\n",
       "  white-space: pre-wrap;\n",
       "}\n",
       "</style>\n",
       "<small>shape: (3, 6)</small><table border=\"1\" class=\"dataframe\"><thead><tr><th>foo</th><th>k</th><th>l</th><th>m</th><th>n</th><th>o</th></tr><tr><td>str</td><td>i64</td><td>i64</td><td>i64</td><td>i64</td><td>i64</td></tr></thead><tbody><tr><td>&quot;A&quot;</td><td>1</td><td>2</td><td>null</td><td>null</td><td>null</td></tr><tr><td>&quot;B&quot;</td><td>null</td><td>null</td><td>2</td><td>4</td><td>null</td></tr><tr><td>&quot;C&quot;</td><td>null</td><td>null</td><td>null</td><td>null</td><td>2</td></tr></tbody></table></div>"
      ],
      "text/plain": [
       "shape: (3, 6)\n",
       "┌─────┬──────┬──────┬──────┬──────┬──────┐\n",
       "│ foo ┆ k    ┆ l    ┆ m    ┆ n    ┆ o    │\n",
       "│ --- ┆ ---  ┆ ---  ┆ ---  ┆ ---  ┆ ---  │\n",
       "│ str ┆ i64  ┆ i64  ┆ i64  ┆ i64  ┆ i64  │\n",
       "╞═════╪══════╪══════╪══════╪══════╪══════╡\n",
       "│ A   ┆ 1    ┆ 2    ┆ null ┆ null ┆ null │\n",
       "│ B   ┆ null ┆ null ┆ 2    ┆ 4    ┆ null │\n",
       "│ C   ┆ null ┆ null ┆ null ┆ null ┆ 2    │\n",
       "└─────┴──────┴──────┴──────┴──────┴──────┘"
      ]
     },
     "execution_count": 10,
     "metadata": {},
     "output_type": "execute_result"
    }
   ],
   "source": [
    "q = (\n",
    "    df.lazy()\n",
    "    .collect()\n",
    "    .pivot(index=\"foo\", on=\"bar\",values=\"N\",aggregate_function=\"first\")\n",
    "    .lazy() # weird that you have use de .lazy() method twice\n",
    ")\n",
    "out = q.collect()\n",
    "out"
   ]
  }
 ],
 "metadata": {
  "kernelspec": {
   "display_name": ".venv",
   "language": "python",
   "name": "python3"
  },
  "language_info": {
   "codemirror_mode": {
    "name": "ipython",
    "version": 3
   },
   "file_extension": ".py",
   "mimetype": "text/x-python",
   "name": "python",
   "nbconvert_exporter": "python",
   "pygments_lexer": "ipython3",
   "version": "3.12.3"
  }
 },
 "nbformat": 4,
 "nbformat_minor": 5
}
