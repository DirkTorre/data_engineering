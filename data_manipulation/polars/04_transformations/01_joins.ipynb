{
 "cells": [
  {
   "cell_type": "markdown",
   "id": "fe3c5d81",
   "metadata": {},
   "source": [
    "# [Transformations : Joins](https://docs.pola.rs/user-guide/transformations/joins/)\n",
    "\n",
    "## Equi joins"
   ]
  },
  {
   "cell_type": "code",
   "execution_count": 1,
   "id": "ce62c248",
   "metadata": {},
   "outputs": [
    {
     "name": "stdout",
     "output_type": "stream",
     "text": [
      "shape: (5, 2)\n",
      "┌──────────────────────┬────────────┐\n",
      "│ property_name        ┆ group      │\n",
      "│ ---                  ┆ ---        │\n",
      "│ str                  ┆ str        │\n",
      "╞══════════════════════╪════════════╡\n",
      "│ Old Ken Road         ┆ brown      │\n",
      "│ Whitechapel Road     ┆ brown      │\n",
      "│ The Shire            ┆ fantasy    │\n",
      "│ Kings Cross Station  ┆ stations   │\n",
      "│ The Angel, Islington ┆ light_blue │\n",
      "└──────────────────────┴────────────┘ shape: (5, 2)\n",
      "┌──────────────────────┬──────┐\n",
      "│ property_name        ┆ cost │\n",
      "│ ---                  ┆ ---  │\n",
      "│ str                  ┆ i64  │\n",
      "╞══════════════════════╪══════╡\n",
      "│ Old Ken Road         ┆ 60   │\n",
      "│ Whitechapel Road     ┆ 60   │\n",
      "│ Sesame Street        ┆ 100  │\n",
      "│ Kings Cross Station  ┆ 200  │\n",
      "│ The Angel, Islington ┆ 100  │\n",
      "└──────────────────────┴──────┘\n"
     ]
    }
   ],
   "source": [
    "import polars as pl\n",
    "\n",
    "props_groups = pl.DataFrame({\n",
    "    \"property_name\": [\"Old Ken Road\", \"Whitechapel Road\", \"The Shire\", \"Kings Cross Station\", \"The Angel, Islington\"],\n",
    "    \"group\": [\"brown\",\"brown\",\"fantasy\",\"stations\",\"light_blue\"],\n",
    "    })\n",
    "props_prices = pl.DataFrame({\n",
    "    \"property_name\": [\"Old Ken Road\", \"Whitechapel Road\", \"Sesame Street\", \"Kings Cross Station\", \"The Angel, Islington\"],\n",
    "    \"cost\": [60,60,100,200,100]\n",
    "})\n",
    "\n",
    "print(props_groups, props_prices)"
   ]
  },
  {
   "cell_type": "markdown",
   "id": "be9f5f9c",
   "metadata": {},
   "source": [
    "By default, polars does an inner join"
   ]
  },
  {
   "cell_type": "code",
   "execution_count": 2,
   "id": "d2532991",
   "metadata": {},
   "outputs": [
    {
     "data": {
      "text/html": [
       "<div><style>\n",
       ".dataframe > thead > tr,\n",
       ".dataframe > tbody > tr {\n",
       "  text-align: right;\n",
       "  white-space: pre-wrap;\n",
       "}\n",
       "</style>\n",
       "<small>shape: (4, 3)</small><table border=\"1\" class=\"dataframe\"><thead><tr><th>property_name</th><th>group</th><th>cost</th></tr><tr><td>str</td><td>str</td><td>i64</td></tr></thead><tbody><tr><td>&quot;Old Ken Road&quot;</td><td>&quot;brown&quot;</td><td>60</td></tr><tr><td>&quot;Whitechapel Road&quot;</td><td>&quot;brown&quot;</td><td>60</td></tr><tr><td>&quot;Kings Cross Station&quot;</td><td>&quot;stations&quot;</td><td>200</td></tr><tr><td>&quot;The Angel, Islington&quot;</td><td>&quot;light_blue&quot;</td><td>100</td></tr></tbody></table></div>"
      ],
      "text/plain": [
       "shape: (4, 3)\n",
       "┌──────────────────────┬────────────┬──────┐\n",
       "│ property_name        ┆ group      ┆ cost │\n",
       "│ ---                  ┆ ---        ┆ ---  │\n",
       "│ str                  ┆ str        ┆ i64  │\n",
       "╞══════════════════════╪════════════╪══════╡\n",
       "│ Old Ken Road         ┆ brown      ┆ 60   │\n",
       "│ Whitechapel Road     ┆ brown      ┆ 60   │\n",
       "│ Kings Cross Station  ┆ stations   ┆ 200  │\n",
       "│ The Angel, Islington ┆ light_blue ┆ 100  │\n",
       "└──────────────────────┴────────────┴──────┘"
      ]
     },
     "execution_count": 2,
     "metadata": {},
     "output_type": "execute_result"
    }
   ],
   "source": [
    "props_groups.join(props_prices, on=\"property_name\")"
   ]
  },
  {
   "cell_type": "code",
   "execution_count": 3,
   "id": "dddbde30",
   "metadata": {},
   "outputs": [
    {
     "name": "stdout",
     "output_type": "stream",
     "text": [
      "shape: (5, 2)\n",
      "┌──────────────────────┬────────────┐\n",
      "│ property_name        ┆ group      │\n",
      "│ ---                  ┆ ---        │\n",
      "│ str                  ┆ str        │\n",
      "╞══════════════════════╪════════════╡\n",
      "│ old ken road         ┆ brown      │\n",
      "│ whitechapel road     ┆ brown      │\n",
      "│ the shire            ┆ fantasy    │\n",
      "│ kings cross station  ┆ stations   │\n",
      "│ the angel, islington ┆ light_blue │\n",
      "└──────────────────────┴────────────┘\n"
     ]
    }
   ],
   "source": [
    "props_groups2 = props_groups.with_columns(\n",
    "    pl.col(\"property_name\").str.to_lowercase(),\n",
    ")\n",
    "print(props_groups2)"
   ]
  },
  {
   "cell_type": "code",
   "execution_count": 4,
   "id": "9c8eea76",
   "metadata": {},
   "outputs": [
    {
     "name": "stdout",
     "output_type": "stream",
     "text": [
      "shape: (5, 2)\n",
      "┌──────────────────────┬──────┐\n",
      "│ name                 ┆ cost │\n",
      "│ ---                  ┆ ---  │\n",
      "│ str                  ┆ i64  │\n",
      "╞══════════════════════╪══════╡\n",
      "│ Old Ken Road         ┆ 60   │\n",
      "│ Whitechapel Road     ┆ 60   │\n",
      "│ Sesame Street        ┆ 100  │\n",
      "│ Kings Cross Station  ┆ 200  │\n",
      "│ The Angel, Islington ┆ 100  │\n",
      "└──────────────────────┴──────┘\n"
     ]
    }
   ],
   "source": [
    "props_prices2 = props_prices.select(\n",
    "    pl.col(\"property_name\").alias(\"name\"), pl.col(\"cost\")\n",
    ")\n",
    "print(props_prices2)"
   ]
  },
  {
   "cell_type": "code",
   "execution_count": 5,
   "id": "ab19f9f0",
   "metadata": {},
   "outputs": [
    {
     "name": "stdout",
     "output_type": "stream",
     "text": [
      "shape: (4, 4)\n",
      "┌──────────────────────┬────────────┬──────────────────────┬──────┐\n",
      "│ property_name        ┆ group      ┆ name                 ┆ cost │\n",
      "│ ---                  ┆ ---        ┆ ---                  ┆ ---  │\n",
      "│ str                  ┆ str        ┆ str                  ┆ i64  │\n",
      "╞══════════════════════╪════════════╪══════════════════════╪══════╡\n",
      "│ old ken road         ┆ brown      ┆ Old Ken Road         ┆ 60   │\n",
      "│ whitechapel road     ┆ brown      ┆ Whitechapel Road     ┆ 60   │\n",
      "│ kings cross station  ┆ stations   ┆ Kings Cross Station  ┆ 200  │\n",
      "│ the angel, islington ┆ light_blue ┆ The Angel, Islington ┆ 100  │\n",
      "└──────────────────────┴────────────┴──────────────────────┴──────┘\n"
     ]
    }
   ],
   "source": [
    "result = props_groups2.join(\n",
    "    props_prices2,\n",
    "    left_on=\"property_name\",\n",
    "    right_on=pl.col(\"name\").str.to_lowercase(),\n",
    ")\n",
    "print(result)"
   ]
  },
  {
   "cell_type": "markdown",
   "id": "5dcd2e44",
   "metadata": {},
   "source": [
    "the example does not have 'the shire' in it...\n",
    "\n",
    "## join strategies\n",
    "\n",
    "### inner join"
   ]
  },
  {
   "cell_type": "code",
   "execution_count": 6,
   "id": "41d5b6dd",
   "metadata": {},
   "outputs": [
    {
     "data": {
      "text/html": [
       "<div><style>\n",
       ".dataframe > thead > tr,\n",
       ".dataframe > tbody > tr {\n",
       "  text-align: right;\n",
       "  white-space: pre-wrap;\n",
       "}\n",
       "</style>\n",
       "<small>shape: (4, 3)</small><table border=\"1\" class=\"dataframe\"><thead><tr><th>property_name</th><th>group</th><th>cost</th></tr><tr><td>str</td><td>str</td><td>i64</td></tr></thead><tbody><tr><td>&quot;Old Ken Road&quot;</td><td>&quot;brown&quot;</td><td>60</td></tr><tr><td>&quot;Whitechapel Road&quot;</td><td>&quot;brown&quot;</td><td>60</td></tr><tr><td>&quot;Kings Cross Station&quot;</td><td>&quot;stations&quot;</td><td>200</td></tr><tr><td>&quot;The Angel, Islington&quot;</td><td>&quot;light_blue&quot;</td><td>100</td></tr></tbody></table></div>"
      ],
      "text/plain": [
       "shape: (4, 3)\n",
       "┌──────────────────────┬────────────┬──────┐\n",
       "│ property_name        ┆ group      ┆ cost │\n",
       "│ ---                  ┆ ---        ┆ ---  │\n",
       "│ str                  ┆ str        ┆ i64  │\n",
       "╞══════════════════════╪════════════╪══════╡\n",
       "│ Old Ken Road         ┆ brown      ┆ 60   │\n",
       "│ Whitechapel Road     ┆ brown      ┆ 60   │\n",
       "│ Kings Cross Station  ┆ stations   ┆ 200  │\n",
       "│ The Angel, Islington ┆ light_blue ┆ 100  │\n",
       "└──────────────────────┴────────────┴──────┘"
      ]
     },
     "execution_count": 6,
     "metadata": {},
     "output_type": "execute_result"
    }
   ],
   "source": [
    "props_groups.join(props_prices, on=\"property_name\", how=\"inner\")"
   ]
  },
  {
   "cell_type": "markdown",
   "id": "21921f70",
   "metadata": {},
   "source": [
    "### Left join"
   ]
  },
  {
   "cell_type": "code",
   "execution_count": 7,
   "id": "e773d94d",
   "metadata": {},
   "outputs": [
    {
     "data": {
      "text/html": [
       "<div><style>\n",
       ".dataframe > thead > tr,\n",
       ".dataframe > tbody > tr {\n",
       "  text-align: right;\n",
       "  white-space: pre-wrap;\n",
       "}\n",
       "</style>\n",
       "<small>shape: (5, 3)</small><table border=\"1\" class=\"dataframe\"><thead><tr><th>property_name</th><th>group</th><th>cost</th></tr><tr><td>str</td><td>str</td><td>i64</td></tr></thead><tbody><tr><td>&quot;Old Ken Road&quot;</td><td>&quot;brown&quot;</td><td>60</td></tr><tr><td>&quot;Whitechapel Road&quot;</td><td>&quot;brown&quot;</td><td>60</td></tr><tr><td>&quot;The Shire&quot;</td><td>&quot;fantasy&quot;</td><td>null</td></tr><tr><td>&quot;Kings Cross Station&quot;</td><td>&quot;stations&quot;</td><td>200</td></tr><tr><td>&quot;The Angel, Islington&quot;</td><td>&quot;light_blue&quot;</td><td>100</td></tr></tbody></table></div>"
      ],
      "text/plain": [
       "shape: (5, 3)\n",
       "┌──────────────────────┬────────────┬──────┐\n",
       "│ property_name        ┆ group      ┆ cost │\n",
       "│ ---                  ┆ ---        ┆ ---  │\n",
       "│ str                  ┆ str        ┆ i64  │\n",
       "╞══════════════════════╪════════════╪══════╡\n",
       "│ Old Ken Road         ┆ brown      ┆ 60   │\n",
       "│ Whitechapel Road     ┆ brown      ┆ 60   │\n",
       "│ The Shire            ┆ fantasy    ┆ null │\n",
       "│ Kings Cross Station  ┆ stations   ┆ 200  │\n",
       "│ The Angel, Islington ┆ light_blue ┆ 100  │\n",
       "└──────────────────────┴────────────┴──────┘"
      ]
     },
     "execution_count": 7,
     "metadata": {},
     "output_type": "execute_result"
    }
   ],
   "source": [
    "props_groups.join(props_prices, on=\"property_name\", how=\"left\")"
   ]
  },
  {
   "cell_type": "markdown",
   "id": "5cc09207",
   "metadata": {},
   "source": [
    "### Right join"
   ]
  },
  {
   "cell_type": "code",
   "execution_count": 9,
   "id": "f9383491",
   "metadata": {},
   "outputs": [
    {
     "data": {
      "text/html": [
       "<div><style>\n",
       ".dataframe > thead > tr,\n",
       ".dataframe > tbody > tr {\n",
       "  text-align: right;\n",
       "  white-space: pre-wrap;\n",
       "}\n",
       "</style>\n",
       "<small>shape: (5, 3)</small><table border=\"1\" class=\"dataframe\"><thead><tr><th>group</th><th>property_name</th><th>cost</th></tr><tr><td>str</td><td>str</td><td>i64</td></tr></thead><tbody><tr><td>&quot;brown&quot;</td><td>&quot;Old Ken Road&quot;</td><td>60</td></tr><tr><td>&quot;brown&quot;</td><td>&quot;Whitechapel Road&quot;</td><td>60</td></tr><tr><td>null</td><td>&quot;Sesame Street&quot;</td><td>100</td></tr><tr><td>&quot;stations&quot;</td><td>&quot;Kings Cross Station&quot;</td><td>200</td></tr><tr><td>&quot;light_blue&quot;</td><td>&quot;The Angel, Islington&quot;</td><td>100</td></tr></tbody></table></div>"
      ],
      "text/plain": [
       "shape: (5, 3)\n",
       "┌────────────┬──────────────────────┬──────┐\n",
       "│ group      ┆ property_name        ┆ cost │\n",
       "│ ---        ┆ ---                  ┆ ---  │\n",
       "│ str        ┆ str                  ┆ i64  │\n",
       "╞════════════╪══════════════════════╪══════╡\n",
       "│ brown      ┆ Old Ken Road         ┆ 60   │\n",
       "│ brown      ┆ Whitechapel Road     ┆ 60   │\n",
       "│ null       ┆ Sesame Street        ┆ 100  │\n",
       "│ stations   ┆ Kings Cross Station  ┆ 200  │\n",
       "│ light_blue ┆ The Angel, Islington ┆ 100  │\n",
       "└────────────┴──────────────────────┴──────┘"
      ]
     },
     "execution_count": 9,
     "metadata": {},
     "output_type": "execute_result"
    }
   ],
   "source": [
    "result = props_groups.join(props_prices, on=\"property_name\", how=\"right\")\n",
    "result"
   ]
  },
  {
   "cell_type": "code",
   "execution_count": 12,
   "id": "af86cb97",
   "metadata": {},
   "outputs": [
    {
     "data": {
      "text/plain": [
       "True"
      ]
     },
     "execution_count": 12,
     "metadata": {},
     "output_type": "execute_result"
    }
   ],
   "source": [
    "result.equals(\n",
    "    props_prices.join(\n",
    "        props_groups,\n",
    "        on=\"property_name\",\n",
    "        how=\"left\"\n",
    "    ).select(pl.col(\"group\"), pl.col(\"property_name\"), pl.col(\"cost\"))\n",
    ")"
   ]
  },
  {
   "cell_type": "markdown",
   "id": "a3318b8e",
   "metadata": {},
   "source": [
    "### Full join"
   ]
  },
  {
   "cell_type": "code",
   "execution_count": 13,
   "id": "26539ede",
   "metadata": {},
   "outputs": [
    {
     "data": {
      "text/html": [
       "<div><style>\n",
       ".dataframe > thead > tr,\n",
       ".dataframe > tbody > tr {\n",
       "  text-align: right;\n",
       "  white-space: pre-wrap;\n",
       "}\n",
       "</style>\n",
       "<small>shape: (6, 4)</small><table border=\"1\" class=\"dataframe\"><thead><tr><th>property_name</th><th>group</th><th>property_name_right</th><th>cost</th></tr><tr><td>str</td><td>str</td><td>str</td><td>i64</td></tr></thead><tbody><tr><td>&quot;Old Ken Road&quot;</td><td>&quot;brown&quot;</td><td>&quot;Old Ken Road&quot;</td><td>60</td></tr><tr><td>&quot;Whitechapel Road&quot;</td><td>&quot;brown&quot;</td><td>&quot;Whitechapel Road&quot;</td><td>60</td></tr><tr><td>null</td><td>null</td><td>&quot;Sesame Street&quot;</td><td>100</td></tr><tr><td>&quot;Kings Cross Station&quot;</td><td>&quot;stations&quot;</td><td>&quot;Kings Cross Station&quot;</td><td>200</td></tr><tr><td>&quot;The Angel, Islington&quot;</td><td>&quot;light_blue&quot;</td><td>&quot;The Angel, Islington&quot;</td><td>100</td></tr><tr><td>&quot;The Shire&quot;</td><td>&quot;fantasy&quot;</td><td>null</td><td>null</td></tr></tbody></table></div>"
      ],
      "text/plain": [
       "shape: (6, 4)\n",
       "┌──────────────────────┬────────────┬──────────────────────┬──────┐\n",
       "│ property_name        ┆ group      ┆ property_name_right  ┆ cost │\n",
       "│ ---                  ┆ ---        ┆ ---                  ┆ ---  │\n",
       "│ str                  ┆ str        ┆ str                  ┆ i64  │\n",
       "╞══════════════════════╪════════════╪══════════════════════╪══════╡\n",
       "│ Old Ken Road         ┆ brown      ┆ Old Ken Road         ┆ 60   │\n",
       "│ Whitechapel Road     ┆ brown      ┆ Whitechapel Road     ┆ 60   │\n",
       "│ null                 ┆ null       ┆ Sesame Street        ┆ 100  │\n",
       "│ Kings Cross Station  ┆ stations   ┆ Kings Cross Station  ┆ 200  │\n",
       "│ The Angel, Islington ┆ light_blue ┆ The Angel, Islington ┆ 100  │\n",
       "│ The Shire            ┆ fantasy    ┆ null                 ┆ null │\n",
       "└──────────────────────┴────────────┴──────────────────────┴──────┘"
      ]
     },
     "execution_count": 13,
     "metadata": {},
     "output_type": "execute_result"
    }
   ],
   "source": [
    "props_groups.join(props_prices, on=\"property_name\", how=\"full\")"
   ]
  },
  {
   "cell_type": "markdown",
   "id": "c0b13203",
   "metadata": {},
   "source": [
    " If we wanted to force join to coalesce the two columns property_name into a single column, we could set coalesce=True explicitly:"
   ]
  },
  {
   "cell_type": "code",
   "execution_count": 14,
   "id": "82fcaa06",
   "metadata": {},
   "outputs": [
    {
     "data": {
      "text/html": [
       "<div><style>\n",
       ".dataframe > thead > tr,\n",
       ".dataframe > tbody > tr {\n",
       "  text-align: right;\n",
       "  white-space: pre-wrap;\n",
       "}\n",
       "</style>\n",
       "<small>shape: (6, 3)</small><table border=\"1\" class=\"dataframe\"><thead><tr><th>property_name</th><th>group</th><th>cost</th></tr><tr><td>str</td><td>str</td><td>i64</td></tr></thead><tbody><tr><td>&quot;Old Ken Road&quot;</td><td>&quot;brown&quot;</td><td>60</td></tr><tr><td>&quot;Whitechapel Road&quot;</td><td>&quot;brown&quot;</td><td>60</td></tr><tr><td>&quot;Sesame Street&quot;</td><td>null</td><td>100</td></tr><tr><td>&quot;Kings Cross Station&quot;</td><td>&quot;stations&quot;</td><td>200</td></tr><tr><td>&quot;The Angel, Islington&quot;</td><td>&quot;light_blue&quot;</td><td>100</td></tr><tr><td>&quot;The Shire&quot;</td><td>&quot;fantasy&quot;</td><td>null</td></tr></tbody></table></div>"
      ],
      "text/plain": [
       "shape: (6, 3)\n",
       "┌──────────────────────┬────────────┬──────┐\n",
       "│ property_name        ┆ group      ┆ cost │\n",
       "│ ---                  ┆ ---        ┆ ---  │\n",
       "│ str                  ┆ str        ┆ i64  │\n",
       "╞══════════════════════╪════════════╪══════╡\n",
       "│ Old Ken Road         ┆ brown      ┆ 60   │\n",
       "│ Whitechapel Road     ┆ brown      ┆ 60   │\n",
       "│ Sesame Street        ┆ null       ┆ 100  │\n",
       "│ Kings Cross Station  ┆ stations   ┆ 200  │\n",
       "│ The Angel, Islington ┆ light_blue ┆ 100  │\n",
       "│ The Shire            ┆ fantasy    ┆ null │\n",
       "└──────────────────────┴────────────┴──────┘"
      ]
     },
     "execution_count": 14,
     "metadata": {},
     "output_type": "execute_result"
    }
   ],
   "source": [
    "props_groups.join(\n",
    "    props_prices,\n",
    "    on=\"property_name\",\n",
    "    how=\"full\",\n",
    "    coalesce=True\n",
    ")"
   ]
  },
  {
   "cell_type": "markdown",
   "id": "656619d3",
   "metadata": {},
   "source": [
    "### Semi join\n",
    "\n",
    "Return the rows of the left dataframe that have a match in the right dataframe.\n",
    "No need to first compare indices like in pandas!"
   ]
  },
  {
   "cell_type": "code",
   "execution_count": 15,
   "id": "e682c01c",
   "metadata": {},
   "outputs": [
    {
     "data": {
      "text/html": [
       "<div><style>\n",
       ".dataframe > thead > tr,\n",
       ".dataframe > tbody > tr {\n",
       "  text-align: right;\n",
       "  white-space: pre-wrap;\n",
       "}\n",
       "</style>\n",
       "<small>shape: (4, 2)</small><table border=\"1\" class=\"dataframe\"><thead><tr><th>property_name</th><th>group</th></tr><tr><td>str</td><td>str</td></tr></thead><tbody><tr><td>&quot;Old Ken Road&quot;</td><td>&quot;brown&quot;</td></tr><tr><td>&quot;Whitechapel Road&quot;</td><td>&quot;brown&quot;</td></tr><tr><td>&quot;Kings Cross Station&quot;</td><td>&quot;stations&quot;</td></tr><tr><td>&quot;The Angel, Islington&quot;</td><td>&quot;light_blue&quot;</td></tr></tbody></table></div>"
      ],
      "text/plain": [
       "shape: (4, 2)\n",
       "┌──────────────────────┬────────────┐\n",
       "│ property_name        ┆ group      │\n",
       "│ ---                  ┆ ---        │\n",
       "│ str                  ┆ str        │\n",
       "╞══════════════════════╪════════════╡\n",
       "│ Old Ken Road         ┆ brown      │\n",
       "│ Whitechapel Road     ┆ brown      │\n",
       "│ Kings Cross Station  ┆ stations   │\n",
       "│ The Angel, Islington ┆ light_blue │\n",
       "└──────────────────────┴────────────┘"
      ]
     },
     "execution_count": 15,
     "metadata": {},
     "output_type": "execute_result"
    }
   ],
   "source": [
    "props_groups.join(props_prices, on=\"property_name\", how=\"semi\")"
   ]
  },
  {
   "cell_type": "markdown",
   "id": "62c21ec6",
   "metadata": {},
   "source": [
    "## anti join\n",
    "\n",
    "return the rows of the left dataframe that do not have a match in the right dataframe. this is so much better!"
   ]
  },
  {
   "cell_type": "code",
   "execution_count": 16,
   "id": "5a984181",
   "metadata": {},
   "outputs": [
    {
     "data": {
      "text/html": [
       "<div><style>\n",
       ".dataframe > thead > tr,\n",
       ".dataframe > tbody > tr {\n",
       "  text-align: right;\n",
       "  white-space: pre-wrap;\n",
       "}\n",
       "</style>\n",
       "<small>shape: (1, 2)</small><table border=\"1\" class=\"dataframe\"><thead><tr><th>property_name</th><th>group</th></tr><tr><td>str</td><td>str</td></tr></thead><tbody><tr><td>&quot;The Shire&quot;</td><td>&quot;fantasy&quot;</td></tr></tbody></table></div>"
      ],
      "text/plain": [
       "shape: (1, 2)\n",
       "┌───────────────┬─────────┐\n",
       "│ property_name ┆ group   │\n",
       "│ ---           ┆ ---     │\n",
       "│ str           ┆ str     │\n",
       "╞═══════════════╪═════════╡\n",
       "│ The Shire     ┆ fantasy │\n",
       "└───────────────┴─────────┘"
      ]
     },
     "execution_count": 16,
     "metadata": {},
     "output_type": "execute_result"
    }
   ],
   "source": [
    "props_groups.join(props_prices, on=\"property_name\", how=\"anti\")"
   ]
  },
  {
   "cell_type": "markdown",
   "id": "1a312ae2",
   "metadata": {},
   "source": [
    "## non-equi joins\n",
    "\n",
    "only join under a given condition (but now join strategy option...?)"
   ]
  },
  {
   "cell_type": "code",
   "execution_count": 17,
   "id": "2ff88e0c",
   "metadata": {},
   "outputs": [
    {
     "name": "stdout",
     "output_type": "stream",
     "text": [
      "shape: (2, 2)\n",
      "┌───────┬──────┐\n",
      "│ name  ┆ cash │\n",
      "│ ---   ┆ ---  │\n",
      "│ str   ┆ i64  │\n",
      "╞═══════╪══════╡\n",
      "│ Alice ┆ 78   │\n",
      "│ Bob   ┆ 135  │\n",
      "└───────┴──────┘\n"
     ]
    }
   ],
   "source": [
    "players = pl.DataFrame(\n",
    "    {\n",
    "        \"name\": [\"Alice\", \"Bob\"],\n",
    "        \"cash\": [78, 135],\n",
    "    }\n",
    ")\n",
    "print(players)"
   ]
  },
  {
   "cell_type": "code",
   "execution_count": null,
   "id": "510ba1bb",
   "metadata": {},
   "outputs": [
    {
     "data": {
      "text/html": [
       "<div><style>\n",
       ".dataframe > thead > tr,\n",
       ".dataframe > tbody > tr {\n",
       "  text-align: right;\n",
       "  white-space: pre-wrap;\n",
       "}\n",
       "</style>\n",
       "<small>shape: (6, 4)</small><table border=\"1\" class=\"dataframe\"><thead><tr><th>name</th><th>cash</th><th>property_name</th><th>cost</th></tr><tr><td>str</td><td>i64</td><td>str</td><td>i64</td></tr></thead><tbody><tr><td>&quot;Bob&quot;</td><td>135</td><td>&quot;Sesame Street&quot;</td><td>100</td></tr><tr><td>&quot;Bob&quot;</td><td>135</td><td>&quot;The Angel, Islington&quot;</td><td>100</td></tr><tr><td>&quot;Bob&quot;</td><td>135</td><td>&quot;Old Ken Road&quot;</td><td>60</td></tr><tr><td>&quot;Bob&quot;</td><td>135</td><td>&quot;Whitechapel Road&quot;</td><td>60</td></tr><tr><td>&quot;Alice&quot;</td><td>78</td><td>&quot;Old Ken Road&quot;</td><td>60</td></tr><tr><td>&quot;Alice&quot;</td><td>78</td><td>&quot;Whitechapel Road&quot;</td><td>60</td></tr></tbody></table></div>"
      ],
      "text/plain": [
       "shape: (6, 4)\n",
       "┌───────┬──────┬──────────────────────┬──────┐\n",
       "│ name  ┆ cash ┆ property_name        ┆ cost │\n",
       "│ ---   ┆ ---  ┆ ---                  ┆ ---  │\n",
       "│ str   ┆ i64  ┆ str                  ┆ i64  │\n",
       "╞═══════╪══════╪══════════════════════╪══════╡\n",
       "│ Bob   ┆ 135  ┆ Sesame Street        ┆ 100  │\n",
       "│ Bob   ┆ 135  ┆ The Angel, Islington ┆ 100  │\n",
       "│ Bob   ┆ 135  ┆ Old Ken Road         ┆ 60   │\n",
       "│ Bob   ┆ 135  ┆ Whitechapel Road     ┆ 60   │\n",
       "│ Alice ┆ 78   ┆ Old Ken Road         ┆ 60   │\n",
       "│ Alice ┆ 78   ┆ Whitechapel Road     ┆ 60   │\n",
       "└───────┴──────┴──────────────────────┴──────┘"
      ]
     },
     "execution_count": 18,
     "metadata": {},
     "output_type": "execute_result"
    }
   ],
   "source": [
    "players.join_where(props_prices, pl.col(\"cash\") > pl.col(\"cost\"))"
   ]
  },
  {
   "cell_type": "markdown",
   "id": "b11cff12",
   "metadata": {},
   "source": [
    "## Asof join\n",
    "\n",
    "a left join where you match to the nearest key. That's damn handy."
   ]
  },
  {
   "cell_type": "code",
   "execution_count": 19,
   "id": "5479a045",
   "metadata": {},
   "outputs": [
    {
     "name": "stdout",
     "output_type": "stream",
     "text": [
      "shape: (4, 3)\n",
      "┌─────────────────────┬───────┬───────┐\n",
      "│ time                ┆ stock ┆ trade │\n",
      "│ ---                 ┆ ---   ┆ ---   │\n",
      "│ datetime[μs]        ┆ str   ┆ i64   │\n",
      "╞═════════════════════╪═══════╪═══════╡\n",
      "│ 2020-01-01 09:01:00 ┆ A     ┆ 101   │\n",
      "│ 2020-01-01 09:01:00 ┆ B     ┆ 299   │\n",
      "│ 2020-01-01 09:03:00 ┆ B     ┆ 301   │\n",
      "│ 2020-01-01 09:06:00 ┆ C     ┆ 500   │\n",
      "└─────────────────────┴───────┴───────┘\n"
     ]
    }
   ],
   "source": [
    "from datetime import datetime\n",
    "\n",
    "df_trades = pl.DataFrame(\n",
    "    {\n",
    "        \"time\": [\n",
    "            datetime(2020, 1, 1, 9, 1, 0),\n",
    "            datetime(2020, 1, 1, 9, 1, 0),\n",
    "            datetime(2020, 1, 1, 9, 3, 0),\n",
    "            datetime(2020, 1, 1, 9, 6, 0),\n",
    "        ],\n",
    "        \"stock\": [\"A\", \"B\", \"B\", \"C\"],\n",
    "        \"trade\": [101, 299, 301, 500],\n",
    "    }\n",
    ")\n",
    "print(df_trades)"
   ]
  },
  {
   "cell_type": "code",
   "execution_count": 20,
   "id": "7aa57b92",
   "metadata": {},
   "outputs": [
    {
     "name": "stdout",
     "output_type": "stream",
     "text": [
      "shape: (4, 3)\n",
      "┌─────────────────────┬───────┬───────┐\n",
      "│ time                ┆ stock ┆ quote │\n",
      "│ ---                 ┆ ---   ┆ ---   │\n",
      "│ datetime[μs]        ┆ str   ┆ i64   │\n",
      "╞═════════════════════╪═══════╪═══════╡\n",
      "│ 2020-01-01 09:00:00 ┆ A     ┆ 100   │\n",
      "│ 2020-01-01 09:02:00 ┆ B     ┆ 300   │\n",
      "│ 2020-01-01 09:04:00 ┆ C     ┆ 501   │\n",
      "│ 2020-01-01 09:06:00 ┆ A     ┆ 102   │\n",
      "└─────────────────────┴───────┴───────┘\n"
     ]
    }
   ],
   "source": [
    "df_quotes = pl.DataFrame(\n",
    "    {\n",
    "        \"time\": [\n",
    "            datetime(2020, 1, 1, 9, 0, 0),\n",
    "            datetime(2020, 1, 1, 9, 2, 0),\n",
    "            datetime(2020, 1, 1, 9, 4, 0),\n",
    "            datetime(2020, 1, 1, 9, 6, 0),\n",
    "        ],\n",
    "        \"stock\": [\"A\", \"B\", \"C\", \"A\"],\n",
    "        \"quote\": [100, 300, 501, 102],\n",
    "    }\n",
    ")\n",
    "\n",
    "print(df_quotes)"
   ]
  },
  {
   "cell_type": "code",
   "execution_count": 21,
   "id": "2c174919",
   "metadata": {},
   "outputs": [
    {
     "name": "stderr",
     "output_type": "stream",
     "text": [
      "/tmp/ipykernel_7450/4155297627.py:1: UserWarning: Sortedness of columns cannot be checked when 'by' groups provided\n",
      "  df_trades.join_asof(df_quotes, on=\"time\", by=\"stock\")\n"
     ]
    },
    {
     "data": {
      "text/html": [
       "<div><style>\n",
       ".dataframe > thead > tr,\n",
       ".dataframe > tbody > tr {\n",
       "  text-align: right;\n",
       "  white-space: pre-wrap;\n",
       "}\n",
       "</style>\n",
       "<small>shape: (4, 4)</small><table border=\"1\" class=\"dataframe\"><thead><tr><th>time</th><th>stock</th><th>trade</th><th>quote</th></tr><tr><td>datetime[μs]</td><td>str</td><td>i64</td><td>i64</td></tr></thead><tbody><tr><td>2020-01-01 09:01:00</td><td>&quot;A&quot;</td><td>101</td><td>100</td></tr><tr><td>2020-01-01 09:01:00</td><td>&quot;B&quot;</td><td>299</td><td>null</td></tr><tr><td>2020-01-01 09:03:00</td><td>&quot;B&quot;</td><td>301</td><td>300</td></tr><tr><td>2020-01-01 09:06:00</td><td>&quot;C&quot;</td><td>500</td><td>501</td></tr></tbody></table></div>"
      ],
      "text/plain": [
       "shape: (4, 4)\n",
       "┌─────────────────────┬───────┬───────┬───────┐\n",
       "│ time                ┆ stock ┆ trade ┆ quote │\n",
       "│ ---                 ┆ ---   ┆ ---   ┆ ---   │\n",
       "│ datetime[μs]        ┆ str   ┆ i64   ┆ i64   │\n",
       "╞═════════════════════╪═══════╪═══════╪═══════╡\n",
       "│ 2020-01-01 09:01:00 ┆ A     ┆ 101   ┆ 100   │\n",
       "│ 2020-01-01 09:01:00 ┆ B     ┆ 299   ┆ null  │\n",
       "│ 2020-01-01 09:03:00 ┆ B     ┆ 301   ┆ 300   │\n",
       "│ 2020-01-01 09:06:00 ┆ C     ┆ 500   ┆ 501   │\n",
       "└─────────────────────┴───────┴───────┴───────┘"
      ]
     },
     "execution_count": 21,
     "metadata": {},
     "output_type": "execute_result"
    }
   ],
   "source": [
    "df_trades.join_asof(df_quotes, on=\"time\", by=\"stock\")"
   ]
  },
  {
   "cell_type": "code",
   "execution_count": 22,
   "id": "18e55614",
   "metadata": {},
   "outputs": [
    {
     "name": "stdout",
     "output_type": "stream",
     "text": [
      "shape: (4, 4)\n",
      "┌─────────────────────┬───────┬───────┬───────┐\n",
      "│ time                ┆ stock ┆ trade ┆ quote │\n",
      "│ ---                 ┆ ---   ┆ ---   ┆ ---   │\n",
      "│ datetime[μs]        ┆ str   ┆ i64   ┆ i64   │\n",
      "╞═════════════════════╪═══════╪═══════╪═══════╡\n",
      "│ 2020-01-01 09:01:00 ┆ A     ┆ 101   ┆ 100   │\n",
      "│ 2020-01-01 09:01:00 ┆ B     ┆ 299   ┆ null  │\n",
      "│ 2020-01-01 09:03:00 ┆ B     ┆ 301   ┆ 300   │\n",
      "│ 2020-01-01 09:06:00 ┆ C     ┆ 500   ┆ null  │\n",
      "└─────────────────────┴───────┴───────┴───────┘\n"
     ]
    },
    {
     "name": "stderr",
     "output_type": "stream",
     "text": [
      "/tmp/ipykernel_7450/4000053580.py:1: UserWarning: Sortedness of columns cannot be checked when 'by' groups provided\n",
      "  df_asof_tolerance_join = df_trades.join_asof(\n"
     ]
    }
   ],
   "source": [
    "df_asof_tolerance_join = df_trades.join_asof(\n",
    "    df_quotes, on=\"time\", by=\"stock\", tolerance=\"1m\"\n",
    ")\n",
    "print(df_asof_tolerance_join)"
   ]
  },
  {
   "cell_type": "markdown",
   "id": "cb9bdd8b",
   "metadata": {},
   "source": [
    "**TODO**: have now fully grasped this yet"
   ]
  },
  {
   "cell_type": "markdown",
   "id": "d6f18918",
   "metadata": {},
   "source": [
    "## Cartesian product\n",
    "\n",
    "retrieving the set of all ordered combinations between two set's. again, very handy."
   ]
  },
  {
   "cell_type": "code",
   "execution_count": 23,
   "id": "2f8274a5",
   "metadata": {},
   "outputs": [
    {
     "data": {
      "text/html": [
       "<div><style>\n",
       ".dataframe > thead > tr,\n",
       ".dataframe > tbody > tr {\n",
       "  text-align: right;\n",
       "  white-space: pre-wrap;\n",
       "}\n",
       "</style>\n",
       "<small>shape: (6, 2)</small><table border=\"1\" class=\"dataframe\"><thead><tr><th>name</th><th>monopoly_token</th></tr><tr><td>str</td><td>str</td></tr></thead><tbody><tr><td>&quot;Alice&quot;</td><td>&quot;hat&quot;</td></tr><tr><td>&quot;Alice&quot;</td><td>&quot;shoe&quot;</td></tr><tr><td>&quot;Alice&quot;</td><td>&quot;boat&quot;</td></tr><tr><td>&quot;Bob&quot;</td><td>&quot;hat&quot;</td></tr><tr><td>&quot;Bob&quot;</td><td>&quot;shoe&quot;</td></tr><tr><td>&quot;Bob&quot;</td><td>&quot;boat&quot;</td></tr></tbody></table></div>"
      ],
      "text/plain": [
       "shape: (6, 2)\n",
       "┌───────┬────────────────┐\n",
       "│ name  ┆ monopoly_token │\n",
       "│ ---   ┆ ---            │\n",
       "│ str   ┆ str            │\n",
       "╞═══════╪════════════════╡\n",
       "│ Alice ┆ hat            │\n",
       "│ Alice ┆ shoe           │\n",
       "│ Alice ┆ boat           │\n",
       "│ Bob   ┆ hat            │\n",
       "│ Bob   ┆ shoe           │\n",
       "│ Bob   ┆ boat           │\n",
       "└───────┴────────────────┘"
      ]
     },
     "execution_count": 23,
     "metadata": {},
     "output_type": "execute_result"
    }
   ],
   "source": [
    "tokens = pl.DataFrame({\"monopoly_token\": [\"hat\", \"shoe\", \"boat\"]})\n",
    "\n",
    "players.select(pl.col(\"name\")).join(tokens, how=\"cross\")"
   ]
  }
 ],
 "metadata": {
  "kernelspec": {
   "display_name": ".venv",
   "language": "python",
   "name": "python3"
  },
  "language_info": {
   "codemirror_mode": {
    "name": "ipython",
    "version": 3
   },
   "file_extension": ".py",
   "mimetype": "text/x-python",
   "name": "python",
   "nbconvert_exporter": "python",
   "pygments_lexer": "ipython3",
   "version": "3.12.3"
  }
 },
 "nbformat": 4,
 "nbformat_minor": 5
}
