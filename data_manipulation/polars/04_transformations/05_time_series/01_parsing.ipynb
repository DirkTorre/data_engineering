{
 "cells": [
  {
   "cell_type": "markdown",
   "id": "aaac6a86",
   "metadata": {},
   "source": [
    "# [Transformations - Time Series - Parsing](https://docs.pola.rs/user-guide/transformations/time-series/parsing/)"
   ]
  }
 ],
 "metadata": {
  "language_info": {
   "name": "python"
  }
 },
 "nbformat": 4,
 "nbformat_minor": 5
}
