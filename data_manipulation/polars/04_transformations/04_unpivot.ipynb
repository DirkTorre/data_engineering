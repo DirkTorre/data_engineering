{
 "cells": [
  {
   "cell_type": "markdown",
   "id": "5c166d98",
   "metadata": {},
   "source": [
    "# [Transformations: Univots](https://docs.pola.rs/user-guide/transformations/unpivot/)\n",
    "\n",
    "wide to long\n"
   ]
  },
  {
   "cell_type": "code",
   "execution_count": 1,
   "id": "62ec8545",
   "metadata": {},
   "outputs": [
    {
     "name": "stdout",
     "output_type": "stream",
     "text": [
      "shape: (3, 4)\n",
      "┌─────┬─────┬─────┬─────┐\n",
      "│ A   ┆ B   ┆ C   ┆ D   │\n",
      "│ --- ┆ --- ┆ --- ┆ --- │\n",
      "│ str ┆ i64 ┆ i64 ┆ i64 │\n",
      "╞═════╪═════╪═════╪═════╡\n",
      "│ a   ┆ 1   ┆ 10  ┆ 2   │\n",
      "│ b   ┆ 3   ┆ 11  ┆ 4   │\n",
      "│ a   ┆ 5   ┆ 12  ┆ 6   │\n",
      "└─────┴─────┴─────┴─────┘\n"
     ]
    }
   ],
   "source": [
    "import polars as pl\n",
    "\n",
    "df = pl.DataFrame(\n",
    "    {\n",
    "        \"A\": [\"a\", \"b\", \"a\"],\n",
    "        \"B\": [1, 3, 5],\n",
    "        \"C\": [10, 11, 12],\n",
    "        \"D\": [2, 4, 6],\n",
    "    }\n",
    ")\n",
    "print(df)"
   ]
  },
  {
   "cell_type": "markdown",
   "id": "7559092c",
   "metadata": {},
   "source": [
    "column A and B become the new indices. column names C and D become repeated variables. the values will be put in the last column."
   ]
  },
  {
   "cell_type": "code",
   "execution_count": 3,
   "id": "01e9851b",
   "metadata": {},
   "outputs": [
    {
     "data": {
      "text/html": [
       "<div><style>\n",
       ".dataframe > thead > tr,\n",
       ".dataframe > tbody > tr {\n",
       "  text-align: right;\n",
       "  white-space: pre-wrap;\n",
       "}\n",
       "</style>\n",
       "<small>shape: (6, 4)</small><table border=\"1\" class=\"dataframe\"><thead><tr><th>A</th><th>B</th><th>variable</th><th>value</th></tr><tr><td>str</td><td>i64</td><td>str</td><td>i64</td></tr></thead><tbody><tr><td>&quot;a&quot;</td><td>1</td><td>&quot;C&quot;</td><td>10</td></tr><tr><td>&quot;b&quot;</td><td>3</td><td>&quot;C&quot;</td><td>11</td></tr><tr><td>&quot;a&quot;</td><td>5</td><td>&quot;C&quot;</td><td>12</td></tr><tr><td>&quot;a&quot;</td><td>1</td><td>&quot;D&quot;</td><td>2</td></tr><tr><td>&quot;b&quot;</td><td>3</td><td>&quot;D&quot;</td><td>4</td></tr><tr><td>&quot;a&quot;</td><td>5</td><td>&quot;D&quot;</td><td>6</td></tr></tbody></table></div>"
      ],
      "text/plain": [
       "shape: (6, 4)\n",
       "┌─────┬─────┬──────────┬───────┐\n",
       "│ A   ┆ B   ┆ variable ┆ value │\n",
       "│ --- ┆ --- ┆ ---      ┆ ---   │\n",
       "│ str ┆ i64 ┆ str      ┆ i64   │\n",
       "╞═════╪═════╪══════════╪═══════╡\n",
       "│ a   ┆ 1   ┆ C        ┆ 10    │\n",
       "│ b   ┆ 3   ┆ C        ┆ 11    │\n",
       "│ a   ┆ 5   ┆ C        ┆ 12    │\n",
       "│ a   ┆ 1   ┆ D        ┆ 2     │\n",
       "│ b   ┆ 3   ┆ D        ┆ 4     │\n",
       "│ a   ┆ 5   ┆ D        ┆ 6     │\n",
       "└─────┴─────┴──────────┴───────┘"
      ]
     },
     "execution_count": 3,
     "metadata": {},
     "output_type": "execute_result"
    }
   ],
   "source": [
    "df.unpivot([\"C\", \"D\"], index=[\"A\", \"B\"])"
   ]
  }
 ],
 "metadata": {
  "kernelspec": {
   "display_name": ".venv",
   "language": "python",
   "name": "python3"
  },
  "language_info": {
   "codemirror_mode": {
    "name": "ipython",
    "version": 3
   },
   "file_extension": ".py",
   "mimetype": "text/x-python",
   "name": "python",
   "nbconvert_exporter": "python",
   "pygments_lexer": "ipython3",
   "version": "3.12.3"
  }
 },
 "nbformat": 4,
 "nbformat_minor": 5
}
