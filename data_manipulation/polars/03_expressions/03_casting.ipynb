{
 "cells": [
  {
   "cell_type": "markdown",
   "id": "4c49a4fa",
   "metadata": {},
   "source": [
    "# [Expressions: Casting](https://docs.pola.rs/user-guide/expressions/casting/)"
   ]
  }
 ],
 "metadata": {
  "language_info": {
   "name": "python"
  }
 },
 "nbformat": 4,
 "nbformat_minor": 5
}
