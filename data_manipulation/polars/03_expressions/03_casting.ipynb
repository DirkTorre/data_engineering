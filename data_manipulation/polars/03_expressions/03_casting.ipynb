{
 "cells": [
  {
   "cell_type": "markdown",
   "id": "4c49a4fa",
   "metadata": {},
   "source": [
    "# [Expressions: Casting](https://docs.pola.rs/user-guide/expressions/casting/)"
   ]
  },
  {
   "cell_type": "code",
   "execution_count": 1,
   "id": "f100188d",
   "metadata": {},
   "outputs": [
    {
     "data": {
      "text/html": [
       "<div><style>\n",
       ".dataframe > thead > tr,\n",
       ".dataframe > tbody > tr {\n",
       "  text-align: right;\n",
       "  white-space: pre-wrap;\n",
       "}\n",
       "</style>\n",
       "<small>shape: (3, 3)</small><table border=\"1\" class=\"dataframe\"><thead><tr><th>integers</th><th>big_integers</th><th>floats</th></tr><tr><td>i64</td><td>i64</td><td>f64</td></tr></thead><tbody><tr><td>1</td><td>10000002</td><td>4.0</td></tr><tr><td>2</td><td>2</td><td>5.8</td></tr><tr><td>3</td><td>30000003</td><td>-6.3</td></tr></tbody></table></div>"
      ],
      "text/plain": [
       "shape: (3, 3)\n",
       "┌──────────┬──────────────┬────────┐\n",
       "│ integers ┆ big_integers ┆ floats │\n",
       "│ ---      ┆ ---          ┆ ---    │\n",
       "│ i64      ┆ i64          ┆ f64    │\n",
       "╞══════════╪══════════════╪════════╡\n",
       "│ 1        ┆ 10000002     ┆ 4.0    │\n",
       "│ 2        ┆ 2            ┆ 5.8    │\n",
       "│ 3        ┆ 30000003     ┆ -6.3   │\n",
       "└──────────┴──────────────┴────────┘"
      ]
     },
     "execution_count": 1,
     "metadata": {},
     "output_type": "execute_result"
    }
   ],
   "source": [
    "import polars as pl\n",
    "\n",
    "df = pl.DataFrame(\n",
    "    {\n",
    "        \"integers\": [1, 2, 3],\n",
    "        \"big_integers\": [10000002, 2, 30000003],\n",
    "        \"floats\": [4.0, 5.8, -6.3],\n",
    "    }\n",
    ")\n",
    "df"
   ]
  },
  {
   "cell_type": "markdown",
   "id": "421b92ba",
   "metadata": {},
   "source": [
    "## Basic example\n",
    "\n",
    "Polars uses the `cast` function to transform data types. There is an parameter `strict` (default) that determines if an value can not be converted. if it is set to False, then values that can't be converted will be set to null."
   ]
  },
  {
   "cell_type": "code",
   "execution_count": 2,
   "id": "efc80d23",
   "metadata": {},
   "outputs": [
    {
     "data": {
      "text/html": [
       "<div><style>\n",
       ".dataframe > thead > tr,\n",
       ".dataframe > tbody > tr {\n",
       "  text-align: right;\n",
       "  white-space: pre-wrap;\n",
       "}\n",
       "</style>\n",
       "<small>shape: (3, 2)</small><table border=\"1\" class=\"dataframe\"><thead><tr><th>integers_as_float</th><th>floats_as_integers</th></tr><tr><td>f32</td><td>i32</td></tr></thead><tbody><tr><td>1.0</td><td>4</td></tr><tr><td>2.0</td><td>5</td></tr><tr><td>3.0</td><td>-6</td></tr></tbody></table></div>"
      ],
      "text/plain": [
       "shape: (3, 2)\n",
       "┌───────────────────┬────────────────────┐\n",
       "│ integers_as_float ┆ floats_as_integers │\n",
       "│ ---               ┆ ---                │\n",
       "│ f32               ┆ i32                │\n",
       "╞═══════════════════╪════════════════════╡\n",
       "│ 1.0               ┆ 4                  │\n",
       "│ 2.0               ┆ 5                  │\n",
       "│ 3.0               ┆ -6                 │\n",
       "└───────────────────┴────────────────────┘"
      ]
     },
     "execution_count": 2,
     "metadata": {},
     "output_type": "execute_result"
    }
   ],
   "source": [
    "df.select(\n",
    "    pl.col(\"integers\").cast(pl.Float32).alias(\"integers_as_float\"),\n",
    "    pl.col(\"floats\").cast(pl.Int32).alias(\"floats_as_integers\")\n",
    ")"
   ]
  },
  {
   "cell_type": "markdown",
   "id": "99f39ad2",
   "metadata": {},
   "source": [
    "## Downcasting numerical data types"
   ]
  },
  {
   "cell_type": "code",
   "execution_count": 5,
   "id": "361a2f0e",
   "metadata": {},
   "outputs": [
    {
     "name": "stdout",
     "output_type": "stream",
     "text": [
      "before: 72\n",
      "after: 42\n"
     ]
    }
   ],
   "source": [
    "print(f\"before: {df.estimated_size()}\")\n",
    "result = df.with_columns(\n",
    "    pl.col(\"integers\").cast(pl.Int16),\n",
    "    pl.col(\"floats\").cast(pl.Float32)\n",
    ")\n",
    "print(f\"after: {result.estimated_size()}\")"
   ]
  },
  {
   "cell_type": "markdown",
   "id": "76bdb8d6",
   "metadata": {},
   "source": [
    "If you downcast a coolumn to a type that's too small, polars will give an error."
   ]
  },
  {
   "cell_type": "code",
   "execution_count": 6,
   "id": "136ac58d",
   "metadata": {},
   "outputs": [
    {
     "name": "stdout",
     "output_type": "stream",
     "text": [
      "conversion from `i64` to `i8` failed in column 'big_integers' for 2 out of 3 values: [10000002, 30000003]\n"
     ]
    }
   ],
   "source": [
    "from polars.exceptions import InvalidOperationError\n",
    "\n",
    "try:\n",
    "    result = df.select(pl.col(\"big_integers\").cast(pl.Int8))\n",
    "    print(result)\n",
    "except InvalidOperationError as err:\n",
    "    print(err)"
   ]
  },
  {
   "cell_type": "markdown",
   "id": "e7185a0b",
   "metadata": {},
   "source": [
    "Changing the `strict` parameter will change over- and underflowing values to null."
   ]
  },
  {
   "cell_type": "code",
   "execution_count": 7,
   "id": "517f3bc8",
   "metadata": {},
   "outputs": [
    {
     "name": "stdout",
     "output_type": "stream",
     "text": [
      "shape: (3, 1)\n",
      "┌──────────────┐\n",
      "│ big_integers │\n",
      "│ ---          │\n",
      "│ i8           │\n",
      "╞══════════════╡\n",
      "│ null         │\n",
      "│ 2            │\n",
      "│ null         │\n",
      "└──────────────┘\n"
     ]
    }
   ],
   "source": [
    "result = df.select(pl.col(\"big_integers\").cast(pl.Int8, strict=False))\n",
    "print(result)"
   ]
  },
  {
   "cell_type": "markdown",
   "id": "d9a04759",
   "metadata": {},
   "source": [
    "## Converting strings to numeric data types"
   ]
  },
  {
   "cell_type": "code",
   "execution_count": 10,
   "id": "110a962c",
   "metadata": {},
   "outputs": [
    {
     "data": {
      "text/html": [
       "<div><style>\n",
       ".dataframe > thead > tr,\n",
       ".dataframe > tbody > tr {\n",
       "  text-align: right;\n",
       "  white-space: pre-wrap;\n",
       "}\n",
       "</style>\n",
       "<small>shape: (3, 3)</small><table border=\"1\" class=\"dataframe\"><thead><tr><th>integers_as_strings</th><th>floats_as_strings</th><th>floats</th></tr><tr><td>i32</td><td>f64</td><td>str</td></tr></thead><tbody><tr><td>1</td><td>4.0</td><td>&quot;4.0&quot;</td></tr><tr><td>2</td><td>5.8</td><td>&quot;5.8&quot;</td></tr><tr><td>3</td><td>-6.3</td><td>&quot;-6.3&quot;</td></tr></tbody></table></div>"
      ],
      "text/plain": [
       "shape: (3, 3)\n",
       "┌─────────────────────┬───────────────────┬────────┐\n",
       "│ integers_as_strings ┆ floats_as_strings ┆ floats │\n",
       "│ ---                 ┆ ---               ┆ ---    │\n",
       "│ i32                 ┆ f64               ┆ str    │\n",
       "╞═════════════════════╪═══════════════════╪════════╡\n",
       "│ 1                   ┆ 4.0               ┆ 4.0    │\n",
       "│ 2                   ┆ 5.8               ┆ 5.8    │\n",
       "│ 3                   ┆ -6.3              ┆ -6.3   │\n",
       "└─────────────────────┴───────────────────┴────────┘"
      ]
     },
     "execution_count": 10,
     "metadata": {},
     "output_type": "execute_result"
    }
   ],
   "source": [
    "df = pl.DataFrame(\n",
    "    {\n",
    "        \"integers_as_strings\": [\"1\", \"2\", \"3\"],\n",
    "        \"floats_as_strings\": [\"4.0\", \"5.8\", \"-6.3\"],\n",
    "        \"floats\": [4.0, 5.8, -6.3],\n",
    "    }\n",
    ")\n",
    "\n",
    "df.select(\n",
    "    pl.col(\"integers_as_strings\").cast(pl.Int32),\n",
    "    pl.col(\"floats_as_strings\").cast(pl.Float64),\n",
    "    pl.col(\"floats\").cast(pl.String),\n",
    ")"
   ]
  },
  {
   "cell_type": "code",
   "execution_count": 11,
   "id": "37740e41",
   "metadata": {},
   "outputs": [
    {
     "name": "stdout",
     "output_type": "stream",
     "text": [
      "conversion from `str` to `f64` failed in column 'floats' for 1 out of 3 values: [\"- 6 . 3\"]\n"
     ]
    }
   ],
   "source": [
    "df = pl.DataFrame(\n",
    "    {\n",
    "        \"floats\": [\"4.0\", \"5.8\", \"- 6 . 3\"],\n",
    "    }\n",
    ")\n",
    "try:\n",
    "    result = df.select(pl.col(\"floats\").cast(pl.Float64))\n",
    "except InvalidOperationError as err:\n",
    "    print(err)"
   ]
  },
  {
   "cell_type": "markdown",
   "id": "f98a82b1",
   "metadata": {},
   "source": [
    "## Booleans\n",
    "\n",
    "0 is converted to False, others will be converted to 1."
   ]
  },
  {
   "cell_type": "code",
   "execution_count": 13,
   "id": "3cea56a4",
   "metadata": {},
   "outputs": [
    {
     "data": {
      "text/html": [
       "<div><style>\n",
       ".dataframe > thead > tr,\n",
       ".dataframe > tbody > tr {\n",
       "  text-align: right;\n",
       "  white-space: pre-wrap;\n",
       "}\n",
       "</style>\n",
       "<small>shape: (5, 3)</small><table border=\"1\" class=\"dataframe\"><thead><tr><th>integers</th><th>floats</th><th>bools</th></tr><tr><td>bool</td><td>bool</td><td>i8</td></tr></thead><tbody><tr><td>true</td><td>false</td><td>1</td></tr><tr><td>false</td><td>true</td><td>0</td></tr><tr><td>true</td><td>true</td><td>1</td></tr><tr><td>true</td><td>true</td><td>0</td></tr><tr><td>true</td><td>true</td><td>1</td></tr></tbody></table></div>"
      ],
      "text/plain": [
       "shape: (5, 3)\n",
       "┌──────────┬────────┬───────┐\n",
       "│ integers ┆ floats ┆ bools │\n",
       "│ ---      ┆ ---    ┆ ---   │\n",
       "│ bool     ┆ bool   ┆ i8    │\n",
       "╞══════════╪════════╪═══════╡\n",
       "│ true     ┆ false  ┆ 1     │\n",
       "│ false    ┆ true   ┆ 0     │\n",
       "│ true     ┆ true   ┆ 1     │\n",
       "│ true     ┆ true   ┆ 0     │\n",
       "│ true     ┆ true   ┆ 1     │\n",
       "└──────────┴────────┴───────┘"
      ]
     },
     "execution_count": 13,
     "metadata": {},
     "output_type": "execute_result"
    }
   ],
   "source": [
    "df = pl.DataFrame(\n",
    "    {\n",
    "        \"integers\": [-1, 0, 2, 3, 4],\n",
    "        \"floats\": [0.0, 1.0, 2.0, 3.0, 4.0],\n",
    "        \"bools\": [True, False, True, False, True],\n",
    "    }\n",
    ")\n",
    "df.select(\n",
    "    pl.col(\"integers\").cast(pl.Boolean),\n",
    "    pl.col(\"floats\").cast(pl.Boolean),\n",
    "    pl.col(\"bools\").cast(pl.Int8),\n",
    ")"
   ]
  },
  {
   "cell_type": "markdown",
   "id": "6da8ea87",
   "metadata": {},
   "source": [
    "## Parsing / formatting temporal data types"
   ]
  },
  {
   "cell_type": "code",
   "execution_count": 18,
   "id": "206df56c",
   "metadata": {},
   "outputs": [
    {
     "data": {
      "text/html": [
       "<div><style>\n",
       ".dataframe > thead > tr,\n",
       ".dataframe > tbody > tr {\n",
       "  text-align: right;\n",
       "  white-space: pre-wrap;\n",
       "}\n",
       "</style>\n",
       "<small>shape: (2, 3)</small><table border=\"1\" class=\"dataframe\"><thead><tr><th>days_since_epoch</th><th>us_since_epoch</th><th>ns_since_epoch</th></tr><tr><td>i64</td><td>i64</td><td>i64</td></tr></thead><tbody><tr><td>0</td><td>0</td><td>0</td></tr><tr><td>9</td><td>60000000</td><td>1000000000</td></tr></tbody></table></div>"
      ],
      "text/plain": [
       "shape: (2, 3)\n",
       "┌──────────────────┬────────────────┬────────────────┐\n",
       "│ days_since_epoch ┆ us_since_epoch ┆ ns_since_epoch │\n",
       "│ ---              ┆ ---            ┆ ---            │\n",
       "│ i64              ┆ i64            ┆ i64            │\n",
       "╞══════════════════╪════════════════╪════════════════╡\n",
       "│ 0                ┆ 0              ┆ 0              │\n",
       "│ 9                ┆ 60000000       ┆ 1000000000     │\n",
       "└──────────────────┴────────────────┴────────────────┘"
      ]
     },
     "execution_count": 18,
     "metadata": {},
     "output_type": "execute_result"
    }
   ],
   "source": [
    "from datetime import date, datetime, time\n",
    "\n",
    "df = pl.DataFrame(\n",
    "    {\n",
    "        \"date\": [\n",
    "            date(1970, 1, 1),  # epoch\n",
    "            date(1970, 1, 10),  # 9 days later\n",
    "        ],\n",
    "        \"datetime\": [\n",
    "            datetime(1970, 1, 1, 0, 0, 0),  # epoch\n",
    "            datetime(1970, 1, 1, 0, 1, 0),  # 1 minute later\n",
    "        ],\n",
    "        \"time\": [\n",
    "            time(0, 0, 0),  # reference time\n",
    "            time(0, 0, 1),  # 1 second later\n",
    "        ],\n",
    "    }\n",
    ")\n",
    "df.select(\n",
    "    pl.col(\"date\").cast(pl.Int64).alias(\"days_since_epoch\"),\n",
    "    pl.col(\"datetime\").cast(pl.Int64).alias(\"us_since_epoch\"),\n",
    "    pl.col(\"time\").cast(pl.Int64).alias(\"ns_since_epoch\"),\n",
    ")"
   ]
  },
  {
   "cell_type": "code",
   "execution_count": 23,
   "id": "85c1c40e",
   "metadata": {},
   "outputs": [
    {
     "data": {
      "text/html": [
       "<div><style>\n",
       ".dataframe > thead > tr,\n",
       ".dataframe > tbody > tr {\n",
       "  text-align: right;\n",
       "  white-space: pre-wrap;\n",
       "}\n",
       "</style>\n",
       "<small>shape: (2, 2)</small><table border=\"1\" class=\"dataframe\"><thead><tr><th>date</th><th>string</th></tr><tr><td>str</td><td>datetime[μs]</td></tr></thead><tbody><tr><td>&quot;2022-01-01&quot;</td><td>2022-01-01 00:00:00</td></tr><tr><td>&quot;2022-01-02&quot;</td><td>2022-01-02 00:00:00</td></tr></tbody></table></div>"
      ],
      "text/plain": [
       "shape: (2, 2)\n",
       "┌────────────┬─────────────────────┐\n",
       "│ date       ┆ string              │\n",
       "│ ---        ┆ ---                 │\n",
       "│ str        ┆ datetime[μs]        │\n",
       "╞════════════╪═════════════════════╡\n",
       "│ 2022-01-01 ┆ 2022-01-01 00:00:00 │\n",
       "│ 2022-01-02 ┆ 2022-01-02 00:00:00 │\n",
       "└────────────┴─────────────────────┘"
      ]
     },
     "execution_count": 23,
     "metadata": {},
     "output_type": "execute_result"
    }
   ],
   "source": [
    "df = pl.DataFrame(\n",
    "    {\n",
    "        \"date\": [date(2022, 1, 1), date(2022, 1, 2)],\n",
    "        \"string\": [\"2022-01-01\", \"2022-01-02\"],\n",
    "    }\n",
    ")\n",
    "\n",
    "df.select(\n",
    "    pl.col(\"date\").dt.to_string(\"%Y-%m-%d\"),\n",
    "    pl.col(\"string\").str.to_datetime(\"%Y-%m-%d\")\n",
    ")"
   ]
  }
 ],
 "metadata": {
  "kernelspec": {
   "display_name": ".venv",
   "language": "python",
   "name": "python3"
  },
  "language_info": {
   "codemirror_mode": {
    "name": "ipython",
    "version": 3
   },
   "file_extension": ".py",
   "mimetype": "text/x-python",
   "name": "python",
   "nbconvert_exporter": "python",
   "pygments_lexer": "ipython3",
   "version": "3.12.3"
  }
 },
 "nbformat": 4,
 "nbformat_minor": 5
}
