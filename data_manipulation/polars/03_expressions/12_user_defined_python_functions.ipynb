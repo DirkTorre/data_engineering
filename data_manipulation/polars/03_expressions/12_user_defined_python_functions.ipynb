{
 "cells": [
  {
   "cell_type": "markdown",
   "id": "e88ede02",
   "metadata": {},
   "source": [
    "# [User-defined Python functions](https://docs.pola.rs/user-guide/expressions/user-defined-python-functions/)\n",
    "\n",
    "There a re two ways to do this:\n",
    "\n",
    "- map_elements: Call a function separately on each value in the Series.\n",
    "- map_batches: Always passes the full Series to the function.\n",
    "\n",
    "## Processing individual values with `map_elements()`"
   ]
  },
  {
   "cell_type": "code",
   "execution_count": 1,
   "id": "3fd96f35",
   "metadata": {},
   "outputs": [
    {
     "name": "stdout",
     "output_type": "stream",
     "text": [
      "shape: (4, 2)\n",
      "┌──────┬────────┐\n",
      "│ keys ┆ values │\n",
      "│ ---  ┆ ---    │\n",
      "│ str  ┆ i64    │\n",
      "╞══════╪════════╡\n",
      "│ a    ┆ 10     │\n",
      "│ a    ┆ 7      │\n",
      "│ b    ┆ 1      │\n",
      "│ b    ┆ 23     │\n",
      "└──────┴────────┘\n"
     ]
    }
   ],
   "source": [
    "import polars as pl\n",
    "df = pl.DataFrame(\n",
    "    {\n",
    "        \"keys\": [\"a\", \"a\", \"b\", \"b\"],\n",
    "        \"values\": [10, 7, 1, 23],\n",
    "    }\n",
    ")\n",
    "print(df)"
   ]
  },
  {
   "cell_type": "code",
   "execution_count": 4,
   "id": "14895ec3",
   "metadata": {},
   "outputs": [
    {
     "name": "stderr",
     "output_type": "stream",
     "text": [
      "/tmp/ipykernel_20044/150826428.py:6: PolarsInefficientMapWarning: \n",
      "Expr.map_elements is significantly slower than the native expressions API.\n",
      "Only use if you absolutely CANNOT implement your logic otherwise.\n",
      "Replace this expression...\n",
      "  - pl.col(\"values\").map_elements(my_log)\n",
      "with this one instead:\n",
      "  + pl.col(\"values\").log()\n",
      "\n",
      "  df.select(pl.col(\"values\").map_elements(my_log, return_dtype=pl.Float64))\n"
     ]
    },
    {
     "data": {
      "text/html": [
       "<div><style>\n",
       ".dataframe > thead > tr,\n",
       ".dataframe > tbody > tr {\n",
       "  text-align: right;\n",
       "  white-space: pre-wrap;\n",
       "}\n",
       "</style>\n",
       "<small>shape: (4, 1)</small><table border=\"1\" class=\"dataframe\"><thead><tr><th>values</th></tr><tr><td>f64</td></tr></thead><tbody><tr><td>2.302585</td></tr><tr><td>1.94591</td></tr><tr><td>0.0</td></tr><tr><td>3.135494</td></tr></tbody></table></div>"
      ],
      "text/plain": [
       "shape: (4, 1)\n",
       "┌──────────┐\n",
       "│ values   │\n",
       "│ ---      │\n",
       "│ f64      │\n",
       "╞══════════╡\n",
       "│ 2.302585 │\n",
       "│ 1.94591  │\n",
       "│ 0.0      │\n",
       "│ 3.135494 │\n",
       "└──────────┘"
      ]
     },
     "execution_count": 4,
     "metadata": {},
     "output_type": "execute_result"
    }
   ],
   "source": [
    "import math\n",
    "\n",
    "def my_log(value):\n",
    "    return math.log(value)\n",
    "\n",
    "df.select(pl.col(\"values\").map_elements(my_log, return_dtype=pl.Float64))"
   ]
  },
  {
   "cell_type": "markdown",
   "id": "65a72c22",
   "metadata": {},
   "source": [
    "## Processing a whole Series with `map_batches()`"
   ]
  },
  {
   "cell_type": "code",
   "execution_count": 7,
   "id": "19287f7a",
   "metadata": {},
   "outputs": [
    {
     "name": "stdout",
     "output_type": "stream",
     "text": [
      "== select() with UDF ==\n",
      "shape: (4, 1)\n",
      "┌────────┐\n",
      "│ values │\n",
      "│ ---    │\n",
      "│ f64    │\n",
      "╞════════╡\n",
      "│ -0.25  │\n",
      "│ -3.25  │\n",
      "│ -9.25  │\n",
      "│ 12.75  │\n",
      "└────────┘\n",
      "== group_by() with UDF ==\n",
      "shape: (2, 2)\n",
      "┌──────┬───────────────┐\n",
      "│ keys ┆ values        │\n",
      "│ ---  ┆ ---           │\n",
      "│ str  ┆ list[f64]     │\n",
      "╞══════╪═══════════════╡\n",
      "│ b    ┆ [-11.0, 11.0] │\n",
      "│ a    ┆ [1.5, -1.5]   │\n",
      "└──────┴───────────────┘\n"
     ]
    }
   ],
   "source": [
    "def diff_from_mean(series):\n",
    "    total = 0\n",
    "    for value in series:\n",
    "        total += value\n",
    "    mean = total / len(series)\n",
    "    return pl.Series([value - mean for value in series])\n",
    "\n",
    "# apply fucntion to full series\n",
    "out = df.select(pl.col(\"values\").map_batches(diff_from_mean))\n",
    "print(\"== select() with UDF ==\")\n",
    "print(out)\n",
    "\n",
    "# apply fucntion per group\n",
    "out = df.group_by(\"keys\").agg(pl.col(\"values\").map_batches(diff_from_mean))\n",
    "print(\"== group_by() with UDF ==\")\n",
    "print(out)"
   ]
  },
  {
   "cell_type": "markdown",
   "id": "1cdc3ea3",
   "metadata": {},
   "source": [
    "## Fast operations with user-defined functions"
   ]
  }
 ],
 "metadata": {
  "kernelspec": {
   "display_name": ".venv",
   "language": "python",
   "name": "python3"
  },
  "language_info": {
   "codemirror_mode": {
    "name": "ipython",
    "version": 3
   },
   "file_extension": ".py",
   "mimetype": "text/x-python",
   "name": "python",
   "nbconvert_exporter": "python",
   "pygments_lexer": "ipython3",
   "version": "3.12.3"
  }
 },
 "nbformat": 4,
 "nbformat_minor": 5
}
