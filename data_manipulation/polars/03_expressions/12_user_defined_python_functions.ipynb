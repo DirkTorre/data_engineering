{
 "cells": [
  {
   "cell_type": "markdown",
   "id": "e88ede02",
   "metadata": {},
   "source": [
    "# [Expressions: User-defined Python functions](https://docs.pola.rs/user-guide/expressions/user-defined-python-functions/)\n",
    "\n",
    "There a re two ways to do this:\n",
    "\n",
    "- map_elements: Call a function separately on each value in the Series.\n",
    "- map_batches: Always passes the full Series to the function.\n",
    "\n",
    "## Processing individual values with `map_elements()`"
   ]
  },
  {
   "cell_type": "code",
   "execution_count": 1,
   "id": "3fd96f35",
   "metadata": {},
   "outputs": [
    {
     "name": "stdout",
     "output_type": "stream",
     "text": [
      "shape: (4, 2)\n",
      "┌──────┬────────┐\n",
      "│ keys ┆ values │\n",
      "│ ---  ┆ ---    │\n",
      "│ str  ┆ i64    │\n",
      "╞══════╪════════╡\n",
      "│ a    ┆ 10     │\n",
      "│ a    ┆ 7      │\n",
      "│ b    ┆ 1      │\n",
      "│ b    ┆ 23     │\n",
      "└──────┴────────┘\n"
     ]
    }
   ],
   "source": [
    "import polars as pl\n",
    "df = pl.DataFrame(\n",
    "    {\n",
    "        \"keys\": [\"a\", \"a\", \"b\", \"b\"],\n",
    "        \"values\": [10, 7, 1, 23],\n",
    "    }\n",
    ")\n",
    "print(df)"
   ]
  },
  {
   "cell_type": "code",
   "execution_count": 2,
   "id": "14895ec3",
   "metadata": {},
   "outputs": [
    {
     "name": "stderr",
     "output_type": "stream",
     "text": [
      "/tmp/ipykernel_5410/150826428.py:6: PolarsInefficientMapWarning: \n",
      "Expr.map_elements is significantly slower than the native expressions API.\n",
      "Only use if you absolutely CANNOT implement your logic otherwise.\n",
      "Replace this expression...\n",
      "  - pl.col(\"values\").map_elements(my_log)\n",
      "with this one instead:\n",
      "  + pl.col(\"values\").log()\n",
      "\n",
      "  df.select(pl.col(\"values\").map_elements(my_log, return_dtype=pl.Float64))\n"
     ]
    },
    {
     "data": {
      "text/html": [
       "<div><style>\n",
       ".dataframe > thead > tr,\n",
       ".dataframe > tbody > tr {\n",
       "  text-align: right;\n",
       "  white-space: pre-wrap;\n",
       "}\n",
       "</style>\n",
       "<small>shape: (4, 1)</small><table border=\"1\" class=\"dataframe\"><thead><tr><th>values</th></tr><tr><td>f64</td></tr></thead><tbody><tr><td>2.302585</td></tr><tr><td>1.94591</td></tr><tr><td>0.0</td></tr><tr><td>3.135494</td></tr></tbody></table></div>"
      ],
      "text/plain": [
       "shape: (4, 1)\n",
       "┌──────────┐\n",
       "│ values   │\n",
       "│ ---      │\n",
       "│ f64      │\n",
       "╞══════════╡\n",
       "│ 2.302585 │\n",
       "│ 1.94591  │\n",
       "│ 0.0      │\n",
       "│ 3.135494 │\n",
       "└──────────┘"
      ]
     },
     "execution_count": 2,
     "metadata": {},
     "output_type": "execute_result"
    }
   ],
   "source": [
    "import math\n",
    "\n",
    "def my_log(value):\n",
    "    return math.log(value)\n",
    "\n",
    "df.select(pl.col(\"values\").map_elements(my_log, return_dtype=pl.Float64))"
   ]
  },
  {
   "cell_type": "markdown",
   "id": "65a72c22",
   "metadata": {},
   "source": [
    "## Processing a whole Series with `map_batches()`"
   ]
  },
  {
   "cell_type": "code",
   "execution_count": 3,
   "id": "19287f7a",
   "metadata": {},
   "outputs": [
    {
     "name": "stdout",
     "output_type": "stream",
     "text": [
      "== select() with UDF ==\n",
      "shape: (4, 1)\n",
      "┌────────┐\n",
      "│ values │\n",
      "│ ---    │\n",
      "│ f64    │\n",
      "╞════════╡\n",
      "│ -0.25  │\n",
      "│ -3.25  │\n",
      "│ -9.25  │\n",
      "│ 12.75  │\n",
      "└────────┘\n",
      "== group_by() with UDF ==\n",
      "shape: (2, 2)\n",
      "┌──────┬───────────────┐\n",
      "│ keys ┆ values        │\n",
      "│ ---  ┆ ---           │\n",
      "│ str  ┆ list[f64]     │\n",
      "╞══════╪═══════════════╡\n",
      "│ b    ┆ [-11.0, 11.0] │\n",
      "│ a    ┆ [1.5, -1.5]   │\n",
      "└──────┴───────────────┘\n"
     ]
    }
   ],
   "source": [
    "def diff_from_mean(series):\n",
    "    total = 0\n",
    "    for value in series:\n",
    "        total += value\n",
    "    mean = total / len(series)\n",
    "    return pl.Series([value - mean for value in series])\n",
    "\n",
    "# apply fucntion to full series\n",
    "out = df.select(pl.col(\"values\").map_batches(diff_from_mean))\n",
    "print(\"== select() with UDF ==\")\n",
    "print(out)\n",
    "\n",
    "# apply fucntion per group\n",
    "out = df.group_by(\"keys\").agg(pl.col(\"values\").map_batches(diff_from_mean))\n",
    "print(\"== group_by() with UDF ==\")\n",
    "print(out)"
   ]
  },
  {
   "cell_type": "markdown",
   "id": "1cdc3ea3",
   "metadata": {},
   "source": [
    "## Fast operations with user-defined functions\n",
    "\n",
    "To keep performance up use ufuncs, like NumPy and SciPy use."
   ]
  },
  {
   "cell_type": "code",
   "execution_count": 4,
   "id": "45e08af1",
   "metadata": {},
   "outputs": [
    {
     "data": {
      "text/html": [
       "<div><style>\n",
       ".dataframe > thead > tr,\n",
       ".dataframe > tbody > tr {\n",
       "  text-align: right;\n",
       "  white-space: pre-wrap;\n",
       "}\n",
       "</style>\n",
       "<small>shape: (4, 1)</small><table border=\"1\" class=\"dataframe\"><thead><tr><th>values</th></tr><tr><td>f64</td></tr></thead><tbody><tr><td>2.302585</td></tr><tr><td>1.94591</td></tr><tr><td>0.0</td></tr><tr><td>3.135494</td></tr></tbody></table></div>"
      ],
      "text/plain": [
       "shape: (4, 1)\n",
       "┌──────────┐\n",
       "│ values   │\n",
       "│ ---      │\n",
       "│ f64      │\n",
       "╞══════════╡\n",
       "│ 2.302585 │\n",
       "│ 1.94591  │\n",
       "│ 0.0      │\n",
       "│ 3.135494 │\n",
       "└──────────┘"
      ]
     },
     "execution_count": 4,
     "metadata": {},
     "output_type": "execute_result"
    }
   ],
   "source": [
    "import numpy as np\n",
    "df.select(pl.col(\"values\").map_batches(np.log))"
   ]
  },
  {
   "cell_type": "markdown",
   "id": "de498c3e",
   "metadata": {},
   "source": [
    "## Example: A fast custom function using Numba"
   ]
  },
  {
   "cell_type": "code",
   "execution_count": 5,
   "id": "49f4bde3",
   "metadata": {},
   "outputs": [
    {
     "name": "stdout",
     "output_type": "stream",
     "text": [
      "== select() with UDF ==\n",
      "shape: (4, 1)\n",
      "┌────────┐\n",
      "│ values │\n",
      "│ ---    │\n",
      "│ f64    │\n",
      "╞════════╡\n",
      "│ -0.25  │\n",
      "│ -3.25  │\n",
      "│ -9.25  │\n",
      "│ 12.75  │\n",
      "└────────┘\n",
      "== group_by() with UDF ==\n",
      "shape: (2, 2)\n",
      "┌──────┬───────────────┐\n",
      "│ keys ┆ values        │\n",
      "│ ---  ┆ ---           │\n",
      "│ str  ┆ list[f64]     │\n",
      "╞══════╪═══════════════╡\n",
      "│ a    ┆ [1.5, -1.5]   │\n",
      "│ b    ┆ [-11.0, 11.0] │\n",
      "└──────┴───────────────┘\n"
     ]
    }
   ],
   "source": [
    "from numba import float64, guvectorize, int64\n",
    "\n",
    "# https://numba.readthedocs.io/en/stable/user/vectorize.html\n",
    "@guvectorize([(int64[:], float64[:])], \"(n)->(n)\")\n",
    "def diff_from_mean_numba(arr, result):\n",
    "    total = 0\n",
    "    for value in arr:\n",
    "        total += value\n",
    "    mean = total / len(arr)\n",
    "    for i, value in enumerate(arr):\n",
    "        result[i] = value - mean\n",
    "\n",
    "out = df.select(pl.col(\"values\").map_batches(diff_from_mean_numba))\n",
    "print(\"== select() with UDF ==\")\n",
    "print(out)\n",
    "\n",
    "out = df.group_by(\"keys\").agg(pl.col(\"values\").map_batches(diff_from_mean_numba))\n",
    "print(\"== group_by() with UDF ==\")\n",
    "print(out)"
   ]
  },
  {
   "cell_type": "markdown",
   "id": "200819ee",
   "metadata": {},
   "source": [
    "## Missing data is not allowed when calling generalized ufuncs"
   ]
  },
  {
   "cell_type": "markdown",
   "id": "9ff756a1",
   "metadata": {},
   "source": [
    "## Combining multiple column values"
   ]
  },
  {
   "cell_type": "code",
   "execution_count": 9,
   "id": "cf854591",
   "metadata": {},
   "outputs": [
    {
     "name": "stdout",
     "output_type": "stream",
     "text": [
      "shape: (3, 1)\n",
      "┌─────────────┐\n",
      "│ add_columns │\n",
      "│ ---         │\n",
      "│ f64         │\n",
      "╞═════════════╡\n",
      "│ 11.0        │\n",
      "│ 22.0        │\n",
      "│ 33.0        │\n",
      "└─────────────┘\n"
     ]
    }
   ],
   "source": [
    "@guvectorize([(int64[:], int64[:], float64[:])], \"(n),(n)->(n)\")\n",
    "def add(arr, arr2, result):\n",
    "    for i in range(len(arr)):\n",
    "        result[i] = arr[i] + arr2[i]\n",
    "\n",
    "\n",
    "df3 = pl.DataFrame({\"values1\": [1, 2, 3], \"values2\": [10, 20, 30]})\n",
    "\n",
    "out = df3.select(\n",
    "    # Create a struct that has two columns in it:\n",
    "    pl.struct([\"values1\", \"values2\"])\n",
    "    # Pass the struct to a lambda that then passes the individual columns to\n",
    "    # the add() function:\n",
    "    .map_batches(\n",
    "        lambda combined: add(\n",
    "            combined.struct.field(\"values1\"), combined.struct.field(\"values2\")\n",
    "        )\n",
    "    )\n",
    "    .alias(\"add_columns\")\n",
    ")\n",
    "print(out)"
   ]
  },
  {
   "cell_type": "markdown",
   "id": "90e1845c",
   "metadata": {},
   "source": [
    "## Streaming calculations\n",
    "\n",
    "If the your function uses a lot of memory, you can set `is_element=True` in `map_batches.\n",
    "\n",
    "## Return types\n",
    "\n",
    "The mapping of Python types to Polars data types is as follows:\n",
    "\n",
    "- int -> Int64\n",
    "- float -> Float64\n",
    "- bool -> Boolean\n",
    "- str -> String\n",
    "- list[tp] -> List[tp] (where the inner type is inferred with the same rules)\n",
    "- dict[str, [tp]] -> struct\n",
    "- Any -> object (Prevent this at all times)\n"
   ]
  }
 ],
 "metadata": {
  "kernelspec": {
   "display_name": ".venv",
   "language": "python",
   "name": "python3"
  },
  "language_info": {
   "codemirror_mode": {
    "name": "ipython",
    "version": 3
   },
   "file_extension": ".py",
   "mimetype": "text/x-python",
   "name": "python",
   "nbconvert_exporter": "python",
   "pygments_lexer": "ipython3",
   "version": "3.12.3"
  }
 },
 "nbformat": 4,
 "nbformat_minor": 5
}
