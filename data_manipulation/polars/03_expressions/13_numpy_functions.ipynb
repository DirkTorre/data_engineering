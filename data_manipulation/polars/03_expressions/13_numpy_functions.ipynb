{
 "cells": [
  {
   "cell_type": "markdown",
   "id": "fbffb085",
   "metadata": {},
   "source": [
    "# [Expressions: Numpy functions](https://docs.pola.rs/user-guide/expressions/numpy-functions/)\n",
    "\n",
    "tl;dr: If polars does not have the fucntion you need, numpy might have it, and you can use it."
   ]
  }
 ],
 "metadata": {
  "language_info": {
   "name": "python"
  }
 },
 "nbformat": 4,
 "nbformat_minor": 5
}
