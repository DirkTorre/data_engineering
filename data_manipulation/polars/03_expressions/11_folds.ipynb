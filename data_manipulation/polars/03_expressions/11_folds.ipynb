{
 "cells": [
  {
   "cell_type": "markdown",
   "id": "ab3b217c",
   "metadata": {},
   "source": [
    "# [Expressions: Folds](https://docs.pola.rs/user-guide/expressions/folds/)"
   ]
  },
  {
   "cell_type": "code",
   "execution_count": 1,
   "id": "d55870cc",
   "metadata": {},
   "outputs": [],
   "source": [
    "import operator\n",
    "import polars as pl\n",
    "\n",
    "df = pl.DataFrame(\n",
    "    {\n",
    "        \"label\": [\"foo\", \"bar\", \"spam\"],\n",
    "        \"a\": [1, 2, 3],\n",
    "        \"b\": [10, 20, 30],\n",
    "    }\n",
    ")"
   ]
  },
  {
   "cell_type": "markdown",
   "id": "3362e4c5",
   "metadata": {},
   "source": [
    "There are expressions that perform computations across columns.\n",
    "These are called folds.\n",
    "You can define your own, or use the build in functions like these:"
   ]
  },
  {
   "cell_type": "code",
   "execution_count": 2,
   "id": "a7cdd00f",
   "metadata": {},
   "outputs": [
    {
     "data": {
      "text/html": [
       "<div><style>\n",
       ".dataframe > thead > tr,\n",
       ".dataframe > tbody > tr {\n",
       "  text-align: right;\n",
       "  white-space: pre-wrap;\n",
       "}\n",
       "</style>\n",
       "<small>shape: (3, 7)</small><table border=\"1\" class=\"dataframe\"><thead><tr><th>label</th><th>a</th><th>b</th><th>hor mean</th><th>hor sum</th><th>hor min</th><th>hor max</th></tr><tr><td>str</td><td>i64</td><td>i64</td><td>f64</td><td>i64</td><td>i64</td><td>i64</td></tr></thead><tbody><tr><td>&quot;foo&quot;</td><td>1</td><td>10</td><td>5.5</td><td>11</td><td>1</td><td>10</td></tr><tr><td>&quot;bar&quot;</td><td>2</td><td>20</td><td>11.0</td><td>22</td><td>2</td><td>20</td></tr><tr><td>&quot;spam&quot;</td><td>3</td><td>30</td><td>16.5</td><td>33</td><td>3</td><td>30</td></tr></tbody></table></div>"
      ],
      "text/plain": [
       "shape: (3, 7)\n",
       "┌───────┬─────┬─────┬──────────┬─────────┬─────────┬─────────┐\n",
       "│ label ┆ a   ┆ b   ┆ hor mean ┆ hor sum ┆ hor min ┆ hor max │\n",
       "│ ---   ┆ --- ┆ --- ┆ ---      ┆ ---     ┆ ---     ┆ ---     │\n",
       "│ str   ┆ i64 ┆ i64 ┆ f64      ┆ i64     ┆ i64     ┆ i64     │\n",
       "╞═══════╪═════╪═════╪══════════╪═════════╪═════════╪═════════╡\n",
       "│ foo   ┆ 1   ┆ 10  ┆ 5.5      ┆ 11      ┆ 1       ┆ 10      │\n",
       "│ bar   ┆ 2   ┆ 20  ┆ 11.0     ┆ 22      ┆ 2       ┆ 20      │\n",
       "│ spam  ┆ 3   ┆ 30  ┆ 16.5     ┆ 33      ┆ 3       ┆ 30      │\n",
       "└───────┴─────┴─────┴──────────┴─────────┴─────────┴─────────┘"
      ]
     },
     "execution_count": 2,
     "metadata": {},
     "output_type": "execute_result"
    }
   ],
   "source": [
    "df.with_columns(\n",
    "    pl.mean_horizontal(pl.col(\"a\",\"b\")).alias(\"hor mean\"),\n",
    "    pl.sum_horizontal(pl.col(\"a\",\"b\")).alias(\"hor sum\"),\n",
    "    pl.min_horizontal(pl.col(\"a\",\"b\")).alias(\"hor min\"),\n",
    "    pl.max_horizontal(pl.col(\"a\",\"b\")).alias(\"hor max\"),\n",
    ")"
   ]
  },
  {
   "cell_type": "markdown",
   "id": "a4f3f002",
   "metadata": {},
   "source": [
    "## Basic example\n",
    "\n",
    "Here we use a fold to duplicate the `pl.sum_horizontal` function."
   ]
  },
  {
   "cell_type": "code",
   "execution_count": 3,
   "id": "71ca97bd",
   "metadata": {},
   "outputs": [
    {
     "data": {
      "text/html": [
       "<div><style>\n",
       ".dataframe > thead > tr,\n",
       ".dataframe > tbody > tr {\n",
       "  text-align: right;\n",
       "  white-space: pre-wrap;\n",
       "}\n",
       "</style>\n",
       "<small>shape: (3, 2)</small><table border=\"1\" class=\"dataframe\"><thead><tr><th>sum_fold</th><th>sum_horz</th></tr><tr><td>i64</td><td>i64</td></tr></thead><tbody><tr><td>11</td><td>11</td></tr><tr><td>22</td><td>22</td></tr><tr><td>33</td><td>33</td></tr></tbody></table></div>"
      ],
      "text/plain": [
       "shape: (3, 2)\n",
       "┌──────────┬──────────┐\n",
       "│ sum_fold ┆ sum_horz │\n",
       "│ ---      ┆ ---      │\n",
       "│ i64      ┆ i64      │\n",
       "╞══════════╪══════════╡\n",
       "│ 11       ┆ 11       │\n",
       "│ 22       ┆ 22       │\n",
       "│ 33       ┆ 33       │\n",
       "└──────────┴──────────┘"
      ]
     },
     "execution_count": 3,
     "metadata": {},
     "output_type": "execute_result"
    }
   ],
   "source": [
    "df.select(\n",
    "    pl.fold(\n",
    "        acc=pl.lit(0),  # accumulated result, initialized as 0\n",
    "        function = operator.add,\n",
    "        exprs=pl.col(\"a\",\"b\"),\n",
    "    ).alias(\"sum_fold\"),\n",
    "    pl.sum_horizontal(pl.col(\"a\",\"b\")).alias(\"sum_horz\")\n",
    ")"
   ]
  },
  {
   "cell_type": "markdown",
   "id": "229cf145",
   "metadata": {},
   "source": [
    "another way of doing this"
   ]
  },
  {
   "cell_type": "code",
   "execution_count": 4,
   "id": "d871232c",
   "metadata": {},
   "outputs": [
    {
     "data": {
      "text/html": [
       "<div><style>\n",
       ".dataframe > thead > tr,\n",
       ".dataframe > tbody > tr {\n",
       "  text-align: right;\n",
       "  white-space: pre-wrap;\n",
       "}\n",
       "</style>\n",
       "<small>shape: (3, 3)</small><table border=\"1\" class=\"dataframe\"><thead><tr><th>literal</th><th>sum_fold</th><th>a</th></tr><tr><td>i64</td><td>i64</td><td>i64</td></tr></thead><tbody><tr><td>11</td><td>11</td><td>11</td></tr><tr><td>22</td><td>22</td><td>22</td></tr><tr><td>33</td><td>33</td><td>33</td></tr></tbody></table></div>"
      ],
      "text/plain": [
       "shape: (3, 3)\n",
       "┌─────────┬──────────┬─────┐\n",
       "│ literal ┆ sum_fold ┆ a   │\n",
       "│ ---     ┆ ---      ┆ --- │\n",
       "│ i64     ┆ i64      ┆ i64 │\n",
       "╞═════════╪══════════╪═════╡\n",
       "│ 11      ┆ 11       ┆ 11  │\n",
       "│ 22      ┆ 22       ┆ 22  │\n",
       "│ 33      ┆ 33       ┆ 33  │\n",
       "└─────────┴──────────┴─────┘"
      ]
     },
     "execution_count": 4,
     "metadata": {},
     "output_type": "execute_result"
    }
   ],
   "source": [
    "acc = pl.lit(0)\n",
    "f = operator.add\n",
    "\n",
    "df.select(\n",
    "    f(f(acc, pl.col(\"a\")), pl.col(\"b\")),\n",
    "    pl.fold(acc=acc, function=f, exprs=pl.col(\"a\", \"b\")).alias(\"sum_fold\"),\n",
    "    pl.col(\"a\") + pl.col(\"b\"), # my own easy way\n",
    ")"
   ]
  },
  {
   "cell_type": "markdown",
   "id": "df88485c",
   "metadata": {},
   "source": [
    "## The initial value acc\n",
    "\n",
    "The accumulator `acc` is an identity element, the initial values that will be used to do calculations on.\n",
    "If it's 0, an multiplication with it will always be 0."
   ]
  },
  {
   "cell_type": "code",
   "execution_count": 5,
   "id": "5fc93cf1",
   "metadata": {},
   "outputs": [
    {
     "data": {
      "text/html": [
       "<div><style>\n",
       ".dataframe > thead > tr,\n",
       ".dataframe > tbody > tr {\n",
       "  text-align: right;\n",
       "  white-space: pre-wrap;\n",
       "}\n",
       "</style>\n",
       "<small>shape: (3, 1)</small><table border=\"1\" class=\"dataframe\"><thead><tr><th>prod</th></tr><tr><td>i64</td></tr></thead><tbody><tr><td>0</td></tr><tr><td>0</td></tr><tr><td>0</td></tr></tbody></table></div>"
      ],
      "text/plain": [
       "shape: (3, 1)\n",
       "┌──────┐\n",
       "│ prod │\n",
       "│ ---  │\n",
       "│ i64  │\n",
       "╞══════╡\n",
       "│ 0    │\n",
       "│ 0    │\n",
       "│ 0    │\n",
       "└──────┘"
      ]
     },
     "execution_count": 5,
     "metadata": {},
     "output_type": "execute_result"
    }
   ],
   "source": [
    "df.select(\n",
    "    pl.fold(\n",
    "        acc=pl.lit(0),\n",
    "        function=operator.mul,\n",
    "        exprs=pl.col(\"a\",\"b\"),\n",
    "    ).alias(\"prod\")\n",
    ")"
   ]
  },
  {
   "cell_type": "code",
   "execution_count": 6,
   "id": "98149124",
   "metadata": {},
   "outputs": [
    {
     "data": {
      "text/html": [
       "<div><style>\n",
       ".dataframe > thead > tr,\n",
       ".dataframe > tbody > tr {\n",
       "  text-align: right;\n",
       "  white-space: pre-wrap;\n",
       "}\n",
       "</style>\n",
       "<small>shape: (3, 1)</small><table border=\"1\" class=\"dataframe\"><thead><tr><th>prod</th></tr><tr><td>i64</td></tr></thead><tbody><tr><td>10</td></tr><tr><td>40</td></tr><tr><td>90</td></tr></tbody></table></div>"
      ],
      "text/plain": [
       "shape: (3, 1)\n",
       "┌──────┐\n",
       "│ prod │\n",
       "│ ---  │\n",
       "│ i64  │\n",
       "╞══════╡\n",
       "│ 10   │\n",
       "│ 40   │\n",
       "│ 90   │\n",
       "└──────┘"
      ]
     },
     "execution_count": 6,
     "metadata": {},
     "output_type": "execute_result"
    }
   ],
   "source": [
    "df.select(\n",
    "    pl.fold(\n",
    "        acc=pl.lit(1),\n",
    "        function=operator.mul,\n",
    "        exprs=pl.col(\"a\",\"b\"),\n",
    "    ).alias(\"prod\")\n",
    ")"
   ]
  },
  {
   "cell_type": "markdown",
   "id": "a92108d6",
   "metadata": {},
   "source": [
    "## conditional\n",
    "\n",
    "It's possible to apply a conditional across columns by using a fold. The following gives the rows wehere all column values are bigegr than 1."
   ]
  },
  {
   "cell_type": "code",
   "execution_count": 7,
   "id": "aedc996c",
   "metadata": {},
   "outputs": [
    {
     "data": {
      "text/html": [
       "<div><style>\n",
       ".dataframe > thead > tr,\n",
       ".dataframe > tbody > tr {\n",
       "  text-align: right;\n",
       "  white-space: pre-wrap;\n",
       "}\n",
       "</style>\n",
       "<small>shape: (1, 2)</small><table border=\"1\" class=\"dataframe\"><thead><tr><th>a</th><th>b</th></tr><tr><td>i64</td><td>i64</td></tr></thead><tbody><tr><td>3</td><td>2</td></tr></tbody></table></div>"
      ],
      "text/plain": [
       "shape: (1, 2)\n",
       "┌─────┬─────┐\n",
       "│ a   ┆ b   │\n",
       "│ --- ┆ --- │\n",
       "│ i64 ┆ i64 │\n",
       "╞═════╪═════╡\n",
       "│ 3   ┆ 2   │\n",
       "└─────┴─────┘"
      ]
     },
     "execution_count": 7,
     "metadata": {},
     "output_type": "execute_result"
    }
   ],
   "source": [
    "df = pl.DataFrame(\n",
    "    {\n",
    "        \"a\": [1, 2, 3],\n",
    "        \"b\": [0, 1, 2],\n",
    "    }\n",
    ")\n",
    "\n",
    "df.filter(\n",
    "    pl.fold(\n",
    "        acc=pl.lit(True),\n",
    "        function=lambda acc, x: acc & x,\n",
    "        exprs=pl.all() > 1\n",
    "    )\n",
    ")"
   ]
  },
  {
   "cell_type": "markdown",
   "id": "71eee6e6",
   "metadata": {},
   "source": [
    "## Folds and string data"
   ]
  },
  {
   "cell_type": "code",
   "execution_count": 9,
   "id": "e8f74715",
   "metadata": {},
   "outputs": [
    {
     "data": {
      "text/html": [
       "<div><style>\n",
       ".dataframe > thead > tr,\n",
       ".dataframe > tbody > tr {\n",
       "  text-align: right;\n",
       "  white-space: pre-wrap;\n",
       "}\n",
       "</style>\n",
       "<small>shape: (3, 1)</small><table border=\"1\" class=\"dataframe\"><thead><tr><th>a</th></tr><tr><td>str</td></tr></thead><tbody><tr><td>&quot;a1&quot;</td></tr><tr><td>&quot;b2&quot;</td></tr><tr><td>&quot;c3&quot;</td></tr></tbody></table></div>"
      ],
      "text/plain": [
       "shape: (3, 1)\n",
       "┌─────┐\n",
       "│ a   │\n",
       "│ --- │\n",
       "│ str │\n",
       "╞═════╡\n",
       "│ a1  │\n",
       "│ b2  │\n",
       "│ c3  │\n",
       "└─────┘"
      ]
     },
     "execution_count": 9,
     "metadata": {},
     "output_type": "execute_result"
    }
   ],
   "source": [
    "df = pl.DataFrame(\n",
    "    {\n",
    "        \"a\": [\"a\", \"b\", \"c\"],\n",
    "        \"b\": [1, 2, 3],\n",
    "    }\n",
    ")\n",
    "\n",
    "df.select(pl.concat_str([\"a\",\"b\"])) # stupid that we can't use pl.col() for this.."
   ]
  }
 ],
 "metadata": {
  "kernelspec": {
   "display_name": ".venv",
   "language": "python",
   "name": "python3"
  },
  "language_info": {
   "codemirror_mode": {
    "name": "ipython",
    "version": 3
   },
   "file_extension": ".py",
   "mimetype": "text/x-python",
   "name": "python",
   "nbconvert_exporter": "python",
   "pygments_lexer": "ipython3",
   "version": "3.12.3"
  }
 },
 "nbformat": 4,
 "nbformat_minor": 5
}
