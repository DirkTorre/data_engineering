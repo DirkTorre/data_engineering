{
 "cells": [
  {
   "cell_type": "markdown",
   "id": "03c15447",
   "metadata": {},
   "source": [
    "# [Expressions: Missing data](https://docs.pola.rs/user-guide/expressions/missing-data/)\n",
    "\n",
    "null = no value at all\n",
    "\n",
    "NaN =  a value"
   ]
  },
  {
   "cell_type": "code",
   "execution_count": 3,
   "id": "7cfaf889",
   "metadata": {},
   "outputs": [
    {
     "name": "stdout",
     "output_type": "stream",
     "text": [
      "shape: (3, 2)\n",
      "┌───────┬───────┐\n",
      "│ value ┆ beers │\n",
      "│ ---   ┆ ---   │\n",
      "│ i64   ┆ i64   │\n",
      "╞═══════╪═══════╡\n",
      "│ 1     ┆ null  │\n",
      "│ null  ┆ 9     │\n",
      "│ 3     ┆ null  │\n",
      "└───────┴───────┘\n"
     ]
    }
   ],
   "source": [
    "import polars as pl\n",
    "\n",
    "df = pl.DataFrame(\n",
    "    {\n",
    "        \"value\": [1, None, 3],\n",
    "        \"beers\": [None, 9, None]\n",
    "    },\n",
    ")\n",
    "print(df)"
   ]
  },
  {
   "cell_type": "markdown",
   "id": "0ad84191",
   "metadata": {},
   "source": [
    "## Missing data metadata"
   ]
  },
  {
   "cell_type": "code",
   "execution_count": 4,
   "id": "2e2bb40d",
   "metadata": {},
   "outputs": [
    {
     "data": {
      "text/html": [
       "<div><style>\n",
       ".dataframe > thead > tr,\n",
       ".dataframe > tbody > tr {\n",
       "  text-align: right;\n",
       "  white-space: pre-wrap;\n",
       "}\n",
       "</style>\n",
       "<small>shape: (1, 2)</small><table border=\"1\" class=\"dataframe\"><thead><tr><th>value</th><th>beers</th></tr><tr><td>u32</td><td>u32</td></tr></thead><tbody><tr><td>1</td><td>2</td></tr></tbody></table></div>"
      ],
      "text/plain": [
       "shape: (1, 2)\n",
       "┌───────┬───────┐\n",
       "│ value ┆ beers │\n",
       "│ ---   ┆ ---   │\n",
       "│ u32   ┆ u32   │\n",
       "╞═══════╪═══════╡\n",
       "│ 1     ┆ 2     │\n",
       "└───────┴───────┘"
      ]
     },
     "execution_count": 4,
     "metadata": {},
     "output_type": "execute_result"
    }
   ],
   "source": [
    "df.null_count()"
   ]
  },
  {
   "cell_type": "markdown",
   "id": "cf6e2b51",
   "metadata": {},
   "source": [
    "## Filling missing data"
   ]
  },
  {
   "cell_type": "code",
   "execution_count": 5,
   "id": "8d663d04",
   "metadata": {},
   "outputs": [],
   "source": [
    "df = pl.DataFrame(\n",
    "    {\n",
    "        \"col1\": [0.5, 1, 1.5, 2, 2.5],\n",
    "        \"col2\": [1, None, 3, None, 5],\n",
    "    },\n",
    ")"
   ]
  },
  {
   "cell_type": "markdown",
   "id": "f642f5a8",
   "metadata": {},
   "source": [
    "### Fill with a specified literal value"
   ]
  },
  {
   "cell_type": "code",
   "execution_count": 6,
   "id": "7a01a550",
   "metadata": {},
   "outputs": [
    {
     "data": {
      "text/html": [
       "<div><style>\n",
       ".dataframe > thead > tr,\n",
       ".dataframe > tbody > tr {\n",
       "  text-align: right;\n",
       "  white-space: pre-wrap;\n",
       "}\n",
       "</style>\n",
       "<small>shape: (5, 2)</small><table border=\"1\" class=\"dataframe\"><thead><tr><th>col1</th><th>col2</th></tr><tr><td>f64</td><td>i64</td></tr></thead><tbody><tr><td>0.5</td><td>1</td></tr><tr><td>1.0</td><td>3</td></tr><tr><td>1.5</td><td>3</td></tr><tr><td>2.0</td><td>3</td></tr><tr><td>2.5</td><td>5</td></tr></tbody></table></div>"
      ],
      "text/plain": [
       "shape: (5, 2)\n",
       "┌──────┬──────┐\n",
       "│ col1 ┆ col2 │\n",
       "│ ---  ┆ ---  │\n",
       "│ f64  ┆ i64  │\n",
       "╞══════╪══════╡\n",
       "│ 0.5  ┆ 1    │\n",
       "│ 1.0  ┆ 3    │\n",
       "│ 1.5  ┆ 3    │\n",
       "│ 2.0  ┆ 3    │\n",
       "│ 2.5  ┆ 5    │\n",
       "└──────┴──────┘"
      ]
     },
     "execution_count": 6,
     "metadata": {},
     "output_type": "execute_result"
    }
   ],
   "source": [
    "df.with_columns(\n",
    "    pl.col(\"col2\").fill_null(3)\n",
    ")"
   ]
  },
  {
   "cell_type": "markdown",
   "id": "3fc27e03",
   "metadata": {},
   "source": [
    "### Fill with an expression"
   ]
  },
  {
   "cell_type": "code",
   "execution_count": 7,
   "id": "e71f8c0a",
   "metadata": {},
   "outputs": [
    {
     "data": {
      "text/html": [
       "<div><style>\n",
       ".dataframe > thead > tr,\n",
       ".dataframe > tbody > tr {\n",
       "  text-align: right;\n",
       "  white-space: pre-wrap;\n",
       "}\n",
       "</style>\n",
       "<small>shape: (5, 2)</small><table border=\"1\" class=\"dataframe\"><thead><tr><th>col1</th><th>col2</th></tr><tr><td>f64</td><td>i64</td></tr></thead><tbody><tr><td>0.5</td><td>1</td></tr><tr><td>1.0</td><td>2</td></tr><tr><td>1.5</td><td>3</td></tr><tr><td>2.0</td><td>4</td></tr><tr><td>2.5</td><td>5</td></tr></tbody></table></div>"
      ],
      "text/plain": [
       "shape: (5, 2)\n",
       "┌──────┬──────┐\n",
       "│ col1 ┆ col2 │\n",
       "│ ---  ┆ ---  │\n",
       "│ f64  ┆ i64  │\n",
       "╞══════╪══════╡\n",
       "│ 0.5  ┆ 1    │\n",
       "│ 1.0  ┆ 2    │\n",
       "│ 1.5  ┆ 3    │\n",
       "│ 2.0  ┆ 4    │\n",
       "│ 2.5  ┆ 5    │\n",
       "└──────┴──────┘"
      ]
     },
     "execution_count": 7,
     "metadata": {},
     "output_type": "execute_result"
    }
   ],
   "source": [
    "df.with_columns(\n",
    "    pl.col(\"col2\").fill_null((2 * pl.col(\"col1\")).cast(pl.Int64))\n",
    ")"
   ]
  },
  {
   "cell_type": "markdown",
   "id": "a94bb391",
   "metadata": {},
   "source": [
    "### Fill with a strategy based on neighbouring values\n",
    "\n",
    "The `forward` looks forward for a value to copy in the empty space."
   ]
  },
  {
   "cell_type": "code",
   "execution_count": 10,
   "id": "11be2958",
   "metadata": {},
   "outputs": [
    {
     "data": {
      "text/html": [
       "<div><style>\n",
       ".dataframe > thead > tr,\n",
       ".dataframe > tbody > tr {\n",
       "  text-align: right;\n",
       "  white-space: pre-wrap;\n",
       "}\n",
       "</style>\n",
       "<small>shape: (5, 4)</small><table border=\"1\" class=\"dataframe\"><thead><tr><th>col1</th><th>col2</th><th>forward</th><th>backward</th></tr><tr><td>f64</td><td>i64</td><td>i64</td><td>i64</td></tr></thead><tbody><tr><td>0.5</td><td>1</td><td>1</td><td>1</td></tr><tr><td>1.0</td><td>null</td><td>1</td><td>3</td></tr><tr><td>1.5</td><td>3</td><td>3</td><td>3</td></tr><tr><td>2.0</td><td>null</td><td>3</td><td>5</td></tr><tr><td>2.5</td><td>5</td><td>5</td><td>5</td></tr></tbody></table></div>"
      ],
      "text/plain": [
       "shape: (5, 4)\n",
       "┌──────┬──────┬─────────┬──────────┐\n",
       "│ col1 ┆ col2 ┆ forward ┆ backward │\n",
       "│ ---  ┆ ---  ┆ ---     ┆ ---      │\n",
       "│ f64  ┆ i64  ┆ i64     ┆ i64      │\n",
       "╞══════╪══════╪═════════╪══════════╡\n",
       "│ 0.5  ┆ 1    ┆ 1       ┆ 1        │\n",
       "│ 1.0  ┆ null ┆ 1       ┆ 3        │\n",
       "│ 1.5  ┆ 3    ┆ 3       ┆ 3        │\n",
       "│ 2.0  ┆ null ┆ 3       ┆ 5        │\n",
       "│ 2.5  ┆ 5    ┆ 5       ┆ 5        │\n",
       "└──────┴──────┴─────────┴──────────┘"
      ]
     },
     "execution_count": 10,
     "metadata": {},
     "output_type": "execute_result"
    }
   ],
   "source": [
    "df.with_columns(\n",
    "    pl.col(\"col2\").fill_null(strategy=\"forward\").alias(\"forward\"),\n",
    "    pl.col(\"col2\").fill_null(strategy=\"backward\").alias(\"backward\"),\n",
    ")"
   ]
  },
  {
   "cell_type": "markdown",
   "id": "967b6c4c",
   "metadata": {},
   "source": [
    "### Fill with interpolation"
   ]
  },
  {
   "cell_type": "code",
   "execution_count": 14,
   "id": "150c0430",
   "metadata": {},
   "outputs": [
    {
     "data": {
      "text/html": [
       "<div><style>\n",
       ".dataframe > thead > tr,\n",
       ".dataframe > tbody > tr {\n",
       "  text-align: right;\n",
       "  white-space: pre-wrap;\n",
       "}\n",
       "</style>\n",
       "<small>shape: (5, 3)</small><table border=\"1\" class=\"dataframe\"><thead><tr><th>col1</th><th>col2</th><th>interpolated</th></tr><tr><td>f64</td><td>i64</td><td>f64</td></tr></thead><tbody><tr><td>0.5</td><td>1</td><td>1.0</td></tr><tr><td>1.0</td><td>null</td><td>2.0</td></tr><tr><td>1.5</td><td>3</td><td>3.0</td></tr><tr><td>2.0</td><td>null</td><td>4.0</td></tr><tr><td>2.5</td><td>5</td><td>5.0</td></tr></tbody></table></div>"
      ],
      "text/plain": [
       "shape: (5, 3)\n",
       "┌──────┬──────┬──────────────┐\n",
       "│ col1 ┆ col2 ┆ interpolated │\n",
       "│ ---  ┆ ---  ┆ ---          │\n",
       "│ f64  ┆ i64  ┆ f64          │\n",
       "╞══════╪══════╪══════════════╡\n",
       "│ 0.5  ┆ 1    ┆ 1.0          │\n",
       "│ 1.0  ┆ null ┆ 2.0          │\n",
       "│ 1.5  ┆ 3    ┆ 3.0          │\n",
       "│ 2.0  ┆ null ┆ 4.0          │\n",
       "│ 2.5  ┆ 5    ┆ 5.0          │\n",
       "└──────┴──────┴──────────────┘"
      ]
     },
     "execution_count": 14,
     "metadata": {},
     "output_type": "execute_result"
    }
   ],
   "source": [
    "df.with_columns(\n",
    "    pl.col(\"col2\"),\n",
    "    pl.col(\"col2\").interpolate().alias(\"interpolated\")\n",
    ")"
   ]
  },
  {
   "cell_type": "markdown",
   "id": "0740b282",
   "metadata": {},
   "source": [
    "## Not a Number, or NaN values\n",
    "\n",
    "NaN values aren't counted as missing values. They are only filled when using `fill_nan`. When calculating a mean, null isn't counted, but NaN is."
   ]
  },
  {
   "cell_type": "code",
   "execution_count": 15,
   "id": "6fe8f4cf",
   "metadata": {},
   "outputs": [
    {
     "name": "stdout",
     "output_type": "stream",
     "text": [
      "shape: (4, 1)\n",
      "┌───────┐\n",
      "│ value │\n",
      "│ ---   │\n",
      "│ f64   │\n",
      "╞═══════╡\n",
      "│ 1.0   │\n",
      "│ NaN   │\n",
      "│ NaN   │\n",
      "│ 3.0   │\n",
      "└───────┘\n"
     ]
    }
   ],
   "source": [
    "import numpy as np\n",
    "\n",
    "nan_df = pl.DataFrame(\n",
    "    {\n",
    "        \"value\": [1.0, np.nan, float(\"nan\"), 3.0],\n",
    "    },\n",
    ")\n",
    "print(nan_df)"
   ]
  },
  {
   "cell_type": "code",
   "execution_count": 16,
   "id": "482906af",
   "metadata": {},
   "outputs": [
    {
     "name": "stdout",
     "output_type": "stream",
     "text": [
      "shape: (3, 1)\n",
      "┌──────────┐\n",
      "│ dividend │\n",
      "│ ---      │\n",
      "│ f64      │\n",
      "╞══════════╡\n",
      "│ 1.0      │\n",
      "│ NaN      │\n",
      "│ 1.0      │\n",
      "└──────────┘\n"
     ]
    }
   ],
   "source": [
    "df = pl.DataFrame(\n",
    "    {\n",
    "        \"dividend\": [1, 0, -1],\n",
    "        \"divisor\": [1, 0, -1],\n",
    "    }\n",
    ")\n",
    "result = df.select(pl.col(\"dividend\") / pl.col(\"divisor\"))\n",
    "print(result)"
   ]
  },
  {
   "cell_type": "code",
   "execution_count": 17,
   "id": "a21037bc",
   "metadata": {},
   "outputs": [
    {
     "data": {
      "text/html": [
       "<div><style>\n",
       ".dataframe > thead > tr,\n",
       ".dataframe > tbody > tr {\n",
       "  text-align: right;\n",
       "  white-space: pre-wrap;\n",
       "}\n",
       "</style>\n",
       "<small>shape: (1, 4)</small><table border=\"1\" class=\"dataframe\"><thead><tr><th>value_mean</th><th>replaced_mean</th><th>value_sum</th><th>replaced_sum</th></tr><tr><td>f64</td><td>f64</td><td>f64</td><td>f64</td></tr></thead><tbody><tr><td>NaN</td><td>2.0</td><td>NaN</td><td>4.0</td></tr></tbody></table></div>"
      ],
      "text/plain": [
       "shape: (1, 4)\n",
       "┌────────────┬───────────────┬───────────┬──────────────┐\n",
       "│ value_mean ┆ replaced_mean ┆ value_sum ┆ replaced_sum │\n",
       "│ ---        ┆ ---           ┆ ---       ┆ ---          │\n",
       "│ f64        ┆ f64           ┆ f64       ┆ f64          │\n",
       "╞════════════╪═══════════════╪═══════════╪══════════════╡\n",
       "│ NaN        ┆ 2.0           ┆ NaN       ┆ 4.0          │\n",
       "└────────────┴───────────────┴───────────┴──────────────┘"
      ]
     },
     "execution_count": 17,
     "metadata": {},
     "output_type": "execute_result"
    }
   ],
   "source": [
    "nan_df.with_columns(\n",
    "    pl.col(\"value\").fill_nan(None).alias(\"replaced\")\n",
    ").select(\n",
    "    pl.all().mean().name.suffix(\"_mean\"),\n",
    "    pl.all().sum().name.suffix(\"_sum\"),\n",
    ")"
   ]
  }
 ],
 "metadata": {
  "kernelspec": {
   "display_name": ".venv",
   "language": "python",
   "name": "python3"
  },
  "language_info": {
   "codemirror_mode": {
    "name": "ipython",
    "version": 3
   },
   "file_extension": ".py",
   "mimetype": "text/x-python",
   "name": "python",
   "nbconvert_exporter": "python",
   "pygments_lexer": "ipython3",
   "version": "3.12.3"
  }
 },
 "nbformat": 4,
 "nbformat_minor": 5
}
