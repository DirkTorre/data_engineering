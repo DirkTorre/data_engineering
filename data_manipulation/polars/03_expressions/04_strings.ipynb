{
 "cells": [
  {
   "cell_type": "markdown",
   "id": "d74d005b",
   "metadata": {},
   "source": [
    "# [Expressions: Strings](https://docs.pola.rs/user-guide/expressions/strings/)\n",
    "\n",
    "## The string namespace\n",
    "\n",
    "Small note: if there are only ASCII symbols, then `.str.len_bytes().` will be faster."
   ]
  },
  {
   "cell_type": "code",
   "execution_count": 2,
   "id": "456fd867",
   "metadata": {},
   "outputs": [
    {
     "data": {
      "text/html": [
       "<div><style>\n",
       ".dataframe > thead > tr,\n",
       ".dataframe > tbody > tr {\n",
       "  text-align: right;\n",
       "  white-space: pre-wrap;\n",
       "}\n",
       "</style>\n",
       "<small>shape: (4, 4)</small><table border=\"1\" class=\"dataframe\"><thead><tr><th>language</th><th>fruit</th><th>byte_count</th><th>letter_count</th></tr><tr><td>str</td><td>str</td><td>u32</td><td>u32</td></tr></thead><tbody><tr><td>&quot;English&quot;</td><td>&quot;pear&quot;</td><td>4</td><td>4</td></tr><tr><td>&quot;Dutch&quot;</td><td>&quot;peer&quot;</td><td>4</td><td>4</td></tr><tr><td>&quot;Portuguese&quot;</td><td>&quot;pêra&quot;</td><td>5</td><td>4</td></tr><tr><td>&quot;Finish&quot;</td><td>&quot;päärynä&quot;</td><td>10</td><td>7</td></tr></tbody></table></div>"
      ],
      "text/plain": [
       "shape: (4, 4)\n",
       "┌────────────┬─────────┬────────────┬──────────────┐\n",
       "│ language   ┆ fruit   ┆ byte_count ┆ letter_count │\n",
       "│ ---        ┆ ---     ┆ ---        ┆ ---          │\n",
       "│ str        ┆ str     ┆ u32        ┆ u32          │\n",
       "╞════════════╪═════════╪════════════╪══════════════╡\n",
       "│ English    ┆ pear    ┆ 4          ┆ 4            │\n",
       "│ Dutch      ┆ peer    ┆ 4          ┆ 4            │\n",
       "│ Portuguese ┆ pêra    ┆ 5          ┆ 4            │\n",
       "│ Finish     ┆ päärynä ┆ 10         ┆ 7            │\n",
       "└────────────┴─────────┴────────────┴──────────────┘"
      ]
     },
     "execution_count": 2,
     "metadata": {},
     "output_type": "execute_result"
    }
   ],
   "source": [
    "import polars as pl\n",
    "\n",
    "df = pl.DataFrame(\n",
    "    {\n",
    "        \"language\": [\"English\", \"Dutch\", \"Portuguese\", \"Finish\"],\n",
    "        \"fruit\": [\"pear\", \"peer\", \"pêra\", \"päärynä\"],\n",
    "    }\n",
    ")\n",
    "\n",
    "df.with_columns(\n",
    "    pl.col(\"fruit\").str.len_bytes().alias(\"byte_count\"),\n",
    "    pl.col(\"fruit\").str.len_chars().alias(\"letter_count\"),\n",
    ")"
   ]
  },
  {
   "cell_type": "markdown",
   "id": "449ebd41",
   "metadata": {},
   "source": [
    "## Parsing strings\n",
    "\n",
    "### Check for the existence of a pattern"
   ]
  },
  {
   "cell_type": "code",
   "execution_count": 6,
   "id": "2a86a7b6",
   "metadata": {},
   "outputs": [
    {
     "data": {
      "text/html": [
       "<div><style>\n",
       ".dataframe > thead > tr,\n",
       ".dataframe > tbody > tr {\n",
       "  text-align: right;\n",
       "  white-space: pre-wrap;\n",
       "}\n",
       "</style>\n",
       "<small>shape: (4, 5)</small><table border=\"1\" class=\"dataframe\"><thead><tr><th>fruit</th><th>starts_with_p</th><th>p..r</th><th>e+</th><th>ends_with_r</th></tr><tr><td>str</td><td>bool</td><td>bool</td><td>bool</td><td>bool</td></tr></thead><tbody><tr><td>&quot;pear&quot;</td><td>true</td><td>true</td><td>true</td><td>true</td></tr><tr><td>&quot;peer&quot;</td><td>true</td><td>true</td><td>true</td><td>true</td></tr><tr><td>&quot;pêra&quot;</td><td>true</td><td>false</td><td>false</td><td>false</td></tr><tr><td>&quot;päärynä&quot;</td><td>true</td><td>true</td><td>false</td><td>false</td></tr></tbody></table></div>"
      ],
      "text/plain": [
       "shape: (4, 5)\n",
       "┌─────────┬───────────────┬───────┬───────┬─────────────┐\n",
       "│ fruit   ┆ starts_with_p ┆ p..r  ┆ e+    ┆ ends_with_r │\n",
       "│ ---     ┆ ---           ┆ ---   ┆ ---   ┆ ---         │\n",
       "│ str     ┆ bool          ┆ bool  ┆ bool  ┆ bool        │\n",
       "╞═════════╪═══════════════╪═══════╪═══════╪═════════════╡\n",
       "│ pear    ┆ true          ┆ true  ┆ true  ┆ true        │\n",
       "│ peer    ┆ true          ┆ true  ┆ true  ┆ true        │\n",
       "│ pêra    ┆ true          ┆ false ┆ false ┆ false       │\n",
       "│ päärynä ┆ true          ┆ true  ┆ false ┆ false       │\n",
       "└─────────┴───────────────┴───────┴───────┴─────────────┘"
      ]
     },
     "execution_count": 6,
     "metadata": {},
     "output_type": "execute_result"
    }
   ],
   "source": [
    "df.select(\n",
    "    pl.col(\"fruit\"),\n",
    "    pl.col(\"fruit\").str.starts_with(\"p\").alias(\"starts_with_p\"),\n",
    "    pl.col(\"fruit\").str.contains(\"p..r\").alias(\"p..r\"),\n",
    "    pl.col(\"fruit\").str.contains(\"e+\").alias(\"e+\"),\n",
    "    pl.col(\"fruit\").str.ends_with(\"r\").alias(\"ends_with_r\"), # make note of this\n",
    ")"
   ]
  },
  {
   "cell_type": "markdown",
   "id": "e23a7f04",
   "metadata": {},
   "source": [
    "### Regex specification\n",
    "\n",
    "polars uses the rust regex synthax [click here for the details](https://docs.rs/regex/latest/regex/#syntax). its diferent from the `re` module.\n",
    "\n",
    "### Extract a pattern"
   ]
  },
  {
   "cell_type": "code",
   "execution_count": 7,
   "id": "69493a2b",
   "metadata": {},
   "outputs": [
    {
     "data": {
      "text/html": [
       "<div><style>\n",
       ".dataframe > thead > tr,\n",
       ".dataframe > tbody > tr {\n",
       "  text-align: right;\n",
       "  white-space: pre-wrap;\n",
       "}\n",
       "</style>\n",
       "<small>shape: (3, 1)</small><table border=\"1\" class=\"dataframe\"><thead><tr><th>urls</th></tr><tr><td>str</td></tr></thead><tbody><tr><td>&quot;messi&quot;</td></tr><tr><td>null</td></tr><tr><td>&quot;ronaldo&quot;</td></tr></tbody></table></div>"
      ],
      "text/plain": [
       "shape: (3, 1)\n",
       "┌─────────┐\n",
       "│ urls    │\n",
       "│ ---     │\n",
       "│ str     │\n",
       "╞═════════╡\n",
       "│ messi   │\n",
       "│ null    │\n",
       "│ ronaldo │\n",
       "└─────────┘"
      ]
     },
     "execution_count": 7,
     "metadata": {},
     "output_type": "execute_result"
    }
   ],
   "source": [
    "df = pl.DataFrame(\n",
    "    {\n",
    "        \"urls\": [\n",
    "            \"http://vote.com/ballon_dor?candidate=messi&ref=polars\",\n",
    "            \"http://vote.com/ballon_dor?candidat=jorginho&ref=polars\",\n",
    "            \"http://vote.com/ballon_dor?candidate=ronaldo&ref=polars\",\n",
    "        ]\n",
    "    }\n",
    ")\n",
    "\n",
    "df.select(\n",
    "    pl.col(\"urls\").str.extract(r\"candidate=(\\w+)\", group_index=1), # grouping in regex is awesome, I needed to know that years ago.\n",
    ")"
   ]
  },
  {
   "cell_type": "code",
   "execution_count": 10,
   "id": "589ba8ac",
   "metadata": {},
   "outputs": [
    {
     "data": {
      "text/html": [
       "<div><style>\n",
       ".dataframe > thead > tr,\n",
       ".dataframe > tbody > tr {\n",
       "  text-align: right;\n",
       "  white-space: pre-wrap;\n",
       "}\n",
       "</style>\n",
       "<small>shape: (2, 1)</small><table border=\"1\" class=\"dataframe\"><thead><tr><th>extracted_nrs</th></tr><tr><td>list[str]</td></tr></thead><tbody><tr><td>[&quot;123&quot;, &quot;45&quot;]</td></tr><tr><td>[&quot;678&quot;, &quot;910&quot;]</td></tr></tbody></table></div>"
      ],
      "text/plain": [
       "shape: (2, 1)\n",
       "┌────────────────┐\n",
       "│ extracted_nrs  │\n",
       "│ ---            │\n",
       "│ list[str]      │\n",
       "╞════════════════╡\n",
       "│ [\"123\", \"45\"]  │\n",
       "│ [\"678\", \"910\"] │\n",
       "└────────────────┘"
      ]
     },
     "execution_count": 10,
     "metadata": {},
     "output_type": "execute_result"
    }
   ],
   "source": [
    "df = pl.DataFrame({\"text\": [\"123 bla 45 asd\", \"xyz 678 910t\"]})\n",
    "df.select(\n",
    "    pl.col(\"text\").str.extract_all(r\"(\\d+)\").alias(\"extracted_nrs\"),\n",
    ")"
   ]
  },
  {
   "cell_type": "markdown",
   "id": "257cc6ea",
   "metadata": {},
   "source": [
    "### replace a pattern"
   ]
  },
  {
   "cell_type": "code",
   "execution_count": null,
   "id": "08423ff4",
   "metadata": {},
   "outputs": [
    {
     "data": {
      "text/html": [
       "<div><style>\n",
       ".dataframe > thead > tr,\n",
       ".dataframe > tbody > tr {\n",
       "  text-align: right;\n",
       "  white-space: pre-wrap;\n",
       "}\n",
       "</style>\n",
       "<small>shape: (2, 2)</small><table border=\"1\" class=\"dataframe\"><thead><tr><th>text</th><th>text_replace_all</th></tr><tr><td>str</td><td>str</td></tr></thead><tbody><tr><td>&quot;-23abc&quot;</td><td>&quot;---abc&quot;</td></tr><tr><td>&quot;abc-56&quot;</td><td>&quot;abc---&quot;</td></tr></tbody></table></div>"
      ],
      "text/plain": [
       "shape: (2, 2)\n",
       "┌────────┬──────────────────┐\n",
       "│ text   ┆ text_replace_all │\n",
       "│ ---    ┆ ---              │\n",
       "│ str    ┆ str              │\n",
       "╞════════╪══════════════════╡\n",
       "│ -23abc ┆ ---abc           │\n",
       "│ abc-56 ┆ abc---           │\n",
       "└────────┴──────────────────┘"
      ]
     },
     "execution_count": 13,
     "metadata": {},
     "output_type": "execute_result"
    }
   ],
   "source": [
    "df = pl.DataFrame({\"text\": [\"123abc\", \"abc456\"]})\n",
    "df.with_columns(\n",
    "    pl.col(\"text\").str.replace(r\"\\d\",\"-\"),\n",
    "    pl.col(\"text\").str.replace_all(r\"\\d\",\"-\").alias(\"text_replace_all\")\n",
    ")"
   ]
  },
  {
   "cell_type": "markdown",
   "id": "211453a3",
   "metadata": {},
   "source": [
    "## Modifying strings\n",
    "\n",
    "### Case conversion"
   ]
  },
  {
   "cell_type": "code",
   "execution_count": 14,
   "id": "68c3eea4",
   "metadata": {},
   "outputs": [
    {
     "data": {
      "text/html": [
       "<div><style>\n",
       ".dataframe > thead > tr,\n",
       ".dataframe > tbody > tr {\n",
       "  text-align: right;\n",
       "  white-space: pre-wrap;\n",
       "}\n",
       "</style>\n",
       "<small>shape: (4, 4)</small><table border=\"1\" class=\"dataframe\"><thead><tr><th>originals</th><th>addresses</th><th>lower</th><th>upper</th></tr><tr><td>str</td><td>str</td><td>str</td><td>str</td></tr></thead><tbody><tr><td>&quot;128 PERF st&quot;</td><td>&quot;128 Perf St&quot;</td><td>&quot;128 perf st&quot;</td><td>&quot;128 PERF ST&quot;</td></tr><tr><td>&quot;Rust blVD, 158&quot;</td><td>&quot;Rust Blvd, 158&quot;</td><td>&quot;rust blvd, 158&quot;</td><td>&quot;RUST BLVD, 158&quot;</td></tr><tr><td>&quot;PoLaRs Av, 12&quot;</td><td>&quot;Polars Av, 12&quot;</td><td>&quot;polars av, 12&quot;</td><td>&quot;POLARS AV, 12&quot;</td></tr><tr><td>&quot;1042 Query sq&quot;</td><td>&quot;1042 Query Sq&quot;</td><td>&quot;1042 query sq&quot;</td><td>&quot;1042 QUERY SQ&quot;</td></tr></tbody></table></div>"
      ],
      "text/plain": [
       "shape: (4, 4)\n",
       "┌────────────────┬────────────────┬────────────────┬────────────────┐\n",
       "│ originals      ┆ addresses      ┆ lower          ┆ upper          │\n",
       "│ ---            ┆ ---            ┆ ---            ┆ ---            │\n",
       "│ str            ┆ str            ┆ str            ┆ str            │\n",
       "╞════════════════╪════════════════╪════════════════╪════════════════╡\n",
       "│ 128 PERF st    ┆ 128 Perf St    ┆ 128 perf st    ┆ 128 PERF ST    │\n",
       "│ Rust blVD, 158 ┆ Rust Blvd, 158 ┆ rust blvd, 158 ┆ RUST BLVD, 158 │\n",
       "│ PoLaRs Av, 12  ┆ Polars Av, 12  ┆ polars av, 12  ┆ POLARS AV, 12  │\n",
       "│ 1042 Query sq  ┆ 1042 Query Sq  ┆ 1042 query sq  ┆ 1042 QUERY SQ  │\n",
       "└────────────────┴────────────────┴────────────────┴────────────────┘"
      ]
     },
     "execution_count": 14,
     "metadata": {},
     "output_type": "execute_result"
    }
   ],
   "source": [
    "addresses = pl.DataFrame(\n",
    "    {\n",
    "        \"addresses\": [\n",
    "            \"128 PERF st\",\n",
    "            \"Rust blVD, 158\",\n",
    "            \"PoLaRs Av, 12\",\n",
    "            \"1042 Query sq\",\n",
    "        ]\n",
    "    }\n",
    ")\n",
    "addresses.select(\n",
    "    pl.col(\"addresses\").alias(\"originals\"),\n",
    "    pl.col(\"addresses\").str.to_titlecase(),\n",
    "    pl.col(\"addresses\").str.to_lowercase().alias(\"lower\"),\n",
    "    pl.col(\"addresses\").str.to_uppercase().alias(\"upper\"),\n",
    ")"
   ]
  },
  {
   "cell_type": "markdown",
   "id": "2be750cc",
   "metadata": {},
   "source": [
    "### Stripping characters from the ends"
   ]
  },
  {
   "cell_type": "code",
   "execution_count": 19,
   "id": "34adb9fb",
   "metadata": {},
   "outputs": [
    {
     "data": {
      "text/html": [
       "<div><style>\n",
       ".dataframe > thead > tr,\n",
       ".dataframe > tbody > tr {\n",
       "  text-align: right;\n",
       "  white-space: pre-wrap;\n",
       "}\n",
       "</style>\n",
       "<small>shape: (4, 6)</small><table border=\"1\" class=\"dataframe\"><thead><tr><th>addresses</th><th>strip</th><th>end</th><th>start</th><th>prefix</th><th>suffix</th></tr><tr><td>str</td><td>str</td><td>str</td><td>str</td><td>str</td><td>str</td></tr></thead><tbody><tr><td>&quot;128 PERF st&quot;</td><td>&quot;PERF st&quot;</td><td>&quot;128 PERF st&quot;</td><td>&quot;PERF st&quot;</td><td>&quot;PERF st&quot;</td><td>&quot;128 PERF st&quot;</td></tr><tr><td>&quot;Rust blVD, 158&quot;</td><td>&quot;Rust blVD&quot;</td><td>&quot;Rust blVD&quot;</td><td>&quot;Rust blVD, 158&quot;</td><td>&quot;Rust blVD, 158&quot;</td><td>&quot;Rust blVD&quot;</td></tr><tr><td>&quot;PoLaRs Av, 12&quot;</td><td>&quot;PoLaRs Av&quot;</td><td>&quot;PoLaRs Av&quot;</td><td>&quot;PoLaRs Av, 12&quot;</td><td>&quot;PoLaRs Av, 12&quot;</td><td>&quot;PoLaRs Av, 12&quot;</td></tr><tr><td>&quot;1042 Query sq&quot;</td><td>&quot;Query sq&quot;</td><td>&quot;1042 Query sq&quot;</td><td>&quot;Query sq&quot;</td><td>&quot;1042 Query sq&quot;</td><td>&quot;1042 Query sq&quot;</td></tr></tbody></table></div>"
      ],
      "text/plain": [
       "shape: (4, 6)\n",
       "┌────────────────┬───────────┬───────────────┬────────────────┬────────────────┬───────────────┐\n",
       "│ addresses      ┆ strip     ┆ end           ┆ start          ┆ prefix         ┆ suffix        │\n",
       "│ ---            ┆ ---       ┆ ---           ┆ ---            ┆ ---            ┆ ---           │\n",
       "│ str            ┆ str       ┆ str           ┆ str            ┆ str            ┆ str           │\n",
       "╞════════════════╪═══════════╪═══════════════╪════════════════╪════════════════╪═══════════════╡\n",
       "│ 128 PERF st    ┆ PERF st   ┆ 128 PERF st   ┆ PERF st        ┆ PERF st        ┆ 128 PERF st   │\n",
       "│ Rust blVD, 158 ┆ Rust blVD ┆ Rust blVD     ┆ Rust blVD, 158 ┆ Rust blVD, 158 ┆ Rust blVD     │\n",
       "│ PoLaRs Av, 12  ┆ PoLaRs Av ┆ PoLaRs Av     ┆ PoLaRs Av, 12  ┆ PoLaRs Av, 12  ┆ PoLaRs Av, 12 │\n",
       "│ 1042 Query sq  ┆ Query sq  ┆ 1042 Query sq ┆ Query sq       ┆ 1042 Query sq  ┆ 1042 Query sq │\n",
       "└────────────────┴───────────┴───────────────┴────────────────┴────────────────┴───────────────┘"
      ]
     },
     "execution_count": 19,
     "metadata": {},
     "output_type": "execute_result"
    }
   ],
   "source": [
    "addr = pl.col(\"addresses\") # the bastards made my type all that stuff!\n",
    "chars = \", 0123456789\"\n",
    "addresses.select(\n",
    "    addr,\n",
    "    addr.str.strip_chars(chars).alias(\"strip\"),\n",
    "    addr.str.strip_chars_end(chars).alias(\"end\"),\n",
    "    addr.str.strip_chars_start(chars).alias(\"start\"),\n",
    "    addr.str.strip_prefix(\"128 \").alias(\"prefix\"),\n",
    "    addr.str.strip_suffix(\", 158\").alias(\"suffix\"),\n",
    ")"
   ]
  },
  {
   "cell_type": "markdown",
   "id": "a811eac1",
   "metadata": {},
   "source": [
    "### Slicing"
   ]
  },
  {
   "cell_type": "code",
   "execution_count": 21,
   "id": "dc4e6113",
   "metadata": {},
   "outputs": [
    {
     "data": {
      "text/html": [
       "<div><style>\n",
       ".dataframe > thead > tr,\n",
       ".dataframe > tbody > tr {\n",
       "  text-align: right;\n",
       "  white-space: pre-wrap;\n",
       "}\n",
       "</style>\n",
       "<small>shape: (4, 5)</small><table border=\"1\" class=\"dataframe\"><thead><tr><th>fruits</th><th>n</th><th>slice</th><th>head</th><th>tail</th></tr><tr><td>str</td><td>i64</td><td>str</td><td>str</td><td>str</td></tr></thead><tbody><tr><td>&quot;pear&quot;</td><td>1</td><td>&quot;ear&quot;</td><td>&quot;p&quot;</td><td>&quot;r&quot;</td></tr><tr><td>&quot;mango&quot;</td><td>-1</td><td>&quot;o&quot;</td><td>&quot;mang&quot;</td><td>&quot;ango&quot;</td></tr><tr><td>&quot;dragonfruit&quot;</td><td>4</td><td>&quot;onfruit&quot;</td><td>&quot;drag&quot;</td><td>&quot;ruit&quot;</td></tr><tr><td>&quot;passionfruit&quot;</td><td>-4</td><td>&quot;ruit&quot;</td><td>&quot;passionf&quot;</td><td>&quot;ionfruit&quot;</td></tr></tbody></table></div>"
      ],
      "text/plain": [
       "shape: (4, 5)\n",
       "┌──────────────┬─────┬─────────┬──────────┬──────────┐\n",
       "│ fruits       ┆ n   ┆ slice   ┆ head     ┆ tail     │\n",
       "│ ---          ┆ --- ┆ ---     ┆ ---      ┆ ---      │\n",
       "│ str          ┆ i64 ┆ str     ┆ str      ┆ str      │\n",
       "╞══════════════╪═════╪═════════╪══════════╪══════════╡\n",
       "│ pear         ┆ 1   ┆ ear     ┆ p        ┆ r        │\n",
       "│ mango        ┆ -1  ┆ o       ┆ mang     ┆ ango     │\n",
       "│ dragonfruit  ┆ 4   ┆ onfruit ┆ drag     ┆ ruit     │\n",
       "│ passionfruit ┆ -4  ┆ ruit    ┆ passionf ┆ ionfruit │\n",
       "└──────────────┴─────┴─────────┴──────────┴──────────┘"
      ]
     },
     "execution_count": 21,
     "metadata": {},
     "output_type": "execute_result"
    }
   ],
   "source": [
    "df = pl.DataFrame(\n",
    "    {\n",
    "        \"fruits\": [\"pear\", \"mango\", \"dragonfruit\", \"passionfruit\"],\n",
    "        \"n\": [1, -1, 4, -4],\n",
    "    }\n",
    ")\n",
    "\n",
    "df.with_columns(\n",
    "    pl.col(\"fruits\").str.slice(pl.col(\"n\")).alias(\"slice\"),\n",
    "    pl.col(\"fruits\").str.head(pl.col(\"n\")).alias(\"head\"),\n",
    "    pl.col(\"fruits\").str.tail(pl.col(\"n\")).alias(\"tail\"),\n",
    ")"
   ]
  }
 ],
 "metadata": {
  "kernelspec": {
   "display_name": ".venv",
   "language": "python",
   "name": "python3"
  },
  "language_info": {
   "codemirror_mode": {
    "name": "ipython",
    "version": 3
   },
   "file_extension": ".py",
   "mimetype": "text/x-python",
   "name": "python",
   "nbconvert_exporter": "python",
   "pygments_lexer": "ipython3",
   "version": "3.12.3"
  }
 },
 "nbformat": 4,
 "nbformat_minor": 5
}
