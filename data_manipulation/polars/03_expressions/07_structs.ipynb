{
 "cells": [
  {
   "cell_type": "markdown",
   "id": "7cc49e2b",
   "metadata": {},
   "source": [
    "# [Expressions: Structs](https://docs.pola.rs/user-guide/expressions/structs/)"
   ]
  },
  {
   "cell_type": "code",
   "execution_count": 1,
   "id": "7ea3cdbe",
   "metadata": {},
   "outputs": [
    {
     "name": "stdout",
     "output_type": "stream",
     "text": [
      "shape: (10, 4)\n",
      "┌───────┬─────────┬────────────┬───────┐\n",
      "│ Movie ┆ Theatre ┆ Avg_Rating ┆ Count │\n",
      "│ ---   ┆ ---     ┆ ---        ┆ ---   │\n",
      "│ str   ┆ str     ┆ f64        ┆ i64   │\n",
      "╞═══════╪═════════╪════════════╪═══════╡\n",
      "│ Cars  ┆ NE      ┆ 4.5        ┆ 30    │\n",
      "│ IT    ┆ ME      ┆ 4.4        ┆ 27    │\n",
      "│ ET    ┆ IL      ┆ 4.6        ┆ 26    │\n",
      "│ Cars  ┆ ND      ┆ 4.3        ┆ 29    │\n",
      "│ Up    ┆ NE      ┆ 4.8        ┆ 31    │\n",
      "│ IT    ┆ SD      ┆ 4.7        ┆ 28    │\n",
      "│ Cars  ┆ NE      ┆ 4.5        ┆ 28    │\n",
      "│ ET    ┆ IL      ┆ 4.9        ┆ 26    │\n",
      "│ Up    ┆ IL      ┆ 4.7        ┆ 33    │\n",
      "│ Cars  ┆ NE      ┆ 4.6        ┆ 28    │\n",
      "└───────┴─────────┴────────────┴───────┘\n"
     ]
    }
   ],
   "source": [
    "import polars as pl\n",
    "\n",
    "ratings = pl.DataFrame(\n",
    "    {\n",
    "        \"Movie\": [\"Cars\", \"IT\", \"ET\", \"Cars\", \"Up\", \"IT\", \"Cars\", \"ET\", \"Up\", \"Cars\"],\n",
    "        \"Theatre\": [\"NE\", \"ME\", \"IL\", \"ND\", \"NE\", \"SD\", \"NE\", \"IL\", \"IL\", \"NE\"],\n",
    "        \"Avg_Rating\": [4.5, 4.4, 4.6, 4.3, 4.8, 4.7, 4.5, 4.9, 4.7, 4.6],\n",
    "        \"Count\": [30, 27, 26, 29, 31, 28, 28, 26, 33, 28],\n",
    "    }\n",
    ")\n",
    "print(ratings)"
   ]
  },
  {
   "cell_type": "markdown",
   "id": "b5664538",
   "metadata": {},
   "source": [
    "## Encountering the data type Struct"
   ]
  },
  {
   "cell_type": "code",
   "execution_count": 3,
   "id": "7a38fd18",
   "metadata": {},
   "outputs": [
    {
     "data": {
      "text/html": [
       "<div><style>\n",
       ".dataframe > thead > tr,\n",
       ".dataframe > tbody > tr {\n",
       "  text-align: right;\n",
       "  white-space: pre-wrap;\n",
       "}\n",
       "</style>\n",
       "<small>shape: (5, 1)</small><table border=\"1\" class=\"dataframe\"><thead><tr><th>Theatre</th></tr><tr><td>struct[2]</td></tr></thead><tbody><tr><td>{&quot;NE&quot;,4}</td></tr><tr><td>{&quot;IL&quot;,3}</td></tr><tr><td>{&quot;ME&quot;,1}</td></tr><tr><td>{&quot;ND&quot;,1}</td></tr><tr><td>{&quot;SD&quot;,1}</td></tr></tbody></table></div>"
      ],
      "text/plain": [
       "shape: (5, 1)\n",
       "┌───────────┐\n",
       "│ Theatre   │\n",
       "│ ---       │\n",
       "│ struct[2] │\n",
       "╞═══════════╡\n",
       "│ {\"NE\",4}  │\n",
       "│ {\"IL\",3}  │\n",
       "│ {\"ME\",1}  │\n",
       "│ {\"ND\",1}  │\n",
       "│ {\"SD\",1}  │\n",
       "└───────────┘"
      ]
     },
     "execution_count": 3,
     "metadata": {},
     "output_type": "execute_result"
    }
   ],
   "source": [
    "ratings.select(pl.col(\"Theatre\").value_counts(sort=True))"
   ]
  },
  {
   "cell_type": "markdown",
   "id": "00b5721e",
   "metadata": {},
   "source": [
    "use unnest to convert a struct to a count table."
   ]
  },
  {
   "cell_type": "code",
   "execution_count": 5,
   "id": "51130a49",
   "metadata": {},
   "outputs": [
    {
     "data": {
      "text/html": [
       "<div><style>\n",
       ".dataframe > thead > tr,\n",
       ".dataframe > tbody > tr {\n",
       "  text-align: right;\n",
       "  white-space: pre-wrap;\n",
       "}\n",
       "</style>\n",
       "<small>shape: (5, 2)</small><table border=\"1\" class=\"dataframe\"><thead><tr><th>Theatre</th><th>count</th></tr><tr><td>str</td><td>u32</td></tr></thead><tbody><tr><td>&quot;NE&quot;</td><td>4</td></tr><tr><td>&quot;IL&quot;</td><td>3</td></tr><tr><td>&quot;ME&quot;</td><td>1</td></tr><tr><td>&quot;ND&quot;</td><td>1</td></tr><tr><td>&quot;SD&quot;</td><td>1</td></tr></tbody></table></div>"
      ],
      "text/plain": [
       "shape: (5, 2)\n",
       "┌─────────┬───────┐\n",
       "│ Theatre ┆ count │\n",
       "│ ---     ┆ ---   │\n",
       "│ str     ┆ u32   │\n",
       "╞═════════╪═══════╡\n",
       "│ NE      ┆ 4     │\n",
       "│ IL      ┆ 3     │\n",
       "│ ME      ┆ 1     │\n",
       "│ ND      ┆ 1     │\n",
       "│ SD      ┆ 1     │\n",
       "└─────────┴───────┘"
      ]
     },
     "execution_count": 5,
     "metadata": {},
     "output_type": "execute_result"
    }
   ],
   "source": [
    "ratings.select(pl.col(\"Theatre\").value_counts(sort=True)).unnest(\"Theatre\")"
   ]
  },
  {
   "cell_type": "markdown",
   "id": "ed8b6783",
   "metadata": {},
   "source": [
    "## Inferring the data type Struct from dictionaries"
   ]
  },
  {
   "cell_type": "code",
   "execution_count": 6,
   "id": "39815b57",
   "metadata": {},
   "outputs": [
    {
     "name": "stdout",
     "output_type": "stream",
     "text": [
      "shape: (2,)\n",
      "Series: 'ratings' [struct[3]]\n",
      "[\n",
      "\t{\"Cars\",\"NE\",4.5}\n",
      "\t{\"Toy Story\",\"ME\",4.9}\n",
      "]\n"
     ]
    }
   ],
   "source": [
    "rating_series = pl.Series(\n",
    "    \"ratings\",\n",
    "    [\n",
    "        {\"Movie\": \"Cars\", \"Theatre\": \"NE\", \"Avg_Rating\": 4.5},\n",
    "        {\"Movie\": \"Toy Story\", \"Theatre\": \"ME\", \"Avg_Rating\": 4.9},\n",
    "    ],\n",
    ")\n",
    "print(rating_series)"
   ]
  },
  {
   "cell_type": "markdown",
   "id": "901f2620",
   "metadata": {},
   "source": [
    "Using the wrong type can cause null values, or errors"
   ]
  },
  {
   "cell_type": "code",
   "execution_count": 7,
   "id": "1c6eeda2",
   "metadata": {},
   "outputs": [
    {
     "name": "stdout",
     "output_type": "stream",
     "text": [
      "shape: (3,)\n",
      "Series: 'ratings' [struct[4]]\n",
      "[\n",
      "\t{\"Cars\",\"NE\",\"4.5\",null}\n",
      "\t{null,\"ME\",\"4.9\",\"Toy Story\"}\n",
      "\t{\"Snow White\",\"IL\",\"4.7\",null}\n",
      "]\n"
     ]
    }
   ],
   "source": [
    "null_rating_series = pl.Series(\n",
    "    \"ratings\",\n",
    "    [\n",
    "        {\"Movie\": \"Cars\", \"Theatre\": \"NE\", \"Avg_Rating\": 4.5},\n",
    "        {\"Mov\": \"Toy Story\", \"Theatre\": \"ME\", \"Avg_Rating\": 4.9},\n",
    "        {\"Movie\": \"Snow White\", \"Theatre\": \"IL\", \"Avg_Rating\": \"4.7\"},\n",
    "    ],\n",
    "    strict=False,  # To show the final structs with `null` values.\n",
    ")\n",
    "print(null_rating_series)"
   ]
  },
  {
   "cell_type": "markdown",
   "id": "7b48acad",
   "metadata": {},
   "source": [
    "## Extracting individual values of a Struct"
   ]
  },
  {
   "cell_type": "code",
   "execution_count": 8,
   "id": "103a4541",
   "metadata": {},
   "outputs": [
    {
     "data": {
      "text/html": [
       "<div><style>\n",
       ".dataframe > thead > tr,\n",
       ".dataframe > tbody > tr {\n",
       "  text-align: right;\n",
       "  white-space: pre-wrap;\n",
       "}\n",
       "</style>\n",
       "<small>shape: (2,)</small><table border=\"1\" class=\"dataframe\"><thead><tr><th>Movie</th></tr><tr><td>str</td></tr></thead><tbody><tr><td>&quot;Cars&quot;</td></tr><tr><td>&quot;Toy Story&quot;</td></tr></tbody></table></div>"
      ],
      "text/plain": [
       "shape: (2,)\n",
       "Series: 'Movie' [str]\n",
       "[\n",
       "\t\"Cars\"\n",
       "\t\"Toy Story\"\n",
       "]"
      ]
     },
     "execution_count": 8,
     "metadata": {},
     "output_type": "execute_result"
    }
   ],
   "source": [
    "rating_series.struct.field(\"Movie\")"
   ]
  },
  {
   "cell_type": "markdown",
   "id": "c78d6f85",
   "metadata": {},
   "source": [
    "## Renaming individual fields of a Struct"
   ]
  },
  {
   "cell_type": "code",
   "execution_count": 10,
   "id": "8068a830",
   "metadata": {},
   "outputs": [
    {
     "data": {
      "text/html": [
       "<div><style>\n",
       ".dataframe > thead > tr,\n",
       ".dataframe > tbody > tr {\n",
       "  text-align: right;\n",
       "  white-space: pre-wrap;\n",
       "}\n",
       "</style>\n",
       "<small>shape: (2, 3)</small><table border=\"1\" class=\"dataframe\"><thead><tr><th>Film</th><th>State</th><th>Value</th></tr><tr><td>str</td><td>str</td><td>f64</td></tr></thead><tbody><tr><td>&quot;Cars&quot;</td><td>&quot;NE&quot;</td><td>4.5</td></tr><tr><td>&quot;Toy Story&quot;</td><td>&quot;ME&quot;</td><td>4.9</td></tr></tbody></table></div>"
      ],
      "text/plain": [
       "shape: (2, 3)\n",
       "┌───────────┬───────┬───────┐\n",
       "│ Film      ┆ State ┆ Value │\n",
       "│ ---       ┆ ---   ┆ ---   │\n",
       "│ str       ┆ str   ┆ f64   │\n",
       "╞═══════════╪═══════╪═══════╡\n",
       "│ Cars      ┆ NE    ┆ 4.5   │\n",
       "│ Toy Story ┆ ME    ┆ 4.9   │\n",
       "└───────────┴───────┴───────┘"
      ]
     },
     "execution_count": 10,
     "metadata": {},
     "output_type": "execute_result"
    }
   ],
   "source": [
    "result = rating_series.struct.rename_fields([\"Film\", \"State\", \"Value\"])\n",
    "result.to_frame().unnest(\"ratings\")"
   ]
  },
  {
   "cell_type": "markdown",
   "id": "92e7789d",
   "metadata": {},
   "source": [
    "## Practical use-cases of Struct columns\n",
    "\n",
    "### Identifying duplicate rows"
   ]
  },
  {
   "cell_type": "code",
   "execution_count": 11,
   "id": "adc90185",
   "metadata": {},
   "outputs": [
    {
     "data": {
      "text/html": [
       "<div><style>\n",
       ".dataframe > thead > tr,\n",
       ".dataframe > tbody > tr {\n",
       "  text-align: right;\n",
       "  white-space: pre-wrap;\n",
       "}\n",
       "</style>\n",
       "<small>shape: (5, 4)</small><table border=\"1\" class=\"dataframe\"><thead><tr><th>Movie</th><th>Theatre</th><th>Avg_Rating</th><th>Count</th></tr><tr><td>str</td><td>str</td><td>f64</td><td>i64</td></tr></thead><tbody><tr><td>&quot;Cars&quot;</td><td>&quot;NE&quot;</td><td>4.5</td><td>30</td></tr><tr><td>&quot;ET&quot;</td><td>&quot;IL&quot;</td><td>4.6</td><td>26</td></tr><tr><td>&quot;Cars&quot;</td><td>&quot;NE&quot;</td><td>4.5</td><td>28</td></tr><tr><td>&quot;ET&quot;</td><td>&quot;IL&quot;</td><td>4.9</td><td>26</td></tr><tr><td>&quot;Cars&quot;</td><td>&quot;NE&quot;</td><td>4.6</td><td>28</td></tr></tbody></table></div>"
      ],
      "text/plain": [
       "shape: (5, 4)\n",
       "┌───────┬─────────┬────────────┬───────┐\n",
       "│ Movie ┆ Theatre ┆ Avg_Rating ┆ Count │\n",
       "│ ---   ┆ ---     ┆ ---        ┆ ---   │\n",
       "│ str   ┆ str     ┆ f64        ┆ i64   │\n",
       "╞═══════╪═════════╪════════════╪═══════╡\n",
       "│ Cars  ┆ NE      ┆ 4.5        ┆ 30    │\n",
       "│ ET    ┆ IL      ┆ 4.6        ┆ 26    │\n",
       "│ Cars  ┆ NE      ┆ 4.5        ┆ 28    │\n",
       "│ ET    ┆ IL      ┆ 4.9        ┆ 26    │\n",
       "│ Cars  ┆ NE      ┆ 4.6        ┆ 28    │\n",
       "└───────┴─────────┴────────────┴───────┘"
      ]
     },
     "execution_count": 11,
     "metadata": {},
     "output_type": "execute_result"
    }
   ],
   "source": [
    "ratings.filter(pl.struct(\"Movie\", \"Theatre\").is_duplicated())"
   ]
  },
  {
   "cell_type": "markdown",
   "id": "4dcbe5dd",
   "metadata": {},
   "source": [
    "### Multi-column ranking"
   ]
  },
  {
   "cell_type": "code",
   "execution_count": null,
   "id": "30df9ee1",
   "metadata": {},
   "outputs": [
    {
     "data": {
      "text/html": [
       "<div><style>\n",
       ".dataframe > thead > tr,\n",
       ".dataframe > tbody > tr {\n",
       "  text-align: right;\n",
       "  white-space: pre-wrap;\n",
       "}\n",
       "</style>\n",
       "<small>shape: (10, 5)</small><table border=\"1\" class=\"dataframe\"><thead><tr><th>Movie</th><th>Theatre</th><th>Avg_Rating</th><th>Count</th><th>Ranking</th></tr><tr><td>str</td><td>str</td><td>f64</td><td>i64</td><td>u32</td></tr></thead><tbody><tr><td>&quot;Cars&quot;</td><td>&quot;NE&quot;</td><td>4.5</td><td>30</td><td>1</td></tr><tr><td>&quot;IT&quot;</td><td>&quot;ME&quot;</td><td>4.4</td><td>27</td><td>1</td></tr><tr><td>&quot;ET&quot;</td><td>&quot;IL&quot;</td><td>4.6</td><td>26</td><td>2</td></tr><tr><td>&quot;Cars&quot;</td><td>&quot;ND&quot;</td><td>4.3</td><td>29</td><td>1</td></tr><tr><td>&quot;Up&quot;</td><td>&quot;NE&quot;</td><td>4.8</td><td>31</td><td>1</td></tr><tr><td>&quot;IT&quot;</td><td>&quot;SD&quot;</td><td>4.7</td><td>28</td><td>1</td></tr><tr><td>&quot;Cars&quot;</td><td>&quot;NE&quot;</td><td>4.5</td><td>28</td><td>3</td></tr><tr><td>&quot;ET&quot;</td><td>&quot;IL&quot;</td><td>4.9</td><td>26</td><td>1</td></tr><tr><td>&quot;Up&quot;</td><td>&quot;IL&quot;</td><td>4.7</td><td>33</td><td>1</td></tr><tr><td>&quot;Cars&quot;</td><td>&quot;NE&quot;</td><td>4.6</td><td>28</td><td>2</td></tr></tbody></table></div>"
      ],
      "text/plain": [
       "shape: (10, 5)\n",
       "┌───────┬─────────┬────────────┬───────┬─────────┐\n",
       "│ Movie ┆ Theatre ┆ Avg_Rating ┆ Count ┆ Ranking │\n",
       "│ ---   ┆ ---     ┆ ---        ┆ ---   ┆ ---     │\n",
       "│ str   ┆ str     ┆ f64        ┆ i64   ┆ u32     │\n",
       "╞═══════╪═════════╪════════════╪═══════╪═════════╡\n",
       "│ Cars  ┆ NE      ┆ 4.5        ┆ 30    ┆ 1       │\n",
       "│ IT    ┆ ME      ┆ 4.4        ┆ 27    ┆ 1       │\n",
       "│ ET    ┆ IL      ┆ 4.6        ┆ 26    ┆ 2       │\n",
       "│ Cars  ┆ ND      ┆ 4.3        ┆ 29    ┆ 1       │\n",
       "│ Up    ┆ NE      ┆ 4.8        ┆ 31    ┆ 1       │\n",
       "│ IT    ┆ SD      ┆ 4.7        ┆ 28    ┆ 1       │\n",
       "│ Cars  ┆ NE      ┆ 4.5        ┆ 28    ┆ 3       │\n",
       "│ ET    ┆ IL      ┆ 4.9        ┆ 26    ┆ 1       │\n",
       "│ Up    ┆ IL      ┆ 4.7        ┆ 33    ┆ 1       │\n",
       "│ Cars  ┆ NE      ┆ 4.6        ┆ 28    ┆ 2       │\n",
       "└───────┴─────────┴────────────┴───────┴─────────┘"
      ]
     },
     "execution_count": 13,
     "metadata": {},
     "output_type": "execute_result"
    }
   ],
   "source": [
    "ratings.with_columns(\n",
    "    pl.struct(\"Count\",\"Avg_Rating\")\n",
    "    .rank(\"dense\", descending=True)\n",
    "    .over(\"Movie\", \"Theatre\")   # This applies the previous\n",
    "    .alias(\"Ranking\")\n",
    ")"
   ]
  },
  {
   "cell_type": "markdown",
   "id": "f9bca0b0",
   "metadata": {},
   "source": [
    "## Using multiple columns in a single expression"
   ]
  },
  {
   "cell_type": "code",
   "execution_count": null,
   "id": "b70a5a1c",
   "metadata": {},
   "outputs": [
    {
     "data": {
      "text/html": [
       "<div><style>\n",
       ".dataframe > thead > tr,\n",
       ".dataframe > tbody > tr {\n",
       "  text-align: right;\n",
       "  white-space: pre-wrap;\n",
       "}\n",
       "</style>\n",
       "<small>shape: (7, 3)</small><table border=\"1\" class=\"dataframe\"><thead><tr><th>m</th><th>n</th><th>ack</th></tr><tr><td>i64</td><td>i64</td><td>i64</td></tr></thead><tbody><tr><td>0</td><td>2</td><td>3</td></tr><tr><td>0</td><td>3</td><td>4</td></tr><tr><td>0</td><td>4</td><td>5</td></tr><tr><td>1</td><td>1</td><td>3</td></tr><tr><td>1</td><td>2</td><td>4</td></tr><tr><td>1</td><td>3</td><td>5</td></tr><tr><td>2</td><td>1</td><td>5</td></tr></tbody></table></div>"
      ],
      "text/plain": [
       "shape: (7, 3)\n",
       "┌─────┬─────┬─────┐\n",
       "│ m   ┆ n   ┆ ack │\n",
       "│ --- ┆ --- ┆ --- │\n",
       "│ i64 ┆ i64 ┆ i64 │\n",
       "╞═════╪═════╪═════╡\n",
       "│ 0   ┆ 2   ┆ 3   │\n",
       "│ 0   ┆ 3   ┆ 4   │\n",
       "│ 0   ┆ 4   ┆ 5   │\n",
       "│ 1   ┆ 1   ┆ 3   │\n",
       "│ 1   ┆ 2   ┆ 4   │\n",
       "│ 1   ┆ 3   ┆ 5   │\n",
       "│ 2   ┆ 1   ┆ 5   │\n",
       "└─────┴─────┴─────┘"
      ]
     },
     "execution_count": 18,
     "metadata": {},
     "output_type": "execute_result"
    }
   ],
   "source": [
    "def ack(m, n):\n",
    "    if not m:\n",
    "        return n + 1\n",
    "    if not n:\n",
    "        return ack(m - 1, 1)\n",
    "    return ack(m - 1, ack(m, n - 1))\n",
    "\n",
    "values = pl.DataFrame(\n",
    "    {\n",
    "        \"m\": [0, 0, 0, 1, 1, 1, 2],\n",
    "        \"n\": [2, 3, 4, 1, 2, 3, 1],\n",
    "    }\n",
    ")\n",
    "\n",
    "values.with_columns(\n",
    "    pl.struct([\"m\", \"n\"])\n",
    "    .map_elements(lambda s: ack(s[\"m\"], s[\"n\"]), return_dtype=pl.Int64)\n",
    "    .alias(\"ack\")\n",
    ")\n"
   ]
  }
 ],
 "metadata": {
  "kernelspec": {
   "display_name": ".venv",
   "language": "python",
   "name": "python3"
  },
  "language_info": {
   "codemirror_mode": {
    "name": "ipython",
    "version": 3
   },
   "file_extension": ".py",
   "mimetype": "text/x-python",
   "name": "python",
   "nbconvert_exporter": "python",
   "pygments_lexer": "ipython3",
   "version": "3.12.3"
  }
 },
 "nbformat": 4,
 "nbformat_minor": 5
}
