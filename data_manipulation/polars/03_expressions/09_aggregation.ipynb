{
 "cells": [
  {
   "cell_type": "markdown",
   "id": "81701ac1",
   "metadata": {},
   "source": [
    "# [Expressions: Aggregation](https://docs.pola.rs/user-guide/expressions/aggregation/)"
   ]
  },
  {
   "cell_type": "code",
   "execution_count": 3,
   "id": "aed3c390",
   "metadata": {},
   "outputs": [
    {
     "data": {
      "text/html": [
       "<div><style>\n",
       ".dataframe > thead > tr,\n",
       ".dataframe > tbody > tr {\n",
       "  text-align: right;\n",
       "  white-space: pre-wrap;\n",
       "}\n",
       "</style>\n",
       "<small>shape: (42_660, 25)</small><table border=\"1\" class=\"dataframe\"><thead><tr><th>bioguide</th><th>govtrack</th><th>icpsr</th><th>wikipedia</th><th>house_history</th><th>wikidata</th><th>google_entity_id</th><th>ballotpedia</th><th>first</th><th>middle</th><th>last</th><th>nickname</th><th>suffix</th><th>birthday</th><th>gender</th><th>type</th><th>start</th><th>end</th><th>state</th><th>class</th><th>party</th><th>district</th><th>first_name</th><th>middle_name</th><th>last_name</th></tr><tr><td>str</td><td>i64</td><td>i64</td><td>str</td><td>i64</td><td>str</td><td>str</td><td>str</td><td>str</td><td>str</td><td>str</td><td>str</td><td>str</td><td>date</td><td>cat</td><td>cat</td><td>str</td><td>str</td><td>cat</td><td>i64</td><td>cat</td><td>i64</td><td>str</td><td>str</td><td>str</td></tr></thead><tbody><tr><td>&quot;B000226&quot;</td><td>401222</td><td>507</td><td>&quot;Richard Bassett (Delaware poli…</td><td>null</td><td>&quot;Q518823&quot;</td><td>&quot;kg:/m/02pz46&quot;</td><td>null</td><td>&quot;Richard&quot;</td><td>null</td><td>&quot;Bassett&quot;</td><td>null</td><td>null</td><td>1745-04-02</td><td>&quot;M&quot;</td><td>&quot;sen&quot;</td><td>&quot;1789-03-04&quot;</td><td>&quot;1793-03-03&quot;</td><td>&quot;DE&quot;</td><td>2</td><td>&quot;Anti-Administration&quot;</td><td>null</td><td>&quot;Richard&quot;</td><td>null</td><td>&quot;Bassett&quot;</td></tr><tr><td>&quot;B000546&quot;</td><td>401521</td><td>786</td><td>&quot;Theodorick Bland (congressman)&quot;</td><td>9479</td><td>&quot;Q1749152&quot;</td><td>&quot;kg:/m/033mf4&quot;</td><td>null</td><td>&quot;Theodorick&quot;</td><td>null</td><td>&quot;Bland&quot;</td><td>null</td><td>null</td><td>1742-03-21</td><td>&quot;M&quot;</td><td>&quot;rep&quot;</td><td>&quot;1789-03-04&quot;</td><td>&quot;1791-03-03&quot;</td><td>&quot;VA&quot;</td><td>null</td><td>null</td><td>9</td><td>&quot;Theodorick&quot;</td><td>null</td><td>&quot;Bland&quot;</td></tr><tr><td>&quot;B001086&quot;</td><td>402032</td><td>1260</td><td>&quot;Aedanus Burke&quot;</td><td>10177</td><td>&quot;Q380504&quot;</td><td>&quot;kg:/m/03yccv&quot;</td><td>null</td><td>&quot;Aedanus&quot;</td><td>null</td><td>&quot;Burke&quot;</td><td>null</td><td>null</td><td>1743-06-16</td><td>&quot;M&quot;</td><td>&quot;rep&quot;</td><td>&quot;1789-03-04&quot;</td><td>&quot;1791-03-03&quot;</td><td>&quot;SC&quot;</td><td>null</td><td>null</td><td>2</td><td>&quot;Aedanus&quot;</td><td>null</td><td>&quot;Burke&quot;</td></tr><tr><td>&quot;C000187&quot;</td><td>402334</td><td>1538</td><td>&quot;Daniel Carroll&quot;</td><td>10687</td><td>&quot;Q674371&quot;</td><td>&quot;kg:/m/02q22c&quot;</td><td>null</td><td>&quot;Daniel&quot;</td><td>null</td><td>&quot;Carroll&quot;</td><td>null</td><td>null</td><td>1730-07-22</td><td>&quot;M&quot;</td><td>&quot;rep&quot;</td><td>&quot;1789-03-04&quot;</td><td>&quot;1791-03-03&quot;</td><td>&quot;MD&quot;</td><td>null</td><td>null</td><td>6</td><td>&quot;Daniel&quot;</td><td>null</td><td>&quot;Carroll&quot;</td></tr><tr><td>&quot;C000538&quot;</td><td>402671</td><td>1859</td><td>&quot;George Clymer&quot;</td><td>11120</td><td>&quot;Q708913&quot;</td><td>&quot;kg:/m/01mpsj&quot;</td><td>null</td><td>&quot;George&quot;</td><td>null</td><td>&quot;Clymer&quot;</td><td>null</td><td>null</td><td>1739-03-16</td><td>&quot;M&quot;</td><td>&quot;rep&quot;</td><td>&quot;1789-03-04&quot;</td><td>&quot;1791-03-03&quot;</td><td>&quot;PA&quot;</td><td>null</td><td>null</td><td>-1</td><td>&quot;George&quot;</td><td>null</td><td>&quot;Clymer&quot;</td></tr><tr><td>&hellip;</td><td>&hellip;</td><td>&hellip;</td><td>&hellip;</td><td>&hellip;</td><td>&hellip;</td><td>&hellip;</td><td>&hellip;</td><td>&hellip;</td><td>&hellip;</td><td>&hellip;</td><td>&hellip;</td><td>&hellip;</td><td>&hellip;</td><td>&hellip;</td><td>&hellip;</td><td>&hellip;</td><td>&hellip;</td><td>&hellip;</td><td>&hellip;</td><td>&hellip;</td><td>&hellip;</td><td>&hellip;</td><td>&hellip;</td><td>&hellip;</td></tr><tr><td>&quot;L000605&quot;</td><td>456964</td><td>null</td><td>&quot;Erica Lee Carter&quot;</td><td>null</td><td>&quot;Q130982422&quot;</td><td>null</td><td>&quot;Erica Lee Carter&quot;</td><td>&quot;Erica&quot;</td><td>null</td><td>&quot;Lee Carter&quot;</td><td>null</td><td>null</td><td>1980-02-02</td><td>&quot;F&quot;</td><td>&quot;rep&quot;</td><td>&quot;2024-11-05&quot;</td><td>&quot;2025-01-03&quot;</td><td>&quot;TX&quot;</td><td>null</td><td>&quot;Democrat&quot;</td><td>18</td><td>&quot;Erica&quot;</td><td>null</td><td>&quot;Lee Carter&quot;</td></tr><tr><td>&quot;V000137&quot;</td><td>456876</td><td>null</td><td>&quot;JD Vance&quot;</td><td>null</td><td>&quot;Q28935729&quot;</td><td>&quot;kg:/g/11c6v_wj1r&quot;</td><td>&quot;J.D. Vance&quot;</td><td>&quot;James David&quot;</td><td>null</td><td>&quot;Vance&quot;</td><td>&quot;J.D.&quot;</td><td>null</td><td>1984-08-02</td><td>&quot;M&quot;</td><td>&quot;sen&quot;</td><td>&quot;2023-01-03&quot;</td><td>&quot;2025-01-09&quot;</td><td>&quot;OH&quot;</td><td>3</td><td>&quot;Republican&quot;</td><td>null</td><td>&quot;James David&quot;</td><td>null</td><td>&quot;Vance&quot;</td></tr><tr><td>&quot;R000595&quot;</td><td>412491</td><td>41102</td><td>&quot;Marco Rubio&quot;</td><td>null</td><td>&quot;Q324546&quot;</td><td>&quot;kg:/m/0dpr5f&quot;</td><td>&quot;Marco Rubio&quot;</td><td>&quot;Marco&quot;</td><td>null</td><td>&quot;Rubio&quot;</td><td>null</td><td>null</td><td>1971-05-28</td><td>&quot;M&quot;</td><td>&quot;sen&quot;</td><td>&quot;2011-01-05&quot;</td><td>&quot;2017-01-03&quot;</td><td>&quot;FL&quot;</td><td>3</td><td>&quot;Republican&quot;</td><td>null</td><td>&quot;Marco&quot;</td><td>null</td><td>&quot;Rubio&quot;</td></tr><tr><td>&quot;R000595&quot;</td><td>412491</td><td>41102</td><td>&quot;Marco Rubio&quot;</td><td>null</td><td>&quot;Q324546&quot;</td><td>&quot;kg:/m/0dpr5f&quot;</td><td>&quot;Marco Rubio&quot;</td><td>&quot;Marco&quot;</td><td>null</td><td>&quot;Rubio&quot;</td><td>null</td><td>null</td><td>1971-05-28</td><td>&quot;M&quot;</td><td>&quot;sen&quot;</td><td>&quot;2017-01-03&quot;</td><td>&quot;2023-01-03&quot;</td><td>&quot;FL&quot;</td><td>3</td><td>&quot;Republican&quot;</td><td>null</td><td>&quot;Marco&quot;</td><td>null</td><td>&quot;Rubio&quot;</td></tr><tr><td>&quot;R000595&quot;</td><td>412491</td><td>41102</td><td>&quot;Marco Rubio&quot;</td><td>null</td><td>&quot;Q324546&quot;</td><td>&quot;kg:/m/0dpr5f&quot;</td><td>&quot;Marco Rubio&quot;</td><td>&quot;Marco&quot;</td><td>null</td><td>&quot;Rubio&quot;</td><td>null</td><td>null</td><td>1971-05-28</td><td>&quot;M&quot;</td><td>&quot;sen&quot;</td><td>&quot;2023-01-03&quot;</td><td>&quot;2025-01-20&quot;</td><td>&quot;FL&quot;</td><td>3</td><td>&quot;Republican&quot;</td><td>null</td><td>&quot;Marco&quot;</td><td>null</td><td>&quot;Rubio&quot;</td></tr></tbody></table></div>"
      ],
      "text/plain": [
       "shape: (42_660, 25)\n",
       "┌──────────┬──────────┬───────┬─────────────┬───┬──────────┬─────────────┬────────────┬────────────┐\n",
       "│ bioguide ┆ govtrack ┆ icpsr ┆ wikipedia   ┆ … ┆ district ┆ first_name  ┆ middle_nam ┆ last_name  │\n",
       "│ ---      ┆ ---      ┆ ---   ┆ ---         ┆   ┆ ---      ┆ ---         ┆ e          ┆ ---        │\n",
       "│ str      ┆ i64      ┆ i64   ┆ str         ┆   ┆ i64      ┆ str         ┆ ---        ┆ str        │\n",
       "│          ┆          ┆       ┆             ┆   ┆          ┆             ┆ str        ┆            │\n",
       "╞══════════╪══════════╪═══════╪═════════════╪═══╪══════════╪═════════════╪════════════╪════════════╡\n",
       "│ B000226  ┆ 401222   ┆ 507   ┆ Richard     ┆ … ┆ null     ┆ Richard     ┆ null       ┆ Bassett    │\n",
       "│          ┆          ┆       ┆ Bassett     ┆   ┆          ┆             ┆            ┆            │\n",
       "│          ┆          ┆       ┆ (Delaware   ┆   ┆          ┆             ┆            ┆            │\n",
       "│          ┆          ┆       ┆ poli…       ┆   ┆          ┆             ┆            ┆            │\n",
       "│ B000546  ┆ 401521   ┆ 786   ┆ Theodorick  ┆ … ┆ 9        ┆ Theodorick  ┆ null       ┆ Bland      │\n",
       "│          ┆          ┆       ┆ Bland (cong ┆   ┆          ┆             ┆            ┆            │\n",
       "│          ┆          ┆       ┆ ressman)    ┆   ┆          ┆             ┆            ┆            │\n",
       "│ B001086  ┆ 402032   ┆ 1260  ┆ Aedanus     ┆ … ┆ 2        ┆ Aedanus     ┆ null       ┆ Burke      │\n",
       "│          ┆          ┆       ┆ Burke       ┆   ┆          ┆             ┆            ┆            │\n",
       "│ C000187  ┆ 402334   ┆ 1538  ┆ Daniel      ┆ … ┆ 6        ┆ Daniel      ┆ null       ┆ Carroll    │\n",
       "│          ┆          ┆       ┆ Carroll     ┆   ┆          ┆             ┆            ┆            │\n",
       "│ C000538  ┆ 402671   ┆ 1859  ┆ George      ┆ … ┆ -1       ┆ George      ┆ null       ┆ Clymer     │\n",
       "│          ┆          ┆       ┆ Clymer      ┆   ┆          ┆             ┆            ┆            │\n",
       "│ …        ┆ …        ┆ …     ┆ …           ┆ … ┆ …        ┆ …           ┆ …          ┆ …          │\n",
       "│ L000605  ┆ 456964   ┆ null  ┆ Erica Lee   ┆ … ┆ 18       ┆ Erica       ┆ null       ┆ Lee Carter │\n",
       "│          ┆          ┆       ┆ Carter      ┆   ┆          ┆             ┆            ┆            │\n",
       "│ V000137  ┆ 456876   ┆ null  ┆ JD Vance    ┆ … ┆ null     ┆ James David ┆ null       ┆ Vance      │\n",
       "│ R000595  ┆ 412491   ┆ 41102 ┆ Marco Rubio ┆ … ┆ null     ┆ Marco       ┆ null       ┆ Rubio      │\n",
       "│ R000595  ┆ 412491   ┆ 41102 ┆ Marco Rubio ┆ … ┆ null     ┆ Marco       ┆ null       ┆ Rubio      │\n",
       "│ R000595  ┆ 412491   ┆ 41102 ┆ Marco Rubio ┆ … ┆ null     ┆ Marco       ┆ null       ┆ Rubio      │\n",
       "└──────────┴──────────┴───────┴─────────────┴───┴──────────┴─────────────┴────────────┴────────────┘"
      ]
     },
     "execution_count": 3,
     "metadata": {},
     "output_type": "execute_result"
    }
   ],
   "source": [
    "import polars as pl\n",
    "\n",
    "url = \"hf://datasets/nameexhaustion/polars-docs/legislators-historical.csv\"\n",
    "\n",
    "schema_overrides = {\n",
    "    \"first_name\": pl.Categorical,\n",
    "    \"gender\": pl.Categorical,\n",
    "    \"type\": pl.Categorical,\n",
    "    \"state\": pl.Categorical,\n",
    "    \"party\": pl.Categorical,\n",
    "}\n",
    "\n",
    "dataset = (\n",
    "    pl.read_csv(url, schema_overrides=schema_overrides)\n",
    "    .with_columns(pl.col(\"first\", \"middle\", \"last\").name.suffix(\"_name\"))\n",
    "    .with_columns(pl.col(\"birthday\").str.to_date(strict=False)) # You can do multiple `with_columns` in one go!\n",
    ")\n",
    "dataset"
   ]
  },
  {
   "cell_type": "markdown",
   "id": "3aff608d",
   "metadata": {},
   "source": [
    "## Basic aggregations"
   ]
  },
  {
   "cell_type": "code",
   "execution_count": 8,
   "id": "dd99f94f",
   "metadata": {},
   "outputs": [
    {
     "name": "stdout",
     "output_type": "stream",
     "text": [
      "shape: (1_603, 4)\n",
      "┌────────────┬──────┬───────────────────┬────────────┐\n",
      "│ first_name ┆ len  ┆ gender            ┆ last_name  │\n",
      "│ ---        ┆ ---  ┆ ---               ┆ ---        │\n",
      "│ str        ┆ u32  ┆ list[cat]         ┆ str        │\n",
      "╞════════════╪══════╪═══════════════════╪════════════╡\n",
      "│ John       ┆ 4227 ┆ [\"M\", \"M\", … \"M\"] ┆ Walker     │\n",
      "│ William    ┆ 3309 ┆ [\"M\", \"M\", … \"M\"] ┆ Few        │\n",
      "│ James      ┆ 2414 ┆ [\"M\", \"M\", … \"M\"] ┆ Armstrong  │\n",
      "│ Charles    ┆ 1514 ┆ [\"M\", \"M\", … \"M\"] ┆ Carroll    │\n",
      "│ Thomas     ┆ 1502 ┆ [\"M\", \"M\", … \"M\"] ┆ Tucker     │\n",
      "│ …          ┆ …    ┆ …                 ┆ …          │\n",
      "│ Maryon     ┆ 1    ┆ [\"F\"]             ┆ Allen      │\n",
      "│ Gershom    ┆ 1    ┆ [\"M\"]             ┆ Powers     │\n",
      "│ Kerry      ┆ 1    ┆ [\"M\"]             ┆ Bentivolio │\n",
      "│ Michel     ┆ 1    ┆ [\"M\"]             ┆ Vidal      │\n",
      "│ Lansing    ┆ 1    ┆ [\"M\"]             ┆ Stout      │\n",
      "└────────────┴──────┴───────────────────┴────────────┘\n"
     ]
    }
   ],
   "source": [
    "q = (\n",
    "    dataset.lazy()\n",
    "    .group_by(\"first_name\")\n",
    "    .agg(\n",
    "        pl.len(),\n",
    "        pl.col(\"gender\"),\n",
    "        pl.first(\"last_name\")\n",
    "    )\n",
    "    .sort(\"len\", descending=True)\n",
    ")\n",
    "\n",
    "df = q.collect()\n",
    "print(df)"
   ]
  },
  {
   "cell_type": "markdown",
   "id": "92a91007",
   "metadata": {},
   "source": [
    "## conditionals"
   ]
  },
  {
   "cell_type": "code",
   "execution_count": 15,
   "id": "086fa906",
   "metadata": {},
   "outputs": [
    {
     "data": {
      "text/html": [
       "<div><style>\n",
       ".dataframe > thead > tr,\n",
       ".dataframe > tbody > tr {\n",
       "  text-align: right;\n",
       "  white-space: pre-wrap;\n",
       "}\n",
       "</style>\n",
       "<small>shape: (5, 3)</small><table border=\"1\" class=\"dataframe\"><thead><tr><th>state</th><th>anti</th><th>pro</th></tr><tr><td>cat</td><td>u32</td><td>u32</td></tr></thead><tbody><tr><td>&quot;CT&quot;</td><td>0</td><td>5</td></tr><tr><td>&quot;DE&quot;</td><td>1</td><td>3</td></tr><tr><td>&quot;NJ&quot;</td><td>0</td><td>3</td></tr><tr><td>&quot;NC&quot;</td><td>2</td><td>2</td></tr><tr><td>&quot;MA&quot;</td><td>0</td><td>2</td></tr></tbody></table></div>"
      ],
      "text/plain": [
       "shape: (5, 3)\n",
       "┌───────┬──────┬─────┐\n",
       "│ state ┆ anti ┆ pro │\n",
       "│ ---   ┆ ---  ┆ --- │\n",
       "│ cat   ┆ u32  ┆ u32 │\n",
       "╞═══════╪══════╪═════╡\n",
       "│ CT    ┆ 0    ┆ 5   │\n",
       "│ DE    ┆ 1    ┆ 3   │\n",
       "│ NJ    ┆ 0    ┆ 3   │\n",
       "│ NC    ┆ 2    ┆ 2   │\n",
       "│ MA    ┆ 0    ┆ 2   │\n",
       "└───────┴──────┴─────┘"
      ]
     },
     "execution_count": 15,
     "metadata": {},
     "output_type": "execute_result"
    }
   ],
   "source": [
    "q = (\n",
    "    dataset.lazy()\n",
    "    .group_by(\"state\")\n",
    "    .agg(\n",
    "        (pl.col(\"party\") == \"Anti-Administration\").sum().alias(\"anti\"),\n",
    "        (pl.col(\"party\") == \"Pro-Administration\").sum().alias(\"pro\")\n",
    "    )\n",
    "    .sort(\"pro\", descending=True)\n",
    "    .limit(5)\n",
    "    )\n",
    "df = q.collect()\n",
    "df"
   ]
  },
  {
   "cell_type": "markdown",
   "id": "c78ba6ff",
   "metadata": {},
   "source": [
    "## Filtering"
   ]
  },
  {
   "cell_type": "code",
   "execution_count": null,
   "id": "c1ac8376",
   "metadata": {},
   "outputs": [
    {
     "name": "stdout",
     "output_type": "stream",
     "text": [
      "shape: (5, 5)\n",
      "┌───────┬────────────────┬────────────────┬────────┬──────────┐\n",
      "│ state ┆ avg M birthday ┆ avg F birthday ┆ # male ┆ # female │\n",
      "│ ---   ┆ ---            ┆ ---            ┆ ---    ┆ ---      │\n",
      "│ cat   ┆ f64            ┆ f64            ┆ u32    ┆ u32      │\n",
      "╞═══════╪════════════════╪════════════════╪════════╪══════════╡\n",
      "│ DE    ┆ 176.45933      ┆ null           ┆ 223    ┆ 0        │\n",
      "│ VA    ┆ 182.590175     ┆ 63.058824      ┆ 1599   ┆ 17       │\n",
      "│ SC    ┆ 170.103666     ┆ 114.428571     ┆ 876    ┆ 7        │\n",
      "│ MD    ┆ 174.803419     ┆ 93.826087      ┆ 881    ┆ 46       │\n",
      "│ PA    ┆ 166.008592     ┆ 91.636364      ┆ 3205   ┆ 22       │\n",
      "└───────┴────────────────┴────────────────┴────────┴──────────┘\n"
     ]
    }
   ],
   "source": [
    "from datetime import date\n",
    "\n",
    "def compute_age():\n",
    "    return date.today().year - pl.col(\"birthday\").dt.year()\n",
    "\n",
    "def avg_birthday(gender: str) -> pl.Expr:\n",
    "    return(\n",
    "        compute_age()\n",
    "        .filter(pl.col(\"gender\") == gender)\n",
    "        .mean()\n",
    "        .alias(f\"avg {gender} birthday\")\n",
    "    )\n",
    "\n",
    "q = (\n",
    "    dataset.lazy()\n",
    "    .group_by(\"state\")\n",
    "    .agg(\n",
    "        avg_birthday(\"M\"),\n",
    "        avg_birthday(\"F\"),\n",
    "        (pl.col(\"gender\") == \"M\").sum().alias(\"# male\"),\n",
    "        (pl.col(\"gender\") == \"F\").sum().alias(\"# female\"),\n",
    "    )\n",
    "    .sort(\"state\")\n",
    "    .limit(5)\n",
    ")\n",
    "\n",
    "df = q.collect()\n",
    "print(df)\n"
   ]
  },
  {
   "cell_type": "markdown",
   "id": "8dd2e1c5",
   "metadata": {},
   "source": [
    "## nested grouping"
   ]
  },
  {
   "cell_type": "code",
   "execution_count": 238,
   "id": "4f5dd77e",
   "metadata": {},
   "outputs": [
    {
     "data": {
      "text/html": [
       "<div><style>\n",
       ".dataframe > thead > tr,\n",
       ".dataframe > tbody > tr {\n",
       "  text-align: right;\n",
       "  white-space: pre-wrap;\n",
       "}\n",
       "</style>\n",
       "<small>shape: (5, 3)</small><table border=\"1\" class=\"dataframe\"><thead><tr><th>state</th><th>party</th><th>count</th></tr><tr><td>cat</td><td>cat</td><td>u32</td></tr></thead><tbody><tr><td>&quot;CT&quot;</td><td>&quot;Pro-Administration&quot;</td><td>5</td></tr><tr><td>&quot;VA&quot;</td><td>&quot;Anti-Administration&quot;</td><td>5</td></tr><tr><td>&quot;NJ&quot;</td><td>&quot;Pro-Administration&quot;</td><td>3</td></tr><tr><td>&quot;PA&quot;</td><td>&quot;Anti-Administration&quot;</td><td>3</td></tr><tr><td>&quot;DE&quot;</td><td>&quot;Pro-Administration&quot;</td><td>3</td></tr></tbody></table></div>"
      ],
      "text/plain": [
       "shape: (5, 3)\n",
       "┌───────┬─────────────────────┬───────┐\n",
       "│ state ┆ party               ┆ count │\n",
       "│ ---   ┆ ---                 ┆ ---   │\n",
       "│ cat   ┆ cat                 ┆ u32   │\n",
       "╞═══════╪═════════════════════╪═══════╡\n",
       "│ CT    ┆ Pro-Administration  ┆ 5     │\n",
       "│ VA    ┆ Anti-Administration ┆ 5     │\n",
       "│ NJ    ┆ Pro-Administration  ┆ 3     │\n",
       "│ PA    ┆ Anti-Administration ┆ 3     │\n",
       "│ DE    ┆ Pro-Administration  ┆ 3     │\n",
       "└───────┴─────────────────────┴───────┘"
      ]
     },
     "execution_count": 238,
     "metadata": {},
     "output_type": "execute_result"
    }
   ],
   "source": [
    "# sorting is a bit random, with every run, it sorts different when only sorting on `count`\n",
    "q = (\n",
    "    dataset.lazy()\n",
    "    .group_by(\"state\", \"party\")\n",
    "    .agg(pl.len().alias(\"count\"))\n",
    "    .filter(\n",
    "        (pl.col(\"party\") == \"Anti-Administration\") | \n",
    "        (pl.col(\"party\") == \"Pro-Administration\")\n",
    "    )\n",
    "    .sort([\"count\", \"state\"], descending=True)\n",
    "    .limit(5)\n",
    ")\n",
    "\n",
    "df = q.collect()\n",
    "df"
   ]
  },
  {
   "cell_type": "code",
   "execution_count": 247,
   "id": "1011e164",
   "metadata": {},
   "outputs": [
    {
     "name": "stdout",
     "output_type": "stream",
     "text": [
      "shape: (5, 4)\n",
      "┌───────┬────────┬──────────────┬──────┐\n",
      "│ state ┆ gender ┆ avg birthday ┆ #    │\n",
      "│ ---   ┆ ---    ┆ ---          ┆ ---  │\n",
      "│ cat   ┆ cat    ┆ f64          ┆ u32  │\n",
      "╞═══════╪════════╪══════════════╪══════╡\n",
      "│ NY    ┆ M      ┆ 164.204634   ┆ 3965 │\n",
      "│ PA    ┆ M      ┆ 166.008592   ┆ 3205 │\n",
      "│ OH    ┆ M      ┆ 156.579961   ┆ 2142 │\n",
      "│ IL    ┆ M      ┆ 145.069482   ┆ 1895 │\n",
      "│ CA    ┆ M      ┆ 114.400464   ┆ 1725 │\n",
      "└───────┴────────┴──────────────┴──────┘\n"
     ]
    }
   ],
   "source": [
    "q = (\n",
    "    dataset.lazy()\n",
    "    .group_by(\"state\", \"gender\")\n",
    "    .agg(\n",
    "        compute_age().mean().alias(\"avg birthday\"), # user defined function\n",
    "        pl.len().alias(\"#\")\n",
    "    )\n",
    "    .sort(\"#\", descending=True)\n",
    "    .limit(5)\n",
    ")\n",
    "\n",
    "\n",
    "df = q.collect()\n",
    "print(df)"
   ]
  },
  {
   "cell_type": "markdown",
   "id": "508a9caa",
   "metadata": {},
   "source": [
    "## sorting"
   ]
  },
  {
   "cell_type": "code",
   "execution_count": 298,
   "id": "bffea3b1",
   "metadata": {},
   "outputs": [
    {
     "data": {
      "text/html": [
       "<div><style>\n",
       ".dataframe > thead > tr,\n",
       ".dataframe > tbody > tr {\n",
       "  text-align: right;\n",
       "  white-space: pre-wrap;\n",
       "}\n",
       "</style>\n",
       "<small>shape: (5, 3)</small><table border=\"1\" class=\"dataframe\"><thead><tr><th>state</th><th>youngest</th><th>oldest</th></tr><tr><td>cat</td><td>str</td><td>str</td></tr></thead><tbody><tr><td>&quot;AS&quot;</td><td>&quot;Eni Faleomavaega&quot;</td><td>&quot;Fofó Sunia&quot;</td></tr><tr><td>&quot;VI&quot;</td><td>&quot;Donna Christensen&quot;</td><td>&quot;Melvin Evans&quot;</td></tr><tr><td>&quot;GU&quot;</td><td>&quot;Michael San Nicolas&quot;</td><td>&quot;Antonio Won Pat&quot;</td></tr><tr><td>&quot;MP&quot;</td><td>&quot;Gregorio Sablan&quot;</td><td>&quot;Gregorio Sablan&quot;</td></tr><tr><td>&quot;PI&quot;</td><td>&quot;Carlos Romulo&quot;</td><td>&quot;Pablo Ocampo&quot;</td></tr></tbody></table></div>"
      ],
      "text/plain": [
       "shape: (5, 3)\n",
       "┌───────┬─────────────────────┬─────────────────┐\n",
       "│ state ┆ youngest            ┆ oldest          │\n",
       "│ ---   ┆ ---                 ┆ ---             │\n",
       "│ cat   ┆ str                 ┆ str             │\n",
       "╞═══════╪═════════════════════╪═════════════════╡\n",
       "│ AS    ┆ Eni Faleomavaega    ┆ Fofó Sunia      │\n",
       "│ VI    ┆ Donna Christensen   ┆ Melvin Evans    │\n",
       "│ GU    ┆ Michael San Nicolas ┆ Antonio Won Pat │\n",
       "│ MP    ┆ Gregorio Sablan     ┆ Gregorio Sablan │\n",
       "│ PI    ┆ Carlos Romulo       ┆ Pablo Ocampo    │\n",
       "└───────┴─────────────────────┴─────────────────┘"
      ]
     },
     "execution_count": 298,
     "metadata": {},
     "output_type": "execute_result"
    }
   ],
   "source": [
    "def get_name() -> pl.Expr:\n",
    "    return pl.col(\"first_name\") + pl.lit(\" \") + pl.col(\"last_name\")\n",
    "\n",
    "q = (\n",
    "    dataset.lazy()\n",
    "    .sort(\"birthday\", descending=True)\n",
    "    .group_by(\"state\")\n",
    "    .agg(\n",
    "        get_name().first().alias(\"youngest\"),\n",
    "        get_name().last().alias(\"oldest\")\n",
    "    )\n",
    "    .sort(\"state\", descending=True)\n",
    "    .limit(5)\n",
    ")\n",
    "\n",
    "df = q.collect()\n",
    "df"
   ]
  },
  {
   "cell_type": "markdown",
   "id": "33df7eb3",
   "metadata": {},
   "source": [
    "but we can also sort before we do the aggregation"
   ]
  },
  {
   "cell_type": "code",
   "execution_count": null,
   "id": "67519a37",
   "metadata": {},
   "outputs": [
    {
     "data": {
      "text/html": [
       "<div><style>\n",
       ".dataframe > thead > tr,\n",
       ".dataframe > tbody > tr {\n",
       "  text-align: right;\n",
       "  white-space: pre-wrap;\n",
       "}\n",
       "</style>\n",
       "<small>shape: (5, 4)</small><table border=\"1\" class=\"dataframe\"><thead><tr><th>state</th><th>youngest</th><th>oldest</th><th>alphabeticaly first</th></tr><tr><td>cat</td><td>str</td><td>str</td><td>str</td></tr></thead><tbody><tr><td>&quot;DE&quot;</td><td>&quot;Samuel White&quot;</td><td>&quot;George Read&quot;</td><td>&quot;Albert Polk&quot;</td></tr><tr><td>&quot;VA&quot;</td><td>&quot;William Grayson&quot;</td><td>&quot;Robert Rutherford&quot;</td><td>&quot;A. McEachin&quot;</td></tr><tr><td>&quot;SC&quot;</td><td>&quot;Ralph Izard&quot;</td><td>&quot;Thomas Sumter&quot;</td><td>&quot;Abraham Nott&quot;</td></tr><tr><td>&quot;MD&quot;</td><td>&quot;Benjamin Contee&quot;</td><td>&quot;William Smith&quot;</td><td>&quot;Albert Blakeney&quot;</td></tr><tr><td>&quot;PA&quot;</td><td>&quot;Thomas Fitzsimons&quot;</td><td>&quot;Israel Jacobs&quot;</td><td>&quot;Aaron Kreider&quot;</td></tr></tbody></table></div>"
      ],
      "text/plain": [
       "shape: (5, 4)\n",
       "┌───────┬───────────────────┬───────────────────┬─────────────────────┐\n",
       "│ state ┆ youngest          ┆ oldest            ┆ alphabeticaly first │\n",
       "│ ---   ┆ ---               ┆ ---               ┆ ---                 │\n",
       "│ cat   ┆ str               ┆ str               ┆ str                 │\n",
       "╞═══════╪═══════════════════╪═══════════════════╪═════════════════════╡\n",
       "│ DE    ┆ Samuel White      ┆ George Read       ┆ Albert Polk         │\n",
       "│ VA    ┆ William Grayson   ┆ Robert Rutherford ┆ A. McEachin         │\n",
       "│ SC    ┆ Ralph Izard       ┆ Thomas Sumter     ┆ Abraham Nott        │\n",
       "│ MD    ┆ Benjamin Contee   ┆ William Smith     ┆ Albert Blakeney     │\n",
       "│ PA    ┆ Thomas Fitzsimons ┆ Israel Jacobs     ┆ Aaron Kreider       │\n",
       "└───────┴───────────────────┴───────────────────┴─────────────────────┘"
      ]
     },
     "execution_count": 329,
     "metadata": {},
     "output_type": "execute_result"
    }
   ],
   "source": [
    "q = (\n",
    "    dataset.lazy()\n",
    "    .sort(\"birthday\", descending=True)\n",
    "    .group_by(\"state\")\n",
    "    .agg(\n",
    "        get_name().first().alias(\"youngest\"),\n",
    "        get_name().last().alias(\"oldest\"),\n",
    "        get_name().sort().first().alias(\"alphabetically first\"),\n",
    "    )\n",
    "    .sort(\"state\")\n",
    "    .limit(5)\n",
    ")\n",
    "\n",
    "df = q.collect()\n",
    "df"
   ]
  },
  {
   "cell_type": "markdown",
   "id": "8b930337",
   "metadata": {},
   "source": [
    "It's possible to sort a column with the order induced by another column: `.sort_by(get_name())`"
   ]
  },
  {
   "cell_type": "code",
   "execution_count": 330,
   "id": "63350960",
   "metadata": {},
   "outputs": [
    {
     "data": {
      "text/html": [
       "<div><style>\n",
       ".dataframe > thead > tr,\n",
       ".dataframe > tbody > tr {\n",
       "  text-align: right;\n",
       "  white-space: pre-wrap;\n",
       "}\n",
       "</style>\n",
       "<small>shape: (5, 5)</small><table border=\"1\" class=\"dataframe\"><thead><tr><th>state</th><th>youngest</th><th>oldest</th><th>alphabetically first</th><th>gender</th></tr><tr><td>cat</td><td>str</td><td>str</td><td>str</td><td>cat</td></tr></thead><tbody><tr><td>&quot;DE&quot;</td><td>&quot;Samuel White&quot;</td><td>&quot;George Read&quot;</td><td>&quot;Albert Polk&quot;</td><td>&quot;M&quot;</td></tr><tr><td>&quot;VA&quot;</td><td>&quot;William Grayson&quot;</td><td>&quot;Robert Rutherford&quot;</td><td>&quot;A. McEachin&quot;</td><td>&quot;M&quot;</td></tr><tr><td>&quot;SC&quot;</td><td>&quot;Ralph Izard&quot;</td><td>&quot;Thomas Sumter&quot;</td><td>&quot;Abraham Nott&quot;</td><td>&quot;M&quot;</td></tr><tr><td>&quot;MD&quot;</td><td>&quot;Benjamin Contee&quot;</td><td>&quot;William Smith&quot;</td><td>&quot;Albert Blakeney&quot;</td><td>&quot;M&quot;</td></tr><tr><td>&quot;PA&quot;</td><td>&quot;Thomas Fitzsimons&quot;</td><td>&quot;Israel Jacobs&quot;</td><td>&quot;Aaron Kreider&quot;</td><td>&quot;M&quot;</td></tr></tbody></table></div>"
      ],
      "text/plain": [
       "shape: (5, 5)\n",
       "┌───────┬───────────────────┬───────────────────┬──────────────────────┬────────┐\n",
       "│ state ┆ youngest          ┆ oldest            ┆ alphabetically first ┆ gender │\n",
       "│ ---   ┆ ---               ┆ ---               ┆ ---                  ┆ ---    │\n",
       "│ cat   ┆ str               ┆ str               ┆ str                  ┆ cat    │\n",
       "╞═══════╪═══════════════════╪═══════════════════╪══════════════════════╪════════╡\n",
       "│ DE    ┆ Samuel White      ┆ George Read       ┆ Albert Polk          ┆ M      │\n",
       "│ VA    ┆ William Grayson   ┆ Robert Rutherford ┆ A. McEachin          ┆ M      │\n",
       "│ SC    ┆ Ralph Izard       ┆ Thomas Sumter     ┆ Abraham Nott         ┆ M      │\n",
       "│ MD    ┆ Benjamin Contee   ┆ William Smith     ┆ Albert Blakeney      ┆ M      │\n",
       "│ PA    ┆ Thomas Fitzsimons ┆ Israel Jacobs     ┆ Aaron Kreider        ┆ M      │\n",
       "└───────┴───────────────────┴───────────────────┴──────────────────────┴────────┘"
      ]
     },
     "execution_count": 330,
     "metadata": {},
     "output_type": "execute_result"
    }
   ],
   "source": [
    "q = (\n",
    "    dataset.lazy()\n",
    "    .sort(\"birthday\", descending=True)\n",
    "    .group_by(\"state\")\n",
    "    .agg(\n",
    "        get_name().first().alias(\"youngest\"),\n",
    "        get_name().last().alias(\"oldest\"),\n",
    "        get_name().sort().first().alias(\"alphabetically first\"),\n",
    "        pl.col(\"gender\").sort_by(get_name()).first(),\n",
    "    )\n",
    "    .sort(\"state\")\n",
    "    .limit(5)\n",
    ")\n",
    "\n",
    "df = q.collect()\n",
    "df"
   ]
  },
  {
   "cell_type": "markdown",
   "id": "ee769f6c",
   "metadata": {},
   "source": [
    "note: using lambda's can destroy parallelization in polars."
   ]
  }
 ],
 "metadata": {
  "kernelspec": {
   "display_name": ".venv",
   "language": "python",
   "name": "python3"
  },
  "language_info": {
   "codemirror_mode": {
    "name": "ipython",
    "version": 3
   },
   "file_extension": ".py",
   "mimetype": "text/x-python",
   "name": "python",
   "nbconvert_exporter": "python",
   "pygments_lexer": "ipython3",
   "version": "3.12.3"
  }
 },
 "nbformat": 4,
 "nbformat_minor": 5
}
