{
 "cells": [
  {
   "cell_type": "markdown",
   "id": "7819d886",
   "metadata": {},
   "source": [
    "# [Expressions: Categorical data and enums](https://docs.pola.rs/user-guide/expressions/categorical-data-and-enums/)\n",
    "\n",
    "Polars recommends to use enum when there is a fixed amount of categories, ans use category if not. That's a bit odd."
   ]
  },
  {
   "cell_type": "code",
   "execution_count": 1,
   "id": "83fa69f5",
   "metadata": {},
   "outputs": [],
   "source": [
    "import polars as pl"
   ]
  },
  {
   "cell_type": "markdown",
   "id": "a94f6a3e",
   "metadata": {},
   "source": [
    "# data type Enum"
   ]
  },
  {
   "cell_type": "code",
   "execution_count": 3,
   "id": "513c1df1",
   "metadata": {},
   "outputs": [
    {
     "data": {
      "text/html": [
       "<div><style>\n",
       ".dataframe > thead > tr,\n",
       ".dataframe > tbody > tr {\n",
       "  text-align: right;\n",
       "  white-space: pre-wrap;\n",
       "}\n",
       "</style>\n",
       "<small>shape: (5,)</small><table border=\"1\" class=\"dataframe\"><thead><tr><th></th></tr><tr><td>enum</td></tr></thead><tbody><tr><td>&quot;Polar&quot;</td></tr><tr><td>&quot;Panda&quot;</td></tr><tr><td>&quot;Brown&quot;</td></tr><tr><td>&quot;Brown&quot;</td></tr><tr><td>&quot;Polar&quot;</td></tr></tbody></table></div>"
      ],
      "text/plain": [
       "shape: (5,)\n",
       "Series: '' [enum]\n",
       "[\n",
       "\t\"Polar\"\n",
       "\t\"Panda\"\n",
       "\t\"Brown\"\n",
       "\t\"Brown\"\n",
       "\t\"Polar\"\n",
       "]"
      ]
     },
     "execution_count": 3,
     "metadata": {},
     "output_type": "execute_result"
    }
   ],
   "source": [
    "bears_enum = pl.Enum([\"Polar\",\"Panda\",\"Brown\"])\n",
    "bears = pl.Series([\"Polar\",\"Panda\",\"Brown\",\"Brown\",\"Polar\"], dtype=bears_enum)\n",
    "bears"
   ]
  },
  {
   "cell_type": "code",
   "execution_count": 9,
   "id": "256fb3c3",
   "metadata": {},
   "outputs": [
    {
     "name": "stdout",
     "output_type": "stream",
     "text": [
      "InvalidOperationError: conversion from `str` to `enum` failed in column '' for 1 out of 5 values: [\"Shark\"]\n",
      "\n",
      "Ensure that all values in the input column are present in the categories of the enum datatype.\n"
     ]
    }
   ],
   "source": [
    "from polars.exceptions import InvalidOperationError\n",
    "try:\n",
    "    pl.Series([\"Polar\", \"Panda\", \"Brown\", \"Polar\",\"Shark\"], dtype=bears_enum)\n",
    "except InvalidOperationError as exc:\n",
    "    print(\"InvalidOperationError:\",exc)"
   ]
  },
  {
   "cell_type": "markdown",
   "id": "c6cbc4dd",
   "metadata": {},
   "source": [
    "### Category ordering and comparison"
   ]
  },
  {
   "cell_type": "code",
   "execution_count": 11,
   "id": "a0ad80d4",
   "metadata": {},
   "outputs": [
    {
     "data": {
      "text/html": [
       "<div><style>\n",
       ".dataframe > thead > tr,\n",
       ".dataframe > tbody > tr {\n",
       "  text-align: right;\n",
       "  white-space: pre-wrap;\n",
       "}\n",
       "</style>\n",
       "<small>shape: (2, 2)</small><table border=\"1\" class=\"dataframe\"><thead><tr><th>level</th><th>message</th></tr><tr><td>enum</td><td>str</td></tr></thead><tbody><tr><td>&quot;info&quot;</td><td>&quot;Service started correctly&quot;</td></tr><tr><td>&quot;error&quot;</td><td>&quot;Cannot connect to DB!&quot;</td></tr></tbody></table></div>"
      ],
      "text/plain": [
       "shape: (2, 2)\n",
       "┌───────┬───────────────────────────┐\n",
       "│ level ┆ message                   │\n",
       "│ ---   ┆ ---                       │\n",
       "│ enum  ┆ str                       │\n",
       "╞═══════╪═══════════════════════════╡\n",
       "│ info  ┆ Service started correctly │\n",
       "│ error ┆ Cannot connect to DB!     │\n",
       "└───────┴───────────────────────────┘"
      ]
     },
     "execution_count": 11,
     "metadata": {},
     "output_type": "execute_result"
    }
   ],
   "source": [
    "log_levels = pl.Enum([\"debug\", \"info\", \"warning\", \"error\"])\n",
    "\n",
    "logs = pl.DataFrame(\n",
    "    {\n",
    "        \"level\": [\"debug\", \"info\", \"debug\", \"error\"],\n",
    "        \"message\": [\n",
    "            \"process id: 525\",\n",
    "            \"Service started correctly\",\n",
    "            \"startup time: 67ms\",\n",
    "            \"Cannot connect to DB!\",\n",
    "        ],\n",
    "    },\n",
    "    schema_overrides={\n",
    "        \"level\": log_levels,\n",
    "    },\n",
    ")\n",
    "\n",
    "non_debug_logs = logs.filter(\n",
    "    pl.col(\"level\") > \"debug\",\n",
    ")\n",
    "non_debug_logs"
   ]
  },
  {
   "cell_type": "markdown",
   "id": "f657ce6c",
   "metadata": {},
   "source": [
    "## Data type Categorical"
   ]
  },
  {
   "cell_type": "code",
   "execution_count": 14,
   "id": "99fb147a",
   "metadata": {},
   "outputs": [
    {
     "data": {
      "text/html": [
       "<div><style>\n",
       ".dataframe > thead > tr,\n",
       ".dataframe > tbody > tr {\n",
       "  text-align: right;\n",
       "  white-space: pre-wrap;\n",
       "}\n",
       "</style>\n",
       "<small>shape: (5,)</small><table border=\"1\" class=\"dataframe\"><thead><tr><th></th></tr><tr><td>cat</td></tr></thead><tbody><tr><td>&quot;Polar&quot;</td></tr><tr><td>&quot;Panda&quot;</td></tr><tr><td>&quot;Brown&quot;</td></tr><tr><td>&quot;Brown&quot;</td></tr><tr><td>&quot;Polar&quot;</td></tr></tbody></table></div>"
      ],
      "text/plain": [
       "shape: (5,)\n",
       "Series: '' [cat]\n",
       "[\n",
       "\t\"Polar\"\n",
       "\t\"Panda\"\n",
       "\t\"Brown\"\n",
       "\t\"Brown\"\n",
       "\t\"Polar\"\n",
       "]"
      ]
     },
     "execution_count": 14,
     "metadata": {},
     "output_type": "execute_result"
    }
   ],
   "source": [
    "bears_cat = pl.Series(\n",
    "    [\"Polar\", \"Panda\", \"Brown\", \"Brown\", \"Polar\"], dtype=pl.Categorical\n",
    ")\n",
    "bears_cat"
   ]
  },
  {
   "cell_type": "markdown",
   "id": "32d6b428",
   "metadata": {},
   "source": [
    "here is the reason why they prefer enum"
   ]
  },
  {
   "cell_type": "code",
   "execution_count": 16,
   "id": "00312cbc",
   "metadata": {},
   "outputs": [
    {
     "data": {
      "text/html": [
       "<div><style>\n",
       ".dataframe > thead > tr,\n",
       ".dataframe > tbody > tr {\n",
       "  text-align: right;\n",
       "  white-space: pre-wrap;\n",
       "}\n",
       "</style>\n",
       "<small>shape: (5,)</small><table border=\"1\" class=\"dataframe\"><thead><tr><th></th></tr><tr><td>bool</td></tr></thead><tbody><tr><td>false</td></tr><tr><td>false</td></tr><tr><td>true</td></tr><tr><td>true</td></tr><tr><td>false</td></tr></tbody></table></div>"
      ],
      "text/plain": [
       "shape: (5,)\n",
       "Series: '' [bool]\n",
       "[\n",
       "\tfalse\n",
       "\tfalse\n",
       "\ttrue\n",
       "\ttrue\n",
       "\tfalse\n",
       "]"
      ]
     },
     "execution_count": 16,
     "metadata": {},
     "output_type": "execute_result"
    }
   ],
   "source": [
    "bears_cat < \"Cat\""
   ]
  },
  {
   "cell_type": "code",
   "execution_count": 17,
   "id": "3d7f8126",
   "metadata": {},
   "outputs": [
    {
     "name": "stdout",
     "output_type": "stream",
     "text": [
      "shape: (5,)\n",
      "Series: '' [bool]\n",
      "[\n",
      "\tfalse\n",
      "\tfalse\n",
      "\ttrue\n",
      "\tfalse\n",
      "\ttrue\n",
      "]\n"
     ]
    }
   ],
   "source": [
    "bears_str = pl.Series(\n",
    "    [\"Panda\", \"Brown\", \"Brown\", \"Polar\", \"Polar\"],\n",
    ")\n",
    "print(bears_cat == bears_str)"
   ]
  },
  {
   "cell_type": "code",
   "execution_count": 18,
   "id": "3e6ad035",
   "metadata": {},
   "outputs": [
    {
     "name": "stdout",
     "output_type": "stream",
     "text": [
      "StringCacheMismatchError: cannot compare categoricals coming from different sources, consider setting a global StringCache.\n"
     ]
    }
   ],
   "source": [
    "from polars.exceptions import StringCacheMismatchError\n",
    "\n",
    "bears_cat2 = pl.Series(\n",
    "    [\"Panda\", \"Brown\", \"Brown\", \"Polar\", \"Polar\"],\n",
    "    dtype=pl.Categorical,\n",
    ")\n",
    "\n",
    "try:\n",
    "    print(bears_cat == bears_cat2)\n",
    "except StringCacheMismatchError as exc:\n",
    "    exc_str = str(exc).splitlines()[0]\n",
    "    print(\"StringCacheMismatchError:\",exc_str)"
   ]
  },
  {
   "cell_type": "markdown",
   "id": "c12fcfb3",
   "metadata": {},
   "source": [
    "polars can't figure out if two categorical columns are the same if the order of items is different between two columns. For this you need the polars StringCache()"
   ]
  },
  {
   "cell_type": "code",
   "execution_count": 19,
   "id": "585c83e8",
   "metadata": {},
   "outputs": [
    {
     "name": "stdout",
     "output_type": "stream",
     "text": [
      "shape: (5,)\n",
      "Series: '' [bool]\n",
      "[\n",
      "\tfalse\n",
      "\tfalse\n",
      "\ttrue\n",
      "\tfalse\n",
      "\ttrue\n",
      "]\n"
     ]
    }
   ],
   "source": [
    "with pl.StringCache():\n",
    "    bears_cat = pl.Series(\n",
    "        [\"Polar\", \"Panda\", \"Brown\", \"Brown\", \"Polar\"], dtype=pl.Categorical\n",
    "    )\n",
    "    bears_cat2 = pl.Series(\n",
    "        [\"Panda\", \"Brown\", \"Brown\", \"Polar\", \"Polar\"], dtype=pl.Categorical\n",
    "    )\n",
    "\n",
    "print(bears_cat == bears_cat2)"
   ]
  },
  {
   "cell_type": "markdown",
   "id": "75c699a0",
   "metadata": {},
   "source": [
    "## Combining Categorical columns"
   ]
  },
  {
   "cell_type": "code",
   "execution_count": 22,
   "id": "b3543ae3",
   "metadata": {},
   "outputs": [
    {
     "data": {
      "text/html": [
       "<div><style>\n",
       ".dataframe > thead > tr,\n",
       ".dataframe > tbody > tr {\n",
       "  text-align: right;\n",
       "  white-space: pre-wrap;\n",
       "}\n",
       "</style>\n",
       "<small>shape: (6, 2)</small><table border=\"1\" class=\"dataframe\"><thead><tr><th>species</th><th>weight</th></tr><tr><td>cat</td><td>i64</td></tr></thead><tbody><tr><td>&quot;Polar&quot;</td><td>450</td></tr><tr><td>&quot;Brown&quot;</td><td>500</td></tr><tr><td>&quot;Panda&quot;</td><td>110</td></tr><tr><td>&quot;Brown&quot;</td><td>340</td></tr><tr><td>&quot;Polar&quot;</td><td>200</td></tr><tr><td>&quot;Panda&quot;</td><td>90</td></tr></tbody></table></div>"
      ],
      "text/plain": [
       "shape: (6, 2)\n",
       "┌─────────┬────────┐\n",
       "│ species ┆ weight │\n",
       "│ ---     ┆ ---    │\n",
       "│ cat     ┆ i64    │\n",
       "╞═════════╪════════╡\n",
       "│ Polar   ┆ 450    │\n",
       "│ Brown   ┆ 500    │\n",
       "│ Panda   ┆ 110    │\n",
       "│ Brown   ┆ 340    │\n",
       "│ Polar   ┆ 200    │\n",
       "│ Panda   ┆ 90     │\n",
       "└─────────┴────────┘"
      ]
     },
     "execution_count": 22,
     "metadata": {},
     "output_type": "execute_result"
    }
   ],
   "source": [
    "import warnings\n",
    "\n",
    "from polars.exceptions import CategoricalRemappingWarning\n",
    "\n",
    "male_bears = pl.DataFrame(\n",
    "    {\n",
    "        \"species\": [\"Polar\", \"Brown\", \"Panda\"],\n",
    "        \"weight\": [450, 500, 110],  # kg\n",
    "    },\n",
    "    schema_overrides={\"species\": pl.Categorical},\n",
    ")\n",
    "female_bears = pl.DataFrame(\n",
    "    {\n",
    "        \"species\": [\"Brown\", \"Polar\", \"Panda\"],\n",
    "        \"weight\": [340, 200, 90],  # kg\n",
    "    },\n",
    "    schema_overrides={\"species\": pl.Categorical},\n",
    ")\n",
    "\n",
    "with warnings.catch_warnings():\n",
    "    warnings.filterwarnings(\"ignore\", category=CategoricalRemappingWarning)\n",
    "    bears = pl.concat([male_bears, female_bears], how=\"vertical\")\n",
    "bears"
   ]
  },
  {
   "cell_type": "markdown",
   "id": "6dec1a9e",
   "metadata": {},
   "source": [
    "### Comparison between Categorical columns is not lexical\n",
    "\n",
    "to counter this, use the `ordering=\"lexical\"` argument"
   ]
  },
  {
   "cell_type": "code",
   "execution_count": 24,
   "id": "bdfcab38",
   "metadata": {},
   "outputs": [
    {
     "name": "stdout",
     "output_type": "stream",
     "text": [
      "shape: (5,)\n",
      "Series: '' [bool]\n",
      "[\n",
      "\ttrue\n",
      "\ttrue\n",
      "\tfalse\n",
      "\tfalse\n",
      "\tfalse\n",
      "]\n"
     ]
    }
   ],
   "source": [
    "with pl.StringCache():\n",
    "    bears_cat = pl.Series(\n",
    "        [\"Polar\", \"Panda\", \"Brown\", \"Brown\", \"Polar\"],\n",
    "        dtype=pl.Categorical(ordering=\"lexical\"),\n",
    "    )\n",
    "    bears_cat2 = pl.Series(\n",
    "        [\"Panda\", \"Brown\", \"Brown\", \"Polar\", \"Polar\"], dtype=pl.Categorical\n",
    "    )\n",
    "\n",
    "print(bears_cat > bears_cat2)"
   ]
  },
  {
   "cell_type": "markdown",
   "id": "b7fa8761",
   "metadata": {},
   "source": [
    "Otherwise, the order is inferred together with the values:"
   ]
  },
  {
   "cell_type": "code",
   "execution_count": 25,
   "id": "ce2fb1c0",
   "metadata": {},
   "outputs": [
    {
     "name": "stdout",
     "output_type": "stream",
     "text": [
      "shape: (5,)\n",
      "Series: '' [bool]\n",
      "[\n",
      "\tfalse\n",
      "\tfalse\n",
      "\tfalse\n",
      "\ttrue\n",
      "\tfalse\n",
      "]\n"
     ]
    }
   ],
   "source": [
    "with pl.StringCache():\n",
    "    bears_cat = pl.Series(\n",
    "        # Polar <  Panda <  Brown\n",
    "        [\"Polar\", \"Panda\", \"Brown\", \"Brown\", \"Polar\"],\n",
    "        dtype=pl.Categorical,\n",
    "    )\n",
    "    bears_cat2 = pl.Series(\n",
    "        [\"Panda\", \"Brown\", \"Brown\", \"Polar\", \"Polar\"], dtype=pl.Categorical\n",
    "    )\n",
    "\n",
    "print(bears_cat > bears_cat2)"
   ]
  }
 ],
 "metadata": {
  "kernelspec": {
   "display_name": ".venv",
   "language": "python",
   "name": "python3"
  },
  "language_info": {
   "codemirror_mode": {
    "name": "ipython",
    "version": 3
   },
   "file_extension": ".py",
   "mimetype": "text/x-python",
   "name": "python",
   "nbconvert_exporter": "python",
   "pygments_lexer": "ipython3",
   "version": "3.12.3"
  }
 },
 "nbformat": 4,
 "nbformat_minor": 5
}
