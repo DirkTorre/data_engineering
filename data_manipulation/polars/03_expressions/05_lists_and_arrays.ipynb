{
 "cells": [
  {
   "cell_type": "markdown",
   "id": "51c56903",
   "metadata": {},
   "source": [
    "# [Expressions: Lists and arrays](https://docs.pola.rs/user-guide/expressions/lists-and-arrays/)\n",
    "\n",
    "## Lists vs arrays\n",
    "\n",
    "list is 1D. every list stored can have different lengths. lists in polars are homogenous."
   ]
  },
  {
   "cell_type": "code",
   "execution_count": 1,
   "id": "10ea3a98",
   "metadata": {},
   "outputs": [
    {
     "data": {
      "text/html": [
       "<div><style>\n",
       ".dataframe > thead > tr,\n",
       ".dataframe > tbody > tr {\n",
       "  text-align: right;\n",
       "  white-space: pre-wrap;\n",
       "}\n",
       "</style>\n",
       "<small>shape: (4, 3)</small><table border=\"1\" class=\"dataframe\"><thead><tr><th>names</th><th>children_ages</th><th>medical_appointments</th></tr><tr><td>list[str]</td><td>list[i64]</td><td>list[datetime[μs]]</td></tr></thead><tbody><tr><td>[&quot;Anne&quot;, &quot;Averill&quot;, &quot;Adams&quot;]</td><td>[5, 7]</td><td>[]</td></tr><tr><td>[&quot;Brandon&quot;, &quot;Brooke&quot;, … &quot;Branson&quot;]</td><td>[]</td><td>[]</td></tr><tr><td>[&quot;Camila&quot;, &quot;Campbell&quot;]</td><td>[]</td><td>[]</td></tr><tr><td>[&quot;Dennis&quot;, &quot;Doyle&quot;]</td><td>[8, 11, 18]</td><td>[2022-05-22 16:30:00]</td></tr></tbody></table></div>"
      ],
      "text/plain": [
       "shape: (4, 3)\n",
       "┌─────────────────────────────────┬───────────────┬───────────────────────┐\n",
       "│ names                           ┆ children_ages ┆ medical_appointments  │\n",
       "│ ---                             ┆ ---           ┆ ---                   │\n",
       "│ list[str]                       ┆ list[i64]     ┆ list[datetime[μs]]    │\n",
       "╞═════════════════════════════════╪═══════════════╪═══════════════════════╡\n",
       "│ [\"Anne\", \"Averill\", \"Adams\"]    ┆ [5, 7]        ┆ []                    │\n",
       "│ [\"Brandon\", \"Brooke\", … \"Brans… ┆ []            ┆ []                    │\n",
       "│ [\"Camila\", \"Campbell\"]          ┆ []            ┆ []                    │\n",
       "│ [\"Dennis\", \"Doyle\"]             ┆ [8, 11, 18]   ┆ [2022-05-22 16:30:00] │\n",
       "└─────────────────────────────────┴───────────────┴───────────────────────┘"
      ]
     },
     "execution_count": 1,
     "metadata": {},
     "output_type": "execute_result"
    }
   ],
   "source": [
    "from datetime import datetime\n",
    "import polars as pl\n",
    "\n",
    "df = pl.DataFrame(\n",
    "    {\n",
    "        \"names\": [\n",
    "            [\"Anne\", \"Averill\", \"Adams\"],\n",
    "            [\"Brandon\", \"Brooke\", \"Borden\", \"Branson\"],\n",
    "            [\"Camila\", \"Campbell\"],\n",
    "            [\"Dennis\", \"Doyle\"],\n",
    "        ],\n",
    "        \"children_ages\": [\n",
    "            [5, 7],\n",
    "            [],\n",
    "            [],\n",
    "            [8, 11, 18],\n",
    "        ],\n",
    "        \"medical_appointments\": [\n",
    "            [],\n",
    "            [],\n",
    "            [],\n",
    "            [datetime(2022, 5, 22, 16, 30)],\n",
    "        ],\n",
    "    }\n",
    ")\n",
    "\n",
    "df"
   ]
  },
  {
   "cell_type": "markdown",
   "id": "76934582",
   "metadata": {},
   "source": [
    "arrays have a fixed shape with an arbitrary dimension."
   ]
  },
  {
   "cell_type": "code",
   "execution_count": 2,
   "id": "5f2a44ad",
   "metadata": {},
   "outputs": [
    {
     "data": {
      "text/html": [
       "<div><style>\n",
       ".dataframe > thead > tr,\n",
       ".dataframe > tbody > tr {\n",
       "  text-align: right;\n",
       "  white-space: pre-wrap;\n",
       "}\n",
       "</style>\n",
       "<small>shape: (2, 2)</small><table border=\"1\" class=\"dataframe\"><thead><tr><th>bit_flags</th><th>tic_tac_toe</th></tr><tr><td>array[bool, 5]</td><td>array[str, (3, 3)]</td></tr></thead><tbody><tr><td>[true, true, … false]</td><td>[[&quot; &quot;, &quot;x&quot;, &quot;o&quot;], [&quot; &quot;, &quot;x&quot;, &quot; &quot;], [&quot;o&quot;, &quot;x&quot;, &quot; &quot;]]</td></tr><tr><td>[false, true, … true]</td><td>[[&quot;o&quot;, &quot;x&quot;, &quot;x&quot;], [&quot; &quot;, &quot;o&quot;, &quot;x&quot;], [&quot; &quot;, &quot; &quot;, &quot;o&quot;]]</td></tr></tbody></table></div>"
      ],
      "text/plain": [
       "shape: (2, 2)\n",
       "┌───────────────────────┬─────────────────────────────────┐\n",
       "│ bit_flags             ┆ tic_tac_toe                     │\n",
       "│ ---                   ┆ ---                             │\n",
       "│ array[bool, 5]        ┆ array[str, (3, 3)]              │\n",
       "╞═══════════════════════╪═════════════════════════════════╡\n",
       "│ [true, true, … false] ┆ [[\" \", \"x\", \"o\"], [\" \", \"x\", \"… │\n",
       "│ [false, true, … true] ┆ [[\"o\", \"x\", \"x\"], [\" \", \"o\", \"… │\n",
       "└───────────────────────┴─────────────────────────────────┘"
      ]
     },
     "execution_count": 2,
     "metadata": {},
     "output_type": "execute_result"
    }
   ],
   "source": [
    "df = pl.DataFrame(\n",
    "    {\n",
    "        \"bit_flags\": [\n",
    "            [True, True, True, True, False],\n",
    "            [False, True, True, True, True],\n",
    "        ],\n",
    "        \"tic_tac_toe\": [\n",
    "            [\n",
    "                [\" \", \"x\", \"o\"],\n",
    "                [\" \", \"x\", \" \"],\n",
    "                [\"o\", \"x\", \" \"],\n",
    "            ],\n",
    "            [\n",
    "                [\"o\", \"x\", \"x\"],\n",
    "                [\" \", \"o\", \"x\"],\n",
    "                [\" \", \" \", \"o\"],\n",
    "            ],\n",
    "        ],\n",
    "    },\n",
    "    schema={\n",
    "        \"bit_flags\": pl.Array(pl.Boolean, 5),\n",
    "        \"tic_tac_toe\": pl.Array(pl.String, (3, 3)),\n",
    "    },\n",
    ")\n",
    "df"
   ]
  },
  {
   "cell_type": "markdown",
   "id": "f7257335",
   "metadata": {},
   "source": [
    "If your are using arrays, it's best to use numpy for it. Polars can work with that. When it's possible to choose, use arrays, because it has better performance."
   ]
  },
  {
   "cell_type": "code",
   "execution_count": 3,
   "id": "96b51fa3",
   "metadata": {},
   "outputs": [
    {
     "name": "stdout",
     "output_type": "stream",
     "text": [
      "Array(Int64, shape=(2, 3, 4))\n"
     ]
    }
   ],
   "source": [
    "import numpy as np\n",
    "\n",
    "array = np.arange(0, 120).reshape((5, 2, 3, 4))  # 4D array\n",
    "\n",
    "print(pl.Series(array).dtype)"
   ]
  },
  {
   "cell_type": "markdown",
   "id": "32251460",
   "metadata": {},
   "source": [
    "## working with lists"
   ]
  },
  {
   "cell_type": "code",
   "execution_count": 4,
   "id": "c7e01e7b",
   "metadata": {},
   "outputs": [
    {
     "data": {
      "text/html": [
       "<div><style>\n",
       ".dataframe > thead > tr,\n",
       ".dataframe > tbody > tr {\n",
       "  text-align: right;\n",
       "  white-space: pre-wrap;\n",
       "}\n",
       "</style>\n",
       "<small>shape: (5, 2)</small><table border=\"1\" class=\"dataframe\"><thead><tr><th>station</th><th>temperatures</th></tr><tr><td>str</td><td>str</td></tr></thead><tbody><tr><td>&quot;Station 1&quot;</td><td>&quot;20 5 5 E1 7 13 19 9 6 20&quot;</td></tr><tr><td>&quot;Station 2&quot;</td><td>&quot;18 8 16 11 23 E2 8 E2 E2 E2 90…</td></tr><tr><td>&quot;Station 3&quot;</td><td>&quot;19 24 E9 16 6 12 10 22&quot;</td></tr><tr><td>&quot;Station 4&quot;</td><td>&quot;E2 E0 15 7 8 10 E1 24 17 13 6&quot;</td></tr><tr><td>&quot;Station 5&quot;</td><td>&quot;14 8 E0 16 22 24 E1&quot;</td></tr></tbody></table></div>"
      ],
      "text/plain": [
       "shape: (5, 2)\n",
       "┌───────────┬─────────────────────────────────┐\n",
       "│ station   ┆ temperatures                    │\n",
       "│ ---       ┆ ---                             │\n",
       "│ str       ┆ str                             │\n",
       "╞═══════════╪═════════════════════════════════╡\n",
       "│ Station 1 ┆ 20 5 5 E1 7 13 19 9 6 20        │\n",
       "│ Station 2 ┆ 18 8 16 11 23 E2 8 E2 E2 E2 90… │\n",
       "│ Station 3 ┆ 19 24 E9 16 6 12 10 22          │\n",
       "│ Station 4 ┆ E2 E0 15 7 8 10 E1 24 17 13 6   │\n",
       "│ Station 5 ┆ 14 8 E0 16 22 24 E1             │\n",
       "└───────────┴─────────────────────────────────┘"
      ]
     },
     "execution_count": 4,
     "metadata": {},
     "output_type": "execute_result"
    }
   ],
   "source": [
    "weather = pl.DataFrame(\n",
    "    {\n",
    "        \"station\": [f\"Station {idx}\" for idx in range(1, 6)],\n",
    "        \"temperatures\": [\n",
    "            \"20 5 5 E1 7 13 19 9 6 20\",\n",
    "            \"18 8 16 11 23 E2 8 E2 E2 E2 90 70 40\",\n",
    "            \"19 24 E9 16 6 12 10 22\",\n",
    "            \"E2 E0 15 7 8 10 E1 24 17 13 6\",\n",
    "            \"14 8 E0 16 22 24 E1\",\n",
    "        ],\n",
    "    }\n",
    ")\n",
    "\n",
    "weather"
   ]
  },
  {
   "cell_type": "markdown",
   "id": "8a56cc70",
   "metadata": {},
   "source": [
    "### Programmatically creating lists"
   ]
  },
  {
   "cell_type": "code",
   "execution_count": 5,
   "id": "5d94b570",
   "metadata": {},
   "outputs": [],
   "source": [
    "weather = weather.with_columns(\n",
    "    pl.col(\"temperatures\").str.split(\" \")\n",
    "    )\n",
    "result = weather.explode(\"temperatures\")"
   ]
  },
  {
   "cell_type": "code",
   "execution_count": 7,
   "id": "2c2c39b6",
   "metadata": {},
   "outputs": [
    {
     "data": {
      "text/html": [
       "<div><style>\n",
       ".dataframe > thead > tr,\n",
       ".dataframe > tbody > tr {\n",
       "  text-align: right;\n",
       "  white-space: pre-wrap;\n",
       "}\n",
       "</style>\n",
       "<small>shape: (5, 2)</small><table border=\"1\" class=\"dataframe\"><thead><tr><th>station</th><th>temperatures</th></tr><tr><td>str</td><td>list[str]</td></tr></thead><tbody><tr><td>&quot;Station 1&quot;</td><td>[&quot;20&quot;, &quot;5&quot;, … &quot;20&quot;]</td></tr><tr><td>&quot;Station 2&quot;</td><td>[&quot;18&quot;, &quot;8&quot;, … &quot;40&quot;]</td></tr><tr><td>&quot;Station 3&quot;</td><td>[&quot;19&quot;, &quot;24&quot;, … &quot;22&quot;]</td></tr><tr><td>&quot;Station 4&quot;</td><td>[&quot;E2&quot;, &quot;E0&quot;, … &quot;6&quot;]</td></tr><tr><td>&quot;Station 5&quot;</td><td>[&quot;14&quot;, &quot;8&quot;, … &quot;E1&quot;]</td></tr></tbody></table></div>"
      ],
      "text/plain": [
       "shape: (5, 2)\n",
       "┌───────────┬──────────────────────┐\n",
       "│ station   ┆ temperatures         │\n",
       "│ ---       ┆ ---                  │\n",
       "│ str       ┆ list[str]            │\n",
       "╞═══════════╪══════════════════════╡\n",
       "│ Station 1 ┆ [\"20\", \"5\", … \"20\"]  │\n",
       "│ Station 2 ┆ [\"18\", \"8\", … \"40\"]  │\n",
       "│ Station 3 ┆ [\"19\", \"24\", … \"22\"] │\n",
       "│ Station 4 ┆ [\"E2\", \"E0\", … \"6\"]  │\n",
       "│ Station 5 ┆ [\"14\", \"8\", … \"E1\"]  │\n",
       "└───────────┴──────────────────────┘"
      ]
     },
     "execution_count": 7,
     "metadata": {},
     "output_type": "execute_result"
    }
   ],
   "source": [
    "weather"
   ]
  },
  {
   "cell_type": "code",
   "execution_count": 8,
   "id": "19ddcc3a",
   "metadata": {},
   "outputs": [
    {
     "data": {
      "text/html": [
       "<div><style>\n",
       ".dataframe > thead > tr,\n",
       ".dataframe > tbody > tr {\n",
       "  text-align: right;\n",
       "  white-space: pre-wrap;\n",
       "}\n",
       "</style>\n",
       "<small>shape: (49, 2)</small><table border=\"1\" class=\"dataframe\"><thead><tr><th>station</th><th>temperatures</th></tr><tr><td>str</td><td>str</td></tr></thead><tbody><tr><td>&quot;Station 1&quot;</td><td>&quot;20&quot;</td></tr><tr><td>&quot;Station 1&quot;</td><td>&quot;5&quot;</td></tr><tr><td>&quot;Station 1&quot;</td><td>&quot;5&quot;</td></tr><tr><td>&quot;Station 1&quot;</td><td>&quot;E1&quot;</td></tr><tr><td>&quot;Station 1&quot;</td><td>&quot;7&quot;</td></tr><tr><td>&hellip;</td><td>&hellip;</td></tr><tr><td>&quot;Station 5&quot;</td><td>&quot;E0&quot;</td></tr><tr><td>&quot;Station 5&quot;</td><td>&quot;16&quot;</td></tr><tr><td>&quot;Station 5&quot;</td><td>&quot;22&quot;</td></tr><tr><td>&quot;Station 5&quot;</td><td>&quot;24&quot;</td></tr><tr><td>&quot;Station 5&quot;</td><td>&quot;E1&quot;</td></tr></tbody></table></div>"
      ],
      "text/plain": [
       "shape: (49, 2)\n",
       "┌───────────┬──────────────┐\n",
       "│ station   ┆ temperatures │\n",
       "│ ---       ┆ ---          │\n",
       "│ str       ┆ str          │\n",
       "╞═══════════╪══════════════╡\n",
       "│ Station 1 ┆ 20           │\n",
       "│ Station 1 ┆ 5            │\n",
       "│ Station 1 ┆ 5            │\n",
       "│ Station 1 ┆ E1           │\n",
       "│ Station 1 ┆ 7            │\n",
       "│ …         ┆ …            │\n",
       "│ Station 5 ┆ E0           │\n",
       "│ Station 5 ┆ 16           │\n",
       "│ Station 5 ┆ 22           │\n",
       "│ Station 5 ┆ 24           │\n",
       "│ Station 5 ┆ E1           │\n",
       "└───────────┴──────────────┘"
      ]
     },
     "execution_count": 8,
     "metadata": {},
     "output_type": "execute_result"
    }
   ],
   "source": [
    "result"
   ]
  },
  {
   "cell_type": "markdown",
   "id": "5d5acca3",
   "metadata": {},
   "source": [
    "The tutorial tells me I don't need to do this (?).\n",
    "\n",
    "### Operating on lists"
   ]
  },
  {
   "cell_type": "code",
   "execution_count": 11,
   "id": "a37af024",
   "metadata": {},
   "outputs": [
    {
     "data": {
      "text/html": [
       "<div><style>\n",
       ".dataframe > thead > tr,\n",
       ".dataframe > tbody > tr {\n",
       "  text-align: right;\n",
       "  white-space: pre-wrap;\n",
       "}\n",
       "</style>\n",
       "<small>shape: (5, 5)</small><table border=\"1\" class=\"dataframe\"><thead><tr><th>station</th><th>temperatures</th><th>head</th><th>tail</th><th>two_next_to_last</th></tr><tr><td>str</td><td>list[str]</td><td>list[str]</td><td>list[str]</td><td>list[str]</td></tr></thead><tbody><tr><td>&quot;Station 1&quot;</td><td>[&quot;20&quot;, &quot;5&quot;, … &quot;20&quot;]</td><td>[&quot;20&quot;, &quot;5&quot;, &quot;5&quot;]</td><td>[&quot;9&quot;, &quot;6&quot;, &quot;20&quot;]</td><td>[&quot;9&quot;, &quot;6&quot;]</td></tr><tr><td>&quot;Station 2&quot;</td><td>[&quot;18&quot;, &quot;8&quot;, … &quot;40&quot;]</td><td>[&quot;18&quot;, &quot;8&quot;, &quot;16&quot;]</td><td>[&quot;90&quot;, &quot;70&quot;, &quot;40&quot;]</td><td>[&quot;90&quot;, &quot;70&quot;]</td></tr><tr><td>&quot;Station 3&quot;</td><td>[&quot;19&quot;, &quot;24&quot;, … &quot;22&quot;]</td><td>[&quot;19&quot;, &quot;24&quot;, &quot;E9&quot;]</td><td>[&quot;12&quot;, &quot;10&quot;, &quot;22&quot;]</td><td>[&quot;12&quot;, &quot;10&quot;]</td></tr><tr><td>&quot;Station 4&quot;</td><td>[&quot;E2&quot;, &quot;E0&quot;, … &quot;6&quot;]</td><td>[&quot;E2&quot;, &quot;E0&quot;, &quot;15&quot;]</td><td>[&quot;17&quot;, &quot;13&quot;, &quot;6&quot;]</td><td>[&quot;17&quot;, &quot;13&quot;]</td></tr><tr><td>&quot;Station 5&quot;</td><td>[&quot;14&quot;, &quot;8&quot;, … &quot;E1&quot;]</td><td>[&quot;14&quot;, &quot;8&quot;, &quot;E0&quot;]</td><td>[&quot;22&quot;, &quot;24&quot;, &quot;E1&quot;]</td><td>[&quot;22&quot;, &quot;24&quot;]</td></tr></tbody></table></div>"
      ],
      "text/plain": [
       "shape: (5, 5)\n",
       "┌───────────┬──────────────────────┬────────────────────┬────────────────────┬──────────────────┐\n",
       "│ station   ┆ temperatures         ┆ head               ┆ tail               ┆ two_next_to_last │\n",
       "│ ---       ┆ ---                  ┆ ---                ┆ ---                ┆ ---              │\n",
       "│ str       ┆ list[str]            ┆ list[str]          ┆ list[str]          ┆ list[str]        │\n",
       "╞═══════════╪══════════════════════╪════════════════════╪════════════════════╪══════════════════╡\n",
       "│ Station 1 ┆ [\"20\", \"5\", … \"20\"]  ┆ [\"20\", \"5\", \"5\"]   ┆ [\"9\", \"6\", \"20\"]   ┆ [\"9\", \"6\"]       │\n",
       "│ Station 2 ┆ [\"18\", \"8\", … \"40\"]  ┆ [\"18\", \"8\", \"16\"]  ┆ [\"90\", \"70\", \"40\"] ┆ [\"90\", \"70\"]     │\n",
       "│ Station 3 ┆ [\"19\", \"24\", … \"22\"] ┆ [\"19\", \"24\", \"E9\"] ┆ [\"12\", \"10\", \"22\"] ┆ [\"12\", \"10\"]     │\n",
       "│ Station 4 ┆ [\"E2\", \"E0\", … \"6\"]  ┆ [\"E2\", \"E0\", \"15\"] ┆ [\"17\", \"13\", \"6\"]  ┆ [\"17\", \"13\"]     │\n",
       "│ Station 5 ┆ [\"14\", \"8\", … \"E1\"]  ┆ [\"14\", \"8\", \"E0\"]  ┆ [\"22\", \"24\", \"E1\"] ┆ [\"22\", \"24\"]     │\n",
       "└───────────┴──────────────────────┴────────────────────┴────────────────────┴──────────────────┘"
      ]
     },
     "execution_count": 11,
     "metadata": {},
     "output_type": "execute_result"
    }
   ],
   "source": [
    "weather.with_columns(\n",
    "    pl.col(\"temperatures\").list.head(3).alias(\"head\"),\n",
    "    pl.col(\"temperatures\").list.tail(3).alias(\"tail\"),\n",
    "    pl.col(\"temperatures\").list.slice(-3,2).alias(\"two_next_to_last\")\n",
    ")"
   ]
  },
  {
   "cell_type": "markdown",
   "id": "84ba7617",
   "metadata": {},
   "source": [
    "### Element-wise computation within lists"
   ]
  },
  {
   "cell_type": "markdown",
   "id": "f46a8f25",
   "metadata": {},
   "source": [
    "note: when using `with_columns` and don't give a column a alias, it will overwite the column.\n",
    "\n",
    "Using eval is the way to do this"
   ]
  },
  {
   "cell_type": "code",
   "execution_count": 20,
   "id": "3ae0720d",
   "metadata": {},
   "outputs": [
    {
     "data": {
      "text/html": [
       "<div><style>\n",
       ".dataframe > thead > tr,\n",
       ".dataframe > tbody > tr {\n",
       "  text-align: right;\n",
       "  white-space: pre-wrap;\n",
       "}\n",
       "</style>\n",
       "<small>shape: (5, 3)</small><table border=\"1\" class=\"dataframe\"><thead><tr><th>station</th><th>temperatures</th><th>errors</th></tr><tr><td>str</td><td>list[str]</td><td>u32</td></tr></thead><tbody><tr><td>&quot;Station 1&quot;</td><td>[&quot;20&quot;, &quot;5&quot;, … &quot;20&quot;]</td><td>1</td></tr><tr><td>&quot;Station 2&quot;</td><td>[&quot;18&quot;, &quot;8&quot;, … &quot;40&quot;]</td><td>4</td></tr><tr><td>&quot;Station 3&quot;</td><td>[&quot;19&quot;, &quot;24&quot;, … &quot;22&quot;]</td><td>1</td></tr><tr><td>&quot;Station 4&quot;</td><td>[&quot;E2&quot;, &quot;E0&quot;, … &quot;6&quot;]</td><td>3</td></tr><tr><td>&quot;Station 5&quot;</td><td>[&quot;14&quot;, &quot;8&quot;, … &quot;E1&quot;]</td><td>2</td></tr></tbody></table></div>"
      ],
      "text/plain": [
       "shape: (5, 3)\n",
       "┌───────────┬──────────────────────┬────────┐\n",
       "│ station   ┆ temperatures         ┆ errors │\n",
       "│ ---       ┆ ---                  ┆ ---    │\n",
       "│ str       ┆ list[str]            ┆ u32    │\n",
       "╞═══════════╪══════════════════════╪════════╡\n",
       "│ Station 1 ┆ [\"20\", \"5\", … \"20\"]  ┆ 1      │\n",
       "│ Station 2 ┆ [\"18\", \"8\", … \"40\"]  ┆ 4      │\n",
       "│ Station 3 ┆ [\"19\", \"24\", … \"22\"] ┆ 1      │\n",
       "│ Station 4 ┆ [\"E2\", \"E0\", … \"6\"]  ┆ 3      │\n",
       "│ Station 5 ┆ [\"14\", \"8\", … \"E1\"]  ┆ 2      │\n",
       "└───────────┴──────────────────────┴────────┘"
      ]
     },
     "execution_count": 20,
     "metadata": {},
     "output_type": "execute_result"
    }
   ],
   "source": [
    "weather.with_columns(\n",
    "    pl.col(\"temperatures\")\n",
    "    .list.eval(pl.element().cast(pl.Int64, strict=False).is_null()) # turns elements into booleans\n",
    "    .list.sum() # True = 1, so it count's True occurrances\n",
    "    .alias(\"errors\")\n",
    ")"
   ]
  },
  {
   "cell_type": "markdown",
   "id": "69256ddc",
   "metadata": {},
   "source": [
    "different approuch where you check if measurements start with a letter"
   ]
  },
  {
   "cell_type": "code",
   "execution_count": 22,
   "id": "faa51516",
   "metadata": {},
   "outputs": [
    {
     "data": {
      "text/html": [
       "<div><style>\n",
       ".dataframe > thead > tr,\n",
       ".dataframe > tbody > tr {\n",
       "  text-align: right;\n",
       "  white-space: pre-wrap;\n",
       "}\n",
       "</style>\n",
       "<small>shape: (5, 3)</small><table border=\"1\" class=\"dataframe\"><thead><tr><th>station</th><th>temperatures</th><th>errors</th></tr><tr><td>str</td><td>list[str]</td><td>u32</td></tr></thead><tbody><tr><td>&quot;Station 1&quot;</td><td>[&quot;20&quot;, &quot;5&quot;, … &quot;20&quot;]</td><td>1</td></tr><tr><td>&quot;Station 2&quot;</td><td>[&quot;18&quot;, &quot;8&quot;, … &quot;40&quot;]</td><td>4</td></tr><tr><td>&quot;Station 3&quot;</td><td>[&quot;19&quot;, &quot;24&quot;, … &quot;22&quot;]</td><td>1</td></tr><tr><td>&quot;Station 4&quot;</td><td>[&quot;E2&quot;, &quot;E0&quot;, … &quot;6&quot;]</td><td>3</td></tr><tr><td>&quot;Station 5&quot;</td><td>[&quot;14&quot;, &quot;8&quot;, … &quot;E1&quot;]</td><td>2</td></tr></tbody></table></div>"
      ],
      "text/plain": [
       "shape: (5, 3)\n",
       "┌───────────┬──────────────────────┬────────┐\n",
       "│ station   ┆ temperatures         ┆ errors │\n",
       "│ ---       ┆ ---                  ┆ ---    │\n",
       "│ str       ┆ list[str]            ┆ u32    │\n",
       "╞═══════════╪══════════════════════╪════════╡\n",
       "│ Station 1 ┆ [\"20\", \"5\", … \"20\"]  ┆ 1      │\n",
       "│ Station 2 ┆ [\"18\", \"8\", … \"40\"]  ┆ 4      │\n",
       "│ Station 3 ┆ [\"19\", \"24\", … \"22\"] ┆ 1      │\n",
       "│ Station 4 ┆ [\"E2\", \"E0\", … \"6\"]  ┆ 3      │\n",
       "│ Station 5 ┆ [\"14\", \"8\", … \"E1\"]  ┆ 2      │\n",
       "└───────────┴──────────────────────┴────────┘"
      ]
     },
     "execution_count": 22,
     "metadata": {},
     "output_type": "execute_result"
    }
   ],
   "source": [
    "weather.with_columns(\n",
    "    pl.col(\"temperatures\")\n",
    "    .list.eval(pl.element().str.contains(\"(?i)[a-z]\"))\n",
    "    .list.sum()\n",
    "    .alias(\"errors\")\n",
    ")"
   ]
  },
  {
   "cell_type": "markdown",
   "id": "0c507c42",
   "metadata": {},
   "source": [
    "### Row-wise computations"
   ]
  },
  {
   "cell_type": "code",
   "execution_count": 23,
   "id": "eb1d38d6",
   "metadata": {},
   "outputs": [
    {
     "name": "stdout",
     "output_type": "stream",
     "text": [
      "shape: (10, 4)\n",
      "┌────────────┬───────┬───────┬───────┐\n",
      "│ station    ┆ day_1 ┆ day_2 ┆ day_3 │\n",
      "│ ---        ┆ ---   ┆ ---   ┆ ---   │\n",
      "│ str        ┆ i64   ┆ i64   ┆ i64   │\n",
      "╞════════════╪═══════╪═══════╪═══════╡\n",
      "│ Station 1  ┆ 17    ┆ 15    ┆ 16    │\n",
      "│ Station 2  ┆ 11    ┆ 11    ┆ 15    │\n",
      "│ Station 3  ┆ 8     ┆ 10    ┆ 24    │\n",
      "│ Station 4  ┆ 22    ┆ 8     ┆ 24    │\n",
      "│ Station 5  ┆ 9     ┆ 7     ┆ 8     │\n",
      "│ Station 6  ┆ 21    ┆ 14    ┆ 23    │\n",
      "│ Station 7  ┆ 20    ┆ 18    ┆ 19    │\n",
      "│ Station 8  ┆ 8     ┆ 21    ┆ 23    │\n",
      "│ Station 9  ┆ 8     ┆ 15    ┆ 16    │\n",
      "│ Station 10 ┆ 17    ┆ 13    ┆ 10    │\n",
      "└────────────┴───────┴───────┴───────┘\n"
     ]
    }
   ],
   "source": [
    "weather_by_day = pl.DataFrame(\n",
    "    {\n",
    "        \"station\": [f\"Station {idx}\" for idx in range(1, 11)],\n",
    "        \"day_1\": [17, 11, 8, 22, 9, 21, 20, 8, 8, 17],\n",
    "        \"day_2\": [15, 11, 10, 8, 7, 14, 18, 21, 15, 13],\n",
    "        \"day_3\": [16, 15, 24, 24, 8, 23, 19, 23, 16, 10],\n",
    "    }\n",
    ")\n",
    "print(weather_by_day)"
   ]
  },
  {
   "cell_type": "markdown",
   "id": "29b1ebe7",
   "metadata": {},
   "source": [
    "Not sure what the calculated in this example"
   ]
  },
  {
   "cell_type": "code",
   "execution_count": 28,
   "id": "73df0180",
   "metadata": {},
   "outputs": [
    {
     "data": {
      "text/html": [
       "<div><style>\n",
       ".dataframe > thead > tr,\n",
       ".dataframe > tbody > tr {\n",
       "  text-align: right;\n",
       "  white-space: pre-wrap;\n",
       "}\n",
       "</style>\n",
       "<small>shape: (10, 5)</small><table border=\"1\" class=\"dataframe\"><thead><tr><th>station</th><th>day_1</th><th>day_2</th><th>day_3</th><th>temps_rank</th></tr><tr><td>str</td><td>i64</td><td>i64</td><td>i64</td><td>list[f64]</td></tr></thead><tbody><tr><td>&quot;Station 1&quot;</td><td>17</td><td>15</td><td>16</td><td>[0.33, 1.0, 0.67]</td></tr><tr><td>&quot;Station 2&quot;</td><td>11</td><td>11</td><td>15</td><td>[0.83, 0.83, 0.33]</td></tr><tr><td>&quot;Station 3&quot;</td><td>8</td><td>10</td><td>24</td><td>[1.0, 0.67, 0.33]</td></tr><tr><td>&quot;Station 4&quot;</td><td>22</td><td>8</td><td>24</td><td>[0.67, 1.0, 0.33]</td></tr><tr><td>&quot;Station 5&quot;</td><td>9</td><td>7</td><td>8</td><td>[0.33, 1.0, 0.67]</td></tr><tr><td>&quot;Station 6&quot;</td><td>21</td><td>14</td><td>23</td><td>[0.67, 1.0, 0.33]</td></tr><tr><td>&quot;Station 7&quot;</td><td>20</td><td>18</td><td>19</td><td>[0.33, 1.0, 0.67]</td></tr><tr><td>&quot;Station 8&quot;</td><td>8</td><td>21</td><td>23</td><td>[1.0, 0.67, 0.33]</td></tr><tr><td>&quot;Station 9&quot;</td><td>8</td><td>15</td><td>16</td><td>[1.0, 0.67, 0.33]</td></tr><tr><td>&quot;Station 10&quot;</td><td>17</td><td>13</td><td>10</td><td>[0.33, 0.67, 1.0]</td></tr></tbody></table></div>"
      ],
      "text/plain": [
       "shape: (10, 5)\n",
       "┌────────────┬───────┬───────┬───────┬────────────────────┐\n",
       "│ station    ┆ day_1 ┆ day_2 ┆ day_3 ┆ temps_rank         │\n",
       "│ ---        ┆ ---   ┆ ---   ┆ ---   ┆ ---                │\n",
       "│ str        ┆ i64   ┆ i64   ┆ i64   ┆ list[f64]          │\n",
       "╞════════════╪═══════╪═══════╪═══════╪════════════════════╡\n",
       "│ Station 1  ┆ 17    ┆ 15    ┆ 16    ┆ [0.33, 1.0, 0.67]  │\n",
       "│ Station 2  ┆ 11    ┆ 11    ┆ 15    ┆ [0.83, 0.83, 0.33] │\n",
       "│ Station 3  ┆ 8     ┆ 10    ┆ 24    ┆ [1.0, 0.67, 0.33]  │\n",
       "│ Station 4  ┆ 22    ┆ 8     ┆ 24    ┆ [0.67, 1.0, 0.33]  │\n",
       "│ Station 5  ┆ 9     ┆ 7     ┆ 8     ┆ [0.33, 1.0, 0.67]  │\n",
       "│ Station 6  ┆ 21    ┆ 14    ┆ 23    ┆ [0.67, 1.0, 0.33]  │\n",
       "│ Station 7  ┆ 20    ┆ 18    ┆ 19    ┆ [0.33, 1.0, 0.67]  │\n",
       "│ Station 8  ┆ 8     ┆ 21    ┆ 23    ┆ [1.0, 0.67, 0.33]  │\n",
       "│ Station 9  ┆ 8     ┆ 15    ┆ 16    ┆ [1.0, 0.67, 0.33]  │\n",
       "│ Station 10 ┆ 17    ┆ 13    ┆ 10    ┆ [0.33, 0.67, 1.0]  │\n",
       "└────────────┴───────┴───────┴───────┴────────────────────┘"
      ]
     },
     "execution_count": 28,
     "metadata": {},
     "output_type": "execute_result"
    }
   ],
   "source": [
    "rank_pct = (pl.element().rank(descending=True) / pl.all().count()).round(2)\n",
    "\n",
    "result = weather_by_day.with_columns(\n",
    "    pl.concat_list(pl.all().exclude(\"station\")).alias(\"all_temps\")\n",
    ").select(\n",
    "        pl.all().exclude(\"all_temps\"),\n",
    "        pl.col(\"all_temps\").list.eval(rank_pct, parallel=True).alias(\"temps_rank\")\n",
    "    )\n",
    "result"
   ]
  },
  {
   "cell_type": "markdown",
   "id": "a87be543",
   "metadata": {},
   "source": [
    "## Working with arrays"
   ]
  },
  {
   "cell_type": "code",
   "execution_count": 30,
   "id": "4fcf059c",
   "metadata": {},
   "outputs": [
    {
     "data": {
      "text/html": [
       "<div><style>\n",
       ".dataframe > thead > tr,\n",
       ".dataframe > tbody > tr {\n",
       "  text-align: right;\n",
       "  white-space: pre-wrap;\n",
       "}\n",
       "</style>\n",
       "<small>shape: (4, 2)</small><table border=\"1\" class=\"dataframe\"><thead><tr><th>first_last</th><th>fav_numbers</th></tr><tr><td>array[str, 2]</td><td>array[i32, 3]</td></tr></thead><tbody><tr><td>[&quot;Anne&quot;, &quot;Adams&quot;]</td><td>[42, 0, 1]</td></tr><tr><td>[&quot;Brandon&quot;, &quot;Branson&quot;]</td><td>[2, 3, 5]</td></tr><tr><td>[&quot;Camila&quot;, &quot;Campbell&quot;]</td><td>[13, 21, 34]</td></tr><tr><td>[&quot;Dennis&quot;, &quot;Doyle&quot;]</td><td>[73, 3, 7]</td></tr></tbody></table></div>"
      ],
      "text/plain": [
       "shape: (4, 2)\n",
       "┌────────────────────────┬───────────────┐\n",
       "│ first_last             ┆ fav_numbers   │\n",
       "│ ---                    ┆ ---           │\n",
       "│ array[str, 2]          ┆ array[i32, 3] │\n",
       "╞════════════════════════╪═══════════════╡\n",
       "│ [\"Anne\", \"Adams\"]      ┆ [42, 0, 1]    │\n",
       "│ [\"Brandon\", \"Branson\"] ┆ [2, 3, 5]     │\n",
       "│ [\"Camila\", \"Campbell\"] ┆ [13, 21, 34]  │\n",
       "│ [\"Dennis\", \"Doyle\"]    ┆ [73, 3, 7]    │\n",
       "└────────────────────────┴───────────────┘"
      ]
     },
     "execution_count": 30,
     "metadata": {},
     "output_type": "execute_result"
    }
   ],
   "source": [
    "df = pl.DataFrame(\n",
    "    {\n",
    "        \"first_last\": [\n",
    "            [\"Anne\", \"Adams\"],\n",
    "            [\"Brandon\", \"Branson\"],\n",
    "            [\"Camila\", \"Campbell\"],\n",
    "            [\"Dennis\", \"Doyle\"],\n",
    "        ],\n",
    "        \"fav_numbers\": [\n",
    "            [42, 0, 1],\n",
    "            [2, 3, 5],\n",
    "            [13, 21, 34],\n",
    "            [73, 3, 7],\n",
    "        ],\n",
    "    },\n",
    "    schema={\n",
    "        \"first_last\": pl.Array(pl.String, 2),\n",
    "        \"fav_numbers\": pl.Array(pl.Int32, 3),\n",
    "    },\n",
    ")\n",
    "df"
   ]
  },
  {
   "cell_type": "code",
   "execution_count": 34,
   "id": "6b00e7ff",
   "metadata": {},
   "outputs": [
    {
     "data": {
      "text/html": [
       "<div><style>\n",
       ".dataframe > thead > tr,\n",
       ".dataframe > tbody > tr {\n",
       "  text-align: right;\n",
       "  white-space: pre-wrap;\n",
       "}\n",
       "</style>\n",
       "<small>shape: (4, 5)</small><table border=\"1\" class=\"dataframe\"><thead><tr><th>name</th><th>fav_numbers</th><th>largest_fav</th><th>summed</th><th>likes_3</th></tr><tr><td>str</td><td>array[i32, 3]</td><td>i32</td><td>i32</td><td>bool</td></tr></thead><tbody><tr><td>&quot;Anne Adams&quot;</td><td>[0, 1, 42]</td><td>42</td><td>43</td><td>false</td></tr><tr><td>&quot;Brandon Branson&quot;</td><td>[2, 3, 5]</td><td>5</td><td>10</td><td>true</td></tr><tr><td>&quot;Camila Campbell&quot;</td><td>[13, 21, 34]</td><td>34</td><td>68</td><td>false</td></tr><tr><td>&quot;Dennis Doyle&quot;</td><td>[3, 7, 73]</td><td>73</td><td>83</td><td>true</td></tr></tbody></table></div>"
      ],
      "text/plain": [
       "shape: (4, 5)\n",
       "┌─────────────────┬───────────────┬─────────────┬────────┬─────────┐\n",
       "│ name            ┆ fav_numbers   ┆ largest_fav ┆ summed ┆ likes_3 │\n",
       "│ ---             ┆ ---           ┆ ---         ┆ ---    ┆ ---     │\n",
       "│ str             ┆ array[i32, 3] ┆ i32         ┆ i32    ┆ bool    │\n",
       "╞═════════════════╪═══════════════╪═════════════╪════════╪═════════╡\n",
       "│ Anne Adams      ┆ [0, 1, 42]    ┆ 42          ┆ 43     ┆ false   │\n",
       "│ Brandon Branson ┆ [2, 3, 5]     ┆ 5           ┆ 10     ┆ true    │\n",
       "│ Camila Campbell ┆ [13, 21, 34]  ┆ 34          ┆ 68     ┆ false   │\n",
       "│ Dennis Doyle    ┆ [3, 7, 73]    ┆ 73          ┆ 83     ┆ true    │\n",
       "└─────────────────┴───────────────┴─────────────┴────────┴─────────┘"
      ]
     },
     "execution_count": 34,
     "metadata": {},
     "output_type": "execute_result"
    }
   ],
   "source": [
    "df.select(\n",
    "    pl.col(\"first_last\").arr.join(\" \").alias(\"name\"),\n",
    "    pl.col(\"fav_numbers\").arr.sort(),\n",
    "    pl.col(\"fav_numbers\").arr.max().alias(\"largest_fav\"),\n",
    "    pl.col(\"fav_numbers\").arr.sum().alias(\"summed\"),\n",
    "    pl.col(\"fav_numbers\").arr.contains(3).alias(\"likes_3\")\n",
    ")"
   ]
  }
 ],
 "metadata": {
  "kernelspec": {
   "display_name": ".venv",
   "language": "python",
   "name": "python3"
  },
  "language_info": {
   "codemirror_mode": {
    "name": "ipython",
    "version": 3
   },
   "file_extension": ".py",
   "mimetype": "text/x-python",
   "name": "python",
   "nbconvert_exporter": "python",
   "pygments_lexer": "ipython3",
   "version": "3.12.3"
  }
 },
 "nbformat": 4,
 "nbformat_minor": 5
}
