{
 "cells": [
  {
   "cell_type": "markdown",
   "id": "11fb3135",
   "metadata": {},
   "source": [
    "# [Expressions: Window Functions](https://docs.pola.rs/user-guide/expressions/window-functions/)"
   ]
  },
  {
   "cell_type": "code",
   "execution_count": 1,
   "id": "77b29389",
   "metadata": {},
   "outputs": [
    {
     "name": "stdout",
     "output_type": "stream",
     "text": [
      "shape: (5, 13)\n",
      "┌─────┬───────────────────────┬────────┬────────┬───┬─────────┬───────┬────────────┬───────────┐\n",
      "│ #   ┆ Name                  ┆ Type 1 ┆ Type 2 ┆ … ┆ Sp. Def ┆ Speed ┆ Generation ┆ Legendary │\n",
      "│ --- ┆ ---                   ┆ ---    ┆ ---    ┆   ┆ ---     ┆ ---   ┆ ---        ┆ ---       │\n",
      "│ i64 ┆ str                   ┆ enum   ┆ enum   ┆   ┆ i64     ┆ i64   ┆ i64        ┆ bool      │\n",
      "╞═════╪═══════════════════════╪════════╪════════╪═══╪═════════╪═══════╪════════════╪═══════════╡\n",
      "│ 1   ┆ Bulbasaur             ┆ Grass  ┆ Poison ┆ … ┆ 65      ┆ 45    ┆ 1          ┆ false     │\n",
      "│ 2   ┆ Ivysaur               ┆ Grass  ┆ Poison ┆ … ┆ 80      ┆ 60    ┆ 1          ┆ false     │\n",
      "│ 3   ┆ Venusaur              ┆ Grass  ┆ Poison ┆ … ┆ 100     ┆ 80    ┆ 1          ┆ false     │\n",
      "│ 3   ┆ VenusaurMega Venusaur ┆ Grass  ┆ Poison ┆ … ┆ 120     ┆ 80    ┆ 1          ┆ false     │\n",
      "│ 4   ┆ Charmander            ┆ Fire   ┆ null   ┆ … ┆ 50      ┆ 65    ┆ 1          ┆ false     │\n",
      "└─────┴───────────────────────┴────────┴────────┴───┴─────────┴───────┴────────────┴───────────┘\n"
     ]
    }
   ],
   "source": [
    "import polars as pl\n",
    "\n",
    "types = (\n",
    "    \"Grass Water Fire Normal Ground Electric Psychic Fighting Bug Steel \"\n",
    "    \"Flying Dragon Dark Ghost Poison Rock Ice Fairy\".split()\n",
    ")\n",
    "type_enum = pl.Enum(types)\n",
    "# then let's load some csv data with information about pokemon\n",
    "pokemon = pl.read_csv(\n",
    "    \"https://gist.githubusercontent.com/ritchie46/cac6b337ea52281aa23c049250a4ff03/raw/89a957ff3919d90e6ef2d34235e6bf22304f3366/pokemon.csv\",\n",
    ").cast({\"Type 1\": type_enum, \"Type 2\": type_enum})\n",
    "print(pokemon.head())"
   ]
  },
  {
   "cell_type": "markdown",
   "id": "2b1e9469",
   "metadata": {},
   "source": [
    "## Operations per group\n",
    "\n",
    "In this example, the group is the `type 1` column. Over specifies what group the operation will be affected by."
   ]
  },
  {
   "cell_type": "code",
   "execution_count": null,
   "id": "eb8730f3",
   "metadata": {},
   "outputs": [
    {
     "data": {
      "text/html": [
       "<div><style>\n",
       ".dataframe > thead > tr,\n",
       ".dataframe > tbody > tr {\n",
       "  text-align: right;\n",
       "  white-space: pre-wrap;\n",
       "}\n",
       "</style>\n",
       "<small>shape: (163, 3)</small><table border=\"1\" class=\"dataframe\"><thead><tr><th>Name</th><th>Type 1</th><th>Speed rank</th></tr><tr><td>str</td><td>enum</td><td>u32</td></tr></thead><tbody><tr><td>&quot;Bulbasaur&quot;</td><td>&quot;Grass&quot;</td><td>6</td></tr><tr><td>&quot;Ivysaur&quot;</td><td>&quot;Grass&quot;</td><td>3</td></tr><tr><td>&quot;Venusaur&quot;</td><td>&quot;Grass&quot;</td><td>1</td></tr><tr><td>&quot;VenusaurMega Venusaur&quot;</td><td>&quot;Grass&quot;</td><td>1</td></tr><tr><td>&quot;Charmander&quot;</td><td>&quot;Fire&quot;</td><td>7</td></tr><tr><td>&hellip;</td><td>&hellip;</td><td>&hellip;</td></tr><tr><td>&quot;Moltres&quot;</td><td>&quot;Fire&quot;</td><td>5</td></tr><tr><td>&quot;Dratini&quot;</td><td>&quot;Dragon&quot;</td><td>3</td></tr><tr><td>&quot;Dragonair&quot;</td><td>&quot;Dragon&quot;</td><td>2</td></tr><tr><td>&quot;Dragonite&quot;</td><td>&quot;Dragon&quot;</td><td>1</td></tr><tr><td>&quot;Mewtwo&quot;</td><td>&quot;Psychic&quot;</td><td>2</td></tr></tbody></table></div>"
      ],
      "text/plain": [
       "shape: (163, 3)\n",
       "┌───────────────────────┬─────────┬────────────┐\n",
       "│ Name                  ┆ Type 1  ┆ Speed rank │\n",
       "│ ---                   ┆ ---     ┆ ---        │\n",
       "│ str                   ┆ enum    ┆ u32        │\n",
       "╞═══════════════════════╪═════════╪════════════╡\n",
       "│ Bulbasaur             ┆ Grass   ┆ 6          │\n",
       "│ Ivysaur               ┆ Grass   ┆ 3          │\n",
       "│ Venusaur              ┆ Grass   ┆ 1          │\n",
       "│ VenusaurMega Venusaur ┆ Grass   ┆ 1          │\n",
       "│ Charmander            ┆ Fire    ┆ 7          │\n",
       "│ …                     ┆ …       ┆ …          │\n",
       "│ Moltres               ┆ Fire    ┆ 5          │\n",
       "│ Dratini               ┆ Dragon  ┆ 3          │\n",
       "│ Dragonair             ┆ Dragon  ┆ 2          │\n",
       "│ Dragonite             ┆ Dragon  ┆ 1          │\n",
       "│ Mewtwo                ┆ Psychic ┆ 2          │\n",
       "└───────────────────────┴─────────┴────────────┘"
      ]
     },
     "execution_count": 2,
     "metadata": {},
     "output_type": "execute_result"
    }
   ],
   "source": [
    "result = pokemon.select(\n",
    "    pl.col(\"Name\", \"Type 1\"), # handy way to get a few default columns\n",
    "    pl.col(\"Speed\").rank(\"dense\", descending=True).over(\"Type 1\").alias(\"Speed rank\"),\n",
    ")\n",
    "result"
   ]
  },
  {
   "cell_type": "code",
   "execution_count": 3,
   "id": "56fcb0b1",
   "metadata": {},
   "outputs": [
    {
     "data": {
      "text/html": [
       "<div><style>\n",
       ".dataframe > thead > tr,\n",
       ".dataframe > tbody > tr {\n",
       "  text-align: right;\n",
       "  white-space: pre-wrap;\n",
       "}\n",
       "</style>\n",
       "<small>shape: (163, 4)</small><table border=\"1\" class=\"dataframe\"><thead><tr><th>Name</th><th>Type 1</th><th>Type 2</th><th>Speed rank</th></tr><tr><td>str</td><td>enum</td><td>enum</td><td>u32</td></tr></thead><tbody><tr><td>&quot;Bulbasaur&quot;</td><td>&quot;Grass&quot;</td><td>&quot;Poison&quot;</td><td>6</td></tr><tr><td>&quot;Ivysaur&quot;</td><td>&quot;Grass&quot;</td><td>&quot;Poison&quot;</td><td>3</td></tr><tr><td>&quot;Venusaur&quot;</td><td>&quot;Grass&quot;</td><td>&quot;Poison&quot;</td><td>1</td></tr><tr><td>&quot;VenusaurMega Venusaur&quot;</td><td>&quot;Grass&quot;</td><td>&quot;Poison&quot;</td><td>1</td></tr><tr><td>&quot;Charmander&quot;</td><td>&quot;Fire&quot;</td><td>null</td><td>7</td></tr><tr><td>&hellip;</td><td>&hellip;</td><td>&hellip;</td><td>&hellip;</td></tr><tr><td>&quot;Moltres&quot;</td><td>&quot;Fire&quot;</td><td>&quot;Flying&quot;</td><td>2</td></tr><tr><td>&quot;Dratini&quot;</td><td>&quot;Dragon&quot;</td><td>null</td><td>2</td></tr><tr><td>&quot;Dragonair&quot;</td><td>&quot;Dragon&quot;</td><td>null</td><td>1</td></tr><tr><td>&quot;Dragonite&quot;</td><td>&quot;Dragon&quot;</td><td>&quot;Flying&quot;</td><td>1</td></tr><tr><td>&quot;Mewtwo&quot;</td><td>&quot;Psychic&quot;</td><td>null</td><td>2</td></tr></tbody></table></div>"
      ],
      "text/plain": [
       "shape: (163, 4)\n",
       "┌───────────────────────┬─────────┬────────┬────────────┐\n",
       "│ Name                  ┆ Type 1  ┆ Type 2 ┆ Speed rank │\n",
       "│ ---                   ┆ ---     ┆ ---    ┆ ---        │\n",
       "│ str                   ┆ enum    ┆ enum   ┆ u32        │\n",
       "╞═══════════════════════╪═════════╪════════╪════════════╡\n",
       "│ Bulbasaur             ┆ Grass   ┆ Poison ┆ 6          │\n",
       "│ Ivysaur               ┆ Grass   ┆ Poison ┆ 3          │\n",
       "│ Venusaur              ┆ Grass   ┆ Poison ┆ 1          │\n",
       "│ VenusaurMega Venusaur ┆ Grass   ┆ Poison ┆ 1          │\n",
       "│ Charmander            ┆ Fire    ┆ null   ┆ 7          │\n",
       "│ …                     ┆ …       ┆ …      ┆ …          │\n",
       "│ Moltres               ┆ Fire    ┆ Flying ┆ 2          │\n",
       "│ Dratini               ┆ Dragon  ┆ null   ┆ 2          │\n",
       "│ Dragonair             ┆ Dragon  ┆ null   ┆ 1          │\n",
       "│ Dragonite             ┆ Dragon  ┆ Flying ┆ 1          │\n",
       "│ Mewtwo                ┆ Psychic ┆ null   ┆ 2          │\n",
       "└───────────────────────┴─────────┴────────┴────────────┘"
      ]
     },
     "execution_count": 3,
     "metadata": {},
     "output_type": "execute_result"
    }
   ],
   "source": [
    "pokemon.select(\n",
    "    pl.col(\"Name\", \"Type 1\", \"Type 2\"),\n",
    "    pl.col(\"Speed\")\n",
    "    .rank(\"dense\", descending=True)\n",
    "    .over(\"Type 1\", \"Type 2\")\n",
    "    .alias(\"Speed rank\")\n",
    ")"
   ]
  },
  {
   "cell_type": "code",
   "execution_count": 7,
   "id": "345716e8",
   "metadata": {},
   "outputs": [
    {
     "name": "stdout",
     "output_type": "stream",
     "text": [
      "shape: (163, 3)\n",
      "┌───────────────────────────┬────────┬────────────┐\n",
      "│ Name                      ┆ Type 1 ┆ Speed rank │\n",
      "│ ---                       ┆ ---    ┆ ---        │\n",
      "│ str                       ┆ enum   ┆ u32        │\n",
      "╞═══════════════════════════╪════════╪════════════╡\n",
      "│ Charmander                ┆ Fire   ┆ 7          │\n",
      "│ Charmeleon                ┆ Fire   ┆ 6          │\n",
      "│ Charizard                 ┆ Fire   ┆ 2          │\n",
      "│ CharizardMega Charizard X ┆ Fire   ┆ 2          │\n",
      "│ CharizardMega Charizard Y ┆ Fire   ┆ 2          │\n",
      "│ …                         ┆ …      ┆ …          │\n",
      "│ Tauros                    ┆ Normal ┆ 3          │\n",
      "│ Ditto                     ┆ Normal ┆ 16         │\n",
      "│ Eevee                     ┆ Normal ┆ 14         │\n",
      "│ Porygon                   ┆ Normal ┆ 18         │\n",
      "│ Snorlax                   ┆ Normal ┆ 19         │\n",
      "└───────────────────────────┴────────┴────────────┘\n"
     ]
    }
   ],
   "source": [
    "result = (\n",
    "    pokemon.group_by(\"Type 1\")\n",
    "    .agg(\n",
    "        pl.col(\"Name\"),\n",
    "        pl.col(\"Speed\").rank(\"dense\", descending=True).alias(\"Speed rank\"),\n",
    "    )\n",
    "    .select(pl.col(\"Name\"), pl.col(\"Type 1\"), pl.col(\"Speed rank\"))\n",
    "    .explode(\"Name\", \"Speed rank\")\n",
    ")\n",
    "\n",
    "print(result)"
   ]
  },
  {
   "cell_type": "markdown",
   "id": "82efc325",
   "metadata": {},
   "source": [
    "## Mapping results to dataframe rows"
   ]
  },
  {
   "cell_type": "code",
   "execution_count": 10,
   "id": "c9e21f8a",
   "metadata": {},
   "outputs": [
    {
     "ename": "NameError",
     "evalue": "name 'athletes' is not defined",
     "output_type": "error",
     "traceback": [
      "\u001b[31m---------------------------------------------------------------------------\u001b[39m",
      "\u001b[31mNameError\u001b[39m                                 Traceback (most recent call last)",
      "\u001b[36mCell\u001b[39m\u001b[36m \u001b[39m\u001b[32mIn[10]\u001b[39m\u001b[32m, line 1\u001b[39m\n\u001b[32m----> \u001b[39m\u001b[32m1\u001b[39m result = \u001b[43mathletes\u001b[49m.select(\n\u001b[32m      2\u001b[39m     pl.col(\u001b[33m\"\u001b[39m\u001b[33mathlete\u001b[39m\u001b[33m\"\u001b[39m, \u001b[33m\"\u001b[39m\u001b[33mrank\u001b[39m\u001b[33m\"\u001b[39m).sort_by(pl.col(\u001b[33m\"\u001b[39m\u001b[33mrank\u001b[39m\u001b[33m\"\u001b[39m)).over(pl.col(\u001b[33m\"\u001b[39m\u001b[33mcountry\u001b[39m\u001b[33m\"\u001b[39m)),\n\u001b[32m      3\u001b[39m     pl.col(\u001b[33m\"\u001b[39m\u001b[33mcountry\u001b[39m\u001b[33m\"\u001b[39m),\n\u001b[32m      4\u001b[39m )\n\u001b[32m      6\u001b[39m \u001b[38;5;28mprint\u001b[39m(result)\n",
      "\u001b[31mNameError\u001b[39m: name 'athletes' is not defined"
     ]
    }
   ],
   "source": [
    "result = athletes.select(\n",
    "    pl.col(\"athlete\", \"rank\").sort_by(pl.col(\"rank\")).over(pl.col(\"country\")),\n",
    "    pl.col(\"country\"),\n",
    ")\n",
    "\n",
    "print(result)"
   ]
  },
  {
   "cell_type": "markdown",
   "id": "b13ab129",
   "metadata": {},
   "source": [
    "does npt work, because we are missing athletes"
   ]
  },
  {
   "cell_type": "code",
   "execution_count": 11,
   "id": "26a605f4",
   "metadata": {},
   "outputs": [
    {
     "ename": "NameError",
     "evalue": "name 'athletes' is not defined",
     "output_type": "error",
     "traceback": [
      "\u001b[31m---------------------------------------------------------------------------\u001b[39m",
      "\u001b[31mNameError\u001b[39m                                 Traceback (most recent call last)",
      "\u001b[36mCell\u001b[39m\u001b[36m \u001b[39m\u001b[32mIn[11]\u001b[39m\u001b[32m, line 1\u001b[39m\n\u001b[32m----> \u001b[39m\u001b[32m1\u001b[39m result = \u001b[43mathletes\u001b[49m.with_columns(\n\u001b[32m      2\u001b[39m     pl.col(\u001b[33m\"\u001b[39m\u001b[33mrank\u001b[39m\u001b[33m\"\u001b[39m).sort().over(pl.col(\u001b[33m\"\u001b[39m\u001b[33mcountry\u001b[39m\u001b[33m\"\u001b[39m), mapping_strategy=\u001b[33m\"\u001b[39m\u001b[33mjoin\u001b[39m\u001b[33m\"\u001b[39m),\n\u001b[32m      3\u001b[39m )\n\u001b[32m      5\u001b[39m \u001b[38;5;28mprint\u001b[39m(result)\n",
      "\u001b[31mNameError\u001b[39m: name 'athletes' is not defined"
     ]
    }
   ],
   "source": [
    "result = athletes.with_columns(\n",
    "    pl.col(\"rank\").sort().over(pl.col(\"country\"), mapping_strategy=\"join\"),\n",
    ")\n",
    "\n",
    "print(result)"
   ]
  },
  {
   "cell_type": "markdown",
   "id": "fb9254bc",
   "metadata": {},
   "source": [
    "### Windowed aggregation expressions"
   ]
  },
  {
   "cell_type": "code",
   "execution_count": 12,
   "id": "fc82f2c8",
   "metadata": {},
   "outputs": [
    {
     "data": {
      "text/html": [
       "<div><style>\n",
       ".dataframe > thead > tr,\n",
       ".dataframe > tbody > tr {\n",
       "  text-align: right;\n",
       "  white-space: pre-wrap;\n",
       "}\n",
       "</style>\n",
       "<small>shape: (163, 4)</small><table border=\"1\" class=\"dataframe\"><thead><tr><th>Name</th><th>Type 1</th><th>Speed</th><th>Mean speed in group</th></tr><tr><td>str</td><td>enum</td><td>i64</td><td>f64</td></tr></thead><tbody><tr><td>&quot;Bulbasaur&quot;</td><td>&quot;Grass&quot;</td><td>45</td><td>54.230769</td></tr><tr><td>&quot;Ivysaur&quot;</td><td>&quot;Grass&quot;</td><td>60</td><td>54.230769</td></tr><tr><td>&quot;Venusaur&quot;</td><td>&quot;Grass&quot;</td><td>80</td><td>54.230769</td></tr><tr><td>&quot;VenusaurMega Venusaur&quot;</td><td>&quot;Grass&quot;</td><td>80</td><td>54.230769</td></tr><tr><td>&quot;Charmander&quot;</td><td>&quot;Fire&quot;</td><td>65</td><td>86.285714</td></tr><tr><td>&hellip;</td><td>&hellip;</td><td>&hellip;</td><td>&hellip;</td></tr><tr><td>&quot;Moltres&quot;</td><td>&quot;Fire&quot;</td><td>90</td><td>86.285714</td></tr><tr><td>&quot;Dratini&quot;</td><td>&quot;Dragon&quot;</td><td>50</td><td>66.666667</td></tr><tr><td>&quot;Dragonair&quot;</td><td>&quot;Dragon&quot;</td><td>70</td><td>66.666667</td></tr><tr><td>&quot;Dragonite&quot;</td><td>&quot;Dragon&quot;</td><td>80</td><td>66.666667</td></tr><tr><td>&quot;Mewtwo&quot;</td><td>&quot;Psychic&quot;</td><td>130</td><td>99.25</td></tr></tbody></table></div>"
      ],
      "text/plain": [
       "shape: (163, 4)\n",
       "┌───────────────────────┬─────────┬───────┬─────────────────────┐\n",
       "│ Name                  ┆ Type 1  ┆ Speed ┆ Mean speed in group │\n",
       "│ ---                   ┆ ---     ┆ ---   ┆ ---                 │\n",
       "│ str                   ┆ enum    ┆ i64   ┆ f64                 │\n",
       "╞═══════════════════════╪═════════╪═══════╪═════════════════════╡\n",
       "│ Bulbasaur             ┆ Grass   ┆ 45    ┆ 54.230769           │\n",
       "│ Ivysaur               ┆ Grass   ┆ 60    ┆ 54.230769           │\n",
       "│ Venusaur              ┆ Grass   ┆ 80    ┆ 54.230769           │\n",
       "│ VenusaurMega Venusaur ┆ Grass   ┆ 80    ┆ 54.230769           │\n",
       "│ Charmander            ┆ Fire    ┆ 65    ┆ 86.285714           │\n",
       "│ …                     ┆ …       ┆ …     ┆ …                   │\n",
       "│ Moltres               ┆ Fire    ┆ 90    ┆ 86.285714           │\n",
       "│ Dratini               ┆ Dragon  ┆ 50    ┆ 66.666667           │\n",
       "│ Dragonair             ┆ Dragon  ┆ 70    ┆ 66.666667           │\n",
       "│ Dragonite             ┆ Dragon  ┆ 80    ┆ 66.666667           │\n",
       "│ Mewtwo                ┆ Psychic ┆ 130   ┆ 99.25               │\n",
       "└───────────────────────┴─────────┴───────┴─────────────────────┘"
      ]
     },
     "execution_count": 12,
     "metadata": {},
     "output_type": "execute_result"
    }
   ],
   "source": [
    "pokemon.select(\n",
    "    pl.col(\"Name\", \"Type 1\", \"Speed\"),\n",
    "    pl.col(\"Speed\").mean().over(pl.col(\"Type 1\")).alias(\"Mean speed in group\"),\n",
    ")"
   ]
  },
  {
   "cell_type": "markdown",
   "id": "6e81c651",
   "metadata": {},
   "source": [
    "## More examples"
   ]
  },
  {
   "cell_type": "code",
   "execution_count": 30,
   "id": "9a2247c6",
   "metadata": {},
   "outputs": [
    {
     "data": {
      "text/html": [
       "<div><style>\n",
       ".dataframe > thead > tr,\n",
       ".dataframe > tbody > tr {\n",
       "  text-align: right;\n",
       "  white-space: pre-wrap;\n",
       "}\n",
       "</style>\n",
       "<small>shape: (43, 4)</small><table border=\"1\" class=\"dataframe\"><thead><tr><th>Type 1</th><th>fastest / group</th><th>strongest / group</th><th>sorted_by_alfabet</th></tr><tr><td>enum</td><td>str</td><td>str</td><td>str</td></tr></thead><tbody><tr><td>&quot;Grass&quot;</td><td>&quot;Venusaur&quot;</td><td>&quot;Victreebel&quot;</td><td>&quot;Bellsprout&quot;</td></tr><tr><td>&quot;Grass&quot;</td><td>&quot;VenusaurMega Venusaur&quot;</td><td>&quot;VenusaurMega Venusaur&quot;</td><td>&quot;Bulbasaur&quot;</td></tr><tr><td>&quot;Grass&quot;</td><td>&quot;Victreebel&quot;</td><td>&quot;Exeggutor&quot;</td><td>&quot;Exeggcute&quot;</td></tr><tr><td>&quot;Water&quot;</td><td>&quot;Starmie&quot;</td><td>&quot;GyaradosMega Gyarados&quot;</td><td>&quot;Blastoise&quot;</td></tr><tr><td>&quot;Water&quot;</td><td>&quot;Tentacruel&quot;</td><td>&quot;Kingler&quot;</td><td>&quot;BlastoiseMega Blastoise&quot;</td></tr><tr><td>&hellip;</td><td>&hellip;</td><td>&hellip;</td><td>&hellip;</td></tr><tr><td>&quot;Rock&quot;</td><td>&quot;Kabutops&quot;</td><td>&quot;Kabutops&quot;</td><td>&quot;Geodude&quot;</td></tr><tr><td>&quot;Ice&quot;</td><td>&quot;Jynx&quot;</td><td>&quot;Articuno&quot;</td><td>&quot;Articuno&quot;</td></tr><tr><td>&quot;Ice&quot;</td><td>&quot;Articuno&quot;</td><td>&quot;Jynx&quot;</td><td>&quot;Jynx&quot;</td></tr><tr><td>&quot;Fairy&quot;</td><td>&quot;Clefable&quot;</td><td>&quot;Clefable&quot;</td><td>&quot;Clefable&quot;</td></tr><tr><td>&quot;Fairy&quot;</td><td>&quot;Clefairy&quot;</td><td>&quot;Clefairy&quot;</td><td>&quot;Clefairy&quot;</td></tr></tbody></table></div>"
      ],
      "text/plain": [
       "shape: (43, 4)\n",
       "┌────────┬───────────────────────┬───────────────────────┬─────────────────────────┐\n",
       "│ Type 1 ┆ fastest / group       ┆ strongest / group     ┆ sorted_by_alfabet       │\n",
       "│ ---    ┆ ---                   ┆ ---                   ┆ ---                     │\n",
       "│ enum   ┆ str                   ┆ str                   ┆ str                     │\n",
       "╞════════╪═══════════════════════╪═══════════════════════╪═════════════════════════╡\n",
       "│ Grass  ┆ Venusaur              ┆ Victreebel            ┆ Bellsprout              │\n",
       "│ Grass  ┆ VenusaurMega Venusaur ┆ VenusaurMega Venusaur ┆ Bulbasaur               │\n",
       "│ Grass  ┆ Victreebel            ┆ Exeggutor             ┆ Exeggcute               │\n",
       "│ Water  ┆ Starmie               ┆ GyaradosMega Gyarados ┆ Blastoise               │\n",
       "│ Water  ┆ Tentacruel            ┆ Kingler               ┆ BlastoiseMega Blastoise │\n",
       "│ …      ┆ …                     ┆ …                     ┆ …                       │\n",
       "│ Rock   ┆ Kabutops              ┆ Kabutops              ┆ Geodude                 │\n",
       "│ Ice    ┆ Jynx                  ┆ Articuno              ┆ Articuno                │\n",
       "│ Ice    ┆ Articuno              ┆ Jynx                  ┆ Jynx                    │\n",
       "│ Fairy  ┆ Clefable              ┆ Clefable              ┆ Clefable                │\n",
       "│ Fairy  ┆ Clefairy              ┆ Clefairy              ┆ Clefairy                │\n",
       "└────────┴───────────────────────┴───────────────────────┴─────────────────────────┘"
      ]
     },
     "execution_count": 30,
     "metadata": {},
     "output_type": "execute_result"
    }
   ],
   "source": [
    "pokemon.sort(\"Type 1\").select(\n",
    "    pl.col(\"Type 1\").head(3).over(\"Type 1\", mapping_strategy='explode'),\n",
    "    pl.col(\"Name\")\n",
    "    .sort_by(pl.col(\"Speed\"), descending=True)\n",
    "    .head(3)\n",
    "    .over(\"Type 1\", mapping_strategy='explode')\n",
    "    .alias(\"fastest / group\"),\n",
    "    pl.col(\"Name\")\n",
    "    .sort_by(pl.col(\"Attack\"), descending=True)\n",
    "    .head(3)\n",
    "    .over(\"Type 1\", mapping_strategy='explode')\n",
    "    .alias(\"strongest / group\"),\n",
    "    pl.col(\"Name\")\n",
    "    .sort()\n",
    "    .head(3)\n",
    "    .over(\"Type 1\", mapping_strategy='explode')\n",
    "    .alias(\"sorted_by_alfabet\")\n",
    ")"
   ]
  },
  {
   "cell_type": "markdown",
   "id": "4af2ed3e",
   "metadata": {},
   "source": [
    "This was a difficult chapter, maybe i need to redo this one."
   ]
  },
  {
   "cell_type": "markdown",
   "id": "58aa8d13",
   "metadata": {},
   "source": []
  }
 ],
 "metadata": {
  "kernelspec": {
   "display_name": ".venv",
   "language": "python",
   "name": "python3"
  },
  "language_info": {
   "codemirror_mode": {
    "name": "ipython",
    "version": 3
   },
   "file_extension": ".py",
   "mimetype": "text/x-python",
   "name": "python",
   "nbconvert_exporter": "python",
   "pygments_lexer": "ipython3",
   "version": "3.12.3"
  }
 },
 "nbformat": 4,
 "nbformat_minor": 5
}
